{
 "cells": [
  {
   "cell_type": "markdown",
   "id": "81528290-3000-48f0-9a92-a63287f155ae",
   "metadata": {},
   "source": [
    "# Dictionaries"
   ]
  },
  {
   "cell_type": "markdown",
   "id": "22de6a1a-6a9a-4cee-9dd9-a49f1bd654b4",
   "metadata": {},
   "source": [
    "Dictionaries are one of the most versatile data structures in Python. They are used to store name-value pairs."
   ]
  },
  {
   "cell_type": "code",
   "execution_count": 2,
   "id": "e3a32566-bd16-4a50-ac27-519c400193cb",
   "metadata": {
    "execution": {
     "iopub.execute_input": "2023-10-11T17:41:01.178263Z",
     "iopub.status.busy": "2023-10-11T17:41:01.177928Z",
     "iopub.status.idle": "2023-10-11T17:41:01.183252Z",
     "shell.execute_reply": "2023-10-11T17:41:01.182390Z",
     "shell.execute_reply.started": "2023-10-11T17:41:01.178227Z"
    }
   },
   "outputs": [],
   "source": [
    "d = {\"x\": 1, \"y\": 2, \"z\": 3}"
   ]
  },
  {
   "cell_type": "code",
   "execution_count": 3,
   "id": "b75ad57f-d3f0-42c6-9c30-07fc23682476",
   "metadata": {
    "execution": {
     "iopub.execute_input": "2023-10-11T17:41:40.301152Z",
     "iopub.status.busy": "2023-10-11T17:41:40.300840Z",
     "iopub.status.idle": "2023-10-11T17:41:40.314901Z",
     "shell.execute_reply": "2023-10-11T17:41:40.314098Z",
     "shell.execute_reply.started": "2023-10-11T17:41:40.301128Z"
    }
   },
   "outputs": [
    {
     "data": {
      "text/plain": [
       "{'x': 1, 'y': 2, 'z': 3}"
      ]
     },
     "execution_count": 3,
     "metadata": {},
     "output_type": "execute_result"
    }
   ],
   "source": [
    "d"
   ]
  },
  {
   "cell_type": "code",
   "execution_count": 4,
   "id": "90e311e0-c9b9-42bd-879b-21740551cf1b",
   "metadata": {
    "execution": {
     "iopub.execute_input": "2023-10-11T17:41:47.651464Z",
     "iopub.status.busy": "2023-10-11T17:41:47.650895Z",
     "iopub.status.idle": "2023-10-11T17:41:47.668606Z",
     "shell.execute_reply": "2023-10-11T17:41:47.656398Z",
     "shell.execute_reply.started": "2023-10-11T17:41:47.651434Z"
    }
   },
   "outputs": [
    {
     "data": {
      "text/plain": [
       "1"
      ]
     },
     "execution_count": 4,
     "metadata": {},
     "output_type": "execute_result"
    }
   ],
   "source": [
    "d['x']"
   ]
  },
  {
   "cell_type": "code",
   "execution_count": 5,
   "id": "633b6600-186e-42d6-8043-7982acfca679",
   "metadata": {
    "execution": {
     "iopub.execute_input": "2023-10-11T17:41:52.873459Z",
     "iopub.status.busy": "2023-10-11T17:41:52.873186Z",
     "iopub.status.idle": "2023-10-11T17:41:52.877571Z",
     "shell.execute_reply": "2023-10-11T17:41:52.876519Z",
     "shell.execute_reply.started": "2023-10-11T17:41:52.873436Z"
    }
   },
   "outputs": [],
   "source": [
    "d['x'] = 11"
   ]
  },
  {
   "cell_type": "code",
   "execution_count": 6,
   "id": "e947a4de-94d9-49c7-b8c2-3eacbe2090e4",
   "metadata": {
    "execution": {
     "iopub.execute_input": "2023-10-11T17:41:54.201243Z",
     "iopub.status.busy": "2023-10-11T17:41:54.200927Z",
     "iopub.status.idle": "2023-10-11T17:41:54.206823Z",
     "shell.execute_reply": "2023-10-11T17:41:54.205916Z",
     "shell.execute_reply.started": "2023-10-11T17:41:54.201217Z"
    }
   },
   "outputs": [
    {
     "data": {
      "text/plain": [
       "{'x': 11, 'y': 2, 'z': 3}"
      ]
     },
     "execution_count": 6,
     "metadata": {},
     "output_type": "execute_result"
    }
   ],
   "source": [
    "d"
   ]
  },
  {
   "cell_type": "markdown",
   "id": "067f584f-e77b-45c5-b871-2cbb0e1707b1",
   "metadata": {},
   "source": [
    "We can check if a key is present in a dictionary using the `in` operator."
   ]
  },
  {
   "cell_type": "code",
   "execution_count": 32,
   "id": "77f89cf4-058b-4aad-a200-1db4550ac046",
   "metadata": {
    "execution": {
     "iopub.execute_input": "2023-10-11T18:00:08.261546Z",
     "iopub.status.busy": "2023-10-11T18:00:08.260778Z",
     "iopub.status.idle": "2023-10-11T18:00:08.266674Z",
     "shell.execute_reply": "2023-10-11T18:00:08.266063Z",
     "shell.execute_reply.started": "2023-10-11T18:00:08.261502Z"
    }
   },
   "outputs": [
    {
     "data": {
      "text/plain": [
       "True"
      ]
     },
     "execution_count": 32,
     "metadata": {},
     "output_type": "execute_result"
    }
   ],
   "source": [
    "'x' in d"
   ]
  },
  {
   "cell_type": "code",
   "execution_count": 33,
   "id": "2c50dcdb-24e4-4d14-9d30-929bc6a325c4",
   "metadata": {
    "execution": {
     "iopub.execute_input": "2023-10-11T18:00:15.218846Z",
     "iopub.status.busy": "2023-10-11T18:00:15.218577Z",
     "iopub.status.idle": "2023-10-11T18:00:15.225309Z",
     "shell.execute_reply": "2023-10-11T18:00:15.224629Z",
     "shell.execute_reply.started": "2023-10-11T18:00:15.218823Z"
    }
   },
   "outputs": [
    {
     "data": {
      "text/plain": [
       "False"
      ]
     },
     "execution_count": 33,
     "metadata": {},
     "output_type": "execute_result"
    }
   ],
   "source": [
    "'foo' in d"
   ]
  },
  {
   "cell_type": "code",
   "execution_count": 34,
   "id": "dee0545e-a135-4666-ae37-0a66bd4915f0",
   "metadata": {
    "execution": {
     "iopub.execute_input": "2023-10-11T18:00:22.157698Z",
     "iopub.status.busy": "2023-10-11T18:00:22.157390Z",
     "iopub.status.idle": "2023-10-11T18:00:22.165242Z",
     "shell.execute_reply": "2023-10-11T18:00:22.164476Z",
     "shell.execute_reply.started": "2023-10-11T18:00:22.157674Z"
    }
   },
   "outputs": [
    {
     "data": {
      "text/plain": [
       "True"
      ]
     },
     "execution_count": 34,
     "metadata": {},
     "output_type": "execute_result"
    }
   ],
   "source": [
    "'foo' not in d"
   ]
  },
  {
   "cell_type": "code",
   "execution_count": null,
   "id": "1065935a-f9b4-446b-b1f7-be11aa7afe3b",
   "metadata": {},
   "outputs": [],
   "source": []
  },
  {
   "cell_type": "markdown",
   "id": "70d41684-1825-4a85-a45b-1a51f8a1fcc3",
   "metadata": {},
   "source": [
    "## Dictionary Use Cases"
   ]
  },
  {
   "cell_type": "markdown",
   "id": "3a892970-de21-4ae6-bdc4-721f9b1c467d",
   "metadata": {},
   "source": [
    "There are two typical use cases for dictionaries. \n",
    "\n",
    "1. as a record\n",
    "2. as a lookup table"
   ]
  },
  {
   "cell_type": "markdown",
   "id": "42524e6f-7573-455a-943c-38c4084ffd45",
   "metadata": {},
   "source": [
    "### Dictionary as a record"
   ]
  },
  {
   "cell_type": "code",
   "execution_count": 7,
   "id": "298d4e38-0612-4c31-b50a-62e75ee9f999",
   "metadata": {
    "execution": {
     "iopub.execute_input": "2023-10-11T17:45:54.839446Z",
     "iopub.status.busy": "2023-10-11T17:45:54.838830Z",
     "iopub.status.idle": "2023-10-11T17:45:54.844428Z",
     "shell.execute_reply": "2023-10-11T17:45:54.843241Z",
     "shell.execute_reply.started": "2023-10-11T17:45:54.839413Z"
    }
   },
   "outputs": [],
   "source": [
    "person = {\n",
    "    \"name\": \"alice\",\n",
    "    \"email\": \"alice@example.com\",\n",
    "    \"phone\": \"12345\"\n",
    "}"
   ]
  },
  {
   "cell_type": "code",
   "execution_count": 8,
   "id": "7187cf1e-0293-4641-9c61-a0d7ff5339b0",
   "metadata": {
    "execution": {
     "iopub.execute_input": "2023-10-11T17:46:06.318459Z",
     "iopub.status.busy": "2023-10-11T17:46:06.318166Z",
     "iopub.status.idle": "2023-10-11T17:46:06.324998Z",
     "shell.execute_reply": "2023-10-11T17:46:06.323937Z",
     "shell.execute_reply.started": "2023-10-11T17:46:06.318430Z"
    }
   },
   "outputs": [
    {
     "data": {
      "text/plain": [
       "{'name': 'alice', 'email': 'alice@example.com', 'phone': '12345'}"
      ]
     },
     "execution_count": 8,
     "metadata": {},
     "output_type": "execute_result"
    }
   ],
   "source": [
    "person"
   ]
  },
  {
   "cell_type": "code",
   "execution_count": 9,
   "id": "3f051031-386b-428d-a495-d023ffdb8d42",
   "metadata": {
    "execution": {
     "iopub.execute_input": "2023-10-11T17:46:11.634257Z",
     "iopub.status.busy": "2023-10-11T17:46:11.633930Z",
     "iopub.status.idle": "2023-10-11T17:46:11.639615Z",
     "shell.execute_reply": "2023-10-11T17:46:11.639008Z",
     "shell.execute_reply.started": "2023-10-11T17:46:11.634232Z"
    }
   },
   "outputs": [
    {
     "data": {
      "text/plain": [
       "'alice'"
      ]
     },
     "execution_count": 9,
     "metadata": {},
     "output_type": "execute_result"
    }
   ],
   "source": [
    "person['name']"
   ]
  },
  {
   "cell_type": "code",
   "execution_count": 10,
   "id": "ccacc6ed-1846-445d-a9ac-34a3ea95fb68",
   "metadata": {
    "execution": {
     "iopub.execute_input": "2023-10-11T17:46:19.114489Z",
     "iopub.status.busy": "2023-10-11T17:46:19.114198Z",
     "iopub.status.idle": "2023-10-11T17:46:19.121375Z",
     "shell.execute_reply": "2023-10-11T17:46:19.120477Z",
     "shell.execute_reply.started": "2023-10-11T17:46:19.114466Z"
    }
   },
   "outputs": [
    {
     "data": {
      "text/plain": [
       "'alice@example.com'"
      ]
     },
     "execution_count": 10,
     "metadata": {},
     "output_type": "execute_result"
    }
   ],
   "source": [
    "person['email']"
   ]
  },
  {
   "cell_type": "markdown",
   "id": "454e9c1b-131a-4f8a-b6f9-f962ea017b64",
   "metadata": {},
   "source": [
    "When using a dictionary as a record, we know all the possible keys at the time of writing code."
   ]
  },
  {
   "cell_type": "markdown",
   "id": "068388a3-c0da-4243-8b29-afc3070b4bed",
   "metadata": {},
   "source": [
    "### Dictionary as a lookup table"
   ]
  },
  {
   "cell_type": "markdown",
   "id": "8a6974f3-9bce-4743-a723-26f9886c6cf5",
   "metadata": {},
   "source": [
    "The other common use case for dictionary is to use it like a lookup table."
   ]
  },
  {
   "cell_type": "code",
   "execution_count": 11,
   "id": "11411856-8fde-4df4-bec1-8f398ee26358",
   "metadata": {
    "execution": {
     "iopub.execute_input": "2023-10-11T17:48:02.785365Z",
     "iopub.status.busy": "2023-10-11T17:48:02.784939Z",
     "iopub.status.idle": "2023-10-11T17:48:02.791758Z",
     "shell.execute_reply": "2023-10-11T17:48:02.790822Z",
     "shell.execute_reply.started": "2023-10-11T17:48:02.785336Z"
    }
   },
   "outputs": [],
   "source": [
    "phone_numbers = {\n",
    "    \"alice\": \"12345\",\n",
    "    \"bob\": \"23456\"\n",
    "}"
   ]
  },
  {
   "cell_type": "code",
   "execution_count": 12,
   "id": "4f20cba8-0a74-4c23-9af8-a5b30365ffb8",
   "metadata": {
    "execution": {
     "iopub.execute_input": "2023-10-11T17:48:11.522904Z",
     "iopub.status.busy": "2023-10-11T17:48:11.522564Z",
     "iopub.status.idle": "2023-10-11T17:48:11.528647Z",
     "shell.execute_reply": "2023-10-11T17:48:11.527771Z",
     "shell.execute_reply.started": "2023-10-11T17:48:11.522874Z"
    }
   },
   "outputs": [
    {
     "data": {
      "text/plain": [
       "'12345'"
      ]
     },
     "execution_count": 12,
     "metadata": {},
     "output_type": "execute_result"
    }
   ],
   "source": [
    "phone_numbers[\"alice\"]"
   ]
  },
  {
   "cell_type": "markdown",
   "id": "d38da184-fe8b-4321-8d46-7c693825a94c",
   "metadata": {},
   "source": [
    "When using the dictionary as a lookup table, the keys are not known upfront."
   ]
  },
  {
   "cell_type": "markdown",
   "id": "fd3e1f0c-0b60-4897-8347-725d44ec5f6a",
   "metadata": {},
   "source": [
    "In the above example, while we are using `phone_numbers` with only two names, more names could be added to the `phone_numbers` by other parts of the program."
   ]
  },
  {
   "cell_type": "markdown",
   "id": "a89bf152-e29b-46c5-8290-3b5607048905",
   "metadata": {},
   "source": [
    "#### Example: Greeting in multiple languages"
   ]
  },
  {
   "cell_type": "markdown",
   "id": "0837b875-1741-49a3-be74-5de235b2c981",
   "metadata": {},
   "source": [
    "Let's write a function `greet` to greet a person in any language."
   ]
  },
  {
   "cell_type": "markdown",
   "id": "c7779c87-722f-4090-ba20-56d8b73acc51",
   "metadata": {},
   "source": [
    "If we just have to greet in one language English, we could write it as:"
   ]
  },
  {
   "cell_type": "code",
   "execution_count": 15,
   "id": "bde2bd70-6dda-4812-beee-90d3e06bb3c7",
   "metadata": {
    "execution": {
     "iopub.execute_input": "2023-10-11T17:53:02.903103Z",
     "iopub.status.busy": "2023-10-11T17:53:02.902734Z",
     "iopub.status.idle": "2023-10-11T17:53:02.907924Z",
     "shell.execute_reply": "2023-10-11T17:53:02.906997Z",
     "shell.execute_reply.started": "2023-10-11T17:53:02.903076Z"
    }
   },
   "outputs": [],
   "source": [
    "def greet(name):\n",
    "    print(f\"Hello\", name)"
   ]
  },
  {
   "cell_type": "code",
   "execution_count": 16,
   "id": "e4058c21-1b53-4c7f-8099-2395cca1ff2b",
   "metadata": {
    "execution": {
     "iopub.execute_input": "2023-10-11T17:53:03.403676Z",
     "iopub.status.busy": "2023-10-11T17:53:03.403227Z",
     "iopub.status.idle": "2023-10-11T17:53:03.409517Z",
     "shell.execute_reply": "2023-10-11T17:53:03.408927Z",
     "shell.execute_reply.started": "2023-10-11T17:53:03.403649Z"
    }
   },
   "outputs": [
    {
     "name": "stdout",
     "output_type": "stream",
     "text": [
      "Hello Alice\n"
     ]
    }
   ],
   "source": [
    "greet(\"Alice\")"
   ]
  },
  {
   "cell_type": "markdown",
   "id": "1b2d2161-a4f9-4116-ab79-462bcfe4bc45",
   "metadata": {},
   "source": [
    "Now, let's add support for multiple languages. The function now takes the language as the second argument."
   ]
  },
  {
   "cell_type": "code",
   "execution_count": 18,
   "id": "adf5b4a3-89a6-460d-9ebf-28da15ee57be",
   "metadata": {
    "execution": {
     "iopub.execute_input": "2023-10-11T17:53:19.674478Z",
     "iopub.status.busy": "2023-10-11T17:53:19.674208Z",
     "iopub.status.idle": "2023-10-11T17:53:19.679770Z",
     "shell.execute_reply": "2023-10-11T17:53:19.678352Z",
     "shell.execute_reply.started": "2023-10-11T17:53:19.674455Z"
    }
   },
   "outputs": [],
   "source": [
    "# greet v2\n",
    "def greet(name, lang):\n",
    "    if lang == \"en\": \n",
    "        print(\"Hello\", name)\n",
    "    elif lang == \"hi\":\n",
    "        print(\"Namaste\", name)"
   ]
  },
  {
   "cell_type": "code",
   "execution_count": 20,
   "id": "bf76d7ac-1708-4976-a6c4-d1d67b387cf6",
   "metadata": {
    "execution": {
     "iopub.execute_input": "2023-10-11T17:53:34.998477Z",
     "iopub.status.busy": "2023-10-11T17:53:34.998206Z",
     "iopub.status.idle": "2023-10-11T17:53:35.002164Z",
     "shell.execute_reply": "2023-10-11T17:53:35.001595Z",
     "shell.execute_reply.started": "2023-10-11T17:53:34.998454Z"
    }
   },
   "outputs": [
    {
     "name": "stdout",
     "output_type": "stream",
     "text": [
      "Hello Alice\n"
     ]
    }
   ],
   "source": [
    "greet(\"Alice\", \"en\")"
   ]
  },
  {
   "cell_type": "code",
   "execution_count": 21,
   "id": "31baf196-0cf0-4af5-8574-3ab27c4724b5",
   "metadata": {
    "execution": {
     "iopub.execute_input": "2023-10-11T17:53:38.351651Z",
     "iopub.status.busy": "2023-10-11T17:53:38.351378Z",
     "iopub.status.idle": "2023-10-11T17:53:38.358141Z",
     "shell.execute_reply": "2023-10-11T17:53:38.356393Z",
     "shell.execute_reply.started": "2023-10-11T17:53:38.351628Z"
    }
   },
   "outputs": [
    {
     "name": "stdout",
     "output_type": "stream",
     "text": [
      "Namaste Alice\n"
     ]
    }
   ],
   "source": [
    "greet(\"Alice\", \"hi\")"
   ]
  },
  {
   "cell_type": "markdown",
   "id": "15bf9ea5-4b22-463a-886a-3d07ae220da8",
   "metadata": {},
   "source": [
    "While this above implementation works for two languages, adding a new language requires changing code, which is not nice. Can we think of a way to move it outside that function?"
   ]
  },
  {
   "cell_type": "code",
   "execution_count": 22,
   "id": "25db0718-b727-4c8f-9c9e-b8813553aa6f",
   "metadata": {
    "execution": {
     "iopub.execute_input": "2023-10-11T17:55:13.872692Z",
     "iopub.status.busy": "2023-10-11T17:55:13.872259Z",
     "iopub.status.idle": "2023-10-11T17:55:13.877786Z",
     "shell.execute_reply": "2023-10-11T17:55:13.876788Z",
     "shell.execute_reply.started": "2023-10-11T17:55:13.872649Z"
    }
   },
   "outputs": [],
   "source": [
    "prefixes = {\n",
    "    \"en\": \"Hello\",\n",
    "    \"hi\": \"Namaste\",\n",
    "    \"it\": \"Caiso\",\n",
    "}"
   ]
  },
  {
   "cell_type": "code",
   "execution_count": 23,
   "id": "3d611a65-465a-4531-92cf-06d0f15e25f9",
   "metadata": {
    "execution": {
     "iopub.execute_input": "2023-10-11T17:55:32.916957Z",
     "iopub.status.busy": "2023-10-11T17:55:32.916561Z",
     "iopub.status.idle": "2023-10-11T17:55:32.921568Z",
     "shell.execute_reply": "2023-10-11T17:55:32.920690Z",
     "shell.execute_reply.started": "2023-10-11T17:55:32.916932Z"
    }
   },
   "outputs": [],
   "source": [
    "def greet(name, lang):\n",
    "    prefix = prefixes[lang]\n",
    "    print(prefix, name)"
   ]
  },
  {
   "cell_type": "code",
   "execution_count": 24,
   "id": "0a783db5-21cf-46ae-affb-240a0c354158",
   "metadata": {
    "execution": {
     "iopub.execute_input": "2023-10-11T17:55:43.538776Z",
     "iopub.status.busy": "2023-10-11T17:55:43.538505Z",
     "iopub.status.idle": "2023-10-11T17:55:43.545392Z",
     "shell.execute_reply": "2023-10-11T17:55:43.544413Z",
     "shell.execute_reply.started": "2023-10-11T17:55:43.538753Z"
    }
   },
   "outputs": [
    {
     "name": "stdout",
     "output_type": "stream",
     "text": [
      "Caiso Alice\n"
     ]
    }
   ],
   "source": [
    "greet(\"Alice\", \"it\")"
   ]
  },
  {
   "cell_type": "markdown",
   "id": "0b210c5c-af6a-456a-a8dd-9c49c010df40",
   "metadata": {},
   "source": [
    "We can even go one step further and move the translations to a text file."
   ]
  },
  {
   "cell_type": "code",
   "execution_count": 25,
   "id": "ff5bdbbb-8299-405b-a972-1c9b5c07a6d9",
   "metadata": {
    "execution": {
     "iopub.execute_input": "2023-10-11T17:57:12.930156Z",
     "iopub.status.busy": "2023-10-11T17:57:12.929237Z",
     "iopub.status.idle": "2023-10-11T17:57:12.936931Z",
     "shell.execute_reply": "2023-10-11T17:57:12.935572Z",
     "shell.execute_reply.started": "2023-10-11T17:57:12.930109Z"
    }
   },
   "outputs": [
    {
     "name": "stdout",
     "output_type": "stream",
     "text": [
      "Writing greetings.txt\n"
     ]
    }
   ],
   "source": [
    "%%file greetings.txt\n",
    "en Hello\n",
    "hi Namaste\n",
    "it Caio\n",
    "fr Bonjour\n",
    "ka Namastara\n",
    "te Namsakaram\n",
    "ta Vanakkam"
   ]
  },
  {
   "cell_type": "markdown",
   "id": "5abced51-7a18-41ef-876e-50ba71a76722",
   "metadata": {
    "execution": {
     "iopub.execute_input": "2023-10-11T17:58:20.771332Z",
     "iopub.status.busy": "2023-10-11T17:58:20.770946Z",
     "iopub.status.idle": "2023-10-11T17:58:20.782996Z",
     "shell.execute_reply": "2023-10-11T17:58:20.781805Z",
     "shell.execute_reply.started": "2023-10-11T17:58:20.771300Z"
    }
   },
   "source": [
    "And read the file and populate `prefixes`."
   ]
  },
  {
   "cell_type": "code",
   "execution_count": 26,
   "id": "929457fb-0e3e-45ca-b092-6a674a374390",
   "metadata": {
    "execution": {
     "iopub.execute_input": "2023-10-11T17:57:54.699622Z",
     "iopub.status.busy": "2023-10-11T17:57:54.699341Z",
     "iopub.status.idle": "2023-10-11T17:57:54.705407Z",
     "shell.execute_reply": "2023-10-11T17:57:54.703980Z",
     "shell.execute_reply.started": "2023-10-11T17:57:54.699599Z"
    }
   },
   "outputs": [],
   "source": [
    "prefixes = {}\n",
    "for line in open(\"greetings.txt\"):\n",
    "    lang, prefix = line.strip().split()\n",
    "    prefixes[lang] = prefix"
   ]
  },
  {
   "cell_type": "code",
   "execution_count": 27,
   "id": "6c363eef-f1b9-4670-a7e4-701fcdf2d3d2",
   "metadata": {
    "execution": {
     "iopub.execute_input": "2023-10-11T17:57:58.867558Z",
     "iopub.status.busy": "2023-10-11T17:57:58.867274Z",
     "iopub.status.idle": "2023-10-11T17:57:58.872801Z",
     "shell.execute_reply": "2023-10-11T17:57:58.872145Z",
     "shell.execute_reply.started": "2023-10-11T17:57:58.867535Z"
    }
   },
   "outputs": [
    {
     "data": {
      "text/plain": [
       "{'en': 'Hello',\n",
       " 'hi': 'Namaste',\n",
       " 'it': 'Caio',\n",
       " 'fr': 'Bonjour',\n",
       " 'ka': 'Namastara',\n",
       " 'te': 'Namsakaram',\n",
       " 'ta': 'Vanakkam'}"
      ]
     },
     "execution_count": 27,
     "metadata": {},
     "output_type": "execute_result"
    }
   ],
   "source": [
    "prefixes"
   ]
  },
  {
   "cell_type": "code",
   "execution_count": 29,
   "id": "e979d917-5e09-43d5-bfcd-fc334c0f9e89",
   "metadata": {
    "execution": {
     "iopub.execute_input": "2023-10-11T17:58:32.383285Z",
     "iopub.status.busy": "2023-10-11T17:58:32.382996Z",
     "iopub.status.idle": "2023-10-11T17:58:32.388563Z",
     "shell.execute_reply": "2023-10-11T17:58:32.387320Z",
     "shell.execute_reply.started": "2023-10-11T17:58:32.383261Z"
    }
   },
   "outputs": [],
   "source": [
    "def greet(name, lang):\n",
    "    prefix = prefixes[lang]\n",
    "    print(prefix, name)"
   ]
  },
  {
   "cell_type": "code",
   "execution_count": 31,
   "id": "ee7c9691-2b4e-48d4-8611-bce4b97fb1f4",
   "metadata": {
    "execution": {
     "iopub.execute_input": "2023-10-11T17:59:09.325162Z",
     "iopub.status.busy": "2023-10-11T17:59:09.324768Z",
     "iopub.status.idle": "2023-10-11T17:59:09.330587Z",
     "shell.execute_reply": "2023-10-11T17:59:09.329537Z",
     "shell.execute_reply.started": "2023-10-11T17:59:09.325134Z"
    }
   },
   "outputs": [
    {
     "name": "stdout",
     "output_type": "stream",
     "text": [
      "Namsakaram Alice\n"
     ]
    }
   ],
   "source": [
    "greet(\"Alice\", \"te\")"
   ]
  },
  {
   "cell_type": "markdown",
   "id": "1b0a8540-0fd9-4713-83b2-f81381c57229",
   "metadata": {},
   "source": [
    "## Creating Dictionaries"
   ]
  },
  {
   "cell_type": "markdown",
   "id": "a8f8b5ec-c376-4a4c-8d9a-a9def80769a5",
   "metadata": {},
   "source": [
    "Dictionaries can be created either using literal dictionary syntax, or using the `dict` function, or using dictionary comprehensions."
   ]
  },
  {
   "cell_type": "code",
   "execution_count": 1,
   "id": "f9194f80-d7f2-4608-a405-78197b787511",
   "metadata": {
    "execution": {
     "iopub.execute_input": "2023-10-12T03:43:01.572475Z",
     "iopub.status.busy": "2023-10-12T03:43:01.571997Z",
     "iopub.status.idle": "2023-10-12T03:43:01.582926Z",
     "shell.execute_reply": "2023-10-12T03:43:01.581793Z",
     "shell.execute_reply.started": "2023-10-12T03:43:01.572439Z"
    }
   },
   "outputs": [],
   "source": [
    "d = {\"x\": 1, \"y\": 2}"
   ]
  },
  {
   "cell_type": "code",
   "execution_count": 2,
   "id": "acb11d0d-90fe-4918-9974-b38340055f3b",
   "metadata": {
    "execution": {
     "iopub.execute_input": "2023-10-12T03:43:03.562128Z",
     "iopub.status.busy": "2023-10-12T03:43:03.561576Z",
     "iopub.status.idle": "2023-10-12T03:43:03.572211Z",
     "shell.execute_reply": "2023-10-12T03:43:03.571398Z",
     "shell.execute_reply.started": "2023-10-12T03:43:03.562093Z"
    }
   },
   "outputs": [
    {
     "data": {
      "text/plain": [
       "{'x': 1, 'y': 2}"
      ]
     },
     "execution_count": 2,
     "metadata": {},
     "output_type": "execute_result"
    }
   ],
   "source": [
    "d"
   ]
  },
  {
   "cell_type": "code",
   "execution_count": 3,
   "id": "a33bacd2-a642-4da4-b21f-8972df2fb973",
   "metadata": {
    "execution": {
     "iopub.execute_input": "2023-10-12T03:43:15.365543Z",
     "iopub.status.busy": "2023-10-12T03:43:15.365245Z",
     "iopub.status.idle": "2023-10-12T03:43:15.369595Z",
     "shell.execute_reply": "2023-10-12T03:43:15.368660Z",
     "shell.execute_reply.started": "2023-10-12T03:43:15.365518Z"
    }
   },
   "outputs": [],
   "source": [
    "d = dict(x=1, y=2)"
   ]
  },
  {
   "cell_type": "markdown",
   "id": "f733de87-6e2b-4c95-9fbb-23ba00896b45",
   "metadata": {},
   "source": [
    "The `dict` function can be used to create new dictionary by combining an existing one and adding new entries or updating existing ones."
   ]
  },
  {
   "cell_type": "code",
   "execution_count": 4,
   "id": "6336bf16-05ef-48fa-b7f3-c575707de452",
   "metadata": {
    "execution": {
     "iopub.execute_input": "2023-10-12T03:43:26.059101Z",
     "iopub.status.busy": "2023-10-12T03:43:26.058807Z",
     "iopub.status.idle": "2023-10-12T03:43:26.067700Z",
     "shell.execute_reply": "2023-10-12T03:43:26.067021Z",
     "shell.execute_reply.started": "2023-10-12T03:43:26.059077Z"
    }
   },
   "outputs": [
    {
     "data": {
      "text/plain": [
       "{'x': 1, 'y': 2, 'z': 3}"
      ]
     },
     "execution_count": 4,
     "metadata": {},
     "output_type": "execute_result"
    }
   ],
   "source": [
    "dict(d, z=3)"
   ]
  },
  {
   "cell_type": "code",
   "execution_count": 5,
   "id": "44f036e1-15ad-46e1-912c-6fbbedfcb6e3",
   "metadata": {
    "execution": {
     "iopub.execute_input": "2023-10-12T03:44:21.268309Z",
     "iopub.status.busy": "2023-10-12T03:44:21.267878Z",
     "iopub.status.idle": "2023-10-12T03:44:21.274588Z",
     "shell.execute_reply": "2023-10-12T03:44:21.273611Z",
     "shell.execute_reply.started": "2023-10-12T03:44:21.268280Z"
    }
   },
   "outputs": [
    {
     "data": {
      "text/plain": [
       "{'x': 10, 'y': 2, 'z': 3}"
      ]
     },
     "execution_count": 5,
     "metadata": {},
     "output_type": "execute_result"
    }
   ],
   "source": [
    "dict(d, x=10, z=3)"
   ]
  },
  {
   "cell_type": "markdown",
   "id": "50e68634-9dda-48fb-86e8-809a0fe705ce",
   "metadata": {},
   "source": [
    "The dict function also takes pairs."
   ]
  },
  {
   "cell_type": "code",
   "execution_count": 6,
   "id": "5879be00-c230-47c3-b90e-af3581817cce",
   "metadata": {
    "execution": {
     "iopub.execute_input": "2023-10-12T03:45:09.701873Z",
     "iopub.status.busy": "2023-10-12T03:45:09.701521Z",
     "iopub.status.idle": "2023-10-12T03:45:09.706985Z",
     "shell.execute_reply": "2023-10-12T03:45:09.704953Z",
     "shell.execute_reply.started": "2023-10-12T03:45:09.701845Z"
    }
   },
   "outputs": [],
   "source": [
    "numbers = [\"one\", \"two\", \"three\"]"
   ]
  },
  {
   "cell_type": "code",
   "execution_count": 9,
   "id": "7a8abbfd-5a6a-42f5-924f-d60ce4825aae",
   "metadata": {
    "execution": {
     "iopub.execute_input": "2023-10-12T03:45:40.693056Z",
     "iopub.status.busy": "2023-10-12T03:45:40.692669Z",
     "iopub.status.idle": "2023-10-12T03:45:40.700215Z",
     "shell.execute_reply": "2023-10-12T03:45:40.699329Z",
     "shell.execute_reply.started": "2023-10-12T03:45:40.693025Z"
    }
   },
   "outputs": [
    {
     "data": {
      "text/plain": [
       "{'one': 'ONE', 'two': 'TWO', 'three': 'THREE'}"
      ]
     },
     "execution_count": 9,
     "metadata": {},
     "output_type": "execute_result"
    }
   ],
   "source": [
    "dict([(n, n.upper()) for n in numbers])"
   ]
  },
  {
   "cell_type": "code",
   "execution_count": null,
   "id": "a8f096cb-3843-4960-ab59-1035c4ff01f9",
   "metadata": {},
   "outputs": [],
   "source": []
  },
  {
   "cell_type": "code",
   "execution_count": null,
   "id": "f4bc35e1-a4b2-4981-96b2-3c90b983de38",
   "metadata": {},
   "outputs": [],
   "source": []
  },
  {
   "cell_type": "code",
   "execution_count": null,
   "id": "31cde05c-de4b-4653-ab07-353b68d76ae8",
   "metadata": {},
   "outputs": [],
   "source": []
  },
  {
   "cell_type": "code",
   "execution_count": null,
   "id": "eaaccc5d-6200-4c41-8e19-170ff69da00f",
   "metadata": {},
   "outputs": [],
   "source": []
  },
  {
   "cell_type": "markdown",
   "id": "fe7bd7a7-c05c-42d9-a763-91bf15c66e43",
   "metadata": {},
   "source": [
    "## Common Operations on Dictionaries"
   ]
  },
  {
   "cell_type": "markdown",
   "id": "c9e6bbaf-b53f-4099-b526-1b64d031b500",
   "metadata": {},
   "source": [
    "The `get`, `setdefault` and `update` are the common methods used on dictionaries."
   ]
  },
  {
   "cell_type": "markdown",
   "id": "2972c3af-8956-43e0-84f4-3f1e658f4643",
   "metadata": {},
   "source": [
    "### `get`"
   ]
  },
  {
   "cell_type": "markdown",
   "id": "ebc8a3f8-8b2b-4eb7-af18-0338045fe775",
   "metadata": {},
   "source": [
    "The `get` method takes two arguments, the key and a default value. If the key is presnt, it returns the corresponding value, if not - it returns the default value."
   ]
  },
  {
   "cell_type": "code",
   "execution_count": 35,
   "id": "d9155506-c518-43b1-913d-b868796a6a6a",
   "metadata": {
    "execution": {
     "iopub.execute_input": "2023-10-11T18:34:23.151365Z",
     "iopub.status.busy": "2023-10-11T18:34:23.150993Z",
     "iopub.status.idle": "2023-10-11T18:34:23.156004Z",
     "shell.execute_reply": "2023-10-11T18:34:23.155129Z",
     "shell.execute_reply.started": "2023-10-11T18:34:23.151332Z"
    }
   },
   "outputs": [],
   "source": [
    "phone_numbers = {\n",
    "    \"alice\": \"12345\",\n",
    "    \"bob\": \"23456\"\n",
    "}"
   ]
  },
  {
   "cell_type": "code",
   "execution_count": 36,
   "id": "d865ca10-fec5-4936-a749-afd351cb3b0e",
   "metadata": {
    "execution": {
     "iopub.execute_input": "2023-10-11T18:34:33.893761Z",
     "iopub.status.busy": "2023-10-11T18:34:33.893394Z",
     "iopub.status.idle": "2023-10-11T18:34:33.900947Z",
     "shell.execute_reply": "2023-10-11T18:34:33.899206Z",
     "shell.execute_reply.started": "2023-10-11T18:34:33.893727Z"
    }
   },
   "outputs": [
    {
     "data": {
      "text/plain": [
       "'12345'"
      ]
     },
     "execution_count": 36,
     "metadata": {},
     "output_type": "execute_result"
    }
   ],
   "source": [
    "phone_numbers.get(\"alice\", \"-\")"
   ]
  },
  {
   "cell_type": "code",
   "execution_count": 37,
   "id": "11b1a91f-62c2-4176-a61b-729c283cd15c",
   "metadata": {
    "execution": {
     "iopub.execute_input": "2023-10-11T18:34:39.998834Z",
     "iopub.status.busy": "2023-10-11T18:34:39.998443Z",
     "iopub.status.idle": "2023-10-11T18:34:40.004947Z",
     "shell.execute_reply": "2023-10-11T18:34:40.003807Z",
     "shell.execute_reply.started": "2023-10-11T18:34:39.998803Z"
    }
   },
   "outputs": [
    {
     "data": {
      "text/plain": [
       "'-'"
      ]
     },
     "execution_count": 37,
     "metadata": {},
     "output_type": "execute_result"
    }
   ],
   "source": [
    "phone_numbers.get(\"dave\", \"-\")"
   ]
  },
  {
   "cell_type": "markdown",
   "id": "0929730e-684a-44a8-8e72-5883b6fb1182",
   "metadata": {},
   "source": [
    "### `setdefault`"
   ]
  },
  {
   "cell_type": "markdown",
   "id": "10e2914c-0157-4a0c-961a-5e16080198e6",
   "metadata": {},
   "source": [
    "The `setdefault` works like `get`, but also adds an entry to the dictionary when the key is missing.\n"
   ]
  },
  {
   "cell_type": "code",
   "execution_count": 38,
   "id": "92eaeb67-9b0f-42bb-885a-a228d50d6e4b",
   "metadata": {
    "execution": {
     "iopub.execute_input": "2023-10-11T18:35:17.730885Z",
     "iopub.status.busy": "2023-10-11T18:35:17.730593Z",
     "iopub.status.idle": "2023-10-11T18:35:17.735623Z",
     "shell.execute_reply": "2023-10-11T18:35:17.734285Z",
     "shell.execute_reply.started": "2023-10-11T18:35:17.730860Z"
    }
   },
   "outputs": [],
   "source": [
    "d = {\"x\": 1, \"y\": 2}"
   ]
  },
  {
   "cell_type": "code",
   "execution_count": 39,
   "id": "71a2b81e-015e-4699-bb54-6947d05c45ce",
   "metadata": {
    "execution": {
     "iopub.execute_input": "2023-10-11T18:35:26.157999Z",
     "iopub.status.busy": "2023-10-11T18:35:26.157619Z",
     "iopub.status.idle": "2023-10-11T18:35:26.164872Z",
     "shell.execute_reply": "2023-10-11T18:35:26.163647Z",
     "shell.execute_reply.started": "2023-10-11T18:35:26.157969Z"
    }
   },
   "outputs": [
    {
     "data": {
      "text/plain": [
       "0"
      ]
     },
     "execution_count": 39,
     "metadata": {},
     "output_type": "execute_result"
    }
   ],
   "source": [
    "d.get('z', 0)"
   ]
  },
  {
   "cell_type": "code",
   "execution_count": 40,
   "id": "c998e413-8d83-463b-a95b-dc298822f51d",
   "metadata": {
    "execution": {
     "iopub.execute_input": "2023-10-11T18:35:28.033305Z",
     "iopub.status.busy": "2023-10-11T18:35:28.032906Z",
     "iopub.status.idle": "2023-10-11T18:35:28.040108Z",
     "shell.execute_reply": "2023-10-11T18:35:28.038840Z",
     "shell.execute_reply.started": "2023-10-11T18:35:28.033272Z"
    }
   },
   "outputs": [
    {
     "data": {
      "text/plain": [
       "{'x': 1, 'y': 2}"
      ]
     },
     "execution_count": 40,
     "metadata": {},
     "output_type": "execute_result"
    }
   ],
   "source": [
    "d"
   ]
  },
  {
   "cell_type": "markdown",
   "id": "62f7f043-7c8a-4d4b-839b-1b6e1ba0a673",
   "metadata": {},
   "source": [
    "Notice that d is not modified when we call `get`. Let's see what happens if we use `setdefault` instead of `get`."
   ]
  },
  {
   "cell_type": "code",
   "execution_count": 41,
   "id": "9973094c-9ffc-40a2-9f6d-90b100e6ed1f",
   "metadata": {
    "execution": {
     "iopub.execute_input": "2023-10-11T18:36:09.456094Z",
     "iopub.status.busy": "2023-10-11T18:36:09.455772Z",
     "iopub.status.idle": "2023-10-11T18:36:09.463134Z",
     "shell.execute_reply": "2023-10-11T18:36:09.462074Z",
     "shell.execute_reply.started": "2023-10-11T18:36:09.456068Z"
    }
   },
   "outputs": [
    {
     "data": {
      "text/plain": [
       "0"
      ]
     },
     "execution_count": 41,
     "metadata": {},
     "output_type": "execute_result"
    }
   ],
   "source": [
    "d.setdefault('z', 0)"
   ]
  },
  {
   "cell_type": "code",
   "execution_count": 42,
   "id": "0d4a184b-1a2d-426b-99b0-7986fbaffe38",
   "metadata": {
    "execution": {
     "iopub.execute_input": "2023-10-11T18:36:11.068300Z",
     "iopub.status.busy": "2023-10-11T18:36:11.067637Z",
     "iopub.status.idle": "2023-10-11T18:36:11.078020Z",
     "shell.execute_reply": "2023-10-11T18:36:11.077113Z",
     "shell.execute_reply.started": "2023-10-11T18:36:11.068268Z"
    }
   },
   "outputs": [
    {
     "data": {
      "text/plain": [
       "{'x': 1, 'y': 2, 'z': 0}"
      ]
     },
     "execution_count": 42,
     "metadata": {},
     "output_type": "execute_result"
    }
   ],
   "source": [
    "d"
   ]
  },
  {
   "cell_type": "markdown",
   "id": "a42d841c-a36a-480c-a8db-11e2556f8566",
   "metadata": {},
   "source": [
    "### `update`"
   ]
  },
  {
   "cell_type": "markdown",
   "id": "555edccb-474b-4e41-8128-f5d8e9a17c66",
   "metadata": {},
   "source": [
    "The `update` method can be used to update a dictionary with the contents of another dictionary."
   ]
  },
  {
   "cell_type": "code",
   "execution_count": 44,
   "id": "33ba5638-dafa-4126-b80a-fc0f02ccb06b",
   "metadata": {
    "execution": {
     "iopub.execute_input": "2023-10-11T18:37:28.921169Z",
     "iopub.status.busy": "2023-10-11T18:37:28.920878Z",
     "iopub.status.idle": "2023-10-11T18:37:28.925827Z",
     "shell.execute_reply": "2023-10-11T18:37:28.924791Z",
     "shell.execute_reply.started": "2023-10-11T18:37:28.921144Z"
    }
   },
   "outputs": [],
   "source": [
    "d1 = {\"x\": 1, \"y\": 2}\n",
    "d2 = {\"x\": 11, \"z\": 3}"
   ]
  },
  {
   "cell_type": "code",
   "execution_count": 45,
   "id": "eb1b02b1-34f4-4859-b55f-260f210c41ba",
   "metadata": {
    "execution": {
     "iopub.execute_input": "2023-10-11T18:37:35.686047Z",
     "iopub.status.busy": "2023-10-11T18:37:35.685736Z",
     "iopub.status.idle": "2023-10-11T18:37:35.689871Z",
     "shell.execute_reply": "2023-10-11T18:37:35.689049Z",
     "shell.execute_reply.started": "2023-10-11T18:37:35.686011Z"
    }
   },
   "outputs": [],
   "source": [
    "d1.update(d2)"
   ]
  },
  {
   "cell_type": "code",
   "execution_count": 46,
   "id": "049c2ccd-d39f-446d-884b-502285b94fbc",
   "metadata": {
    "execution": {
     "iopub.execute_input": "2023-10-11T18:37:38.965871Z",
     "iopub.status.busy": "2023-10-11T18:37:38.965516Z",
     "iopub.status.idle": "2023-10-11T18:37:38.975474Z",
     "shell.execute_reply": "2023-10-11T18:37:38.974611Z",
     "shell.execute_reply.started": "2023-10-11T18:37:38.965840Z"
    }
   },
   "outputs": [
    {
     "data": {
      "text/plain": [
       "{'x': 11, 'y': 2, 'z': 3}"
      ]
     },
     "execution_count": 46,
     "metadata": {},
     "output_type": "execute_result"
    }
   ],
   "source": [
    "d1"
   ]
  },
  {
   "cell_type": "code",
   "execution_count": null,
   "id": "fb5c20ab-329f-43c5-babc-7eda6f184129",
   "metadata": {},
   "outputs": [],
   "source": []
  },
  {
   "cell_type": "markdown",
   "id": "9d0515a9-722d-45b2-b283-6bccc22b090b",
   "metadata": {},
   "source": [
    "## Iterating over a dictionary"
   ]
  },
  {
   "cell_type": "markdown",
   "id": "db954723-0aa6-47f0-838e-8e26b110b0fe",
   "metadata": {},
   "source": [
    "coming soon!"
   ]
  },
  {
   "cell_type": "markdown",
   "id": "b1eba208-95da-4575-b107-f0264b7ee03f",
   "metadata": {},
   "source": [
    "## Dictionary Comprehensions"
   ]
  },
  {
   "cell_type": "markdown",
   "id": "bd97589b-6c07-4f1d-8eb0-68ff68010da5",
   "metadata": {},
   "source": [
    "coming soon!"
   ]
  },
  {
   "cell_type": "markdown",
   "id": "4d051b45-2339-46b1-8d7c-7d447ff6500f",
   "metadata": {},
   "source": [
    "## Example: Word Frequncy"
   ]
  },
  {
   "cell_type": "code",
   "execution_count": 1,
   "id": "bc1f6a96-4704-4880-a5e2-95e79524ff9b",
   "metadata": {
    "execution": {
     "iopub.execute_input": "2023-10-11T17:10:49.280949Z",
     "iopub.status.busy": "2023-10-11T17:10:49.279783Z",
     "iopub.status.idle": "2023-10-11T17:10:49.290473Z",
     "shell.execute_reply": "2023-10-11T17:10:49.289719Z",
     "shell.execute_reply.started": "2023-10-11T17:10:49.280911Z"
    }
   },
   "outputs": [
    {
     "name": "stdout",
     "output_type": "stream",
     "text": [
      "Writing wordfreq.py\n"
     ]
    }
   ],
   "source": [
    "%%file wordfreq.py\n",
    "\"\"\"\n",
    "coming soon!\n",
    "\"\"\""
   ]
  },
  {
   "cell_type": "code",
   "execution_count": null,
   "id": "cf23dc52-cd12-49e8-a6c6-28b0367aa04a",
   "metadata": {},
   "outputs": [],
   "source": []
  }
 ],
 "metadata": {
  "kernelspec": {
   "display_name": "Python 3 (ipykernel)",
   "language": "python",
   "name": "python3"
  },
  "language_info": {
   "codemirror_mode": {
    "name": "ipython",
    "version": 3
   },
   "file_extension": ".py",
   "mimetype": "text/x-python",
   "name": "python",
   "nbconvert_exporter": "python",
   "pygments_lexer": "ipython3",
   "version": "3.10.10"
  }
 },
 "nbformat": 4,
 "nbformat_minor": 5
}
