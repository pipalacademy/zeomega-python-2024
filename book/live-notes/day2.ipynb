{
 "cells": [
  {
   "cell_type": "markdown",
   "id": "20706e22-287b-4758-830e-81efd7aed9c5",
   "metadata": {},
   "source": [
    "# Day 2"
   ]
  },
  {
   "cell_type": "markdown",
   "id": "f577f6ef-8578-494a-b7f2-e64243701f81",
   "metadata": {},
   "source": [
    "## Topics"
   ]
  },
  {
   "cell_type": "markdown",
   "id": "9d5b3912-1dd8-44df-b314-d589c27ea08c",
   "metadata": {},
   "source": [
    "* If statement\n",
    "* Lists, List Comprehensions & Iteration Patterns\n",
    "* Dictionaries\n",
    "* Working with Files\n",
    "* Writing Command-line Applications\n",
    "* Regular Expressions"
   ]
  },
  {
   "cell_type": "markdown",
   "id": "bdb8b4ff-f76e-4203-a37b-3100d769a7fb",
   "metadata": {},
   "source": [
    "## Conditional Expressions & If Statement"
   ]
  },
  {
   "cell_type": "code",
   "execution_count": 1,
   "id": "5643b1e3-4aea-4ee8-bdf9-d9e06448bd0c",
   "metadata": {},
   "outputs": [],
   "source": [
    "marks = 75"
   ]
  },
  {
   "cell_type": "code",
   "execution_count": 3,
   "id": "c5aca385-d715-4e53-a538-dd66e17a03e6",
   "metadata": {},
   "outputs": [
    {
     "data": {
      "text/plain": [
       "True"
      ]
     },
     "execution_count": 3,
     "metadata": {},
     "output_type": "execute_result"
    }
   ],
   "source": [
    "marks > 35"
   ]
  },
  {
   "cell_type": "code",
   "execution_count": 4,
   "id": "3a35cb6b-c7de-4718-9468-f5d6a05c245a",
   "metadata": {},
   "outputs": [],
   "source": [
    "filename = \"hello.py\""
   ]
  },
  {
   "cell_type": "code",
   "execution_count": 5,
   "id": "b74b4d29-806c-469c-8c7b-d92fb8ab40e2",
   "metadata": {},
   "outputs": [
    {
     "data": {
      "text/plain": [
       "True"
      ]
     },
     "execution_count": 5,
     "metadata": {},
     "output_type": "execute_result"
    }
   ],
   "source": [
    "filename.endswith(\".py\")"
   ]
  },
  {
   "cell_type": "code",
   "execution_count": 6,
   "id": "375997ad-d1fa-4280-b5f0-17a85a7d5a05",
   "metadata": {},
   "outputs": [
    {
     "data": {
      "text/plain": [
       "True"
      ]
     },
     "execution_count": 6,
     "metadata": {},
     "output_type": "execute_result"
    }
   ],
   "source": [
    "\"lo\" in filename"
   ]
  },
  {
   "cell_type": "code",
   "execution_count": 7,
   "id": "fb02a833-0e76-4aa5-a2cf-d6b7178fee6e",
   "metadata": {},
   "outputs": [
    {
     "data": {
      "text/plain": [
       "False"
      ]
     },
     "execution_count": 7,
     "metadata": {},
     "output_type": "execute_result"
    }
   ],
   "source": [
    "\"lo\" not in filename"
   ]
  },
  {
   "cell_type": "code",
   "execution_count": 8,
   "id": "392cce3a-227e-4a63-a410-c15c35f983d2",
   "metadata": {},
   "outputs": [],
   "source": [
    "def get_ext(filename):\n",
    "    if \".\" in filename:\n",
    "        return filename.split(\".\")[1]\n",
    "    else:\n",
    "        return None"
   ]
  },
  {
   "cell_type": "code",
   "execution_count": 9,
   "id": "5d8e7a80-98fa-4b22-ae34-395e582afa0e",
   "metadata": {},
   "outputs": [
    {
     "data": {
      "text/plain": [
       "True"
      ]
     },
     "execution_count": 9,
     "metadata": {},
     "output_type": "execute_result"
    }
   ],
   "source": [
    "\"a\" in [\"a\", \"b\", \"c\", \"d\"]"
   ]
  },
  {
   "cell_type": "markdown",
   "id": "b43856f5-3cc6-418c-b99f-582bb1f0eb7b",
   "metadata": {},
   "source": [
    "Let's write a function `is_vowel` to check if a character is vowel."
   ]
  },
  {
   "cell_type": "code",
   "execution_count": 10,
   "id": "90883dfe-da39-478c-9c29-7bb177a1eb2e",
   "metadata": {},
   "outputs": [],
   "source": [
    "def is_vowel(c):\n",
    "    vowels = ['a', 'e', 'i', 'o', 'u']\n",
    "    return c in vowels"
   ]
  },
  {
   "cell_type": "code",
   "execution_count": 11,
   "id": "8c3b60e9-d831-43bb-982c-5fdfc5423cbf",
   "metadata": {},
   "outputs": [
    {
     "data": {
      "text/plain": [
       "True"
      ]
     },
     "execution_count": 11,
     "metadata": {},
     "output_type": "execute_result"
    }
   ],
   "source": [
    "is_vowel('a')"
   ]
  },
  {
   "cell_type": "code",
   "execution_count": 12,
   "id": "a8e94b30-42ca-4f86-83a8-15a357c1070b",
   "metadata": {},
   "outputs": [
    {
     "data": {
      "text/plain": [
       "False"
      ]
     },
     "execution_count": 12,
     "metadata": {},
     "output_type": "execute_result"
    }
   ],
   "source": [
    "is_vowel('x')"
   ]
  },
  {
   "cell_type": "markdown",
   "id": "697ecf46-dbfd-41ed-885e-6ace11d505f2",
   "metadata": {},
   "source": [
    "### Combining Conditional Expressions"
   ]
  },
  {
   "cell_type": "markdown",
   "id": "bd665161-3242-47e1-99ab-839cce9bd50b",
   "metadata": {},
   "source": [
    "#### `not`"
   ]
  },
  {
   "cell_type": "code",
   "execution_count": 13,
   "id": "2b37d444-5b57-477f-994a-cca7cd2521a4",
   "metadata": {},
   "outputs": [],
   "source": [
    "filename = \"hello.py\""
   ]
  },
  {
   "cell_type": "code",
   "execution_count": 14,
   "id": "1237a4f8-0aa8-42de-98ca-4744accbc9ac",
   "metadata": {},
   "outputs": [
    {
     "data": {
      "text/plain": [
       "True"
      ]
     },
     "execution_count": 14,
     "metadata": {},
     "output_type": "execute_result"
    }
   ],
   "source": [
    "filename.endswith(\".py\")"
   ]
  },
  {
   "cell_type": "code",
   "execution_count": 15,
   "id": "103d2918-789f-4df3-8f58-7a27175905ff",
   "metadata": {},
   "outputs": [
    {
     "data": {
      "text/plain": [
       "False"
      ]
     },
     "execution_count": 15,
     "metadata": {},
     "output_type": "execute_result"
    }
   ],
   "source": [
    "not filename.endswith(\".py\")"
   ]
  },
  {
   "cell_type": "code",
   "execution_count": 16,
   "id": "7d7872c5-4005-4dd4-80b6-4d77a53729b7",
   "metadata": {},
   "outputs": [
    {
     "data": {
      "text/plain": [
       "True"
      ]
     },
     "execution_count": 16,
     "metadata": {},
     "output_type": "execute_result"
    }
   ],
   "source": [
    "\"hell\" in filename"
   ]
  },
  {
   "cell_type": "code",
   "execution_count": 17,
   "id": "25dd7568-cc42-46ad-8372-544f3c09c402",
   "metadata": {},
   "outputs": [
    {
     "data": {
      "text/plain": [
       "False"
      ]
     },
     "execution_count": 17,
     "metadata": {},
     "output_type": "execute_result"
    }
   ],
   "source": [
    "\"hell\" not in filename"
   ]
  },
  {
   "cell_type": "markdown",
   "id": "69201368-45b9-4371-9a91-48aece14e23d",
   "metadata": {},
   "source": [
    "#### `and` and `or`"
   ]
  },
  {
   "cell_type": "code",
   "execution_count": 18,
   "id": "e8ca00eb-cf9f-4f92-91ca-cbd674dbb8c5",
   "metadata": {},
   "outputs": [
    {
     "data": {
      "text/plain": [
       "False"
      ]
     },
     "execution_count": 18,
     "metadata": {},
     "output_type": "execute_result"
    }
   ],
   "source": [
    "# make sure filename does not have \"..\" and ends with \".txt\"\n",
    "\"..\" not in filename and filename.endswith(\".txt\")"
   ]
  },
  {
   "cell_type": "markdown",
   "id": "a4784f9c-ef9c-49f5-aa5b-692e3aa82cf7",
   "metadata": {},
   "source": [
    "Please note that `and` and `or` are short circuit operators.\n",
    "\n",
    "In `a and b`, `b` is evaluated only if `a` is True.\n",
    "Similarly, in `a or b`, `b` is evaluated only if `a` is False."
   ]
  },
  {
   "cell_type": "code",
   "execution_count": 19,
   "id": "ff6dea40-a1d0-46f0-b61c-b135bf876a35",
   "metadata": {},
   "outputs": [
    {
     "data": {
      "text/plain": [
       "'hello.py'"
      ]
     },
     "execution_count": 19,
     "metadata": {},
     "output_type": "execute_result"
    }
   ],
   "source": [
    "filename"
   ]
  },
  {
   "cell_type": "code",
   "execution_count": 20,
   "id": "9e314d42-9ce3-462e-8357-7d93520085b4",
   "metadata": {},
   "outputs": [
    {
     "data": {
      "text/plain": [
       "False"
      ]
     },
     "execution_count": 20,
     "metadata": {},
     "output_type": "execute_result"
    }
   ],
   "source": [
    "# doom() is never called.\n",
    "filename.endswith(\".txt\") and doom()"
   ]
  },
  {
   "cell_type": "code",
   "execution_count": 21,
   "id": "70379772-7840-49cd-a556-b5380d3f8e2d",
   "metadata": {},
   "outputs": [
    {
     "ename": "SyntaxError",
     "evalue": "incomplete input (4004568105.py, line 2)",
     "output_type": "error",
     "traceback": [
      "\u001b[0;36m  Cell \u001b[0;32mIn[21], line 2\u001b[0;36m\u001b[0m\n\u001b[0;31m    filename.endswith(\".txt\") and doom(\u001b[0m\n\u001b[0m                                       ^\u001b[0m\n\u001b[0;31mSyntaxError\u001b[0m\u001b[0;31m:\u001b[0m incomplete input\n"
     ]
    }
   ],
   "source": [
    "# how about this?\n",
    "filename.endswith(\".txt\") and doom("
   ]
  },
  {
   "cell_type": "markdown",
   "id": "2c776360-2659-4729-bf48-3f42af7d1267",
   "metadata": {},
   "source": [
    "The values `0`, `\"\"`, `[]`, `{}` etc. are considered equivalant to False. Everything else is consider equivalant to True."
   ]
  },
  {
   "cell_type": "code",
   "execution_count": 24,
   "id": "0f7dd7da-5e8d-43fc-9887-efba88c0243d",
   "metadata": {},
   "outputs": [],
   "source": [
    "orders = [1, 2, 3]"
   ]
  },
  {
   "cell_type": "code",
   "execution_count": 25,
   "id": "6bf1d510-b903-4af5-a80d-0aefe748d99e",
   "metadata": {},
   "outputs": [
    {
     "name": "stdout",
     "output_type": "stream",
     "text": [
      "You have 3 orders\n"
     ]
    }
   ],
   "source": [
    "if orders:\n",
    "    print(\"You have\", len(orders), \"orders\")"
   ]
  },
  {
   "cell_type": "markdown",
   "id": "159ccd09-f01f-45de-b915-b1125448a512",
   "metadata": {},
   "source": [
    "### If Statement"
   ]
  },
  {
   "cell_type": "code",
   "execution_count": 26,
   "id": "a2e0b081-1918-45ce-acb7-41a6c162770c",
   "metadata": {},
   "outputs": [],
   "source": [
    "n = 25"
   ]
  },
  {
   "cell_type": "code",
   "execution_count": 27,
   "id": "3e4a0789-137b-49fa-8693-23c3b8dc10fd",
   "metadata": {},
   "outputs": [
    {
     "name": "stdout",
     "output_type": "stream",
     "text": [
      "odd\n"
     ]
    }
   ],
   "source": [
    "if n % 2 == 0:\n",
    "    print(\"even\")\n",
    "else:\n",
    "    print(\"odd\")"
   ]
  },
  {
   "cell_type": "code",
   "execution_count": 28,
   "id": "fa60dba0-b233-4118-adf2-4aa39f4d47e4",
   "metadata": {},
   "outputs": [],
   "source": [
    "n = 123"
   ]
  },
  {
   "cell_type": "code",
   "execution_count": 29,
   "id": "55315b0d-0cd4-4a9b-ad31-877ea8effeaf",
   "metadata": {},
   "outputs": [
    {
     "name": "stdout",
     "output_type": "stream",
     "text": [
      "123 is a big number\n"
     ]
    }
   ],
   "source": [
    "if n < 10:\n",
    "    print(n, \"is a single digit number\")\n",
    "elif n < 100:\n",
    "    print(n, \"is a two digit number\")\n",
    "else:\n",
    "    print(n, \"is a big number\")"
   ]
  },
  {
   "cell_type": "code",
   "execution_count": 30,
   "id": "03ba4c3a-10f0-49a0-ab97-4832df8428d7",
   "metadata": {},
   "outputs": [],
   "source": [
    "def check_number(n):\n",
    "    if n < 10:\n",
    "        print(n, \"is a single digit number\")\n",
    "    elif n < 100:\n",
    "        print(n, \"is a two digit number\")\n",
    "    else:\n",
    "        print(n, \"is a big number\")"
   ]
  },
  {
   "cell_type": "code",
   "execution_count": 31,
   "id": "c4d0caee-9a6f-4980-af44-9053dc7e0f9f",
   "metadata": {},
   "outputs": [
    {
     "name": "stdout",
     "output_type": "stream",
     "text": [
      "1 is a single digit number\n"
     ]
    }
   ],
   "source": [
    "check_number(1)"
   ]
  },
  {
   "cell_type": "code",
   "execution_count": 32,
   "id": "7487f68f-e3bd-4d59-9a3d-f12e893eab30",
   "metadata": {},
   "outputs": [
    {
     "name": "stdout",
     "output_type": "stream",
     "text": [
      "12 is a two digit number\n"
     ]
    }
   ],
   "source": [
    "check_number(12)"
   ]
  },
  {
   "cell_type": "code",
   "execution_count": 33,
   "id": "9a77d059-867b-45b2-b212-4c60f4737beb",
   "metadata": {},
   "outputs": [
    {
     "name": "stdout",
     "output_type": "stream",
     "text": [
      "123 is a big number\n"
     ]
    }
   ],
   "source": [
    "check_number(123)"
   ]
  },
  {
   "cell_type": "code",
   "execution_count": 35,
   "id": "f1a7a1a6-0497-4ec4-a4db-11f3a7b29613",
   "metadata": {},
   "outputs": [
    {
     "data": {
      "text/html": [
       "\n",
       "        <strong>Problem: Minimum of Two Numbers</strong>\n",
       "\n",
       "        <p><p>Write a function minimum that computes minimum of two numbers without using built-in function min or max.</p>\n",
       "<pre><code>&gt;&gt;&gt; minimum(3, 7)\n",
       "3\n",
       "&gt;&gt;&gt; minimum(33, 7)\n",
       "7\n",
       "&gt;&gt;&gt; 1 + minimum(3, 7)\n",
       "4\n",
       "&gt;&gt;&gt; 1 + minimum(3, 3)\n",
       "4\n",
       "</code></pre>\n",
       "        </p>\n",
       "\n",
       "        <p>You can verify your solution using:\n",
       "        <pre>%verify_problem minimum</pre>\n",
       "        </p>\n",
       "        "
      ],
      "text/plain": [
       "<Probem: minimum>"
      ]
     },
     "metadata": {},
     "output_type": "display_data"
    }
   ],
   "source": [
    "%load_problem minimum"
   ]
  },
  {
   "cell_type": "code",
   "execution_count": 37,
   "id": "5ecfb2b5-2362-41af-86ff-cbd65f4d8bdc",
   "metadata": {},
   "outputs": [],
   "source": [
    "# your code here\n",
    "def minimum(a, b):\n",
    "    if a < b:\n",
    "        return a\n",
    "    else:\n",
    "        return b\n",
    "\n"
   ]
  },
  {
   "cell_type": "code",
   "execution_count": 38,
   "id": "b215c04c-549c-4dec-8a72-a784d06c6069",
   "metadata": {},
   "outputs": [
    {
     "name": "stdout",
     "output_type": "stream",
     "text": [
      "✓ minimum(3, 7)\n",
      "✓ minimum(33, 7)\n",
      "✓ 1 + minimum(3, 7)\n",
      "✓ 1 + minimum(3, 3)\n",
      "🎉 Congratulations! You have successfully solved problem minimum!!\n"
     ]
    }
   ],
   "source": [
    "%verify_problem minimum"
   ]
  },
  {
   "cell_type": "code",
   "execution_count": null,
   "id": "71306f30-61a0-4ddf-a86d-80676dd6c999",
   "metadata": {},
   "outputs": [],
   "source": []
  },
  {
   "cell_type": "code",
   "execution_count": 36,
   "id": "78d32c10-c9af-4b64-8617-2bd696f16e23",
   "metadata": {},
   "outputs": [
    {
     "data": {
      "text/html": [
       "\n",
       "        <strong>Problem: Minimum of Three Numbers</strong>\n",
       "\n",
       "        <p><p>Write a function <code>minimum3</code> to compute the minimum of three numbers.</p>\n",
       "<p>You are not allowed to use any built-in functions in this implementation.</p>\n",
       "<pre><code class=\"language-python\">&gt;&gt;&gt; minimum3(1, 2, 3)\n",
       "1\n",
       "&gt;&gt;&gt; minimum3(3, 2, 1)\n",
       "1\n",
       "&gt;&gt;&gt; minimum3(1, 1, 1)\n",
       "1\n",
       "</code></pre>\n",
       "        </p>\n",
       "\n",
       "        <p>You can verify your solution using:\n",
       "        <pre>%verify_problem minimum3</pre>\n",
       "        </p>\n",
       "        "
      ],
      "text/plain": [
       "<Probem: minimum3>"
      ]
     },
     "metadata": {},
     "output_type": "display_data"
    }
   ],
   "source": [
    "%load_problem minimum3"
   ]
  },
  {
   "cell_type": "code",
   "execution_count": 41,
   "id": "fb349119-da9c-4374-b5a3-78df85ec1195",
   "metadata": {},
   "outputs": [],
   "source": [
    "def minimum3(a, b, c):\n",
    "    # ab = minimum(a, b)\n",
    "    # return minimum(ab, c)\n",
    "    return minimum(minimum(a, b), c)"
   ]
  },
  {
   "cell_type": "code",
   "execution_count": 42,
   "id": "d5498053-5af1-4f52-93e5-a9c1db6767f4",
   "metadata": {},
   "outputs": [
    {
     "name": "stdout",
     "output_type": "stream",
     "text": [
      "✓ minimum3(1, 2, 3)\n",
      "✓ minimum3(3, 2, 1)\n",
      "✓ minimum3(3, 1, 2)\n",
      "✓ minimum3(2, 1, 3)\n",
      "✓ minimum3(2, 3, 1)\n",
      "✓ minimum3(1, 1, 1)\n",
      "✓ 1 + minimum3(1, 1, 1)\n",
      "🎉 Congratulations! You have successfully solved problem minimum3!!\n"
     ]
    }
   ],
   "source": [
    "%verify_problem minimum3"
   ]
  },
  {
   "cell_type": "markdown",
   "id": "b305de95-9936-464e-958c-bfbd576ee376",
   "metadata": {},
   "source": [
    "## Lists"
   ]
  },
  {
   "cell_type": "code",
   "execution_count": 43,
   "id": "3a454dd0-16e1-4f3c-a399-b281d15a56b7",
   "metadata": {},
   "outputs": [],
   "source": [
    "x = ['a', 'b', 'c', 'd']"
   ]
  },
  {
   "cell_type": "code",
   "execution_count": 44,
   "id": "23b5e68e-6c36-4f34-aeb0-62b952f97c42",
   "metadata": {},
   "outputs": [
    {
     "data": {
      "text/plain": [
       "['a', 'b', 'c', 'd']"
      ]
     },
     "execution_count": 44,
     "metadata": {},
     "output_type": "execute_result"
    }
   ],
   "source": [
    "x"
   ]
  },
  {
   "cell_type": "code",
   "execution_count": 45,
   "id": "f2f365f9-7f72-46e8-b3d4-1eb446c8cbd9",
   "metadata": {},
   "outputs": [
    {
     "data": {
      "text/plain": [
       "4"
      ]
     },
     "execution_count": 45,
     "metadata": {},
     "output_type": "execute_result"
    }
   ],
   "source": [
    "len(x)"
   ]
  },
  {
   "cell_type": "code",
   "execution_count": 46,
   "id": "a7e50573-97ca-45d6-a93f-6ca5aaf22911",
   "metadata": {},
   "outputs": [
    {
     "data": {
      "text/plain": [
       "'a'"
      ]
     },
     "execution_count": 46,
     "metadata": {},
     "output_type": "execute_result"
    }
   ],
   "source": [
    "x[0]"
   ]
  },
  {
   "cell_type": "markdown",
   "id": "28dbe0e8-efbc-4b59-9cce-a9051125b64e",
   "metadata": {},
   "source": [
    "### For Loop"
   ]
  },
  {
   "cell_type": "code",
   "execution_count": 47,
   "id": "6adab190-339a-4f18-9cc1-717e6d52b54c",
   "metadata": {},
   "outputs": [],
   "source": [
    "names = [\"alice\", \"bob\", \"charlie\", \"dave\"]"
   ]
  },
  {
   "cell_type": "code",
   "execution_count": 48,
   "id": "1277d312-bef9-45e8-81e0-7fe3727e389a",
   "metadata": {},
   "outputs": [
    {
     "name": "stdout",
     "output_type": "stream",
     "text": [
      "Hello alice\n",
      "Hello bob\n",
      "Hello charlie\n",
      "Hello dave\n"
     ]
    }
   ],
   "source": [
    "for name in names:\n",
    "    print(\"Hello\", name)"
   ]
  },
  {
   "cell_type": "code",
   "execution_count": 49,
   "id": "947a32e4-a0f5-460d-8ea2-d87064d4da3e",
   "metadata": {},
   "outputs": [
    {
     "name": "stdout",
     "output_type": "stream",
     "text": [
      "1\n",
      "2\n",
      "3\n",
      "4\n",
      "5\n"
     ]
    }
   ],
   "source": [
    "for n in [1, 2, 3, 4, 5]:\n",
    "    print(n)"
   ]
  },
  {
   "cell_type": "markdown",
   "id": "5769d4de-802a-45de-b5ee-9747d003c28e",
   "metadata": {},
   "source": [
    "### range"
   ]
  },
  {
   "cell_type": "markdown",
   "id": "ff6ac2b8-b86b-43c9-b634-2c4e97ac0ffa",
   "metadata": {},
   "source": [
    "The built-in function `range` can be used to create a sequence of numbers."
   ]
  },
  {
   "cell_type": "code",
   "execution_count": 50,
   "id": "bd57e8c3-914d-4ac8-bc5d-666c7bf64948",
   "metadata": {},
   "outputs": [
    {
     "data": {
      "text/plain": [
       "range(0, 5)"
      ]
     },
     "execution_count": 50,
     "metadata": {},
     "output_type": "execute_result"
    }
   ],
   "source": [
    "range(5)"
   ]
  },
  {
   "cell_type": "code",
   "execution_count": 51,
   "id": "96c27bd9-1f90-45a1-b452-1c3f88bb89af",
   "metadata": {},
   "outputs": [
    {
     "name": "stdout",
     "output_type": "stream",
     "text": [
      "0\n",
      "1\n",
      "2\n",
      "3\n",
      "4\n"
     ]
    }
   ],
   "source": [
    "for i in range(5):\n",
    "    print(i)"
   ]
  },
  {
   "cell_type": "code",
   "execution_count": 52,
   "id": "18cccd0c-14a0-4e9a-b3fb-460b861c03a0",
   "metadata": {},
   "outputs": [
    {
     "data": {
      "text/plain": [
       "[0, 1, 2, 3, 4]"
      ]
     },
     "execution_count": 52,
     "metadata": {},
     "output_type": "execute_result"
    }
   ],
   "source": [
    "list(range(5))"
   ]
  },
  {
   "cell_type": "code",
   "execution_count": 56,
   "id": "02558db3-d7ad-4237-9ca7-d38a3cf453cd",
   "metadata": {},
   "outputs": [
    {
     "data": {
      "text/plain": [
       "[0, 1, 2, 3, 4]"
      ]
     },
     "execution_count": 56,
     "metadata": {},
     "output_type": "execute_result"
    }
   ],
   "source": [
    "list(range(5)) # numbers from 0 to 5 (end is not included)names"
   ]
  },
  {
   "cell_type": "code",
   "execution_count": 57,
   "id": "3fbd1e36-44bb-4b36-acdf-2de6800f618c",
   "metadata": {},
   "outputs": [
    {
     "data": {
      "text/plain": [
       "[2, 3, 4]"
      ]
     },
     "execution_count": 57,
     "metadata": {},
     "output_type": "execute_result"
    }
   ],
   "source": [
    "list(range(2, 5))"
   ]
  },
  {
   "cell_type": "code",
   "execution_count": 58,
   "id": "625fbf94-fc35-41b5-88ca-fb671f46dde1",
   "metadata": {},
   "outputs": [
    {
     "data": {
      "text/plain": [
       "[2, 5, 8, 11, 14, 17]"
      ]
     },
     "execution_count": 58,
     "metadata": {},
     "output_type": "execute_result"
    }
   ],
   "source": [
    "list(range(2, 20, 3)) "
   ]
  },
  {
   "cell_type": "markdown",
   "id": "3c17409a-cf42-429e-ae43-f2391afe2c85",
   "metadata": {},
   "source": [
    "### Modifying and Growing Lists"
   ]
  },
  {
   "cell_type": "code",
   "execution_count": 59,
   "id": "895d40b5-4319-464a-bc7d-469f34352ffe",
   "metadata": {},
   "outputs": [],
   "source": [
    "x = ['a', 'b', 'c', 'd']"
   ]
  },
  {
   "cell_type": "code",
   "execution_count": 60,
   "id": "02518fed-c04d-49a8-a0d3-f635e193331d",
   "metadata": {},
   "outputs": [
    {
     "data": {
      "text/plain": [
       "'a'"
      ]
     },
     "execution_count": 60,
     "metadata": {},
     "output_type": "execute_result"
    }
   ],
   "source": [
    "x[0]"
   ]
  },
  {
   "cell_type": "code",
   "execution_count": 61,
   "id": "5b356bca-6cbc-408a-9822-815628e7061a",
   "metadata": {},
   "outputs": [],
   "source": [
    "x[0] = 'aa'"
   ]
  },
  {
   "cell_type": "code",
   "execution_count": 62,
   "id": "5b1212ab-3d0b-47fe-b986-58dac3d8b1c4",
   "metadata": {},
   "outputs": [
    {
     "data": {
      "text/plain": [
       "['aa', 'b', 'c', 'd']"
      ]
     },
     "execution_count": 62,
     "metadata": {},
     "output_type": "execute_result"
    }
   ],
   "source": [
    "x"
   ]
  },
  {
   "cell_type": "code",
   "execution_count": 63,
   "id": "b6a1d861-2822-4a90-8585-7506d60983ad",
   "metadata": {},
   "outputs": [],
   "source": [
    "x.append('e')"
   ]
  },
  {
   "cell_type": "code",
   "execution_count": 64,
   "id": "2dea055d-d84b-46bc-9f19-6be7a222ab8b",
   "metadata": {},
   "outputs": [
    {
     "data": {
      "text/plain": [
       "['aa', 'b', 'c', 'd', 'e']"
      ]
     },
     "execution_count": 64,
     "metadata": {},
     "output_type": "execute_result"
    }
   ],
   "source": [
    "x"
   ]
  },
  {
   "cell_type": "markdown",
   "id": "86cf8267-a85d-4978-9cd9-b9ba6a0e1a3a",
   "metadata": {},
   "source": [
    "Please note that `append` does not return anything."
   ]
  },
  {
   "cell_type": "code",
   "execution_count": 65,
   "id": "83b1c40c-3742-4e84-8079-0a92b02912e8",
   "metadata": {},
   "outputs": [],
   "source": [
    "x = [1, 2, 3, 4]"
   ]
  },
  {
   "cell_type": "code",
   "execution_count": 66,
   "id": "502e99cc-2343-49ea-9bd2-3c31e6d6333e",
   "metadata": {},
   "outputs": [],
   "source": [
    "x = x.append(5)"
   ]
  },
  {
   "cell_type": "code",
   "execution_count": 67,
   "id": "6084c1b3-8302-4c64-affd-0a5a92f7da1d",
   "metadata": {},
   "outputs": [
    {
     "name": "stdout",
     "output_type": "stream",
     "text": [
      "None\n"
     ]
    }
   ],
   "source": [
    "print(x)"
   ]
  },
  {
   "cell_type": "markdown",
   "id": "99314d09-d9dc-457b-bca7-241af77320b4",
   "metadata": {},
   "source": [
    "#### Example: Squares"
   ]
  },
  {
   "cell_type": "markdown",
   "id": "5731fae3-41b8-4e0f-89a7-6c7210f1496b",
   "metadata": {},
   "source": [
    "Let's write a function `squares` that takes a list of numbers as argument and computes the square of each one of them.\n",
    "\n",
    "```\n",
    ">>> squares([1, 2, 3, 4, 5])\n",
    "[1, 4, 9, 16, 25]\n",
    "```"
   ]
  },
  {
   "cell_type": "code",
   "execution_count": 70,
   "id": "25fcc760-cf38-4d6e-9a53-111a7ef7fd82",
   "metadata": {},
   "outputs": [],
   "source": [
    "def squares(numbers):\n",
    "    result = []\n",
    "    for n in numbers:\n",
    "        result.append(n*n)\n",
    "    return result"
   ]
  },
  {
   "cell_type": "code",
   "execution_count": 71,
   "id": "7767d104-2cd0-4ba2-92eb-82a9526c0351",
   "metadata": {},
   "outputs": [
    {
     "data": {
      "text/plain": [
       "[1, 4, 9, 16, 25]"
      ]
     },
     "execution_count": 71,
     "metadata": {},
     "output_type": "execute_result"
    }
   ],
   "source": [
    "squares([1, 2, 3, 4, 5])"
   ]
  },
  {
   "cell_type": "code",
   "execution_count": 72,
   "id": "2adf0646-e2e2-46fa-a3ae-9c90cabc4707",
   "metadata": {},
   "outputs": [
    {
     "data": {
      "text/html": [
       "\n",
       "        <strong>Problem: Evens</strong>\n",
       "\n",
       "        <p><p>Write a function <code>evens</code> that takes a list of numbers as argument and returns a new list containing only the even numbers out of it.</p>\n",
       "<pre><code>&gt;&gt;&gt; evens([1, 2, 3, 4, 5, 6])\n",
       "[2, 4, 6]\n",
       "</code></pre>\n",
       "        </p>\n",
       "\n",
       "        <p>You can verify your solution using:\n",
       "        <pre>%verify_problem evens</pre>\n",
       "        </p>\n",
       "        "
      ],
      "text/plain": [
       "<Probem: evens>"
      ]
     },
     "metadata": {},
     "output_type": "display_data"
    }
   ],
   "source": [
    "%load_problem evens"
   ]
  },
  {
   "cell_type": "code",
   "execution_count": null,
   "id": "667ad5e4-e51b-44d8-b4b3-94dbbeb7cd87",
   "metadata": {},
   "outputs": [],
   "source": [
    "# your code here\n",
    "\n",
    "\n",
    "\n"
   ]
  },
  {
   "cell_type": "markdown",
   "id": "e9127576-4f83-47a6-9e75-5388cbd2f5c3",
   "metadata": {},
   "source": [
    "### List Indexing"
   ]
  },
  {
   "cell_type": "code",
   "execution_count": 73,
   "id": "0f839713-3df6-4cb0-927d-b5921d2ce7c9",
   "metadata": {},
   "outputs": [],
   "source": [
    "x = ['a', 'b', 'c', 'd', 'e']"
   ]
  },
  {
   "cell_type": "code",
   "execution_count": 74,
   "id": "c2a92308-610a-43c6-8a1d-3707b880ee5e",
   "metadata": {},
   "outputs": [
    {
     "data": {
      "text/plain": [
       "'a'"
      ]
     },
     "execution_count": 74,
     "metadata": {},
     "output_type": "execute_result"
    }
   ],
   "source": [
    "x[0]"
   ]
  },
  {
   "cell_type": "markdown",
   "id": "d5b7892d-10b2-403e-a257-0db2a745b9f1",
   "metadata": {},
   "source": [
    "How do you get the last element?"
   ]
  },
  {
   "cell_type": "code",
   "execution_count": 75,
   "id": "4dabbc2f-20aa-4deb-aeb1-8d7236d85987",
   "metadata": {},
   "outputs": [
    {
     "data": {
      "text/plain": [
       "'e'"
      ]
     },
     "execution_count": 75,
     "metadata": {},
     "output_type": "execute_result"
    }
   ],
   "source": [
    "x[len(x)-1]"
   ]
  },
  {
   "cell_type": "code",
   "execution_count": 76,
   "id": "d964ef5e-0426-4e5e-a12a-7345c83602d8",
   "metadata": {},
   "outputs": [
    {
     "data": {
      "text/plain": [
       "'e'"
      ]
     },
     "execution_count": 76,
     "metadata": {},
     "output_type": "execute_result"
    }
   ],
   "source": [
    "x[-1]"
   ]
  },
  {
   "cell_type": "markdown",
   "id": "84cf5a0e-57e5-4444-bce6-be9c9fe4488d",
   "metadata": {},
   "source": [
    "```\n",
    "+----+----+----+----+\n",
    "|  a |  b |  c |  d |\n",
    "+----+----+----+----+\n",
    "|  0 |  1 |  2 |  3 | --> regular index\n",
    "+----+----+----+----+\n",
    "| -4 | -3 | -2 | -1 | <-- negative index\n",
    "+----+----+----+----+\n",
    "```"
   ]
  },
  {
   "cell_type": "code",
   "execution_count": 77,
   "id": "3a834ab5-fd21-426b-b7a8-ab43e85aa388",
   "metadata": {},
   "outputs": [],
   "source": [
    "def get_last_word(sentence):\n",
    "    return sentence.split()[-1]"
   ]
  },
  {
   "cell_type": "code",
   "execution_count": 78,
   "id": "f08e9a9a-ce57-4c57-84e0-e967407354a9",
   "metadata": {},
   "outputs": [
    {
     "data": {
      "text/plain": [
       "'three'"
      ]
     },
     "execution_count": 78,
     "metadata": {},
     "output_type": "execute_result"
    }
   ],
   "source": [
    "get_last_word(\"one two three\")"
   ]
  },
  {
   "cell_type": "markdown",
   "id": "52a88e08-0712-4476-b62e-5d6390f50ddb",
   "metadata": {},
   "source": [
    "### List Slicing"
   ]
  },
  {
   "cell_type": "code",
   "execution_count": 79,
   "id": "8726de4d-ac8e-43ab-9956-02024f5921a2",
   "metadata": {},
   "outputs": [],
   "source": [
    "x = [\"zero\", \"one\", \"two\", \"three\", \"four\", \"five\", \"six\", \"seven\", \"eight\"]"
   ]
  },
  {
   "cell_type": "code",
   "execution_count": 80,
   "id": "15b927f9-fa40-4f8c-b693-9eb9c19c0fa0",
   "metadata": {},
   "outputs": [
    {
     "data": {
      "text/plain": [
       "['zero', 'one']"
      ]
     },
     "execution_count": 80,
     "metadata": {},
     "output_type": "execute_result"
    }
   ],
   "source": [
    "x[0:2] # from index 0 to index 2 (end is not included)"
   ]
  },
  {
   "cell_type": "code",
   "execution_count": 81,
   "id": "27e60ace-dcac-41b9-a7ac-c972cb88e06e",
   "metadata": {},
   "outputs": [
    {
     "data": {
      "text/plain": [
       "['zero', 'one']"
      ]
     },
     "execution_count": 81,
     "metadata": {},
     "output_type": "execute_result"
    }
   ],
   "source": [
    "x[:2] # upto index 2"
   ]
  },
  {
   "cell_type": "code",
   "execution_count": 82,
   "id": "f0b00440-eaf5-4241-82a9-640ab56f728b",
   "metadata": {},
   "outputs": [
    {
     "data": {
      "text/plain": [
       "['two', 'three', 'four', 'five', 'six', 'seven', 'eight']"
      ]
     },
     "execution_count": 82,
     "metadata": {},
     "output_type": "execute_result"
    }
   ],
   "source": [
    "x[2:] # index 2 onwards"
   ]
  },
  {
   "cell_type": "code",
   "execution_count": 83,
   "id": "cc79ac97-14fa-4ee7-83d4-a03b6a63c2a3",
   "metadata": {},
   "outputs": [
    {
     "data": {
      "text/plain": [
       "['one', 'two', 'three', 'four', 'five']"
      ]
     },
     "execution_count": 83,
     "metadata": {},
     "output_type": "execute_result"
    }
   ],
   "source": [
    "x[1:6] # from index 1 to index 6"
   ]
  },
  {
   "cell_type": "code",
   "execution_count": 84,
   "id": "633de252-ac3c-4493-a401-f01df73f0322",
   "metadata": {},
   "outputs": [
    {
     "data": {
      "text/plain": [
       "['one', 'three', 'five']"
      ]
     },
     "execution_count": 84,
     "metadata": {},
     "output_type": "execute_result"
    }
   ],
   "source": [
    "x[1:6:2] # from index to index 6, take every 2nd element"
   ]
  },
  {
   "cell_type": "markdown",
   "id": "f4f13e6a-410c-482c-9117-b8c804e1016a",
   "metadata": {},
   "source": [
    "How about all but not the first element?"
   ]
  },
  {
   "cell_type": "code",
   "execution_count": 85,
   "id": "018cb70b-9b45-4278-aa6f-55d29b53a0bb",
   "metadata": {},
   "outputs": [
    {
     "data": {
      "text/plain": [
       "['one', 'two', 'three', 'four', 'five', 'six', 'seven', 'eight']"
      ]
     },
     "execution_count": 85,
     "metadata": {},
     "output_type": "execute_result"
    }
   ],
   "source": [
    "x[1:]"
   ]
  },
  {
   "cell_type": "markdown",
   "id": "1cd26b1b-1bdb-4cf8-893b-69b6822487a5",
   "metadata": {},
   "source": [
    "How about all except the last one?"
   ]
  },
  {
   "cell_type": "code",
   "execution_count": 86,
   "id": "0ccf1d3b-ca29-422d-93aa-d81f43db3752",
   "metadata": {},
   "outputs": [
    {
     "data": {
      "text/plain": [
       "['zero', 'one', 'two', 'three', 'four', 'five', 'six', 'seven']"
      ]
     },
     "execution_count": 86,
     "metadata": {},
     "output_type": "execute_result"
    }
   ],
   "source": [
    "x[:-1]"
   ]
  },
  {
   "cell_type": "markdown",
   "id": "e4cc601c-a82e-4d0b-9980-356145ab3076",
   "metadata": {},
   "source": [
    "How to get the last two elements?"
   ]
  },
  {
   "cell_type": "code",
   "execution_count": 87,
   "id": "70ca45ed-c9cf-494c-977b-97d3c2bd6c13",
   "metadata": {},
   "outputs": [
    {
     "data": {
      "text/plain": [
       "[]"
      ]
     },
     "execution_count": 87,
     "metadata": {},
     "output_type": "execute_result"
    }
   ],
   "source": [
    "x[-1:-3]"
   ]
  },
  {
   "cell_type": "code",
   "execution_count": 88,
   "id": "c251a3c5-34be-4fd6-88ee-a0f786e10df0",
   "metadata": {},
   "outputs": [
    {
     "data": {
      "text/plain": [
       "[]"
      ]
     },
     "execution_count": 88,
     "metadata": {},
     "output_type": "execute_result"
    }
   ],
   "source": [
    "x[3:1]"
   ]
  },
  {
   "cell_type": "code",
   "execution_count": 89,
   "id": "284fd4f8-01b7-484b-ac2b-f975d54813f9",
   "metadata": {},
   "outputs": [
    {
     "data": {
      "text/plain": [
       "['seven', 'eight']"
      ]
     },
     "execution_count": 89,
     "metadata": {},
     "output_type": "execute_result"
    }
   ],
   "source": [
    "x[-2:]"
   ]
  },
  {
   "cell_type": "markdown",
   "id": "29c3a81a-6c0d-4121-b885-06e343c16f0f",
   "metadata": {},
   "source": [
    "How to get the elements in the reverse order?"
   ]
  },
  {
   "cell_type": "code",
   "execution_count": 90,
   "id": "ca3845d5-a7bb-4952-bd2f-45460c60fe97",
   "metadata": {},
   "outputs": [
    {
     "data": {
      "text/plain": [
       "['eight', 'seven', 'six', 'five', 'four', 'three', 'two', 'one', 'zero']"
      ]
     },
     "execution_count": 90,
     "metadata": {},
     "output_type": "execute_result"
    }
   ],
   "source": [
    "x[::-1]"
   ]
  },
  {
   "cell_type": "code",
   "execution_count": 91,
   "id": "7e9d9d47-e567-4374-8029-76d307b42f78",
   "metadata": {},
   "outputs": [
    {
     "data": {
      "text/plain": [
       "['zero', 'one', 'two', 'three', 'four', 'five', 'six', 'seven', 'eight']"
      ]
     },
     "execution_count": 91,
     "metadata": {},
     "output_type": "execute_result"
    }
   ],
   "source": [
    "x[:] # copy of the list"
   ]
  },
  {
   "cell_type": "markdown",
   "id": "3218e4bb-9006-49d4-a58c-c60c5eddd011",
   "metadata": {},
   "source": [
    "### List Comprehensions"
   ]
  },
  {
   "cell_type": "code",
   "execution_count": 92,
   "id": "6d267fab-9b32-4eb1-99ef-d92a93ddf246",
   "metadata": {},
   "outputs": [],
   "source": [
    "def squares(numbers):\n",
    "    result = []\n",
    "    for n in numbers:\n",
    "        result.append(n*n)\n",
    "    return result"
   ]
  },
  {
   "cell_type": "code",
   "execution_count": 93,
   "id": "c3f023ac-3098-476b-bdaa-97bacf70f2bf",
   "metadata": {},
   "outputs": [],
   "source": [
    "numbers = [1, 2, 3, 4, 5]"
   ]
  },
  {
   "cell_type": "code",
   "execution_count": 94,
   "id": "d9e351ee-9361-4291-8229-fbc7432dd73f",
   "metadata": {},
   "outputs": [
    {
     "data": {
      "text/plain": [
       "[1, 4, 9, 16, 25]"
      ]
     },
     "execution_count": 94,
     "metadata": {},
     "output_type": "execute_result"
    }
   ],
   "source": [
    "squares(numbers)"
   ]
  },
  {
   "cell_type": "code",
   "execution_count": 95,
   "id": "03b1ee2b-87d1-48d5-a47d-9e3a2884086e",
   "metadata": {},
   "outputs": [
    {
     "data": {
      "text/plain": [
       "[1, 4, 9, 16, 25]"
      ]
     },
     "execution_count": 95,
     "metadata": {},
     "output_type": "execute_result"
    }
   ],
   "source": [
    "[n*n for n in numbers]"
   ]
  },
  {
   "cell_type": "code",
   "execution_count": 96,
   "id": "9bc5c03f-df45-4dfa-8f9e-b33bff6a2d6b",
   "metadata": {},
   "outputs": [],
   "source": [
    "result = [n*n for n in numbers]"
   ]
  },
  {
   "cell_type": "code",
   "execution_count": 97,
   "id": "e6ac2e65-4ab9-4816-8367-88295d38aca2",
   "metadata": {},
   "outputs": [
    {
     "data": {
      "text/plain": [
       "[1, 4, 9, 16, 25]"
      ]
     },
     "execution_count": 97,
     "metadata": {},
     "output_type": "execute_result"
    }
   ],
   "source": [
    "result"
   ]
  },
  {
   "cell_type": "code",
   "execution_count": 98,
   "id": "1e6f9809-4191-4215-b37d-4f162a533a12",
   "metadata": {},
   "outputs": [
    {
     "data": {
      "text/plain": [
       "[4, 16]"
      ]
     },
     "execution_count": 98,
     "metadata": {},
     "output_type": "execute_result"
    }
   ],
   "source": [
    "[n*n for n in numbers if n % 2 == 0]"
   ]
  },
  {
   "cell_type": "code",
   "execution_count": 99,
   "id": "8239e5b3-899b-4dee-93b5-534ecaa727da",
   "metadata": {},
   "outputs": [
    {
     "data": {
      "text/plain": [
       "166666166667000000"
      ]
     },
     "execution_count": 99,
     "metadata": {},
     "output_type": "execute_result"
    }
   ],
   "source": [
    "# compute the sum of squares of all even numbers below one million\n",
    "sum([n*n for n in range(1000000) if n%2 == 0])"
   ]
  },
  {
   "cell_type": "markdown",
   "id": "75d33cc5-707f-4c5f-a462-ee1a737c3691",
   "metadata": {},
   "source": [
    "Let's unpack it a bit.\n",
    "\n",
    "    result = [expr for a_var in a_list]\n",
    "    result = [expr for a_var in a_list if some_cond]\n",
    "\n",
    "They are equivalant to:\n",
    "\n",
    "    result = []\n",
    "    for a_var in a_list:\n",
    "        result.append(expr)\n",
    "\n",
    "    result = []\n",
    "    for a_var in a_list:\n",
    "        if some_cond:\n",
    "            result.append(expr)\n",
    "    "
   ]
  },
  {
   "cell_type": "markdown",
   "id": "33886961-47ae-4f84-8339-8aa68f0bc0c0",
   "metadata": {},
   "source": [
    "Find all Python files in the current directory."
   ]
  },
  {
   "cell_type": "code",
   "execution_count": 100,
   "id": "37fe2415-94cb-4b10-9c67-aa47cb578699",
   "metadata": {},
   "outputs": [],
   "source": [
    "import os"
   ]
  },
  {
   "cell_type": "code",
   "execution_count": 101,
   "id": "e62451bc-285f-4121-97b1-f1ac1c0d37a8",
   "metadata": {},
   "outputs": [
    {
     "data": {
      "text/plain": [
       "['add.py',\n",
       " 'ls.py',\n",
       " '.ipynb_checkpoints',\n",
       " 'sq.py',\n",
       " 'sentences.txt',\n",
       " 'day1.ipynb',\n",
       " 'three.txt',\n",
       " 'echo.py',\n",
       " 'args.py',\n",
       " 'day2.ipynb']"
      ]
     },
     "execution_count": 101,
     "metadata": {},
     "output_type": "execute_result"
    }
   ],
   "source": [
    "os.listdir() # all files"
   ]
  },
  {
   "cell_type": "code",
   "execution_count": 102,
   "id": "401149c2-0f07-4d16-bc32-57b50cb9b9cc",
   "metadata": {},
   "outputs": [
    {
     "data": {
      "text/plain": [
       "['add.py', 'ls.py', 'sq.py', 'echo.py', 'args.py']"
      ]
     },
     "execution_count": 102,
     "metadata": {},
     "output_type": "execute_result"
    }
   ],
   "source": [
    "[f for f in os.listdir() if f.endswith(\".py\")]"
   ]
  },
  {
   "cell_type": "code",
   "execution_count": 103,
   "id": "827927df-b918-426f-960d-b92cf29226e7",
   "metadata": {},
   "outputs": [
    {
     "data": {
      "text/plain": [
       "19"
      ]
     },
     "execution_count": 103,
     "metadata": {},
     "output_type": "execute_result"
    }
   ],
   "source": [
    "os.path.getsize(\"add.py\")"
   ]
  },
  {
   "cell_type": "code",
   "execution_count": 104,
   "id": "71b34346-f6c0-41af-a719-af46b0bd0f52",
   "metadata": {},
   "outputs": [
    {
     "name": "stdout",
     "output_type": "stream",
     "text": [
      "-rw-r--r-- 1 jupyter-anand jupyter-anand 19 May 13 07:51 add.py\n"
     ]
    }
   ],
   "source": [
    "!ls -l add.py"
   ]
  },
  {
   "cell_type": "markdown",
   "id": "7497a40d-649d-4748-9977-345168d98cf9",
   "metadata": {},
   "source": [
    "What if we want to find the total size of all python files in the current directory?"
   ]
  },
  {
   "cell_type": "code",
   "execution_count": 105,
   "id": "6766f5d8-6b15-4840-b65f-f8543691f6c9",
   "metadata": {},
   "outputs": [
    {
     "data": {
      "text/plain": [
       "['add.py', 'ls.py', 'sq.py', 'echo.py', 'args.py']"
      ]
     },
     "execution_count": 105,
     "metadata": {},
     "output_type": "execute_result"
    }
   ],
   "source": [
    "[f for f in os.listdir() if f.endswith(\".py\")]"
   ]
  },
  {
   "cell_type": "code",
   "execution_count": 106,
   "id": "b231d439-f5b9-4cce-83e3-eadb59cbcfd7",
   "metadata": {},
   "outputs": [
    {
     "data": {
      "text/plain": [
       "[19, 61, 69, 31, 28]"
      ]
     },
     "execution_count": 106,
     "metadata": {},
     "output_type": "execute_result"
    }
   ],
   "source": [
    "[os.path.getsize(f) for f in os.listdir() if f.endswith(\".py\")]"
   ]
  },
  {
   "cell_type": "code",
   "execution_count": 107,
   "id": "c1b1da86-251d-4e32-bd06-1456f0153aaa",
   "metadata": {},
   "outputs": [
    {
     "data": {
      "text/plain": [
       "208"
      ]
     },
     "execution_count": 107,
     "metadata": {},
     "output_type": "execute_result"
    }
   ],
   "source": [
    "sum([os.path.getsize(f) for f in os.listdir() if f.endswith(\".py\")])"
   ]
  },
  {
   "cell_type": "markdown",
   "id": "1146be10-3dc8-4a2d-a5b2-b29020ffac7b",
   "metadata": {},
   "source": [
    "### Iterations Patterns"
   ]
  },
  {
   "cell_type": "markdown",
   "id": "612fe1c0-7043-49c3-9a74-65715eda4483",
   "metadata": {},
   "source": [
    "#### Iterating over a list"
   ]
  },
  {
   "cell_type": "code",
   "execution_count": 109,
   "id": "c4f22555-c5b7-428b-9983-06e0eaa5dfec",
   "metadata": {},
   "outputs": [],
   "source": [
    "x = ['a', 'b', 'c', 'd']"
   ]
  },
  {
   "cell_type": "code",
   "execution_count": 110,
   "id": "c670c6f2-e5a4-4c63-9a5e-6184ae80309a",
   "metadata": {},
   "outputs": [
    {
     "name": "stdout",
     "output_type": "stream",
     "text": [
      "a A\n",
      "b B\n",
      "c C\n",
      "d D\n"
     ]
    }
   ],
   "source": [
    "for a in x:\n",
    "    print(a, a.upper())"
   ]
  },
  {
   "cell_type": "code",
   "execution_count": 111,
   "id": "28d24a44-ee24-4092-b7ca-dc3e51a33877",
   "metadata": {},
   "outputs": [
    {
     "data": {
      "text/plain": [
       "['A', 'B', 'C', 'D']"
      ]
     },
     "execution_count": 111,
     "metadata": {},
     "output_type": "execute_result"
    }
   ],
   "source": [
    "[a.upper() for a in x]"
   ]
  },
  {
   "cell_type": "markdown",
   "id": "b4be55a1-68a7-41de-97a1-db7d5c5d92cf",
   "metadata": {},
   "source": [
    "#### Iterating over a sequence of numbers"
   ]
  },
  {
   "cell_type": "code",
   "execution_count": 113,
   "id": "88cc5196-900e-4f9b-a4b5-547ed633e038",
   "metadata": {},
   "outputs": [
    {
     "name": "stdout",
     "output_type": "stream",
     "text": [
      "0\n",
      "1\n",
      "4\n",
      "9\n",
      "16\n"
     ]
    }
   ],
   "source": [
    "for i in range(5):\n",
    "    print(i*i)"
   ]
  },
  {
   "cell_type": "code",
   "execution_count": 114,
   "id": "0cb1cab7-2a43-41ae-b5bc-a5396643b46f",
   "metadata": {},
   "outputs": [
    {
     "data": {
      "text/plain": [
       "[0, 1, 4, 9, 16]"
      ]
     },
     "execution_count": 114,
     "metadata": {},
     "output_type": "execute_result"
    }
   ],
   "source": [
    "[i*i for i in range(5)]"
   ]
  },
  {
   "cell_type": "markdown",
   "id": "f5810896-88bc-48a3-ba9c-1b43454c10b1",
   "metadata": {},
   "source": [
    "#### Iterating over two lists together"
   ]
  },
  {
   "cell_type": "code",
   "execution_count": 115,
   "id": "3ac1c5db-fed1-46f1-8b68-98d0128e7cc0",
   "metadata": {},
   "outputs": [],
   "source": [
    "names = [\"a\", \"b\", \"c\", \"d\"]\n",
    "scores = [10, 20, 30, 40]"
   ]
  },
  {
   "cell_type": "code",
   "execution_count": 116,
   "id": "bc94f10c-8c58-47ba-9b6e-d2613e49f241",
   "metadata": {},
   "outputs": [
    {
     "name": "stdout",
     "output_type": "stream",
     "text": [
      "a 10\n",
      "b 20\n",
      "c 30\n",
      "d 40\n"
     ]
    }
   ],
   "source": [
    "for i in range(len(names)):\n",
    "    print(names[i], scores[i])"
   ]
  },
  {
   "cell_type": "markdown",
   "id": "664f3e4c-4e9f-4d94-8090-f6ebeb776b34",
   "metadata": {},
   "source": [
    "This is one correct way to do it, but this is not very pythonic."
   ]
  },
  {
   "cell_type": "code",
   "execution_count": 117,
   "id": "8ac477c9-f45c-411d-b9e8-2501582ce8cf",
   "metadata": {},
   "outputs": [
    {
     "name": "stdout",
     "output_type": "stream",
     "text": [
      "a 10\n",
      "b 20\n",
      "c 30\n",
      "d 40\n"
     ]
    }
   ],
   "source": [
    "for name, score in zip(names, scores):\n",
    "    print(name, score)"
   ]
  },
  {
   "cell_type": "code",
   "execution_count": 118,
   "id": "409d61e4-4507-42e8-a34b-f44e0b18e7f4",
   "metadata": {},
   "outputs": [
    {
     "data": {
      "text/plain": [
       "<zip at 0x7582266c1800>"
      ]
     },
     "execution_count": 118,
     "metadata": {},
     "output_type": "execute_result"
    }
   ],
   "source": [
    "zip(names, scores)"
   ]
  },
  {
   "cell_type": "code",
   "execution_count": 119,
   "id": "4c0a07e1-96f3-46bc-b250-469571772bf6",
   "metadata": {},
   "outputs": [
    {
     "data": {
      "text/plain": [
       "[('a', 10), ('b', 20), ('c', 30), ('d', 40)]"
      ]
     },
     "execution_count": 119,
     "metadata": {},
     "output_type": "execute_result"
    }
   ],
   "source": [
    "list(zip(names, scores))"
   ]
  },
  {
   "cell_type": "code",
   "execution_count": 120,
   "id": "c4cefcdc-fb1d-499b-ba28-e0f0e90b8beb",
   "metadata": {},
   "outputs": [],
   "source": [
    "x, y = ('a', 10)"
   ]
  },
  {
   "cell_type": "code",
   "execution_count": 121,
   "id": "8cc05d0f-b6cd-4540-bbab-1dd37dd59aef",
   "metadata": {},
   "outputs": [
    {
     "data": {
      "text/plain": [
       "'a'"
      ]
     },
     "execution_count": 121,
     "metadata": {},
     "output_type": "execute_result"
    }
   ],
   "source": [
    "x"
   ]
  },
  {
   "cell_type": "code",
   "execution_count": 122,
   "id": "ec0de8e0-4829-446c-ac7f-2444b781f247",
   "metadata": {},
   "outputs": [
    {
     "data": {
      "text/plain": [
       "10"
      ]
     },
     "execution_count": 122,
     "metadata": {},
     "output_type": "execute_result"
    }
   ],
   "source": [
    "y"
   ]
  },
  {
   "cell_type": "code",
   "execution_count": 123,
   "id": "ad47b0ed-9f5e-4803-9362-6289aaa88100",
   "metadata": {},
   "outputs": [
    {
     "data": {
      "text/plain": [
       "[('a', 1), ('b', 2), ('c', 3)]"
      ]
     },
     "execution_count": 123,
     "metadata": {},
     "output_type": "execute_result"
    }
   ],
   "source": [
    "list(zip(['a', 'b', 'c'], [1, 2, 3, 4]))"
   ]
  },
  {
   "cell_type": "code",
   "execution_count": 124,
   "id": "866c1672-5674-43be-90e2-508b0ee873ff",
   "metadata": {},
   "outputs": [
    {
     "data": {
      "text/html": [
       "\n",
       "        <strong>Problem: Vector Add</strong>\n",
       "\n",
       "        <p><p>Write a function <code>vector_add</code> to add two vectors.</p>\n",
       "<pre><code>&gt;&gt;&gt; vector_add([1, 2, 3, 4], [10, 20, 30, 40])\n",
       "[11, 22, 33, 44]\n",
       "&gt;&gt;&gt; sum(vector_add([1, 2, 3, 4], [10, 20, 30, 40]))\n",
       "110\n",
       "</code></pre>\n",
       "        </p>\n",
       "\n",
       "        <p>You can verify your solution using:\n",
       "        <pre>%verify_problem vector-add</pre>\n",
       "        </p>\n",
       "        "
      ],
      "text/plain": [
       "<Probem: vector-add>"
      ]
     },
     "metadata": {},
     "output_type": "display_data"
    }
   ],
   "source": [
    "%load_problem vector-add"
   ]
  },
  {
   "cell_type": "code",
   "execution_count": null,
   "id": "ea556d1a-4ec3-4773-bb0a-b31a584adc8d",
   "metadata": {},
   "outputs": [],
   "source": [
    "# your code here\n",
    "\n",
    "\n",
    "\n"
   ]
  },
  {
   "cell_type": "code",
   "execution_count": 125,
   "id": "9d8e72f5-fc72-4699-ac5d-5ad8a080a477",
   "metadata": {},
   "outputs": [],
   "source": [
    "v1 = [1, 2, 3, 4]\n",
    "v2 = [10, 20, 30, 40]"
   ]
  },
  {
   "cell_type": "code",
   "execution_count": 126,
   "id": "7b4ed19e-b88d-466c-9812-1621f10dce70",
   "metadata": {},
   "outputs": [
    {
     "data": {
      "text/plain": [
       "<zip at 0x75822756fd80>"
      ]
     },
     "execution_count": 126,
     "metadata": {},
     "output_type": "execute_result"
    }
   ],
   "source": [
    "zip(v1, v2)"
   ]
  },
  {
   "cell_type": "code",
   "execution_count": 127,
   "id": "7593eee9-359a-4daa-98e9-8d784de616c9",
   "metadata": {},
   "outputs": [
    {
     "name": "stdout",
     "output_type": "stream",
     "text": [
      "1 10\n",
      "2 20\n",
      "3 30\n",
      "4 40\n"
     ]
    }
   ],
   "source": [
    "for x, y in zip(v1, v2):\n",
    "    print(x, y)"
   ]
  },
  {
   "cell_type": "markdown",
   "id": "f140b9a2-626a-4078-8010-8de0965202d4",
   "metadata": {},
   "source": [
    "#### Looping over the index and the element together"
   ]
  },
  {
   "cell_type": "code",
   "execution_count": 128,
   "id": "a6891984-5845-4776-a951-7eb6d95a4350",
   "metadata": {},
   "outputs": [],
   "source": [
    "chapters = [\n",
    "    \"Getting Started\",\n",
    "    \"Functions\",\n",
    "    \"Lists\",\n",
    "    \"Dictionaries\"\n",
    "]"
   ]
  },
  {
   "cell_type": "markdown",
   "id": "6361c8d2-83cd-488a-a0ec-b99d557cdcf1",
   "metadata": {},
   "source": [
    "How to print the chapter number and chapter title together?"
   ]
  },
  {
   "cell_type": "code",
   "execution_count": 129,
   "id": "3bc08cd5-9bba-4261-b6b3-c27f3025d040",
   "metadata": {},
   "outputs": [
    {
     "name": "stdout",
     "output_type": "stream",
     "text": [
      "Chapter 1 : Getting Started\n",
      "Chapter 2 : Functions\n",
      "Chapter 3 : Lists\n",
      "Chapter 4 : Dictionaries\n"
     ]
    }
   ],
   "source": [
    "for i in range(len(chapters)):\n",
    "    print(\"Chapter\", i+1, \":\", chapters[i])"
   ]
  },
  {
   "cell_type": "code",
   "execution_count": 130,
   "id": "eabe1e35-8bd0-4a9c-a7eb-14bdf67a9f2c",
   "metadata": {},
   "outputs": [
    {
     "name": "stdout",
     "output_type": "stream",
     "text": [
      "Chapter 0: Getting Started\n",
      "Chapter 1: Functions\n",
      "Chapter 2: Lists\n",
      "Chapter 3: Dictionaries\n"
     ]
    }
   ],
   "source": [
    "for i, title in enumerate(chapters):\n",
    "    print(f\"Chapter {i}: {title}\")"
   ]
  },
  {
   "cell_type": "code",
   "execution_count": 131,
   "id": "84f88295-1252-4cf5-ab36-2a21c693eb76",
   "metadata": {},
   "outputs": [
    {
     "name": "stdout",
     "output_type": "stream",
     "text": [
      "Chapter 1: Getting Started\n",
      "Chapter 2: Functions\n",
      "Chapter 3: Lists\n",
      "Chapter 4: Dictionaries\n"
     ]
    }
   ],
   "source": [
    "for i, title in enumerate(chapters):\n",
    "    print(f\"Chapter {i+1}: {title}\")"
   ]
  },
  {
   "cell_type": "code",
   "execution_count": 132,
   "id": "be545b9b-7947-4fd7-86d0-3583f9f7dd61",
   "metadata": {},
   "outputs": [
    {
     "name": "stdout",
     "output_type": "stream",
     "text": [
      "Chapter 1: Getting Started\n",
      "Chapter 2: Functions\n",
      "Chapter 3: Lists\n",
      "Chapter 4: Dictionaries\n"
     ]
    }
   ],
   "source": [
    "for i, title in enumerate(chapters, start=1):\n",
    "    print(f\"Chapter {i}: {title}\")"
   ]
  },
  {
   "cell_type": "markdown",
   "id": "7132445f-9fae-40ac-9d52-80d636b2347f",
   "metadata": {},
   "source": [
    "### Command-line Arguments"
   ]
  },
  {
   "cell_type": "markdown",
   "id": "20de87d4-9756-4298-a461-68fbaa1c863f",
   "metadata": {},
   "source": [
    "Let's improve our echo program to print all the command-line arguments passed to it, instead of just the first one."
   ]
  },
  {
   "cell_type": "code",
   "execution_count": 140,
   "id": "5a89c43f-4435-4e67-a278-f351b1181aca",
   "metadata": {},
   "outputs": [
    {
     "name": "stdout",
     "output_type": "stream",
     "text": [
      "Overwriting echo.py\n"
     ]
    }
   ],
   "source": [
    "%%file echo.py\n",
    "import sys\n",
    "args = sys.argv[1:]\n",
    "# print(args)\n",
    "print(\" \".join(args))"
   ]
  },
  {
   "cell_type": "code",
   "execution_count": 141,
   "id": "3e7756e2-7fe8-4929-9e82-fd9451f162c3",
   "metadata": {},
   "outputs": [
    {
     "name": "stdout",
     "output_type": "stream",
     "text": [
      "hello world\n"
     ]
    }
   ],
   "source": [
    "!echo hello world"
   ]
  },
  {
   "cell_type": "code",
   "execution_count": 142,
   "id": "19548739-436b-4c0f-86f7-d547628edb2f",
   "metadata": {},
   "outputs": [
    {
     "name": "stdout",
     "output_type": "stream",
     "text": [
      "hello world\n"
     ]
    }
   ],
   "source": [
    "!python echo.py hello world"
   ]
  },
  {
   "cell_type": "code",
   "execution_count": 143,
   "id": "14c595b3-8682-4e2b-9021-b09767331865",
   "metadata": {},
   "outputs": [
    {
     "data": {
      "text/html": [
       "\n",
       "        <strong>Problem: Sum of Arguments</strong>\n",
       "\n",
       "        <p><p>Write a program <code>sum.py</code> that takes one or more numbers as command-line argument and prints their sum.</p>\n",
       "<pre><code>$ python sum.py 1 2 3 4 5\n",
       "15\n",
       "</code></pre>\n",
       "        </p>\n",
       "\n",
       "        <p>You can verify your solution using:\n",
       "        <pre>%verify_problem sum-of-arguments</pre>\n",
       "        </p>\n",
       "        "
      ],
      "text/plain": [
       "<Probem: sum-of-arguments>"
      ]
     },
     "metadata": {},
     "output_type": "display_data"
    }
   ],
   "source": [
    "%load_problem sum-of-arguments"
   ]
  },
  {
   "cell_type": "code",
   "execution_count": null,
   "id": "d4a352b9-bc1f-4ee4-8cfe-2bbfd64595b2",
   "metadata": {},
   "outputs": [],
   "source": [
    "%%file sum.py\n",
    "# your code here\n",
    "\n",
    "\n",
    "\n"
   ]
  },
  {
   "cell_type": "markdown",
   "id": "71b2dda9-6e89-48da-aa84-535da2a0fff9",
   "metadata": {},
   "source": [
    "### Sorting Lists"
   ]
  },
  {
   "cell_type": "code",
   "execution_count": 145,
   "id": "be761b12-fca6-4ba8-a38d-ac1a6cab68c7",
   "metadata": {},
   "outputs": [],
   "source": [
    "names = [\"alice\", \"dave\", \"charlie\", \"bob\"]"
   ]
  },
  {
   "cell_type": "code",
   "execution_count": 146,
   "id": "2bfcf1bf-0887-4e87-808f-3ea769b878e4",
   "metadata": {},
   "outputs": [],
   "source": [
    "names.sort() # sorts in-place"
   ]
  },
  {
   "cell_type": "code",
   "execution_count": 147,
   "id": "3af4251b-701f-47f1-b9f1-752faae40263",
   "metadata": {},
   "outputs": [
    {
     "data": {
      "text/plain": [
       "['alice', 'bob', 'charlie', 'dave']"
      ]
     },
     "execution_count": 147,
     "metadata": {},
     "output_type": "execute_result"
    }
   ],
   "source": [
    "names"
   ]
  },
  {
   "cell_type": "code",
   "execution_count": 148,
   "id": "c6fb787e-2b31-49e9-9011-f36c54a9d0d2",
   "metadata": {},
   "outputs": [],
   "source": [
    "names = [\"alice\", \"dave\", \"charlie\", \"bob\"]"
   ]
  },
  {
   "cell_type": "code",
   "execution_count": 149,
   "id": "3112b06a-9f4f-48d7-b48c-612e6b0a680c",
   "metadata": {},
   "outputs": [
    {
     "data": {
      "text/plain": [
       "['alice', 'bob', 'charlie', 'dave']"
      ]
     },
     "execution_count": 149,
     "metadata": {},
     "output_type": "execute_result"
    }
   ],
   "source": [
    "sorted(names)"
   ]
  },
  {
   "cell_type": "code",
   "execution_count": 150,
   "id": "1b688858-6360-4aae-b1a0-0f1419f9b840",
   "metadata": {},
   "outputs": [
    {
     "data": {
      "text/plain": [
       "['alice', 'dave', 'charlie', 'bob']"
      ]
     },
     "execution_count": 150,
     "metadata": {},
     "output_type": "execute_result"
    }
   ],
   "source": [
    "names"
   ]
  },
  {
   "cell_type": "markdown",
   "id": "31902d7b-a873-47fc-aa60-95c6fe4b471b",
   "metadata": {},
   "source": [
    "How to sort by length?"
   ]
  },
  {
   "cell_type": "code",
   "execution_count": 151,
   "id": "fa779f9e-6d34-493f-8a9f-bb661009b69d",
   "metadata": {},
   "outputs": [
    {
     "data": {
      "text/plain": [
       "['bob', 'dave', 'alice', 'charlie']"
      ]
     },
     "execution_count": 151,
     "metadata": {},
     "output_type": "execute_result"
    }
   ],
   "source": [
    "sorted(names, key=len)"
   ]
  },
  {
   "cell_type": "code",
   "execution_count": 152,
   "id": "7caef43e-323f-4535-b760-91cd0bc9808e",
   "metadata": {},
   "outputs": [
    {
     "data": {
      "text/plain": [
       "['charlie', 'alice', 'dave', 'bob']"
      ]
     },
     "execution_count": 152,
     "metadata": {},
     "output_type": "execute_result"
    }
   ],
   "source": [
    "sorted(names, key=len, reverse=True)"
   ]
  },
  {
   "cell_type": "markdown",
   "id": "0c6922c0-b7eb-4c8d-ad44-d5b7b0534670",
   "metadata": {},
   "source": [
    "Find top-5 largest files in the current directory."
   ]
  },
  {
   "cell_type": "code",
   "execution_count": 153,
   "id": "c249eb9c-c782-4892-8fc5-e0f22d511ec3",
   "metadata": {},
   "outputs": [],
   "source": [
    "files = os.listdir()"
   ]
  },
  {
   "cell_type": "code",
   "execution_count": 154,
   "id": "dd095a72-34f2-4a53-8ca2-9b0ca1d8040e",
   "metadata": {},
   "outputs": [
    {
     "data": {
      "text/plain": [
       "['add.py',\n",
       " 'ls.py',\n",
       " '.ipynb_checkpoints',\n",
       " 'sq.py',\n",
       " 'sentences.txt',\n",
       " 'day1.ipynb',\n",
       " 'three.txt',\n",
       " 'echo.py',\n",
       " 'args.py',\n",
       " 'day2.ipynb']"
      ]
     },
     "execution_count": 154,
     "metadata": {},
     "output_type": "execute_result"
    }
   ],
   "source": [
    "files"
   ]
  },
  {
   "cell_type": "code",
   "execution_count": 155,
   "id": "f004ca3d-2e5c-4231-ad53-9b19871b5478",
   "metadata": {},
   "outputs": [
    {
     "data": {
      "text/plain": [
       "['.ipynb_checkpoints',\n",
       " 'add.py',\n",
       " 'args.py',\n",
       " 'day1.ipynb',\n",
       " 'day2.ipynb',\n",
       " 'echo.py',\n",
       " 'ls.py',\n",
       " 'sentences.txt',\n",
       " 'sq.py',\n",
       " 'three.txt']"
      ]
     },
     "execution_count": 155,
     "metadata": {},
     "output_type": "execute_result"
    }
   ],
   "source": [
    "sorted(files)"
   ]
  },
  {
   "cell_type": "code",
   "execution_count": 157,
   "id": "c2b9d6aa-f0df-43a5-8fbf-728085fbf823",
   "metadata": {},
   "outputs": [
    {
     "data": {
      "text/plain": [
       "['day1.ipynb', 'day2.ipynb', '.ipynb_checkpoints', 'sentences.txt', 'sq.py']"
      ]
     },
     "execution_count": 157,
     "metadata": {},
     "output_type": "execute_result"
    }
   ],
   "source": [
    "sorted(files, key=os.path.getsize, reverse=True)[:5]"
   ]
  },
  {
   "cell_type": "code",
   "execution_count": 158,
   "id": "1c14f3fe-47a0-4d92-9940-c9b5a19adbbe",
   "metadata": {},
   "outputs": [
    {
     "data": {
      "text/plain": [
       "['day1.ipynb', 'day2.ipynb', '.ipynb_checkpoints', 'sentences.txt', 'sq.py']"
      ]
     },
     "execution_count": 158,
     "metadata": {},
     "output_type": "execute_result"
    }
   ],
   "source": [
    "sorted(os.listdir(), key=os.path.getsize, reverse=True)[:5]"
   ]
  },
  {
   "cell_type": "markdown",
   "id": "b999f813-ee2d-467f-95dc-edd4c3c61777",
   "metadata": {},
   "source": [
    "### Dictionaries"
   ]
  },
  {
   "cell_type": "markdown",
   "id": "8a56a071-1499-483a-9dd0-6c69545a64bf",
   "metadata": {},
   "source": [
    "Dictionaries are used to store name value pairs."
   ]
  },
  {
   "cell_type": "code",
   "execution_count": 159,
   "id": "da9a8b22-08b6-4bc4-b71c-6f65124b8649",
   "metadata": {},
   "outputs": [],
   "source": [
    "d = {\"x\": 1, \"y\": 2, \"z\": 3}"
   ]
  },
  {
   "cell_type": "code",
   "execution_count": 160,
   "id": "c444111d-9ab2-4939-b573-4fcf6ee13bad",
   "metadata": {},
   "outputs": [
    {
     "data": {
      "text/plain": [
       "{'x': 1, 'y': 2, 'z': 3}"
      ]
     },
     "execution_count": 160,
     "metadata": {},
     "output_type": "execute_result"
    }
   ],
   "source": [
    "d"
   ]
  },
  {
   "cell_type": "code",
   "execution_count": 161,
   "id": "111a4c8d-ff68-4dfa-99a9-ee27635f5a12",
   "metadata": {},
   "outputs": [
    {
     "data": {
      "text/plain": [
       "1"
      ]
     },
     "execution_count": 161,
     "metadata": {},
     "output_type": "execute_result"
    }
   ],
   "source": [
    "d[\"x\"]"
   ]
  },
  {
   "cell_type": "code",
   "execution_count": 162,
   "id": "bad212ef-e4a7-46e9-bea4-0b39a4004845",
   "metadata": {},
   "outputs": [],
   "source": [
    "d[\"x\"] = 11"
   ]
  },
  {
   "cell_type": "code",
   "execution_count": 163,
   "id": "55ff0550-0b9c-4b9c-ab93-36354f19a9a8",
   "metadata": {},
   "outputs": [
    {
     "data": {
      "text/plain": [
       "{'x': 11, 'y': 2, 'z': 3}"
      ]
     },
     "execution_count": 163,
     "metadata": {},
     "output_type": "execute_result"
    }
   ],
   "source": [
    "d"
   ]
  },
  {
   "cell_type": "code",
   "execution_count": 164,
   "id": "f3198595-5190-4cd7-a059-e90f13e12c59",
   "metadata": {},
   "outputs": [],
   "source": [
    "d['w'] = 10"
   ]
  },
  {
   "cell_type": "code",
   "execution_count": 165,
   "id": "cc788346-cc26-42ca-8a98-fed0b56451c0",
   "metadata": {},
   "outputs": [
    {
     "data": {
      "text/plain": [
       "{'x': 11, 'y': 2, 'z': 3, 'w': 10}"
      ]
     },
     "execution_count": 165,
     "metadata": {},
     "output_type": "execute_result"
    }
   ],
   "source": [
    "d"
   ]
  },
  {
   "cell_type": "markdown",
   "id": "8529fdf0-1d8d-487e-b9c2-f49e36f8d9b3",
   "metadata": {},
   "source": [
    "### Dictionary Usage Patterns"
   ]
  },
  {
   "cell_type": "markdown",
   "id": "f1af2812-9493-42ee-99e9-1d68641b04d7",
   "metadata": {},
   "source": [
    "There are two common patterns to use dictionaries."
   ]
  },
  {
   "cell_type": "markdown",
   "id": "68053977-ebd6-4613-af12-1631a87da16c",
   "metadata": {},
   "source": [
    "1. as a record\n",
    "2. as a lookup table"
   ]
  },
  {
   "cell_type": "code",
   "execution_count": 166,
   "id": "6f6991ca-42ae-48d6-9e94-e60b11359222",
   "metadata": {},
   "outputs": [],
   "source": [
    "# as a record\n",
    "person = {\n",
    "    \"name\": \"Alice\",\n",
    "    \"email\": \"alice@example.com\",\n",
    "    \"phone\": \"987654312\"\n",
    "}"
   ]
  },
  {
   "cell_type": "code",
   "execution_count": 167,
   "id": "cb5f2f50-1c4d-4f41-9bf7-d96d05644865",
   "metadata": {},
   "outputs": [
    {
     "data": {
      "text/plain": [
       "'Alice'"
      ]
     },
     "execution_count": 167,
     "metadata": {},
     "output_type": "execute_result"
    }
   ],
   "source": [
    "person[\"name\"]"
   ]
  },
  {
   "cell_type": "code",
   "execution_count": 168,
   "id": "6889472c-75b9-4b44-9618-2e8316e31477",
   "metadata": {},
   "outputs": [
    {
     "data": {
      "text/plain": [
       "'alice@example.com'"
      ]
     },
     "execution_count": 168,
     "metadata": {},
     "output_type": "execute_result"
    }
   ],
   "source": [
    "person[\"email\"]"
   ]
  },
  {
   "cell_type": "code",
   "execution_count": 169,
   "id": "9ea87453-ed95-4f66-9194-4bd6f41706f9",
   "metadata": {},
   "outputs": [],
   "source": [
    "# lookup table\n",
    "phone_numbers = {\n",
    "    \"alice\": 1234,\n",
    "    \"bob\": 2345\n",
    "}"
   ]
  },
  {
   "cell_type": "code",
   "execution_count": 170,
   "id": "c953887b-32eb-48c2-a134-84d8e77a907c",
   "metadata": {},
   "outputs": [
    {
     "data": {
      "text/plain": [
       "1234"
      ]
     },
     "execution_count": 170,
     "metadata": {},
     "output_type": "execute_result"
    }
   ],
   "source": [
    "phone_numbers[\"alice\"]"
   ]
  },
  {
   "cell_type": "code",
   "execution_count": 171,
   "id": "69b5dfcf-4773-4ec5-9eba-d94f9a2a3f7e",
   "metadata": {},
   "outputs": [
    {
     "data": {
      "text/plain": [
       "True"
      ]
     },
     "execution_count": 171,
     "metadata": {},
     "output_type": "execute_result"
    }
   ],
   "source": [
    "\"bob\" in phone_numbers"
   ]
  },
  {
   "cell_type": "code",
   "execution_count": 172,
   "id": "2f22d25f-6eb1-46c4-8386-01752097ee54",
   "metadata": {},
   "outputs": [
    {
     "data": {
      "text/plain": [
       "False"
      ]
     },
     "execution_count": 172,
     "metadata": {},
     "output_type": "execute_result"
    }
   ],
   "source": [
    "\"charlie\" in phone_numbers"
   ]
  },
  {
   "cell_type": "markdown",
   "id": "ed5571d6-2b26-42d5-aa36-af10a01e6c72",
   "metadata": {},
   "source": [
    "#### Example: Greeting in multiple languages"
   ]
  },
  {
   "cell_type": "markdown",
   "id": "88963a14-ef06-4e45-bab3-f1ab4b12e505",
   "metadata": {},
   "source": [
    "Let's write a function `greet` to greet a person in any language."
   ]
  },
  {
   "cell_type": "markdown",
   "id": "078c5713-be9a-4137-9813-34ce3bfcc260",
   "metadata": {},
   "source": [
    "If we have to greet in just English, we could write this as:"
   ]
  },
  {
   "cell_type": "code",
   "execution_count": 173,
   "id": "58ff40be-b698-46df-9564-4501dd75b318",
   "metadata": {},
   "outputs": [],
   "source": [
    "def greet(name):\n",
    "    print(\"Hello\", name)"
   ]
  },
  {
   "cell_type": "code",
   "execution_count": 174,
   "id": "997613ae-532d-4701-9570-d90d2f71adee",
   "metadata": {},
   "outputs": [
    {
     "name": "stdout",
     "output_type": "stream",
     "text": [
      "Hello Alice\n"
     ]
    }
   ],
   "source": [
    "greet(\"Alice\")"
   ]
  },
  {
   "cell_type": "markdown",
   "id": "134620e7-8f47-4d7a-b978-ca5345b7357a",
   "metadata": {},
   "source": [
    "Lets add support for multiple languages."
   ]
  },
  {
   "cell_type": "code",
   "execution_count": 175,
   "id": "6192c36c-340b-46f9-9ebb-3349891e212e",
   "metadata": {},
   "outputs": [],
   "source": [
    "def greet(name, lang):\n",
    "    if lang == \"en\":\n",
    "        print(\"Hello\", name)\n",
    "    elif lang == \"hi\":\n",
    "        print(\"Namaste\", name)\n",
    "    elif lang == \"kn\":\n",
    "        print(\"Namastara\", name)\n"
   ]
  },
  {
   "cell_type": "code",
   "execution_count": 178,
   "id": "33dc5c8a-1b3d-4d04-bd5d-efb0af442745",
   "metadata": {},
   "outputs": [
    {
     "name": "stdout",
     "output_type": "stream",
     "text": [
      "Namaste Alice\n"
     ]
    }
   ],
   "source": [
    "greet(\"Alice\", \"hi\")"
   ]
  },
  {
   "cell_type": "markdown",
   "id": "52192ac2-e163-4a40-acf3-0d857c96ef97",
   "metadata": {},
   "source": [
    "We have to modify the code if we want to add a new language, which is not nice. Let's try to move the translations out of the greet function."
   ]
  },
  {
   "cell_type": "code",
   "execution_count": 182,
   "id": "4782cf1a-e2ac-4851-8a2e-e69d0687b7d7",
   "metadata": {},
   "outputs": [],
   "source": [
    "prefixes = {\n",
    "    \"en\": \"Hello\",\n",
    "    \"hi\": \"Namaste\",\n",
    "    \"kn\": \"Namsakara\",\n",
    "    \"it\": \"Caiso\"\n",
    "}"
   ]
  },
  {
   "cell_type": "code",
   "execution_count": 183,
   "id": "509038c1-af4d-4c3d-8481-04b6680dbf39",
   "metadata": {},
   "outputs": [],
   "source": [
    "def greet(name, lang):\n",
    "    prefix = prefixes[lang]\n",
    "    print(prefix, name)"
   ]
  },
  {
   "cell_type": "code",
   "execution_count": 184,
   "id": "11187e61-bce6-4a20-a66b-498ec3052797",
   "metadata": {},
   "outputs": [
    {
     "name": "stdout",
     "output_type": "stream",
     "text": [
      "Namaste Alice\n"
     ]
    }
   ],
   "source": [
    "greet(\"Alice\", \"hi\")"
   ]
  },
  {
   "cell_type": "code",
   "execution_count": 185,
   "id": "1f682146-9625-41ca-b4df-c3ca514b95e9",
   "metadata": {},
   "outputs": [
    {
     "name": "stdout",
     "output_type": "stream",
     "text": [
      "Caiso Alice\n"
     ]
    }
   ],
   "source": [
    "greet(\"Alice\", \"it\")"
   ]
  },
  {
   "cell_type": "markdown",
   "id": "cc8e1070-a14d-48b2-8fa4-00a908f2733a",
   "metadata": {},
   "source": [
    "We can go one step further and move the translations into a text file."
   ]
  },
  {
   "cell_type": "code",
   "execution_count": 186,
   "id": "a9ff2936-e879-48f7-818b-8c159f4e154a",
   "metadata": {},
   "outputs": [
    {
     "name": "stdout",
     "output_type": "stream",
     "text": [
      "Writing greetings.txt\n"
     ]
    }
   ],
   "source": [
    "%%file greetings.txt\n",
    "en Hello\n",
    "hi Namaste\n",
    "kn Namaskara\n",
    "it Caiso"
   ]
  },
  {
   "cell_type": "code",
   "execution_count": 187,
   "id": "b53f11b3-9426-4bfd-b779-f51dd2e32409",
   "metadata": {},
   "outputs": [],
   "source": [
    "prefixes = {}\n",
    "for line in open(\"greetings.txt\"):\n",
    "    lang, prefix = line.strip().split()\n",
    "    prefixes[lang] = prefix"
   ]
  },
  {
   "cell_type": "code",
   "execution_count": 188,
   "id": "70d98c4d-118f-481a-b48f-33134fc3990b",
   "metadata": {},
   "outputs": [
    {
     "data": {
      "text/plain": [
       "{'en': 'Hello', 'hi': 'Namaste', 'kn': 'Namaskara', 'it': 'Caiso'}"
      ]
     },
     "execution_count": 188,
     "metadata": {},
     "output_type": "execute_result"
    }
   ],
   "source": [
    "prefixes"
   ]
  },
  {
   "cell_type": "code",
   "execution_count": 189,
   "id": "55ebde8e-e4ce-471e-afe7-349eea0b1525",
   "metadata": {},
   "outputs": [
    {
     "data": {
      "text/plain": [
       "{'x': 1, 'y': 2}"
      ]
     },
     "execution_count": 189,
     "metadata": {},
     "output_type": "execute_result"
    }
   ],
   "source": [
    "dict([(\"x\", 1), (\"y\", 2)])"
   ]
  },
  {
   "cell_type": "code",
   "execution_count": 190,
   "id": "46234596-8134-4e9b-8b31-3ee522a8cbd1",
   "metadata": {},
   "outputs": [
    {
     "data": {
      "text/plain": [
       "[['en', 'Hello'], ['hi', 'Namaste'], ['kn', 'Namaskara'], ['it', 'Caiso']]"
      ]
     },
     "execution_count": 190,
     "metadata": {},
     "output_type": "execute_result"
    }
   ],
   "source": [
    "[line.strip().split() for line in open(\"greetings.txt\")]"
   ]
  },
  {
   "cell_type": "code",
   "execution_count": 191,
   "id": "b4f8e733-176b-4d3a-94e4-1ca56957e4c3",
   "metadata": {},
   "outputs": [
    {
     "data": {
      "text/plain": [
       "{'en': 'Hello', 'hi': 'Namaste', 'kn': 'Namaskara', 'it': 'Caiso'}"
      ]
     },
     "execution_count": 191,
     "metadata": {},
     "output_type": "execute_result"
    }
   ],
   "source": [
    "dict([line.strip().split() for line in open(\"greetings.txt\")])"
   ]
  },
  {
   "cell_type": "code",
   "execution_count": 192,
   "id": "dab26265-dc32-443e-88c9-a94f82015724",
   "metadata": {},
   "outputs": [
    {
     "data": {
      "text/html": [
       "\n",
       "        <strong>Problem: Read Prices</strong>\n",
       "\n",
       "        <p><p>Write a function <code>read_prices</code> to read prices of items from a text file.</p>\n",
       "<p>The function will take path a filename as argument, parses the contents of the file and returns the prices of the items mentioned in the file as a dictionary.</p>\n",
       "<p>The file will have one row for each item containing the name of the item followed by the price. The price could have decimal component.</p>\n",
       "<p>For example, the following is a sample prices file.</p>\n",
       "<pre><code>$ cat files/prices.txt\n",
       "Apple 150.0\n",
       "Banana 12.0\n",
       "Carrot 75.5\n",
       "Guava 124.5\n",
       "</code></pre>\n",
       "<p>And here is expected output when <code>read_prices</code> is called with that file as argument.</p>\n",
       "<pre><code class=\"language-python\">&gt;&gt;&gt; read_prices(&quot;files/prices.txt&quot;)\n",
       "{&quot;Apple&quot;: 150.0, &quot;Banana&quot;: 12.0, &quot;Carrot&quot;: 75.5, &quot;Guava&quot;: 124.5}\n",
       "\n",
       "&gt;&gt;&gt; prices = read_prices(&quot;files/prices.txt&quot;)\n",
       "&gt;&gt;&gt; prices['Apple']\n",
       "150.0\n",
       "</code></pre>\n",
       "<p>You can assume that the item name will not have any spaces and the file is well formatted and there will not be any empty lines.</p>\n",
       "        </p>\n",
       "\n",
       "        <p>You can verify your solution using:\n",
       "        <pre>%verify_problem read-prices</pre>\n",
       "        </p>\n",
       "        "
      ],
      "text/plain": [
       "<Probem: read-prices>"
      ]
     },
     "metadata": {},
     "output_type": "display_data"
    }
   ],
   "source": [
    "%load_problem read-prices"
   ]
  },
  {
   "cell_type": "code",
   "execution_count": null,
   "id": "36636746-3129-42f6-918d-674241a35460",
   "metadata": {},
   "outputs": [],
   "source": [
    "# your code here\n",
    "\n",
    "\n",
    "\n"
   ]
  },
  {
   "cell_type": "markdown",
   "id": "46209f99-60e4-4bf3-9934-af70c1e67ea7",
   "metadata": {},
   "source": [
    "### Common operations on dictionaries"
   ]
  },
  {
   "cell_type": "code",
   "execution_count": 193,
   "id": "b060b73e-fedd-4adb-8001-e61041d0580c",
   "metadata": {},
   "outputs": [
    {
     "data": {
      "text/plain": [
       "{'alice': 1234, 'bob': 2345}"
      ]
     },
     "execution_count": 193,
     "metadata": {},
     "output_type": "execute_result"
    }
   ],
   "source": [
    "phone_numbers"
   ]
  },
  {
   "cell_type": "code",
   "execution_count": 194,
   "id": "ba8115bd-08a0-4649-88b1-f706b1bca860",
   "metadata": {},
   "outputs": [
    {
     "data": {
      "text/plain": [
       "True"
      ]
     },
     "execution_count": 194,
     "metadata": {},
     "output_type": "execute_result"
    }
   ],
   "source": [
    "\"alice\" in phone_numbers"
   ]
  },
  {
   "cell_type": "code",
   "execution_count": 195,
   "id": "f26334e5-908d-4951-817e-50aa16620dc1",
   "metadata": {},
   "outputs": [
    {
     "data": {
      "text/plain": [
       "False"
      ]
     },
     "execution_count": 195,
     "metadata": {},
     "output_type": "execute_result"
    }
   ],
   "source": [
    "\"dave\" in phone_numbers"
   ]
  },
  {
   "cell_type": "markdown",
   "id": "e9850d93-a5ab-4bf9-bdcd-1a62bec5a858",
   "metadata": {},
   "source": [
    "#### `get`"
   ]
  },
  {
   "cell_type": "markdown",
   "id": "0039407d-dd78-470c-a586-a9b6420d14aa",
   "metadata": {},
   "source": [
    "The `get` method takes two arguments, the key and a default value. If the key is present it return the corresponding value, if not returns the default value."
   ]
  },
  {
   "cell_type": "code",
   "execution_count": 196,
   "id": "38533feb-7613-427a-af6d-47f848d9bed6",
   "metadata": {},
   "outputs": [
    {
     "data": {
      "text/plain": [
       "1234"
      ]
     },
     "execution_count": 196,
     "metadata": {},
     "output_type": "execute_result"
    }
   ],
   "source": [
    "phone_numbers.get(\"alice\", \"-\")"
   ]
  },
  {
   "cell_type": "code",
   "execution_count": 197,
   "id": "b804856c-4493-4129-8a87-6cfe9d9cb136",
   "metadata": {},
   "outputs": [
    {
     "data": {
      "text/plain": [
       "'-'"
      ]
     },
     "execution_count": 197,
     "metadata": {},
     "output_type": "execute_result"
    }
   ],
   "source": [
    "phone_numbers.get(\"dave\", \"-\")"
   ]
  },
  {
   "cell_type": "code",
   "execution_count": 198,
   "id": "2bf6fbb4-5bd6-4bfa-bb28-06bd415622f2",
   "metadata": {},
   "outputs": [
    {
     "data": {
      "text/plain": [
       "{'alice': 1234, 'bob': 2345}"
      ]
     },
     "execution_count": 198,
     "metadata": {},
     "output_type": "execute_result"
    }
   ],
   "source": [
    "phone_numbers"
   ]
  },
  {
   "cell_type": "code",
   "execution_count": 199,
   "id": "5b6625d2-5824-41bd-8738-29ab9e51d811",
   "metadata": {},
   "outputs": [],
   "source": [
    "ph = phone_numbers.get(\"dave\")"
   ]
  },
  {
   "cell_type": "code",
   "execution_count": 200,
   "id": "8e45d49a-3da1-4812-86e8-616252e9a358",
   "metadata": {},
   "outputs": [
    {
     "name": "stdout",
     "output_type": "stream",
     "text": [
      "None\n"
     ]
    }
   ],
   "source": [
    "print(ph)"
   ]
  },
  {
   "cell_type": "code",
   "execution_count": 201,
   "id": "b742283e-9e30-4af3-9bc3-95067181ad38",
   "metadata": {},
   "outputs": [
    {
     "data": {
      "text/plain": [
       "'-'"
      ]
     },
     "execution_count": 201,
     "metadata": {},
     "output_type": "execute_result"
    }
   ],
   "source": [
    "phone_numbers.get(\"dave\") or \"-\""
   ]
  },
  {
   "cell_type": "markdown",
   "id": "772ac0ef-70ad-41f0-8f97-309d3d42a418",
   "metadata": {},
   "source": [
    "#### `setdefault`"
   ]
  },
  {
   "cell_type": "markdown",
   "id": "0ec99a78-eaa6-48f2-a036-02d9a7789581",
   "metadata": {},
   "source": [
    "The `setdefault` works like `get`, but also adds an entry to the dictionary."
   ]
  },
  {
   "cell_type": "code",
   "execution_count": 202,
   "id": "edb9c12d-da82-46cc-88ad-d5d0f38a25f2",
   "metadata": {},
   "outputs": [],
   "source": [
    "d = {\"x\": 1, \"y\": 2}"
   ]
  },
  {
   "cell_type": "code",
   "execution_count": 203,
   "id": "90b46210-1027-43cd-a898-ea82a825626a",
   "metadata": {},
   "outputs": [
    {
     "data": {
      "text/plain": [
       "1"
      ]
     },
     "execution_count": 203,
     "metadata": {},
     "output_type": "execute_result"
    }
   ],
   "source": [
    "d.setdefault(\"x\", 0)"
   ]
  },
  {
   "cell_type": "code",
   "execution_count": 204,
   "id": "c9c20949-2b3a-43c8-bb95-d6d5f7172c4a",
   "metadata": {},
   "outputs": [
    {
     "data": {
      "text/plain": [
       "{'x': 1, 'y': 2}"
      ]
     },
     "execution_count": 204,
     "metadata": {},
     "output_type": "execute_result"
    }
   ],
   "source": [
    "d"
   ]
  },
  {
   "cell_type": "code",
   "execution_count": 205,
   "id": "3ce4cb6d-68ce-4a68-8919-9b5cd8077e37",
   "metadata": {},
   "outputs": [
    {
     "data": {
      "text/plain": [
       "0"
      ]
     },
     "execution_count": 205,
     "metadata": {},
     "output_type": "execute_result"
    }
   ],
   "source": [
    "d.setdefault(\"z\", 0)"
   ]
  },
  {
   "cell_type": "code",
   "execution_count": 206,
   "id": "a93dbc0a-cb7f-40eb-b14e-2abf54cab496",
   "metadata": {},
   "outputs": [
    {
     "data": {
      "text/plain": [
       "{'x': 1, 'y': 2, 'z': 0}"
      ]
     },
     "execution_count": 206,
     "metadata": {},
     "output_type": "execute_result"
    }
   ],
   "source": [
    "d"
   ]
  },
  {
   "cell_type": "markdown",
   "id": "0df97d76-8e3b-40f9-b0ea-a06214f4a63f",
   "metadata": {},
   "source": [
    "#### `update`"
   ]
  },
  {
   "cell_type": "code",
   "execution_count": 208,
   "id": "f88ce518-a51f-4ae7-801d-68b8bd495c91",
   "metadata": {},
   "outputs": [],
   "source": [
    "d1 = {\"x\": 1, \"y\": 2}"
   ]
  },
  {
   "cell_type": "code",
   "execution_count": 209,
   "id": "081f182e-3700-4b4b-82bb-681a7aeab00a",
   "metadata": {},
   "outputs": [],
   "source": [
    "d2 = {\"x\": 11, \"z\": 3}"
   ]
  },
  {
   "cell_type": "code",
   "execution_count": 210,
   "id": "8623c298-678a-42e7-baaf-cc89933cb5c4",
   "metadata": {},
   "outputs": [],
   "source": [
    "d1.update(d2)"
   ]
  },
  {
   "cell_type": "code",
   "execution_count": 211,
   "id": "f79b7071-1705-4f9c-b16c-008baf3a0bb5",
   "metadata": {},
   "outputs": [
    {
     "data": {
      "text/plain": [
       "{'x': 11, 'y': 2, 'z': 3}"
      ]
     },
     "execution_count": 211,
     "metadata": {},
     "output_type": "execute_result"
    }
   ],
   "source": [
    "d1"
   ]
  },
  {
   "cell_type": "markdown",
   "id": "43a39db1-3b15-4235-b366-c318c5ca3199",
   "metadata": {},
   "source": [
    "### Iterating over dictionaries"
   ]
  },
  {
   "cell_type": "code",
   "execution_count": 212,
   "id": "5686dd45-85ed-4512-abe3-095bcc78a256",
   "metadata": {},
   "outputs": [],
   "source": [
    "d = {\"x\": 1, \"y\": 2, \"z\": 3}"
   ]
  },
  {
   "cell_type": "code",
   "execution_count": 213,
   "id": "a9782b4e-c7c5-412b-a720-370d33a776de",
   "metadata": {},
   "outputs": [
    {
     "data": {
      "text/plain": [
       "dict_keys(['x', 'y', 'z'])"
      ]
     },
     "execution_count": 213,
     "metadata": {},
     "output_type": "execute_result"
    }
   ],
   "source": [
    "d.keys()"
   ]
  },
  {
   "cell_type": "code",
   "execution_count": 214,
   "id": "b4e1bdce-605f-4087-ae17-2aef9a06cfe0",
   "metadata": {},
   "outputs": [
    {
     "data": {
      "text/plain": [
       "dict_values([1, 2, 3])"
      ]
     },
     "execution_count": 214,
     "metadata": {},
     "output_type": "execute_result"
    }
   ],
   "source": [
    "d.values()"
   ]
  },
  {
   "cell_type": "code",
   "execution_count": 215,
   "id": "b32ca6b6-46f1-4ee6-9de4-0ee33a8d243b",
   "metadata": {},
   "outputs": [
    {
     "data": {
      "text/plain": [
       "dict_items([('x', 1), ('y', 2), ('z', 3)])"
      ]
     },
     "execution_count": 215,
     "metadata": {},
     "output_type": "execute_result"
    }
   ],
   "source": [
    "d.items()"
   ]
  },
  {
   "cell_type": "markdown",
   "id": "cf567a0d-978d-4238-a481-a93441a63bee",
   "metadata": {},
   "source": [
    "#### Iterating over keys"
   ]
  },
  {
   "cell_type": "code",
   "execution_count": 217,
   "id": "eb3ef78f-4529-4225-acfd-f9943c253bf6",
   "metadata": {},
   "outputs": [
    {
     "name": "stdout",
     "output_type": "stream",
     "text": [
      "x\n",
      "y\n",
      "z\n"
     ]
    }
   ],
   "source": [
    "for k in d.keys():\n",
    "    print(k)"
   ]
  },
  {
   "cell_type": "code",
   "execution_count": 218,
   "id": "1cb1ccd7-882d-4034-86e6-a6bceaf161e7",
   "metadata": {},
   "outputs": [
    {
     "name": "stdout",
     "output_type": "stream",
     "text": [
      "x\n",
      "y\n",
      "z\n"
     ]
    }
   ],
   "source": [
    "for k in d:\n",
    "    print(k)"
   ]
  },
  {
   "cell_type": "code",
   "execution_count": 219,
   "id": "2562fd1c-dab9-40d0-b69b-25f8db4603b8",
   "metadata": {},
   "outputs": [
    {
     "data": {
      "text/plain": [
       "['X', 'Y', 'Z']"
      ]
     },
     "execution_count": 219,
     "metadata": {},
     "output_type": "execute_result"
    }
   ],
   "source": [
    "[k.upper() for k in d]"
   ]
  },
  {
   "cell_type": "code",
   "execution_count": 221,
   "id": "7a0e0083-ffb0-4220-b4cd-461de1d32b49",
   "metadata": {},
   "outputs": [
    {
     "name": "stdout",
     "output_type": "stream",
     "text": [
      "x 1\n",
      "y 2\n",
      "z 3\n"
     ]
    }
   ],
   "source": [
    "for k in d:\n",
    "    print(k, d[k])"
   ]
  },
  {
   "cell_type": "code",
   "execution_count": null,
   "id": "f499f4b0-7f87-4088-b39f-144c621a0827",
   "metadata": {},
   "outputs": [],
   "source": []
  },
  {
   "cell_type": "markdown",
   "id": "b65f9bbd-4838-4c82-9139-49f86c5c45f2",
   "metadata": {},
   "source": [
    "#### Iterating over values"
   ]
  },
  {
   "cell_type": "code",
   "execution_count": 220,
   "id": "8b579a49-adfb-4568-b92a-65fca6fd5812",
   "metadata": {},
   "outputs": [
    {
     "name": "stdout",
     "output_type": "stream",
     "text": [
      "1\n",
      "2\n",
      "3\n"
     ]
    }
   ],
   "source": [
    "for v in d.values():\n",
    "    print(v)"
   ]
  },
  {
   "cell_type": "markdown",
   "id": "e9be7efc-9fb1-44ef-ab2a-01112000f61e",
   "metadata": {},
   "source": [
    "Iterating over both keys and values together"
   ]
  },
  {
   "cell_type": "code",
   "execution_count": 222,
   "id": "aec8d8d4-ea81-4085-9d58-1f9a7675a3b4",
   "metadata": {},
   "outputs": [
    {
     "name": "stdout",
     "output_type": "stream",
     "text": [
      "x 1\n",
      "y 2\n",
      "z 3\n"
     ]
    }
   ],
   "source": [
    "for k, v in d.items():\n",
    "    print(k, v)"
   ]
  },
  {
   "cell_type": "markdown",
   "id": "5235eb67-8ee5-4ad3-be4a-bcda4a23feec",
   "metadata": {},
   "source": [
    "### Example: Marks of a student"
   ]
  },
  {
   "cell_type": "code",
   "execution_count": 223,
   "id": "6797d82b-2644-400e-981a-31f3eb3aee09",
   "metadata": {},
   "outputs": [],
   "source": [
    "marks = {\n",
    "    \"english\": 87,\n",
    "    \"science\": 78,\n",
    "    \"maths\": 68\n",
    "}"
   ]
  },
  {
   "cell_type": "code",
   "execution_count": 224,
   "id": "e7168fb2-c4dc-4a92-bbc1-9dce0deed37d",
   "metadata": {},
   "outputs": [
    {
     "data": {
      "text/plain": [
       "dict_items([('english', 87), ('science', 78), ('maths', 68)])"
      ]
     },
     "execution_count": 224,
     "metadata": {},
     "output_type": "execute_result"
    }
   ],
   "source": [
    "marks.items()"
   ]
  },
  {
   "cell_type": "code",
   "execution_count": 227,
   "id": "166fe80d-39fc-4620-b387-470f66e68a32",
   "metadata": {},
   "outputs": [
    {
     "name": "stdout",
     "output_type": "stream",
     "text": [
      "english 87\n",
      "science 78\n",
      "maths 68\n",
      "---\n",
      "Total 233\n"
     ]
    }
   ],
   "source": [
    "for subject, score in marks.items():\n",
    "    print(subject, score)\n",
    "print(\"---\")\n",
    "print(\"Total\", sum(marks.values())) # FIXME"
   ]
  },
  {
   "cell_type": "markdown",
   "id": "d8150438-4c6f-4ff5-a8ee-bcbff4de20bd",
   "metadata": {},
   "source": [
    "Which subject did the student score the maximum marks?"
   ]
  },
  {
   "cell_type": "code",
   "execution_count": 228,
   "id": "9454850c-279b-4ef7-bcdb-b82d430f979c",
   "metadata": {},
   "outputs": [
    {
     "data": {
      "text/plain": [
       "87"
      ]
     },
     "execution_count": 228,
     "metadata": {},
     "output_type": "execute_result"
    }
   ],
   "source": [
    "max(marks.values())"
   ]
  },
  {
   "cell_type": "code",
   "execution_count": 229,
   "id": "9051d115-c59e-4737-9ffa-594810d122ae",
   "metadata": {},
   "outputs": [
    {
     "data": {
      "text/plain": [
       "['english']"
      ]
     },
     "execution_count": 229,
     "metadata": {},
     "output_type": "execute_result"
    }
   ],
   "source": [
    "[subject for subject, score in marks.items() if score==max(marks.values())]"
   ]
  },
  {
   "cell_type": "code",
   "execution_count": 230,
   "id": "cb5a333e-f151-473f-ac13-56931574f643",
   "metadata": {},
   "outputs": [
    {
     "data": {
      "text/plain": [
       "'english'"
      ]
     },
     "execution_count": 230,
     "metadata": {},
     "output_type": "execute_result"
    }
   ],
   "source": [
    "def get_score(subject):\n",
    "    return marks[subject]\n",
    "    \n",
    "max(marks, key=get_score)"
   ]
  },
  {
   "cell_type": "code",
   "execution_count": 231,
   "id": "a61c6e96-9a11-43cd-9257-5a75d6702551",
   "metadata": {},
   "outputs": [
    {
     "data": {
      "text/plain": [
       "'english'"
      ]
     },
     "execution_count": 231,
     "metadata": {},
     "output_type": "execute_result"
    }
   ],
   "source": [
    "max(marks, key=marks.get)"
   ]
  },
  {
   "cell_type": "markdown",
   "id": "21c619d5-6d9b-4262-be36-cc3f738d1d85",
   "metadata": {},
   "source": [
    "## Sets"
   ]
  },
  {
   "cell_type": "markdown",
   "id": "92828ee1-562f-4b58-86d0-a36622db9380",
   "metadata": {},
   "source": [
    "Sets are unordered collection of elements."
   ]
  },
  {
   "cell_type": "code",
   "execution_count": 232,
   "id": "60b1d4f6-bad6-467b-b3ac-bb897fabdc62",
   "metadata": {},
   "outputs": [],
   "source": [
    "x = {1, 2, 3}"
   ]
  },
  {
   "cell_type": "code",
   "execution_count": 233,
   "id": "ce95c772-a7b5-40dd-bba5-ccd97d45f04c",
   "metadata": {},
   "outputs": [
    {
     "data": {
      "text/plain": [
       "True"
      ]
     },
     "execution_count": 233,
     "metadata": {},
     "output_type": "execute_result"
    }
   ],
   "source": [
    "1 in x"
   ]
  },
  {
   "cell_type": "code",
   "execution_count": 234,
   "id": "7f422eed-52aa-4fcc-ba55-781e420ef2dc",
   "metadata": {},
   "outputs": [
    {
     "data": {
      "text/plain": [
       "set"
      ]
     },
     "execution_count": 234,
     "metadata": {},
     "output_type": "execute_result"
    }
   ],
   "source": [
    "type(x)"
   ]
  },
  {
   "cell_type": "markdown",
   "id": "8fa05fc0-637e-4883-af9f-514449038a60",
   "metadata": {},
   "source": [
    "How to create an empty set?"
   ]
  },
  {
   "cell_type": "code",
   "execution_count": 235,
   "id": "46af03a4-b17e-4e3b-b43e-71400e30e92a",
   "metadata": {},
   "outputs": [],
   "source": [
    "x = set() # {} creates empty dictionary"
   ]
  },
  {
   "cell_type": "markdown",
   "id": "b74ab078-9d4e-42eb-b5ad-47b8c97a3550",
   "metadata": {},
   "source": [
    "How to find unique elements in a list?"
   ]
  },
  {
   "cell_type": "code",
   "execution_count": 237,
   "id": "27185768-c9d6-4772-9054-ed30658a99cf",
   "metadata": {},
   "outputs": [],
   "source": [
    "names = [\"a\", \"b\", \"d\", \"c\", \"a\"]"
   ]
  },
  {
   "cell_type": "markdown",
   "id": "4ca816d9-d87e-49a3-85e0-4d9a041474eb",
   "metadata": {},
   "source": [
    "let's try a naive approach first."
   ]
  },
  {
   "cell_type": "code",
   "execution_count": 238,
   "id": "88709cce-13cf-48a3-bcd7-9a01d7012c7e",
   "metadata": {},
   "outputs": [],
   "source": [
    "def unique(values):\n",
    "    result = []\n",
    "    for v in values:\n",
    "        if v not in result:\n",
    "            result.append(v)\n",
    "    return result"
   ]
  },
  {
   "cell_type": "code",
   "execution_count": 239,
   "id": "b1311fac-8004-486b-9d5e-b53281b2ba8e",
   "metadata": {},
   "outputs": [
    {
     "data": {
      "text/plain": [
       "['a', 'b', 'd', 'c']"
      ]
     },
     "execution_count": 239,
     "metadata": {},
     "output_type": "execute_result"
    }
   ],
   "source": [
    "unique(names)"
   ]
  },
  {
   "cell_type": "code",
   "execution_count": 243,
   "id": "e57c1901-5b5c-41ca-84d8-8713b0dcc8c4",
   "metadata": {},
   "outputs": [
    {
     "name": "stdout",
     "output_type": "stream",
     "text": [
      "CPU times: user 1.79 ms, sys: 0 ns, total: 1.79 ms\n",
      "Wall time: 1.8 ms\n"
     ]
    }
   ],
   "source": [
    "%time unique(range(1000));"
   ]
  },
  {
   "cell_type": "code",
   "execution_count": 244,
   "id": "39ffaca4-658f-4320-ae85-6bd3fa7df738",
   "metadata": {},
   "outputs": [
    {
     "name": "stdout",
     "output_type": "stream",
     "text": [
      "CPU times: user 182 ms, sys: 0 ns, total: 182 ms\n",
      "Wall time: 181 ms\n"
     ]
    }
   ],
   "source": [
    "%time unique(range(10000));"
   ]
  },
  {
   "cell_type": "code",
   "execution_count": 246,
   "id": "1acff535-6328-4328-afc7-d63a86aac575",
   "metadata": {},
   "outputs": [
    {
     "name": "stdout",
     "output_type": "stream",
     "text": [
      "CPU times: user 1.42 s, sys: 0 ns, total: 1.42 s\n",
      "Wall time: 1.47 s\n"
     ]
    }
   ],
   "source": [
    "%time unique(range(20000));"
   ]
  },
  {
   "cell_type": "code",
   "execution_count": 247,
   "id": "1b75b873-ec3b-4486-bc57-425ccbb40c0d",
   "metadata": {},
   "outputs": [
    {
     "name": "stdout",
     "output_type": "stream",
     "text": [
      "CPU times: user 3.61 s, sys: 0 ns, total: 3.61 s\n",
      "Wall time: 3.64 s\n"
     ]
    }
   ],
   "source": [
    "%time unique(range(40000));"
   ]
  },
  {
   "cell_type": "code",
   "execution_count": 248,
   "id": "0c11bd9c-96d7-416c-a6d4-3e3ca81df1dd",
   "metadata": {},
   "outputs": [
    {
     "name": "stdout",
     "output_type": "stream",
     "text": [
      "CPU times: user 18.9 s, sys: 0 ns, total: 18.9 s\n",
      "Wall time: 19.1 s\n"
     ]
    }
   ],
   "source": [
    "%time unique(range(80000));"
   ]
  },
  {
   "cell_type": "markdown",
   "id": "ff1845b8-e218-4134-b636-a0348a916fea",
   "metadata": {},
   "source": [
    "Let's try with sets and see the performance again."
   ]
  },
  {
   "cell_type": "code",
   "execution_count": 249,
   "id": "0b034b2e-6c65-46fb-8259-6fed52f83a8f",
   "metadata": {},
   "outputs": [],
   "source": [
    "def unique2(values):\n",
    "    return list(set(values))"
   ]
  },
  {
   "cell_type": "code",
   "execution_count": 252,
   "id": "0509d228-7c78-46ea-afad-e4aecd3f019e",
   "metadata": {},
   "outputs": [
    {
     "name": "stdout",
     "output_type": "stream",
     "text": [
      "CPU times: user 841 µs, sys: 0 ns, total: 841 µs\n",
      "Wall time: 853 µs\n"
     ]
    }
   ],
   "source": [
    "%time unique2(range(20000));"
   ]
  },
  {
   "cell_type": "code",
   "execution_count": 253,
   "id": "6f8a3a8a-f9d8-4b6a-b0fa-722f0fa9efc9",
   "metadata": {},
   "outputs": [
    {
     "name": "stdout",
     "output_type": "stream",
     "text": [
      "CPU times: user 819 µs, sys: 0 ns, total: 819 µs\n",
      "Wall time: 822 µs\n"
     ]
    }
   ],
   "source": [
    "%time unique2(range(40000));"
   ]
  },
  {
   "cell_type": "code",
   "execution_count": 254,
   "id": "c1be3467-d3f4-4f06-824a-4dab13bf5184",
   "metadata": {},
   "outputs": [
    {
     "name": "stdout",
     "output_type": "stream",
     "text": [
      "CPU times: user 4.7 ms, sys: 0 ns, total: 4.7 ms\n",
      "Wall time: 4.63 ms\n"
     ]
    }
   ],
   "source": [
    "%time unique2(range(80000));"
   ]
  },
  {
   "cell_type": "code",
   "execution_count": 258,
   "id": "d024b976-4ae4-4799-978f-0699096097bc",
   "metadata": {},
   "outputs": [
    {
     "name": "stdout",
     "output_type": "stream",
     "text": [
      "3.59 ms ± 219 µs per loop (mean ± std. dev. of 7 runs, 100 loops each)\n"
     ]
    }
   ],
   "source": [
    "%timeit unique2(range(100000));"
   ]
  },
  {
   "cell_type": "code",
   "execution_count": 259,
   "id": "36563434-e670-4d6e-9bf0-9686c0ffd784",
   "metadata": {},
   "outputs": [
    {
     "name": "stdout",
     "output_type": "stream",
     "text": [
      "8.14 ms ± 282 µs per loop (mean ± std. dev. of 7 runs, 100 loops each)\n"
     ]
    }
   ],
   "source": [
    "%timeit unique2(range(200000));"
   ]
  },
  {
   "cell_type": "code",
   "execution_count": 262,
   "id": "061dc045-f265-4bef-a41e-79112a904380",
   "metadata": {},
   "outputs": [
    {
     "name": "stdout",
     "output_type": "stream",
     "text": [
      "65.8 ms ± 3.55 ms per loop (mean ± std. dev. of 7 runs, 10 loops each)\n"
     ]
    }
   ],
   "source": [
    "%timeit unique2(range(1000000));"
   ]
  },
  {
   "cell_type": "markdown",
   "id": "7646019b-8067-45c4-a297-375ea9e5a472",
   "metadata": {},
   "source": [
    "The issue is checking an item is present in a list is expensive."
   ]
  },
  {
   "cell_type": "code",
   "execution_count": 268,
   "id": "056c70b8-1073-4abd-906b-4f013edfd8c7",
   "metadata": {},
   "outputs": [],
   "source": [
    "numbers = list(range(1000000))\n",
    "numbers_set = set(numbers)\n",
    "n = -1"
   ]
  },
  {
   "cell_type": "code",
   "execution_count": 269,
   "id": "f8ed667b-ae1e-4de0-a94a-974963d91230",
   "metadata": {},
   "outputs": [
    {
     "name": "stdout",
     "output_type": "stream",
     "text": [
      "3.57 ms ± 107 µs per loop (mean ± std. dev. of 7 runs, 100 loops each)\n"
     ]
    }
   ],
   "source": [
    "%timeit n in numbers"
   ]
  },
  {
   "cell_type": "code",
   "execution_count": 270,
   "id": "1c620e6c-7770-4b57-b200-9eef71e865c3",
   "metadata": {},
   "outputs": [
    {
     "name": "stdout",
     "output_type": "stream",
     "text": [
      "30.1 ns ± 1.41 ns per loop (mean ± std. dev. of 7 runs, 10,000,000 loops each)\n"
     ]
    }
   ],
   "source": [
    "%timeit n in numbers_set"
   ]
  },
  {
   "cell_type": "markdown",
   "id": "20123bed-0800-4472-b421-de62cba484d3",
   "metadata": {},
   "source": [
    "#### Dictionary & Set Comprehensions"
   ]
  },
  {
   "cell_type": "code",
   "execution_count": 272,
   "id": "0e9ea8d8-6f1a-42d5-9cb2-e7d010842ff2",
   "metadata": {},
   "outputs": [
    {
     "data": {
      "text/plain": [
       "{'add.py': 19,\n",
       " 'ls.py': 61,\n",
       " '.ipynb_checkpoints': 4096,\n",
       " 'sq.py': 69,\n",
       " 'sentences.txt': 101,\n",
       " 'day1.ipynb': 85466,\n",
       " 'three.txt': 14,\n",
       " 'echo.py': 67,\n",
       " 'args.py': 28,\n",
       " 'day2_files': 4096,\n",
       " 'day2.ipynb': 97806,\n",
       " 'greetings.txt': 42}"
      ]
     },
     "execution_count": 272,
     "metadata": {},
     "output_type": "execute_result"
    }
   ],
   "source": [
    "{f: os.path.getsize(f) for f in os.listdir()}"
   ]
  },
  {
   "cell_type": "code",
   "execution_count": 273,
   "id": "8c0d6cfb-2dbe-4666-99d9-babaf359a359",
   "metadata": {},
   "outputs": [
    {
     "data": {
      "text/plain": [
       "{'ipynb', 'ipynb_checkpoints', 'py', 'txt'}"
      ]
     },
     "execution_count": 273,
     "metadata": {},
     "output_type": "execute_result"
    }
   ],
   "source": [
    "{f.split(\".\")[1] for f in os.listdir() if \".\" in f}"
   ]
  },
  {
   "cell_type": "code",
   "execution_count": 274,
   "id": "f8f09da2-79b6-4eb5-a1d2-796cb0494328",
   "metadata": {},
   "outputs": [
    {
     "data": {
      "text/plain": [
       "['py',\n",
       " 'py',\n",
       " 'ipynb_checkpoints',\n",
       " 'py',\n",
       " 'txt',\n",
       " 'ipynb',\n",
       " 'txt',\n",
       " 'py',\n",
       " 'py',\n",
       " 'ipynb',\n",
       " 'txt']"
      ]
     },
     "execution_count": 274,
     "metadata": {},
     "output_type": "execute_result"
    }
   ],
   "source": [
    "[f.split(\".\")[1] for f in os.listdir() if \".\" in f]"
   ]
  },
  {
   "cell_type": "code",
   "execution_count": 275,
   "id": "5179f34e-15ec-46f4-ac06-d2bab1f32178",
   "metadata": {},
   "outputs": [
    {
     "data": {
      "text/plain": [
       "{'ipynb', 'ipynb_checkpoints', 'py', 'txt'}"
      ]
     },
     "execution_count": 275,
     "metadata": {},
     "output_type": "execute_result"
    }
   ],
   "source": [
    "set([f.split(\".\")[1] for f in os.listdir() if \".\" in f])"
   ]
  },
  {
   "cell_type": "markdown",
   "id": "58e823f8-d728-4243-8fba-fc7c0a4285ca",
   "metadata": {},
   "source": [
    "## Writing Professional Command-line Applications"
   ]
  },
  {
   "cell_type": "code",
   "execution_count": 277,
   "id": "ba87a7ce-7c3b-460b-970e-f75ff42c1226",
   "metadata": {},
   "outputs": [
    {
     "name": "stdout",
     "output_type": "stream",
     "text": [
      "one\n",
      "one two\n",
      "one two three\n",
      "one two three four\n",
      "one two three four five\n",
      "two three four five\n",
      "three four five\n",
      "four five\n",
      "five\n",
      "one-two-three-four-five-six-seven\n"
     ]
    }
   ],
   "source": [
    "!cat files/words.txt"
   ]
  },
  {
   "cell_type": "code",
   "execution_count": 276,
   "id": "1b128a06-adb4-4465-9d93-aeb03c942ede",
   "metadata": {},
   "outputs": [
    {
     "name": "stdout",
     "output_type": "stream",
     "text": [
      " 10  26 154 files/words.txt\n"
     ]
    }
   ],
   "source": [
    "!wc files/words.txt"
   ]
  },
  {
   "cell_type": "code",
   "execution_count": 278,
   "id": "817de90a-a7d1-407b-9737-122c4843891a",
   "metadata": {},
   "outputs": [
    {
     "name": "stdout",
     "output_type": "stream",
     "text": [
      "10 files/words.txt\n"
     ]
    }
   ],
   "source": [
    "!wc -l files/words.txt"
   ]
  },
  {
   "cell_type": "code",
   "execution_count": 279,
   "id": "c5cb5b33-5f1c-44d5-b27d-000c35226de1",
   "metadata": {},
   "outputs": [
    {
     "name": "stdout",
     "output_type": "stream",
     "text": [
      "Usage: wc [OPTION]... [FILE]...\n",
      "  or:  wc [OPTION]... --files0-from=F\n",
      "Print newline, word, and byte counts for each FILE, and a total line if\n",
      "more than one FILE is specified.  A word is a non-zero-length sequence of\n",
      "printable characters delimited by white space.\n",
      "\n",
      "With no FILE, or when FILE is -, read standard input.\n",
      "\n",
      "The options below may be used to select which counts are printed, always in\n",
      "the following order: newline, word, character, byte, maximum line length.\n",
      "  -c, --bytes            print the byte counts\n",
      "  -m, --chars            print the character counts\n",
      "  -l, --lines            print the newline counts\n",
      "      --files0-from=F    read input from the files specified by\n",
      "                           NUL-terminated names in file F;\n",
      "                           If F is - then read names from standard input\n",
      "  -L, --max-line-length  print the maximum display width\n",
      "  -w, --words            print the word counts\n",
      "      --total=WHEN       when to print a line with total counts;\n",
      "                           WHEN can be: auto, always, only, never\n",
      "      --help        display this help and exit\n",
      "      --version     output version information and exit\n",
      "\n",
      "GNU coreutils online help: <https://www.gnu.org/software/coreutils/>\n",
      "Full documentation <https://www.gnu.org/software/coreutils/wc>\n",
      "or available locally via: info '(coreutils) wc invocation'\n"
     ]
    }
   ],
   "source": [
    "!wc --help"
   ]
  },
  {
   "cell_type": "markdown",
   "id": "8adde44c-daac-4950-80fe-c540ee22a8cb",
   "metadata": {},
   "source": [
    "### Example: hello.py"
   ]
  },
  {
   "cell_type": "markdown",
   "id": "6e815bc9-1d07-4d40-92b7-d46c2b64948b",
   "metadata": {},
   "source": [
    "Let's write a simple program that says hello given a name."
   ]
  },
  {
   "cell_type": "code",
   "execution_count": 285,
   "id": "7ff09107-6252-4a43-8691-30ed6bf14dac",
   "metadata": {},
   "outputs": [
    {
     "name": "stdout",
     "output_type": "stream",
     "text": [
      "Overwriting hello.py\n"
     ]
    }
   ],
   "source": [
    "%%file hello.py\n",
    "import argparse\n",
    "\n",
    "p = argparse.ArgumentParser()\n",
    "p.add_argument(\"name\", help=\"name to greet\")\n",
    "p.add_argument(\"-r\", \"--repeats\", type=int, default=1,\n",
    "               help=\"number of times to repeat the message\")\n",
    "\n",
    "args = p.parse_args()\n",
    "print(args)\n",
    "\n",
    "for i in range(args.repeats):\n",
    "    print(\"Hello\", args.name)"
   ]
  },
  {
   "cell_type": "code",
   "execution_count": 286,
   "id": "732f8920-2ae4-4be1-bb86-7e52376670aa",
   "metadata": {},
   "outputs": [
    {
     "name": "stdout",
     "output_type": "stream",
     "text": [
      "Namespace(name='Alice', repeats=1)\n",
      "Hello Alice\n"
     ]
    }
   ],
   "source": [
    "!python hello.py Alice"
   ]
  },
  {
   "cell_type": "code",
   "execution_count": 287,
   "id": "71fc2d25-adce-4367-8fae-c05b48679b74",
   "metadata": {},
   "outputs": [
    {
     "name": "stdout",
     "output_type": "stream",
     "text": [
      "usage: hello.py [-h] [-r REPEATS] name\n",
      "hello.py: error: the following arguments are required: name\n"
     ]
    }
   ],
   "source": [
    "!python hello.py"
   ]
  },
  {
   "cell_type": "code",
   "execution_count": 288,
   "id": "92639a0b-6b84-43be-8d79-ed9698f4ca4d",
   "metadata": {},
   "outputs": [
    {
     "name": "stdout",
     "output_type": "stream",
     "text": [
      "usage: hello.py [-h] [-r REPEATS] name\n",
      "\n",
      "positional arguments:\n",
      "  name                  name to greet\n",
      "\n",
      "options:\n",
      "  -h, --help            show this help message and exit\n",
      "  -r REPEATS, --repeats REPEATS\n",
      "                        number of times to repeat the message\n"
     ]
    }
   ],
   "source": [
    "!python hello.py --help"
   ]
  },
  {
   "cell_type": "code",
   "execution_count": 289,
   "id": "1c2eceb6-0f15-4818-b372-392fbaac5ede",
   "metadata": {},
   "outputs": [
    {
     "name": "stdout",
     "output_type": "stream",
     "text": [
      "Namespace(name='Alice', repeats=3)\n",
      "Hello Alice\n",
      "Hello Alice\n",
      "Hello Alice\n"
     ]
    }
   ],
   "source": [
    "!python hello.py -r 3 Alice"
   ]
  },
  {
   "cell_type": "code",
   "execution_count": 290,
   "id": "02b57af8-51ed-4227-b109-33eb54f5ea3f",
   "metadata": {},
   "outputs": [
    {
     "data": {
      "text/html": [
       "\n",
       "        <strong>Problem: Skip lines in a file</strong>\n",
       "\n",
       "        <p><p>Write a program <code>skip.py</code> to print the contents of a file after skipping the first few lines.</p>\n",
       "<p>The program takes an optional flag <code>-n</code> to indicate the number of lines to skip, which is considered as 5 when not specified.</p>\n",
       "<p>The program takes a filename as argument and prints the contents of this file after skipping the number of lines specified by <code>-n</code>.</p>\n",
       "<pre><code>$ python skip.py files/ten.txt\n",
       "6\n",
       "7\n",
       "8\n",
       "9\n",
       "10\n",
       "\n",
       "$ python skip.py -n 8 files/ten.txt\n",
       "9\n",
       "10\n",
       "</code></pre>\n",
       "<p>Hint: Use <code>argparse</code> module.</p>\n",
       "        </p>\n",
       "\n",
       "        <p>You can verify your solution using:\n",
       "        <pre>%verify_problem skip-cmd</pre>\n",
       "        </p>\n",
       "        "
      ],
      "text/plain": [
       "<Probem: skip-cmd>"
      ]
     },
     "metadata": {},
     "output_type": "display_data"
    }
   ],
   "source": [
    "%load_problem skip-cmd"
   ]
  },
  {
   "cell_type": "code",
   "execution_count": 311,
   "id": "f8801a4c-5bd6-4f97-b0e6-c73ee0802954",
   "metadata": {},
   "outputs": [
    {
     "name": "stdout",
     "output_type": "stream",
     "text": [
      "Overwriting skip.py\n"
     ]
    }
   ],
   "source": [
    "%%file skip.py\n",
    "import argparse\n",
    "p = argparse.ArgumentParser()\n",
    "p.add_argument(\"filename\", help=\"name of the file to read\")\n",
    "p.add_argument(\"-n\", type=int, default=5, \n",
    "               help=\"number of lines to skip\")\n",
    "args = p.parse_args()\n",
    "# print(args)\n",
    "\n",
    "lines = open(args.filename).readlines()\n",
    "lines = lines[args.n:]\n",
    "# print(lines)\n",
    "for line in lines:\n",
    "    print(line, end=\"\")\n"
   ]
  },
  {
   "cell_type": "code",
   "execution_count": 312,
   "id": "85ec98e3-740a-436f-a50d-b8c5dae92fa7",
   "metadata": {},
   "outputs": [
    {
     "name": "stdout",
     "output_type": "stream",
     "text": [
      "4\n",
      "5\n",
      "6\n",
      "7\n",
      "8\n",
      "9\n",
      "10\n"
     ]
    }
   ],
   "source": [
    "!python skip.py -n 3 files/ten.txt "
   ]
  },
  {
   "cell_type": "code",
   "execution_count": 313,
   "id": "954ce5ea-7779-4d2c-97d2-58c0fc9132da",
   "metadata": {},
   "outputs": [
    {
     "name": "stdout",
     "output_type": "stream",
     "text": [
      "usage: skip.py [-h] [-n N] filename\n",
      "\n",
      "positional arguments:\n",
      "  filename    name of the file to read\n",
      "\n",
      "options:\n",
      "  -h, --help  show this help message and exit\n",
      "  -n N        number of lines to skip\n"
     ]
    }
   ],
   "source": [
    "!python skip.py --help"
   ]
  },
  {
   "cell_type": "code",
   "execution_count": 314,
   "id": "6495e32d-f90a-42a8-adc9-ae462b6d4b31",
   "metadata": {},
   "outputs": [
    {
     "name": "stdout",
     "output_type": "stream",
     "text": [
      "✓ python skip.py /opt/files/ten.txt\n",
      "✓ python skip.py -n 8 /opt/files/ten.txt\n",
      "✓ python skip.py -n 2 /opt/files/abcd.txt\n",
      "🎉 Congratulations! You have successfully solved problem skip-cmd!!\n"
     ]
    }
   ],
   "source": [
    "%verify_problem skip-cmd"
   ]
  },
  {
   "cell_type": "markdown",
   "id": "9fa5a6ff-2292-4b35-be0e-fe404a783e27",
   "metadata": {},
   "source": [
    "#### Boolean Flags"
   ]
  },
  {
   "cell_type": "markdown",
   "id": "0fe99c6c-dd83-4459-bd70-6b5321f1a682",
   "metadata": {},
   "source": [
    "The common flags take an argument. But there are some flags which don't need any argument."
   ]
  },
  {
   "cell_type": "code",
   "execution_count": 315,
   "id": "b76e224c-f84b-448e-998d-1c0fa7cf93ee",
   "metadata": {},
   "outputs": [
    {
     "name": "stdout",
     "output_type": "stream",
     "text": [
      "1\n",
      "2\n",
      "3\n",
      "4\n",
      "5\n"
     ]
    }
   ],
   "source": [
    "!head -n 5 files/ten.txt"
   ]
  },
  {
   "cell_type": "code",
   "execution_count": 316,
   "id": "b765a14a-5a53-4182-a522-f72b09f436e7",
   "metadata": {},
   "outputs": [
    {
     "name": "stdout",
     "output_type": "stream",
     "text": [
      "10 files/ten.txt\n"
     ]
    }
   ],
   "source": [
    "!wc -l files/ten.txt"
   ]
  },
  {
   "cell_type": "markdown",
   "id": "63b952f0-ba70-4b83-8e5d-0172b2995e31",
   "metadata": {},
   "source": [
    "Let's add a boolean flag `-u` or `--uppercase` to convert the message into upper case."
   ]
  },
  {
   "cell_type": "code",
   "execution_count": 322,
   "id": "268d1af8-6962-4baa-8dd9-b02e7f636dba",
   "metadata": {},
   "outputs": [
    {
     "name": "stdout",
     "output_type": "stream",
     "text": [
      "Overwriting hello2.py\n"
     ]
    }
   ],
   "source": [
    "%%file hello2.py\n",
    "import argparse\n",
    "\n",
    "p = argparse.ArgumentParser()\n",
    "p.add_argument(\"name\", help=\"name to greet\")\n",
    "p.add_argument(\"-r\", \"--repeats\", type=int, default=1,\n",
    "               help=\"number of times to repeat the message\")\n",
    "p.add_argument(\"-u\", \"--uppercase\", action=\"store_true\", \n",
    "               default=False,\n",
    "               help=\"display the message in uppercase\")\n",
    "\n",
    "args = p.parse_args()\n",
    "print(args)\n",
    "\n",
    "msg = \"Hello \" + args.name\n",
    "\n",
    "if args.uppercase:\n",
    "    msg = msg.upper()\n",
    "\n",
    "for i in range(args.repeats):\n",
    "    print(msg)"
   ]
  },
  {
   "cell_type": "code",
   "execution_count": 323,
   "id": "aa7c1f31-6eb1-4478-8ec8-b3f17b37c625",
   "metadata": {},
   "outputs": [
    {
     "name": "stdout",
     "output_type": "stream",
     "text": [
      "usage: hello2.py [-h] [-r REPEATS] [-u] name\n",
      "\n",
      "positional arguments:\n",
      "  name                  name to greet\n",
      "\n",
      "options:\n",
      "  -h, --help            show this help message and exit\n",
      "  -r REPEATS, --repeats REPEATS\n",
      "                        number of times to repeat the message\n",
      "  -u, --uppercase       display the message in uppercase\n"
     ]
    }
   ],
   "source": [
    "!python hello2.py --help"
   ]
  },
  {
   "cell_type": "code",
   "execution_count": 325,
   "id": "f9966b01-7eae-4e59-8b82-a673ae069820",
   "metadata": {},
   "outputs": [
    {
     "name": "stdout",
     "output_type": "stream",
     "text": [
      "Namespace(name='Alice', repeats=3, uppercase=True)\n",
      "HELLO ALICE\n",
      "HELLO ALICE\n",
      "HELLO ALICE\n"
     ]
    }
   ],
   "source": [
    "!python hello2.py Alice -r 3 --uppercase"
   ]
  },
  {
   "cell_type": "markdown",
   "id": "0a6a323a-8244-4366-983f-94591bb04498",
   "metadata": {},
   "source": [
    "## Working with Files"
   ]
  },
  {
   "cell_type": "markdown",
   "id": "f4887f11-85ad-4c0f-a6ef-a78319739b12",
   "metadata": {},
   "source": [
    "We have already seen how to read files."
   ]
  },
  {
   "cell_type": "code",
   "execution_count": 326,
   "id": "50e36543-3613-4f52-ba9d-2458739f76ff",
   "metadata": {},
   "outputs": [
    {
     "name": "stdout",
     "output_type": "stream",
     "text": [
      "one\n",
      "two\n",
      "three\n"
     ]
    }
   ],
   "source": [
    "!cat files/three.txt"
   ]
  },
  {
   "cell_type": "code",
   "execution_count": 327,
   "id": "786ba018-8aeb-4b1c-8747-a364636fc2c4",
   "metadata": {},
   "outputs": [
    {
     "data": {
      "text/plain": [
       "'one\\ntwo\\nthree\\n'"
      ]
     },
     "execution_count": 327,
     "metadata": {},
     "output_type": "execute_result"
    }
   ],
   "source": [
    "open(\"files/three.txt\").read()"
   ]
  },
  {
   "cell_type": "code",
   "execution_count": 328,
   "id": "fe81ed0d-0a3c-4e63-8329-fe1ee072a208",
   "metadata": {},
   "outputs": [
    {
     "data": {
      "text/plain": [
       "['one\\n', 'two\\n', 'three\\n']"
      ]
     },
     "execution_count": 328,
     "metadata": {},
     "output_type": "execute_result"
    }
   ],
   "source": [
    "open(\"files/three.txt\").readlines()"
   ]
  },
  {
   "cell_type": "markdown",
   "id": "2e1c66eb-b1f1-45b1-a258-125cbe9fa1dd",
   "metadata": {},
   "source": [
    "### Writing to a File"
   ]
  },
  {
   "cell_type": "markdown",
   "id": "571bfee0-85c2-45b7-9312-d428b3f5b7b0",
   "metadata": {},
   "source": [
    "To write to a file, we need to open it in write mode."
   ]
  },
  {
   "cell_type": "code",
   "execution_count": 329,
   "id": "4f8e77d2-b576-44c8-a24c-d7c98c6178d0",
   "metadata": {},
   "outputs": [],
   "source": [
    "f = open(\"a.txt\", \"w\")\n",
    "f.write(\"one\\n\")\n",
    "f.write(\"two\\n\")\n",
    "f.close()"
   ]
  },
  {
   "cell_type": "code",
   "execution_count": 330,
   "id": "21514618-63f3-432d-8944-646a5cd1a729",
   "metadata": {},
   "outputs": [
    {
     "data": {
      "text/plain": [
       "'one\\ntwo\\n'"
      ]
     },
     "execution_count": 330,
     "metadata": {},
     "output_type": "execute_result"
    }
   ],
   "source": [
    "open(\"a.txt\").read()"
   ]
  },
  {
   "cell_type": "markdown",
   "id": "098e716a-6ae1-4e99-9018-1938778ab574",
   "metadata": {},
   "source": [
    "It is important to close a file after writing. Only after closing the file, the contents are flushed to the disk."
   ]
  },
  {
   "cell_type": "code",
   "execution_count": 335,
   "id": "e6331606-52a9-4f71-b6a1-8d36a64b14fb",
   "metadata": {},
   "outputs": [
    {
     "name": "stdout",
     "output_type": "stream",
     "text": [
      "-rw-r--r-- 1 jupyter-anand jupyter-anand 8 May 14 11:19 a.txt\n"
     ]
    }
   ],
   "source": [
    "!ls -l a.txt"
   ]
  },
  {
   "cell_type": "code",
   "execution_count": 336,
   "id": "030a8586-9214-4ac5-8987-de08d026dbb9",
   "metadata": {},
   "outputs": [],
   "source": [
    "f = open(\"a.txt\", \"w\")"
   ]
  },
  {
   "cell_type": "code",
   "execution_count": 337,
   "id": "ef7013f5-713b-4f8f-a186-693c67e5410b",
   "metadata": {},
   "outputs": [
    {
     "name": "stdout",
     "output_type": "stream",
     "text": [
      "-rw-r--r-- 1 jupyter-anand jupyter-anand 0 May 14 11:20 a.txt\n"
     ]
    }
   ],
   "source": [
    "!ls -l a.txt"
   ]
  },
  {
   "cell_type": "code",
   "execution_count": 338,
   "id": "22b63973-4ad7-4140-ba52-16e9e4b83c4f",
   "metadata": {},
   "outputs": [
    {
     "data": {
      "text/plain": [
       "4"
      ]
     },
     "execution_count": 338,
     "metadata": {},
     "output_type": "execute_result"
    }
   ],
   "source": [
    "f.write(\"one\\n\")\n",
    "f.write(\"two\\n\")"
   ]
  },
  {
   "cell_type": "code",
   "execution_count": 339,
   "id": "467b69c6-586d-4585-ada5-dd99357de0a2",
   "metadata": {},
   "outputs": [
    {
     "name": "stdout",
     "output_type": "stream",
     "text": [
      "-rw-r--r-- 1 jupyter-anand jupyter-anand 0 May 14 11:20 a.txt\n"
     ]
    }
   ],
   "source": [
    "!ls -l a.txt"
   ]
  },
  {
   "cell_type": "code",
   "execution_count": 340,
   "id": "46413088-7437-4183-bb19-00ec8b7b7916",
   "metadata": {},
   "outputs": [],
   "source": [
    "f.close()"
   ]
  },
  {
   "cell_type": "code",
   "execution_count": 341,
   "id": "d9c53874-e329-436d-b063-29e2b83fa0d0",
   "metadata": {},
   "outputs": [
    {
     "name": "stdout",
     "output_type": "stream",
     "text": [
      "-rw-r--r-- 1 jupyter-anand jupyter-anand 8 May 14 11:20 a.txt\n"
     ]
    }
   ],
   "source": [
    "!ls -l a.txt"
   ]
  },
  {
   "cell_type": "markdown",
   "id": "83b47b2c-84e6-4dc9-9a6e-dfc4f89f177b",
   "metadata": {},
   "source": [
    "#### Appending to a file"
   ]
  },
  {
   "cell_type": "markdown",
   "id": "a6ddca84-df21-47ec-8934-b3ce46765485",
   "metadata": {},
   "source": [
    "To append to an existing file, we need to open it in append (`a`) mode."
   ]
  },
  {
   "cell_type": "code",
   "execution_count": 342,
   "id": "7c2492bf-37d9-48df-b2a9-ecf8f46795ea",
   "metadata": {},
   "outputs": [],
   "source": [
    "f = open(\"a.txt\", \"a\")\n",
    "f.write(\"three\\n\")\n",
    "f.write(\"four\\n\")\n",
    "f.close()"
   ]
  },
  {
   "cell_type": "code",
   "execution_count": 343,
   "id": "793cbaf7-ab08-41a2-83c6-43a5d395b431",
   "metadata": {},
   "outputs": [
    {
     "name": "stdout",
     "output_type": "stream",
     "text": [
      "one\n",
      "two\n",
      "three\n",
      "four\n"
     ]
    }
   ],
   "source": [
    "!cat a.txt"
   ]
  },
  {
   "cell_type": "markdown",
   "id": "26253f02-2d61-47c9-8401-6308899f1741",
   "metadata": {},
   "source": [
    "### The `with` statement"
   ]
  },
  {
   "cell_type": "code",
   "execution_count": 350,
   "id": "634e2bf7-fcab-4eeb-b3f7-792957b2acbf",
   "metadata": {},
   "outputs": [],
   "source": [
    "with open(\"a.txt\", \"w\") as f:\n",
    "    f.write(\"one\\n\")\n",
    "    f.write(\"two\\n\")\n",
    "# f gets closed automatically"
   ]
  },
  {
   "cell_type": "code",
   "execution_count": 351,
   "id": "621d07f4-b185-4544-ad99-c7edcf4c9b33",
   "metadata": {},
   "outputs": [
    {
     "data": {
      "text/plain": [
       "'one\\ntwo\\n'"
      ]
     },
     "execution_count": 351,
     "metadata": {},
     "output_type": "execute_result"
    }
   ],
   "source": [
    "open(\"a.txt\").read()"
   ]
  },
  {
   "cell_type": "code",
   "execution_count": null,
   "id": "b8a14e75-d8eb-4fd4-ba38-74e992868997",
   "metadata": {},
   "outputs": [],
   "source": []
  },
  {
   "cell_type": "code",
   "execution_count": null,
   "id": "43b5dc70-c459-4137-a36a-5660e3d3ab20",
   "metadata": {},
   "outputs": [],
   "source": []
  },
  {
   "cell_type": "code",
   "execution_count": null,
   "id": "380ad815-8710-436e-b9bd-1ace251ab03c",
   "metadata": {},
   "outputs": [],
   "source": []
  },
  {
   "cell_type": "markdown",
   "id": "e29e5377-ea6a-447f-8925-829aa4d9aac1",
   "metadata": {},
   "source": [
    "#### Binary Data and Binary files"
   ]
  },
  {
   "cell_type": "markdown",
   "id": "5cad1970-c2c1-4891-a989-0e15241e85d8",
   "metadata": {},
   "source": [
    "Just like strings, Python has `bytes` type."
   ]
  },
  {
   "cell_type": "code",
   "execution_count": 344,
   "id": "4cd24913-057d-4055-9104-580c9dafed7d",
   "metadata": {},
   "outputs": [],
   "source": [
    "a = \"hello\""
   ]
  },
  {
   "cell_type": "code",
   "execution_count": 345,
   "id": "1b350e5f-b6bf-4a4d-8d79-aa2765ec42a6",
   "metadata": {},
   "outputs": [
    {
     "data": {
      "text/plain": [
       "str"
      ]
     },
     "execution_count": 345,
     "metadata": {},
     "output_type": "execute_result"
    }
   ],
   "source": [
    "type(a)"
   ]
  },
  {
   "cell_type": "code",
   "execution_count": 346,
   "id": "db912767-81bf-4571-8fc9-bcb3c121de04",
   "metadata": {},
   "outputs": [],
   "source": [
    "b = b\"hello\""
   ]
  },
  {
   "cell_type": "code",
   "execution_count": 347,
   "id": "85c4e2e7-7b6b-444b-96b0-6aaee3e8484b",
   "metadata": {},
   "outputs": [
    {
     "data": {
      "text/plain": [
       "bytes"
      ]
     },
     "execution_count": 347,
     "metadata": {},
     "output_type": "execute_result"
    }
   ],
   "source": [
    "type(b)"
   ]
  },
  {
   "cell_type": "code",
   "execution_count": 348,
   "id": "5a75200f-214c-4000-8fb7-09a0292cd67e",
   "metadata": {},
   "outputs": [],
   "source": [
    "data = b\"hello\\x01\\x02\\x03\""
   ]
  },
  {
   "cell_type": "code",
   "execution_count": 349,
   "id": "012330fa-badd-40c5-beed-af8a9b13ffaf",
   "metadata": {},
   "outputs": [
    {
     "data": {
      "text/plain": [
       "104"
      ]
     },
     "execution_count": 349,
     "metadata": {},
     "output_type": "execute_result"
    }
   ],
   "source": [
    "data[0]"
   ]
  },
  {
   "cell_type": "code",
   "execution_count": 353,
   "id": "9f65e763-735b-44d4-938f-3232fcc7534f",
   "metadata": {},
   "outputs": [],
   "source": [
    "with open(\"data.bin\", \"wb\") as f:\n",
    "    f.write(data)"
   ]
  },
  {
   "cell_type": "code",
   "execution_count": 354,
   "id": "e95c5ac1-a105-425a-9289-cdca6cad01c7",
   "metadata": {},
   "outputs": [
    {
     "name": "stdout",
     "output_type": "stream",
     "text": [
      "-rw-r--r-- 1 jupyter-anand jupyter-anand 8 May 14 11:26 data.bin\n"
     ]
    }
   ],
   "source": [
    "!ls -l data.bin"
   ]
  },
  {
   "cell_type": "code",
   "execution_count": 359,
   "id": "896d2b52-cb9f-4439-87f4-4f0d49c29884",
   "metadata": {},
   "outputs": [
    {
     "data": {
      "text/plain": [
       "b'hello\\x01\\x02\\x03'"
      ]
     },
     "execution_count": 359,
     "metadata": {},
     "output_type": "execute_result"
    }
   ],
   "source": [
    "open(\"data.bin\", \"rb\").read()"
   ]
  },
  {
   "cell_type": "code",
   "execution_count": 360,
   "id": "434a2fbf-000d-448d-819e-5c41ba247ad4",
   "metadata": {},
   "outputs": [
    {
     "name": "stdout",
     "output_type": "stream",
     "text": [
      "-rw-rw-r-- 1 jupyter-anand jupyter-anand 11155 Nov 15 11:11 files/python.png\n"
     ]
    }
   ],
   "source": [
    "!ls -l files/python.png"
   ]
  },
  {
   "cell_type": "code",
   "execution_count": 361,
   "id": "cc9df04a-c6c2-4d02-a402-b125d3928bad",
   "metadata": {},
   "outputs": [
    {
     "ename": "UnicodeDecodeError",
     "evalue": "'utf-8' codec can't decode byte 0x89 in position 0: invalid start byte",
     "output_type": "error",
     "traceback": [
      "\u001b[0;31m---------------------------------------------------------------------------\u001b[0m",
      "\u001b[0;31mUnicodeDecodeError\u001b[0m                        Traceback (most recent call last)",
      "Cell \u001b[0;32mIn[361], line 2\u001b[0m\n\u001b[1;32m      1\u001b[0m \u001b[38;5;66;03m# this will fail\u001b[39;00m\n\u001b[0;32m----> 2\u001b[0m data \u001b[38;5;241m=\u001b[39m \u001b[38;5;28;43mopen\u001b[39;49m\u001b[43m(\u001b[49m\u001b[38;5;124;43m\"\u001b[39;49m\u001b[38;5;124;43mfiles/python.png\u001b[39;49m\u001b[38;5;124;43m\"\u001b[39;49m\u001b[43m)\u001b[49m\u001b[38;5;241;43m.\u001b[39;49m\u001b[43mread\u001b[49m\u001b[43m(\u001b[49m\u001b[43m)\u001b[49m\n",
      "File \u001b[0;32m/opt/tljh/user/lib/python3.10/codecs.py:322\u001b[0m, in \u001b[0;36mBufferedIncrementalDecoder.decode\u001b[0;34m(self, input, final)\u001b[0m\n\u001b[1;32m    319\u001b[0m \u001b[38;5;28;01mdef\u001b[39;00m \u001b[38;5;21mdecode\u001b[39m(\u001b[38;5;28mself\u001b[39m, \u001b[38;5;28minput\u001b[39m, final\u001b[38;5;241m=\u001b[39m\u001b[38;5;28;01mFalse\u001b[39;00m):\n\u001b[1;32m    320\u001b[0m     \u001b[38;5;66;03m# decode input (taking the buffer into account)\u001b[39;00m\n\u001b[1;32m    321\u001b[0m     data \u001b[38;5;241m=\u001b[39m \u001b[38;5;28mself\u001b[39m\u001b[38;5;241m.\u001b[39mbuffer \u001b[38;5;241m+\u001b[39m \u001b[38;5;28minput\u001b[39m\n\u001b[0;32m--> 322\u001b[0m     (result, consumed) \u001b[38;5;241m=\u001b[39m \u001b[38;5;28;43mself\u001b[39;49m\u001b[38;5;241;43m.\u001b[39;49m\u001b[43m_buffer_decode\u001b[49m\u001b[43m(\u001b[49m\u001b[43mdata\u001b[49m\u001b[43m,\u001b[49m\u001b[43m \u001b[49m\u001b[38;5;28;43mself\u001b[39;49m\u001b[38;5;241;43m.\u001b[39;49m\u001b[43merrors\u001b[49m\u001b[43m,\u001b[49m\u001b[43m \u001b[49m\u001b[43mfinal\u001b[49m\u001b[43m)\u001b[49m\n\u001b[1;32m    323\u001b[0m     \u001b[38;5;66;03m# keep undecoded input until the next call\u001b[39;00m\n\u001b[1;32m    324\u001b[0m     \u001b[38;5;28mself\u001b[39m\u001b[38;5;241m.\u001b[39mbuffer \u001b[38;5;241m=\u001b[39m data[consumed:]\n",
      "\u001b[0;31mUnicodeDecodeError\u001b[0m: 'utf-8' codec can't decode byte 0x89 in position 0: invalid start byte"
     ]
    }
   ],
   "source": [
    "# this will fail\n",
    "data = open(\"files/python.png\").read()"
   ]
  },
  {
   "cell_type": "code",
   "execution_count": 364,
   "id": "5c876957-5efc-4d47-bb4f-82a95c6d52e0",
   "metadata": {},
   "outputs": [],
   "source": [
    "data = open(\"files/python.png\", \"rb\").read()"
   ]
  },
  {
   "cell_type": "code",
   "execution_count": 365,
   "id": "f18b54d4-8122-406a-ba95-c0e515d1d2fe",
   "metadata": {},
   "outputs": [
    {
     "data": {
      "text/plain": [
       "bytes"
      ]
     },
     "execution_count": 365,
     "metadata": {},
     "output_type": "execute_result"
    }
   ],
   "source": [
    "type(data)"
   ]
  },
  {
   "cell_type": "code",
   "execution_count": 366,
   "id": "c5c53b13-bb97-4ddd-8973-e998159ba601",
   "metadata": {},
   "outputs": [
    {
     "data": {
      "text/plain": [
       "b'\\x89PNG\\r\\n\\x1a\\n\\x00\\x00\\x00\\rIHDR\\x00\\x00\\x02Y\\x00\\x00\\x00\\xcb\\x08\\x06\\x00\\x00\\x00]\\xc9\\x86&\\x00\\x00\\x00\\x04sBIT\\x08\\x08\\x08\\x08|\\x08d\\x88\\x00\\x00\\x00\\tpHYs\\x00\\x00\\n\\xf0\\x00\\x00\\n\\xf0\\x01B\\xac4\\x98\\x00\\x00\\x00\\x16tEXtCreation Time\\x0006/05/04'"
      ]
     },
     "execution_count": 366,
     "metadata": {},
     "output_type": "execute_result"
    }
   ],
   "source": [
    "data[:100]"
   ]
  },
  {
   "cell_type": "markdown",
   "id": "05d9243a-6c16-43fc-a192-b558c43957d3",
   "metadata": {},
   "source": [
    "## The `pathlib` module"
   ]
  },
  {
   "cell_type": "code",
   "execution_count": 367,
   "id": "4c78ca41-7a98-4540-8aa5-b8dc6a364ad8",
   "metadata": {},
   "outputs": [],
   "source": [
    "from pathlib import Path"
   ]
  },
  {
   "cell_type": "code",
   "execution_count": 372,
   "id": "be284f96-762b-460b-811d-105c8af86da1",
   "metadata": {},
   "outputs": [],
   "source": [
    "root = Path(\"files\")"
   ]
  },
  {
   "cell_type": "code",
   "execution_count": 373,
   "id": "4fd38871-8ad5-41e0-a8ff-4a1b6338298c",
   "metadata": {},
   "outputs": [
    {
     "data": {
      "text/plain": [
       "PosixPath('files')"
      ]
     },
     "execution_count": 373,
     "metadata": {},
     "output_type": "execute_result"
    }
   ],
   "source": [
    "root"
   ]
  },
  {
   "cell_type": "code",
   "execution_count": 374,
   "id": "15787e1d-6efc-4a1a-884e-d80d7b6e12dc",
   "metadata": {},
   "outputs": [
    {
     "data": {
      "text/plain": [
       "PosixPath('/opt/zeomega-python-2024/live-notes/files')"
      ]
     },
     "execution_count": 374,
     "metadata": {},
     "output_type": "execute_result"
    }
   ],
   "source": [
    "root.absolute()"
   ]
  },
  {
   "cell_type": "code",
   "execution_count": 375,
   "id": "e2e596ca-24e8-48e8-843e-30aa9bbdbe7a",
   "metadata": {},
   "outputs": [
    {
     "name": "stdout",
     "output_type": "stream",
     "text": [
      "10.txt\t\t     empty.txt\t\torders2.txt  ten.txt\n",
      "1234.txt\t     extcount\t\torders.txt   three.txt\n",
      "50.txt\t\t     five.txt\t\tpoems\t     tryst.txt\n",
      "abc\t\t     images\t\tprices.txt   words2.txt\n",
      "abcd.txt\t     images.zip\t\tpython.png   words.txt\n",
      "animals.txt\t     large-files\tquotes.txt   zen-of-python.txt\n",
      "blake.txt\t     leading-space.txt\trsync\n",
      "bumper-stickers.txt  names.txt\t\tsort\n",
      "bytes.bin\t     numbers\t\tsumfile\n"
     ]
    }
   ],
   "source": [
    "!ls files"
   ]
  },
  {
   "cell_type": "code",
   "execution_count": 376,
   "id": "3d736175-2d86-4218-9839-d5e1c73eb449",
   "metadata": {},
   "outputs": [
    {
     "data": {
      "text/plain": [
       "PosixPath('files/ten.txt')"
      ]
     },
     "execution_count": 376,
     "metadata": {},
     "output_type": "execute_result"
    }
   ],
   "source": [
    "root.joinpath(\"ten.txt\")"
   ]
  },
  {
   "cell_type": "code",
   "execution_count": 377,
   "id": "75550833-5b19-4f03-a301-6b2bd5c9a9df",
   "metadata": {},
   "outputs": [],
   "source": [
    "p = root.joinpath(\"ten.txt\")"
   ]
  },
  {
   "cell_type": "code",
   "execution_count": 378,
   "id": "4c414474-493b-465b-985f-55e1d153739c",
   "metadata": {},
   "outputs": [
    {
     "data": {
      "text/plain": [
       "PosixPath('files/ten.txt')"
      ]
     },
     "execution_count": 378,
     "metadata": {},
     "output_type": "execute_result"
    }
   ],
   "source": [
    "p"
   ]
  },
  {
   "cell_type": "code",
   "execution_count": 379,
   "id": "8d6f669a-4e42-4f86-8c38-0c01e13c5121",
   "metadata": {},
   "outputs": [
    {
     "data": {
      "text/plain": [
       "'ten.txt'"
      ]
     },
     "execution_count": 379,
     "metadata": {},
     "output_type": "execute_result"
    }
   ],
   "source": [
    "p.name"
   ]
  },
  {
   "cell_type": "code",
   "execution_count": 380,
   "id": "83a61bf1-e560-47f1-9aec-128074a3c2c5",
   "metadata": {},
   "outputs": [
    {
     "data": {
      "text/plain": [
       "PosixPath('files')"
      ]
     },
     "execution_count": 380,
     "metadata": {},
     "output_type": "execute_result"
    }
   ],
   "source": [
    "p.parent"
   ]
  },
  {
   "cell_type": "code",
   "execution_count": 381,
   "id": "01d8f0b1-7c4d-4a44-9b10-2ed28e476fa2",
   "metadata": {},
   "outputs": [
    {
     "data": {
      "text/plain": [
       "True"
      ]
     },
     "execution_count": 381,
     "metadata": {},
     "output_type": "execute_result"
    }
   ],
   "source": [
    "p.is_file()"
   ]
  },
  {
   "cell_type": "code",
   "execution_count": 382,
   "id": "055f5e6f-d41d-436c-85b7-06cc3c3ae8a3",
   "metadata": {},
   "outputs": [
    {
     "data": {
      "text/plain": [
       "True"
      ]
     },
     "execution_count": 382,
     "metadata": {},
     "output_type": "execute_result"
    }
   ],
   "source": [
    "p.exists()"
   ]
  },
  {
   "cell_type": "code",
   "execution_count": 383,
   "id": "cb73c325-a67f-4399-9b04-3e3ed65a152c",
   "metadata": {},
   "outputs": [
    {
     "data": {
      "text/plain": [
       "'.txt'"
      ]
     },
     "execution_count": 383,
     "metadata": {},
     "output_type": "execute_result"
    }
   ],
   "source": [
    "p.suffix"
   ]
  },
  {
   "cell_type": "code",
   "execution_count": 384,
   "id": "fafd1042-d22f-4c17-986e-7698a23abf5c",
   "metadata": {},
   "outputs": [
    {
     "data": {
      "text/plain": [
       "'ten'"
      ]
     },
     "execution_count": 384,
     "metadata": {},
     "output_type": "execute_result"
    }
   ],
   "source": [
    "p.stem"
   ]
  },
  {
   "cell_type": "code",
   "execution_count": 385,
   "id": "1a88f1cd-a0e6-4ed0-b224-cb4a9a1f7f12",
   "metadata": {},
   "outputs": [
    {
     "data": {
      "text/plain": [
       "'1\\n2\\n3\\n4\\n5\\n6\\n7\\n8\\n9\\n10\\n'"
      ]
     },
     "execution_count": 385,
     "metadata": {},
     "output_type": "execute_result"
    }
   ],
   "source": [
    "p.read_text()"
   ]
  },
  {
   "cell_type": "code",
   "execution_count": 386,
   "id": "e1d1f4a6-8c5d-4c17-879c-18c96efb9252",
   "metadata": {},
   "outputs": [
    {
     "data": {
      "text/plain": [
       "os.stat_result(st_mode=33204, st_ino=1053127, st_dev=2048, st_nlink=1, st_uid=1003, st_gid=1005, st_size=21, st_atime=1715680973, st_mtime=1700046666, st_ctime=1715599054)"
      ]
     },
     "execution_count": 386,
     "metadata": {},
     "output_type": "execute_result"
    }
   ],
   "source": [
    "p.stat()"
   ]
  },
  {
   "cell_type": "code",
   "execution_count": 387,
   "id": "58248a06-5222-4439-9471-9995a7706892",
   "metadata": {},
   "outputs": [
    {
     "data": {
      "text/plain": [
       "21"
      ]
     },
     "execution_count": 387,
     "metadata": {},
     "output_type": "execute_result"
    }
   ],
   "source": [
    "p.stat().st_size"
   ]
  },
  {
   "cell_type": "markdown",
   "id": "d6516ca4-ebdd-4e36-84b5-dbfd245c620f",
   "metadata": {},
   "source": [
    "Let's say we want to find the largest file in the files directory."
   ]
  },
  {
   "cell_type": "code",
   "execution_count": 388,
   "id": "77c8cf43-9c2a-4bbc-98ac-94ef4695a72c",
   "metadata": {},
   "outputs": [],
   "source": [
    "files = os.listdir(\"files\")"
   ]
  },
  {
   "cell_type": "code",
   "execution_count": 389,
   "id": "acc18df0-85ce-4941-b06e-437ca98c222b",
   "metadata": {},
   "outputs": [
    {
     "data": {
      "text/plain": [
       "['poems',\n",
       " 'words.txt',\n",
       " 'prices.txt',\n",
       " 'quotes.txt',\n",
       " 'sumfile',\n",
       " 'animals.txt',\n",
       " 'abcd.txt',\n",
       " '10.txt',\n",
       " 'empty.txt',\n",
       " '50.txt',\n",
       " 'bumper-stickers.txt',\n",
       " 'ten.txt',\n",
       " 'names.txt',\n",
       " 'five.txt',\n",
       " 'large-files',\n",
       " 'numbers',\n",
       " 'three.txt',\n",
       " 'orders2.txt',\n",
       " 'zen-of-python.txt',\n",
       " 'tryst.txt',\n",
       " 'images.zip',\n",
       " 'python.png',\n",
       " 'bytes.bin',\n",
       " 'rsync',\n",
       " 'leading-space.txt',\n",
       " 'sort',\n",
       " 'words2.txt',\n",
       " 'blake.txt',\n",
       " '1234.txt',\n",
       " 'extcount',\n",
       " 'orders.txt',\n",
       " 'abc',\n",
       " 'images']"
      ]
     },
     "execution_count": 389,
     "metadata": {},
     "output_type": "execute_result"
    }
   ],
   "source": [
    "files"
   ]
  },
  {
   "cell_type": "code",
   "execution_count": 390,
   "id": "09b5ef3d-6ef4-478e-83f4-4c484b29f538",
   "metadata": {},
   "outputs": [
    {
     "ename": "FileNotFoundError",
     "evalue": "[Errno 2] No such file or directory: 'words.txt'",
     "output_type": "error",
     "traceback": [
      "\u001b[0;31m---------------------------------------------------------------------------\u001b[0m",
      "\u001b[0;31mFileNotFoundError\u001b[0m                         Traceback (most recent call last)",
      "Cell \u001b[0;32mIn[390], line 1\u001b[0m\n\u001b[0;32m----> 1\u001b[0m \u001b[43mos\u001b[49m\u001b[38;5;241;43m.\u001b[39;49m\u001b[43mpath\u001b[49m\u001b[38;5;241;43m.\u001b[39;49m\u001b[43mgetsize\u001b[49m\u001b[43m(\u001b[49m\u001b[38;5;124;43m\"\u001b[39;49m\u001b[38;5;124;43mwords.txt\u001b[39;49m\u001b[38;5;124;43m\"\u001b[39;49m\u001b[43m)\u001b[49m\n",
      "File \u001b[0;32m/opt/tljh/user/lib/python3.10/genericpath.py:50\u001b[0m, in \u001b[0;36mgetsize\u001b[0;34m(filename)\u001b[0m\n\u001b[1;32m     48\u001b[0m \u001b[38;5;28;01mdef\u001b[39;00m \u001b[38;5;21mgetsize\u001b[39m(filename):\n\u001b[1;32m     49\u001b[0m \u001b[38;5;250m    \u001b[39m\u001b[38;5;124;03m\"\"\"Return the size of a file, reported by os.stat().\"\"\"\u001b[39;00m\n\u001b[0;32m---> 50\u001b[0m     \u001b[38;5;28;01mreturn\u001b[39;00m \u001b[43mos\u001b[49m\u001b[38;5;241;43m.\u001b[39;49m\u001b[43mstat\u001b[49m\u001b[43m(\u001b[49m\u001b[43mfilename\u001b[49m\u001b[43m)\u001b[49m\u001b[38;5;241m.\u001b[39mst_size\n",
      "\u001b[0;31mFileNotFoundError\u001b[0m: [Errno 2] No such file or directory: 'words.txt'"
     ]
    }
   ],
   "source": [
    "os.path.getsize(\"words.txt\")"
   ]
  },
  {
   "cell_type": "code",
   "execution_count": 392,
   "id": "530e4754-ac52-475e-bd2c-dad2f5f69ec4",
   "metadata": {},
   "outputs": [
    {
     "data": {
      "text/plain": [
       "154"
      ]
     },
     "execution_count": 392,
     "metadata": {},
     "output_type": "execute_result"
    }
   ],
   "source": [
    "path = os.path.join(\"files\", \"words.txt\")\n",
    "os.path.getsize(path)"
   ]
  },
  {
   "cell_type": "code",
   "execution_count": 393,
   "id": "d946fd7e-8122-432c-b6a2-338034ef4aec",
   "metadata": {},
   "outputs": [
    {
     "data": {
      "text/plain": [
       "PosixPath('files')"
      ]
     },
     "execution_count": 393,
     "metadata": {},
     "output_type": "execute_result"
    }
   ],
   "source": [
    "root"
   ]
  },
  {
   "cell_type": "code",
   "execution_count": 395,
   "id": "428ea5ef-5d81-48b6-88ed-bd6448413960",
   "metadata": {},
   "outputs": [],
   "source": [
    "paths = [p for p in root.iterdir() if p.is_file()]"
   ]
  },
  {
   "cell_type": "code",
   "execution_count": 396,
   "id": "76f11eff-3ca1-41de-b9eb-4678ee076599",
   "metadata": {},
   "outputs": [],
   "source": [
    "def getsize(p):\n",
    "    return p.stat().st_size"
   ]
  },
  {
   "cell_type": "code",
   "execution_count": 397,
   "id": "8ef04ae7-c1c8-4880-a5ec-2f8fb6f43b8e",
   "metadata": {},
   "outputs": [
    {
     "data": {
      "text/plain": [
       "PosixPath('files/images.zip')"
      ]
     },
     "execution_count": 397,
     "metadata": {},
     "output_type": "execute_result"
    }
   ],
   "source": [
    "max(paths, key=getsize)"
   ]
  },
  {
   "cell_type": "code",
   "execution_count": null,
   "id": "23edb652-62a7-4c8e-94e1-b86aa9d3474b",
   "metadata": {},
   "outputs": [],
   "source": []
  }
 ],
 "metadata": {
  "kernelspec": {
   "display_name": "Python 3 (ipykernel)",
   "language": "python",
   "name": "python3"
  },
  "language_info": {
   "codemirror_mode": {
    "name": "ipython",
    "version": 3
   },
   "file_extension": ".py",
   "mimetype": "text/x-python",
   "name": "python",
   "nbconvert_exporter": "python",
   "pygments_lexer": "ipython3",
   "version": "3.10.14"
  }
 },
 "nbformat": 4,
 "nbformat_minor": 5
}
