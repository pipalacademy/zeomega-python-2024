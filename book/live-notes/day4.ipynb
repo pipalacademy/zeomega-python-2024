{
 "cells": [
  {
   "cell_type": "markdown",
   "id": "4720700a-3e92-4cd6-ac88-61a877608423",
   "metadata": {},
   "source": [
    "# Day 4"
   ]
  },
  {
   "cell_type": "markdown",
   "id": "507ea841-a5e4-4fd6-a941-675cd5456344",
   "metadata": {},
   "source": [
    "## Topics"
   ]
  },
  {
   "cell_type": "markdown",
   "id": "be356717-ecd6-4045-b3bd-7310cd859104",
   "metadata": {},
   "source": [
    "* Writing Beatiful Code"
   ]
  },
  {
   "cell_type": "markdown",
   "id": "b1dd9637-15fc-4017-909b-da86804bad0a",
   "metadata": {},
   "source": [
    "## Writing Beautiful Code"
   ]
  },
  {
   "cell_type": "markdown",
   "id": "ea2839a8-271c-487e-903b-085d8c595fd4",
   "metadata": {},
   "source": [
    "[View slides &rarr;](https://speakerdeck.com/anandology/writing-beautiful-code-europython-2017)"
   ]
  },
  {
   "cell_type": "markdown",
   "id": "056ccea2-d093-4bf9-a112-e3fede13f7cb",
   "metadata": {},
   "source": [
    "## Classes & Objects"
   ]
  },
  {
   "cell_type": "markdown",
   "id": "07659783-86ad-4512-bdc7-bcf7270286ed",
   "metadata": {},
   "source": [
    "### Why Classes?"
   ]
  },
  {
   "cell_type": "markdown",
   "id": "69204301-f67d-4525-9243-4c8b16b5ae58",
   "metadata": {},
   "source": [
    "Reponses:\n",
    "- classes makes it easier to model the real world\n",
    "- calling methods is easier than calling functions"
   ]
  },
  {
   "cell_type": "markdown",
   "id": "ea6bc42d-00fb-466d-964a-f253de48742e",
   "metadata": {},
   "source": [
    "Let's look at unix pipelines."
   ]
  },
  {
   "cell_type": "code",
   "execution_count": 7,
   "id": "52695099-6634-4571-a2a3-3c0fadacf1cd",
   "metadata": {},
   "outputs": [
    {
     "name": "stdout",
     "output_type": "stream",
     "text": [
      "hosts.py\n",
      "mymodule2.py\n",
      "mymodule3.py\n"
     ]
    }
   ],
   "source": [
    "!ls | grep '.py$' | sort | head -3"
   ]
  },
  {
   "cell_type": "markdown",
   "id": "a7f1ce75-0bd8-4780-bd99-b995162be450",
   "metadata": {},
   "source": [
    "If we had to do this with functions, it would look something like this:\n",
    "\n",
    "```python\n",
    "head(3, sort(grep(\".py$\", ls())))\n",
    "```\n",
    "\n",
    "If this functionality was available as methods of these objects:\n",
    "\n",
    "```python\n",
    "ls().grep(\".py$\").sort().head(3)\n",
    "```"
   ]
  },
  {
   "cell_type": "markdown",
   "id": "691bc0b5-f72e-477c-95d6-7c9c818c0d8a",
   "metadata": {},
   "source": [
    "Classes makes it easier to chain operations like unix pipes."
   ]
  },
  {
   "cell_type": "markdown",
   "id": "d96eea90-eef8-462e-a27c-fd350f0d01e9",
   "metadata": {},
   "source": [
    "Another point is classes manages the state and relives us from carrying it around explictly. Let's look at example."
   ]
  },
  {
   "cell_type": "code",
   "execution_count": 8,
   "id": "f9a63a7b-ea3e-47e8-8dc2-293f42f658f1",
   "metadata": {},
   "outputs": [
    {
     "name": "stdout",
     "output_type": "stream",
     "text": [
      "bangalore-1.jpg  bangalore-2.jpg  bangalore-3.jpg  bangalore-4.jpg  README.md\n"
     ]
    }
   ],
   "source": [
    "!ls files/images"
   ]
  },
  {
   "cell_type": "markdown",
   "id": "288b203c-ba1f-41cb-bd59-5db10f997e98",
   "metadata": {},
   "source": [
    "How to find the largest image?"
   ]
  },
  {
   "cell_type": "code",
   "execution_count": 9,
   "id": "657478a9-1b7d-4a6c-b331-5de6cb17eebb",
   "metadata": {},
   "outputs": [],
   "source": [
    "import os"
   ]
  },
  {
   "cell_type": "code",
   "execution_count": 10,
   "id": "d247bd18-2c2d-4705-bb11-cf006298c37e",
   "metadata": {},
   "outputs": [],
   "source": [
    "root = \"files/images\""
   ]
  },
  {
   "cell_type": "code",
   "execution_count": 11,
   "id": "ab94d00f-ec1f-4f9c-982d-24b6f596bdd2",
   "metadata": {},
   "outputs": [],
   "source": [
    "files = os.listdir(root)"
   ]
  },
  {
   "cell_type": "code",
   "execution_count": 12,
   "id": "b01807ae-eb99-456e-ae29-d5f2dba02649",
   "metadata": {},
   "outputs": [
    {
     "data": {
      "text/plain": [
       "['bangalore-4.jpg',\n",
       " 'bangalore-1.jpg',\n",
       " 'bangalore-3.jpg',\n",
       " 'README.md',\n",
       " 'bangalore-2.jpg']"
      ]
     },
     "execution_count": 12,
     "metadata": {},
     "output_type": "execute_result"
    }
   ],
   "source": [
    "files"
   ]
  },
  {
   "cell_type": "code",
   "execution_count": 13,
   "id": "36eab7a3-9e74-4cb9-8db3-4362a31c3ef4",
   "metadata": {},
   "outputs": [
    {
     "ename": "FileNotFoundError",
     "evalue": "[Errno 2] No such file or directory: 'bangalore-4.jpg'",
     "output_type": "error",
     "traceback": [
      "\u001b[0;31m---------------------------------------------------------------------------\u001b[0m",
      "\u001b[0;31mFileNotFoundError\u001b[0m                         Traceback (most recent call last)",
      "Cell \u001b[0;32mIn[13], line 1\u001b[0m\n\u001b[0;32m----> 1\u001b[0m \u001b[43mos\u001b[49m\u001b[38;5;241;43m.\u001b[39;49m\u001b[43mpath\u001b[49m\u001b[38;5;241;43m.\u001b[39;49m\u001b[43mgetsize\u001b[49m\u001b[43m(\u001b[49m\u001b[43mfiles\u001b[49m\u001b[43m[\u001b[49m\u001b[38;5;241;43m0\u001b[39;49m\u001b[43m]\u001b[49m\u001b[43m)\u001b[49m\n",
      "File \u001b[0;32m/opt/tljh/user/lib/python3.10/genericpath.py:50\u001b[0m, in \u001b[0;36mgetsize\u001b[0;34m(filename)\u001b[0m\n\u001b[1;32m     48\u001b[0m \u001b[38;5;28;01mdef\u001b[39;00m \u001b[38;5;21mgetsize\u001b[39m(filename):\n\u001b[1;32m     49\u001b[0m \u001b[38;5;250m    \u001b[39m\u001b[38;5;124;03m\"\"\"Return the size of a file, reported by os.stat().\"\"\"\u001b[39;00m\n\u001b[0;32m---> 50\u001b[0m     \u001b[38;5;28;01mreturn\u001b[39;00m \u001b[43mos\u001b[49m\u001b[38;5;241;43m.\u001b[39;49m\u001b[43mstat\u001b[49m\u001b[43m(\u001b[49m\u001b[43mfilename\u001b[49m\u001b[43m)\u001b[49m\u001b[38;5;241m.\u001b[39mst_size\n",
      "\u001b[0;31mFileNotFoundError\u001b[0m: [Errno 2] No such file or directory: 'bangalore-4.jpg'"
     ]
    }
   ],
   "source": [
    "os.path.getsize(files[0])"
   ]
  },
  {
   "cell_type": "code",
   "execution_count": 14,
   "id": "c00b3e7e-7d91-4955-ab2c-526ad059f32a",
   "metadata": {},
   "outputs": [
    {
     "data": {
      "text/plain": [
       "1898997"
      ]
     },
     "execution_count": 14,
     "metadata": {},
     "output_type": "execute_result"
    }
   ],
   "source": [
    "os.path.getsize(os.path.join(root, files[0]))"
   ]
  },
  {
   "cell_type": "code",
   "execution_count": 15,
   "id": "1519af56-f890-4094-b250-e304947de3df",
   "metadata": {},
   "outputs": [],
   "source": [
    "def getsize(filename):\n",
    "    return os.path.getsize(os.path.join(root, filename))"
   ]
  },
  {
   "cell_type": "code",
   "execution_count": 16,
   "id": "231bb4fb-acce-481b-bcd5-e9af24f2320d",
   "metadata": {},
   "outputs": [
    {
     "data": {
      "text/plain": [
       "'bangalore-1.jpg'"
      ]
     },
     "execution_count": 16,
     "metadata": {},
     "output_type": "execute_result"
    }
   ],
   "source": [
    "max(files, key=getsize)"
   ]
  },
  {
   "cell_type": "markdown",
   "id": "c0e68e6a-ef6e-46e6-b588-a6b6cedb1ffc",
   "metadata": {},
   "source": [
    "Let's solve the same problem using pathlib module, which models the path as class."
   ]
  },
  {
   "cell_type": "code",
   "execution_count": 17,
   "id": "b900a9c5-09b6-4c10-b739-066929155815",
   "metadata": {},
   "outputs": [],
   "source": [
    "from pathlib import Path\n",
    "root = Path(\"files/images\")"
   ]
  },
  {
   "cell_type": "code",
   "execution_count": 23,
   "id": "3bc55a11-035e-4792-84f6-7b2a6b06f507",
   "metadata": {},
   "outputs": [],
   "source": [
    "files = root.iterdir()\n",
    "#files = root.glob(\"*.jpg\")"
   ]
  },
  {
   "cell_type": "code",
   "execution_count": 24,
   "id": "7662fc12-7856-497a-b3bb-8f8086e1fe67",
   "metadata": {},
   "outputs": [],
   "source": [
    "# for f in files:\n",
    "#     print(f)"
   ]
  },
  {
   "cell_type": "code",
   "execution_count": 25,
   "id": "b00558fd-df5d-455f-87e0-dea60504586c",
   "metadata": {},
   "outputs": [],
   "source": [
    "def getsize(p):\n",
    "    return p.stat().st_size"
   ]
  },
  {
   "cell_type": "code",
   "execution_count": 26,
   "id": "152317dc-45d6-4174-afec-ad3798120676",
   "metadata": {},
   "outputs": [
    {
     "data": {
      "text/plain": [
       "PosixPath('files/images/bangalore-1.jpg')"
      ]
     },
     "execution_count": 26,
     "metadata": {},
     "output_type": "execute_result"
    }
   ],
   "source": [
    "max(files, key=getsize)"
   ]
  },
  {
   "cell_type": "markdown",
   "id": "1c4773e8-7cdd-4231-b3dd-4a32f2570517",
   "metadata": {},
   "source": [
    "### Syntax for writing classes"
   ]
  },
  {
   "cell_type": "code",
   "execution_count": 33,
   "id": "b5492fc5-7ef4-46a1-8440-2b13ebff44f4",
   "metadata": {},
   "outputs": [],
   "source": [
    "class Point:\n",
    "    def __init__(self, x, y):\n",
    "        print(\"Point.__init__\", x, y)\n",
    "        self.x = x\n",
    "        self.y = y\n",
    "\n",
    "    def getx(self):\n",
    "        return self.x"
   ]
  },
  {
   "cell_type": "code",
   "execution_count": 34,
   "id": "b5686fb1-8ece-4dd7-ae40-420f8a7f162c",
   "metadata": {},
   "outputs": [
    {
     "name": "stdout",
     "output_type": "stream",
     "text": [
      "Point.__init__ 3 4\n"
     ]
    }
   ],
   "source": [
    "p = Point(3, 4)"
   ]
  },
  {
   "cell_type": "code",
   "execution_count": 35,
   "id": "402ee29d-1333-426c-99e0-d0eee2530cd6",
   "metadata": {},
   "outputs": [
    {
     "data": {
      "text/plain": [
       "<__main__.Point at 0x7b32621830d0>"
      ]
     },
     "execution_count": 35,
     "metadata": {},
     "output_type": "execute_result"
    }
   ],
   "source": [
    "p"
   ]
  },
  {
   "cell_type": "code",
   "execution_count": 30,
   "id": "62d0d6fb-0efe-4213-a98e-7a6d34f61d44",
   "metadata": {},
   "outputs": [
    {
     "data": {
      "text/plain": [
       "3"
      ]
     },
     "execution_count": 30,
     "metadata": {},
     "output_type": "execute_result"
    }
   ],
   "source": [
    "p.x"
   ]
  },
  {
   "cell_type": "code",
   "execution_count": 31,
   "id": "e0ca0506-a9dd-48d9-878a-e5a6935577ba",
   "metadata": {},
   "outputs": [
    {
     "data": {
      "text/plain": [
       "4"
      ]
     },
     "execution_count": 31,
     "metadata": {},
     "output_type": "execute_result"
    }
   ],
   "source": [
    "p.y"
   ]
  },
  {
   "cell_type": "code",
   "execution_count": 32,
   "id": "e7ce260e-7a2a-4b7e-805d-1a1e6fefaa72",
   "metadata": {},
   "outputs": [
    {
     "data": {
      "text/plain": [
       "3"
      ]
     },
     "execution_count": 32,
     "metadata": {},
     "output_type": "execute_result"
    }
   ],
   "source": [
    "p.getx()"
   ]
  },
  {
   "cell_type": "markdown",
   "id": "dfe08ff0-52d9-457d-9e4a-facb4a1a906e",
   "metadata": {},
   "source": [
    "#### The `__str__` and `__repr__` methods"
   ]
  },
  {
   "cell_type": "code",
   "execution_count": 36,
   "id": "2beac8a2-55e4-4b17-8153-c45378dd3f88",
   "metadata": {},
   "outputs": [],
   "source": [
    "x = [1, \"1\", \"2\", 3]"
   ]
  },
  {
   "cell_type": "code",
   "execution_count": 37,
   "id": "45a8a58c-e0a6-474d-be58-b7b1852bb3b5",
   "metadata": {},
   "outputs": [
    {
     "name": "stdout",
     "output_type": "stream",
     "text": [
      "[1, '1', '2', 3]\n"
     ]
    }
   ],
   "source": [
    "print(x)"
   ]
  },
  {
   "cell_type": "code",
   "execution_count": 38,
   "id": "c38db933-0ca9-4a98-876f-a8c9e7b00891",
   "metadata": {},
   "outputs": [
    {
     "name": "stdout",
     "output_type": "stream",
     "text": [
      "1 1\n"
     ]
    }
   ],
   "source": [
    "print(str(1), str(\"1\"))"
   ]
  },
  {
   "cell_type": "code",
   "execution_count": 39,
   "id": "ff069753-c016-42bd-a59b-c3631d002247",
   "metadata": {},
   "outputs": [
    {
     "name": "stdout",
     "output_type": "stream",
     "text": [
      "1 1\n"
     ]
    }
   ],
   "source": [
    "print(1, \"1\")"
   ]
  },
  {
   "cell_type": "code",
   "execution_count": 40,
   "id": "4f1e191c-175b-44aa-8607-cdf406336fe5",
   "metadata": {},
   "outputs": [
    {
     "name": "stdout",
     "output_type": "stream",
     "text": [
      "1 '1'\n"
     ]
    }
   ],
   "source": [
    "print(repr(1), repr(\"1\"))"
   ]
  },
  {
   "cell_type": "code",
   "execution_count": 52,
   "id": "6d4a940a-f262-4a89-a315-d23c3aef994c",
   "metadata": {},
   "outputs": [],
   "source": [
    "class Point:\n",
    "    def __init__(self, x, y):\n",
    "        print(\"Point.__init__\", x, y)\n",
    "        self.x = x\n",
    "        self.y = y\n",
    "\n",
    "    def getx(self):\n",
    "        return self.x\n",
    "\n",
    "    def __str__(self):\n",
    "        return f\"({self.x}, {self.y})\"\n",
    "\n",
    "    def __repr__(self):\n",
    "        return f\"Point({self.x}, {self.y})\""
   ]
  },
  {
   "cell_type": "code",
   "execution_count": 53,
   "id": "3ef9dd9c-a661-464d-b5c4-eea675574471",
   "metadata": {},
   "outputs": [
    {
     "name": "stdout",
     "output_type": "stream",
     "text": [
      "Point.__init__ 2 3\n"
     ]
    }
   ],
   "source": [
    "p = Point(2, 3)"
   ]
  },
  {
   "cell_type": "code",
   "execution_count": 54,
   "id": "c8fb3f0a-4e78-4d98-9480-ede024cd700e",
   "metadata": {},
   "outputs": [
    {
     "data": {
      "text/plain": [
       "Point(2, 3)"
      ]
     },
     "execution_count": 54,
     "metadata": {},
     "output_type": "execute_result"
    }
   ],
   "source": [
    "p"
   ]
  },
  {
   "cell_type": "code",
   "execution_count": 55,
   "id": "16a435fa-406f-41d1-af4c-ed351f60354a",
   "metadata": {},
   "outputs": [
    {
     "name": "stdout",
     "output_type": "stream",
     "text": [
      "(2, 3)\n"
     ]
    }
   ],
   "source": [
    "print(p)"
   ]
  },
  {
   "cell_type": "code",
   "execution_count": 56,
   "id": "b819c076-2261-45d6-bbb7-7b031d88b506",
   "metadata": {},
   "outputs": [
    {
     "data": {
      "text/plain": [
       "[Point(2, 3), Point(2, 3)]"
      ]
     },
     "execution_count": 56,
     "metadata": {},
     "output_type": "execute_result"
    }
   ],
   "source": [
    "[p, p]"
   ]
  },
  {
   "cell_type": "markdown",
   "id": "76270d20-e6ff-471c-be53-3377cfe7044e",
   "metadata": {},
   "source": [
    "### Adding Methods"
   ]
  },
  {
   "cell_type": "markdown",
   "id": "6d7cbaa8-9756-46ec-adcd-a6dd093f2899",
   "metadata": {},
   "source": [
    "Let's write a method `add` to add two points."
   ]
  },
  {
   "cell_type": "code",
   "execution_count": 59,
   "id": "f452b181-7bc0-4b6f-8acb-b36e8b8bb9b4",
   "metadata": {},
   "outputs": [],
   "source": [
    "class Point:\n",
    "    def __init__(self, x, y):\n",
    "        self.x = x\n",
    "        self.y = y\n",
    "\n",
    "    def getx(self):\n",
    "        return self.x\n",
    "\n",
    "    def __str__(self):\n",
    "        return f\"({self.x}, {self.y})\"\n",
    "\n",
    "    def __repr__(self):\n",
    "        return f\"Point({self.x}, {self.y})\"\n",
    "\n",
    "    def add(self, p):\n",
    "        x = self.x + p.x\n",
    "        y = self.y + p.y\n",
    "        return Point(x, y)"
   ]
  },
  {
   "cell_type": "code",
   "execution_count": 60,
   "id": "a33ea167-9542-496d-ba65-ee7bbf3bc8e0",
   "metadata": {},
   "outputs": [],
   "source": [
    "p1 = Point(3, 4)\n",
    "p2 = Point(10, 20)"
   ]
  },
  {
   "cell_type": "code",
   "execution_count": 61,
   "id": "16a9a76c-4520-40ca-99a6-676cf9aee9f9",
   "metadata": {},
   "outputs": [
    {
     "data": {
      "text/plain": [
       "Point(13, 24)"
      ]
     },
     "execution_count": 61,
     "metadata": {},
     "output_type": "execute_result"
    }
   ],
   "source": [
    "p1.add(p2)"
   ]
  },
  {
   "cell_type": "code",
   "execution_count": 62,
   "id": "f22b7d2c-8dfb-404b-b6de-4befef8d8a20",
   "metadata": {},
   "outputs": [
    {
     "data": {
      "text/plain": [
       "Point(23, 44)"
      ]
     },
     "execution_count": 62,
     "metadata": {},
     "output_type": "execute_result"
    }
   ],
   "source": [
    "p1.add(p2).add(p2)"
   ]
  },
  {
   "cell_type": "code",
   "execution_count": 64,
   "id": "33c2b9e3-eeec-45e4-9d8d-2afda25a93d4",
   "metadata": {},
   "outputs": [
    {
     "data": {
      "text/html": [
       "\n",
       "        <strong>Problem: Double a Point</strong>\n",
       "\n",
       "        <p><p>Add a method double to the Point class that doubles both x and y coordinates of the point.</p>\n",
       "<p>You can start with this code for Point class.</p>\n",
       "<pre><code class=\"language-python\">class Point:\n",
       "    def __init__(self, x, y):\n",
       "        self.x = x\n",
       "        self.y = y\n",
       "\n",
       "    def __repr__(self):\n",
       "        return f&quot;Point({self.x}, {self.y})&quot;\n",
       "\n",
       "    def __str__(self):\n",
       "        return f&quot;({self.x}, {self.y})&quot;\n",
       "</code></pre>\n",
       "<p>The expected behavior:</p>\n",
       "<pre><code class=\"language-python\">&gt;&gt;&gt; p = Point(2, 3)\n",
       "&gt;&gt;&gt; p2 = p.double()\n",
       "&gt;&gt;&gt; p2\n",
       "Point(4, 6)\n",
       "&gt;&gt;&gt; p.double().double()\n",
       "Point(8, 12)\n",
       "</code></pre>\n",
       "        </p>\n",
       "\n",
       "        <p>You can verify your solution using:\n",
       "        <pre>%verify_problem point-double</pre>\n",
       "        </p>\n",
       "        "
      ],
      "text/plain": [
       "<Probem: point-double>"
      ]
     },
     "metadata": {},
     "output_type": "display_data"
    }
   ],
   "source": [
    "%load_problem point-double"
   ]
  },
  {
   "cell_type": "code",
   "execution_count": null,
   "id": "02699986-aef4-49ee-9d1e-6bff77da9070",
   "metadata": {},
   "outputs": [],
   "source": [
    "\n",
    "class Point:\n",
    "    def __init__(self, x, y):\n",
    "        self.x = x\n",
    "        self.y = y\n",
    "\n",
    "    def __repr__(self):\n",
    "        return f\"Point({self.x}, {self.y})\"\n",
    "\n",
    "    def __str__(self):\n",
    "        return f\"({self.x}, {self.y})\"\n",
    "\n",
    "    # Add double method here\n"
   ]
  },
  {
   "cell_type": "code",
   "execution_count": 69,
   "id": "82edb595-c25b-4876-83e5-14cc5800078c",
   "metadata": {},
   "outputs": [
    {
     "data": {
      "text/html": [
       "\n",
       "        <strong>Problem: Timer</strong>\n",
       "\n",
       "        <p><p>Write a class <code>Timer</code> that can be used to find out time taken by some code execution.\n",
       "Make use of <code>time.time</code> function to get current time stamp in seconds.</p>\n",
       "<pre><code class=\"language-python\">def do_something():\n",
       "    time.sleep(2)\n",
       "\n",
       "timer = Timer()\n",
       "\n",
       "timer.start()\n",
       "do_something()\n",
       "timer.stop()\n",
       "\n",
       "print(timer.get_elapsed_time())\n",
       "# 2.000\n",
       "</code></pre>\n",
       "        </p>\n",
       "\n",
       "        <p>You can verify your solution using:\n",
       "        <pre>%verify_problem timer</pre>\n",
       "        </p>\n",
       "        "
      ],
      "text/plain": [
       "<Probem: timer>"
      ]
     },
     "metadata": {},
     "output_type": "display_data"
    }
   ],
   "source": [
    "%load_problem timer"
   ]
  },
  {
   "cell_type": "code",
   "execution_count": null,
   "id": "cbb501e5-beb1-47c5-9e0b-2afad309e86b",
   "metadata": {},
   "outputs": [],
   "source": [
    "# your code here\n",
    "\n",
    "\n",
    "\n"
   ]
  },
  {
   "cell_type": "code",
   "execution_count": 66,
   "id": "f4064312-1cb6-4da7-9f2f-6aacce8186e6",
   "metadata": {},
   "outputs": [],
   "source": [
    "import time"
   ]
  },
  {
   "cell_type": "code",
   "execution_count": 67,
   "id": "05dcfabf-1e48-4707-bb50-cd4e869ba97c",
   "metadata": {},
   "outputs": [
    {
     "data": {
      "text/plain": [
       "1715840434.910643"
      ]
     },
     "execution_count": 67,
     "metadata": {},
     "output_type": "execute_result"
    }
   ],
   "source": [
    "time.time()"
   ]
  },
  {
   "cell_type": "code",
   "execution_count": 68,
   "id": "8d847c25-6dcc-44da-9eca-5d5421d58027",
   "metadata": {},
   "outputs": [
    {
     "data": {
      "text/plain": [
       "1715840437.8305073"
      ]
     },
     "execution_count": 68,
     "metadata": {},
     "output_type": "execute_result"
    }
   ],
   "source": [
    "time.time()"
   ]
  },
  {
   "cell_type": "markdown",
   "id": "0b982a40-7842-4837-8b1f-4dc59668ae45",
   "metadata": {},
   "source": [
    "### Behind the Scenes"
   ]
  },
  {
   "cell_type": "code",
   "execution_count": 76,
   "id": "8c1e476e-0139-417f-a1c9-35697ba78e7b",
   "metadata": {},
   "outputs": [],
   "source": [
    "class Point:\n",
    "    def __init__(self, x, y):\n",
    "        self.x = x\n",
    "        self.y = y\n",
    "\n",
    "    def __str__(self):\n",
    "        return f\"({self.x}, {self.y})\"\n",
    "\n",
    "    def __repr__(self):\n",
    "        return f\"Point({self.x}, {self.y})\"\n",
    "\n",
    "    def add(me, p):\n",
    "        x = me.x + p.x\n",
    "        y = me.y + p.y\n",
    "        return Point(x, y)"
   ]
  },
  {
   "cell_type": "code",
   "execution_count": 77,
   "id": "ec44e63f-b18d-4213-add8-ff45eb4f5096",
   "metadata": {},
   "outputs": [],
   "source": [
    "p1 = Point(2, 3)\n",
    "p2 = Point(10, 20)"
   ]
  },
  {
   "cell_type": "code",
   "execution_count": 78,
   "id": "eba53abe-37a8-482f-b418-f3cde3b91919",
   "metadata": {},
   "outputs": [
    {
     "data": {
      "text/plain": [
       "Point(12, 23)"
      ]
     },
     "execution_count": 78,
     "metadata": {},
     "output_type": "execute_result"
    }
   ],
   "source": [
    "p1.add(p2)"
   ]
  },
  {
   "cell_type": "code",
   "execution_count": 79,
   "id": "c98b9882-d92d-4fcb-8b4f-663d327bc6df",
   "metadata": {},
   "outputs": [
    {
     "data": {
      "text/plain": [
       "<function __main__.Point.add(me, p)>"
      ]
     },
     "execution_count": 79,
     "metadata": {},
     "output_type": "execute_result"
    }
   ],
   "source": [
    "Point.add"
   ]
  },
  {
   "cell_type": "code",
   "execution_count": 80,
   "id": "344a6712-eaed-440c-bf23-e485fb1fccd3",
   "metadata": {},
   "outputs": [
    {
     "data": {
      "text/plain": [
       "Point(12, 23)"
      ]
     },
     "execution_count": 80,
     "metadata": {},
     "output_type": "execute_result"
    }
   ],
   "source": [
    "Point.add(p1, p2)"
   ]
  },
  {
   "cell_type": "code",
   "execution_count": 81,
   "id": "6e0d46d1-dc44-474f-beb7-c5abb6e9ac71",
   "metadata": {},
   "outputs": [
    {
     "data": {
      "text/plain": [
       "Point(12, 23)"
      ]
     },
     "execution_count": 81,
     "metadata": {},
     "output_type": "execute_result"
    }
   ],
   "source": [
    "p1.add(p2)"
   ]
  },
  {
   "cell_type": "code",
   "execution_count": 82,
   "id": "0d291316-7d29-4d5a-89ec-f4fadb7f7a96",
   "metadata": {},
   "outputs": [
    {
     "data": {
      "text/plain": [
       "2"
      ]
     },
     "execution_count": 82,
     "metadata": {},
     "output_type": "execute_result"
    }
   ],
   "source": [
    "p1.x"
   ]
  },
  {
   "cell_type": "code",
   "execution_count": 83,
   "id": "28f5b0be-361a-4a52-ab7e-d8070fcf7185",
   "metadata": {},
   "outputs": [
    {
     "data": {
      "text/plain": [
       "10"
      ]
     },
     "execution_count": 83,
     "metadata": {},
     "output_type": "execute_result"
    }
   ],
   "source": [
    "p2.x"
   ]
  },
  {
   "cell_type": "code",
   "execution_count": 84,
   "id": "f49fb4b5-cd19-476e-8350-3a68de6eda8d",
   "metadata": {},
   "outputs": [
    {
     "data": {
      "text/plain": [
       "{'x': 2, 'y': 3}"
      ]
     },
     "execution_count": 84,
     "metadata": {},
     "output_type": "execute_result"
    }
   ],
   "source": [
    "p1.__dict__"
   ]
  },
  {
   "cell_type": "code",
   "execution_count": 85,
   "id": "68e042e5-c9ae-4a5c-a917-b7b24be70d59",
   "metadata": {},
   "outputs": [
    {
     "data": {
      "text/plain": [
       "2"
      ]
     },
     "execution_count": 85,
     "metadata": {},
     "output_type": "execute_result"
    }
   ],
   "source": [
    "p1.x"
   ]
  },
  {
   "cell_type": "code",
   "execution_count": 86,
   "id": "f2740be3-19b8-4602-9eed-2909724f3bfb",
   "metadata": {},
   "outputs": [
    {
     "data": {
      "text/plain": [
       "2"
      ]
     },
     "execution_count": 86,
     "metadata": {},
     "output_type": "execute_result"
    }
   ],
   "source": [
    "p1.__dict__[\"x\"]"
   ]
  },
  {
   "cell_type": "code",
   "execution_count": 87,
   "id": "87793602-c961-4938-acb3-1c8cd7286966",
   "metadata": {},
   "outputs": [],
   "source": [
    "p1.x = 22"
   ]
  },
  {
   "cell_type": "code",
   "execution_count": 88,
   "id": "4548a7eb-efcc-45da-b84b-16dc67821ab5",
   "metadata": {},
   "outputs": [
    {
     "data": {
      "text/plain": [
       "{'x': 22, 'y': 3}"
      ]
     },
     "execution_count": 88,
     "metadata": {},
     "output_type": "execute_result"
    }
   ],
   "source": [
    "p1.__dict__"
   ]
  },
  {
   "cell_type": "code",
   "execution_count": 89,
   "id": "162f0b52-e054-45e5-a4c4-80e4036301b1",
   "metadata": {},
   "outputs": [],
   "source": [
    "p1.__dict__[\"x\"] = 0"
   ]
  },
  {
   "cell_type": "code",
   "execution_count": 90,
   "id": "f49cb322-dc30-4277-b297-7a33146478cc",
   "metadata": {},
   "outputs": [
    {
     "data": {
      "text/plain": [
       "0"
      ]
     },
     "execution_count": 90,
     "metadata": {},
     "output_type": "execute_result"
    }
   ],
   "source": [
    "p1.x"
   ]
  },
  {
   "cell_type": "code",
   "execution_count": 91,
   "id": "d87655db-e2d9-4f07-b507-be03f3f52873",
   "metadata": {},
   "outputs": [
    {
     "data": {
      "text/plain": [
       "__main__.Point"
      ]
     },
     "execution_count": 91,
     "metadata": {},
     "output_type": "execute_result"
    }
   ],
   "source": [
    "Point"
   ]
  },
  {
   "cell_type": "code",
   "execution_count": 92,
   "id": "e3cdf0ef-ca39-4dcd-8286-ea8efb0a305f",
   "metadata": {},
   "outputs": [
    {
     "data": {
      "text/plain": [
       "mappingproxy({'__module__': '__main__',\n",
       "              '__init__': <function __main__.Point.__init__(self, x, y)>,\n",
       "              '__str__': <function __main__.Point.__str__(self)>,\n",
       "              '__repr__': <function __main__.Point.__repr__(self)>,\n",
       "              'add': <function __main__.Point.add(me, p)>,\n",
       "              '__dict__': <attribute '__dict__' of 'Point' objects>,\n",
       "              '__weakref__': <attribute '__weakref__' of 'Point' objects>,\n",
       "              '__doc__': None})"
      ]
     },
     "execution_count": 92,
     "metadata": {},
     "output_type": "execute_result"
    }
   ],
   "source": [
    "Point.__dict__"
   ]
  },
  {
   "cell_type": "code",
   "execution_count": 95,
   "id": "e1ea6e81-a62d-44df-b037-84f8278b659a",
   "metadata": {},
   "outputs": [],
   "source": [
    "def double(p):\n",
    "    return Point(p.x*2, p.y*2)"
   ]
  },
  {
   "cell_type": "code",
   "execution_count": 96,
   "id": "938ad213-b350-4e78-a017-37b0aac636d7",
   "metadata": {},
   "outputs": [
    {
     "data": {
      "text/plain": [
       "Point(20, 40)"
      ]
     },
     "execution_count": 96,
     "metadata": {},
     "output_type": "execute_result"
    }
   ],
   "source": [
    "double(p2)"
   ]
  },
  {
   "cell_type": "code",
   "execution_count": 97,
   "id": "4b36b725-fb46-4d62-b8a0-8b48af88307d",
   "metadata": {},
   "outputs": [
    {
     "ename": "AttributeError",
     "evalue": "'Point' object has no attribute 'double'",
     "output_type": "error",
     "traceback": [
      "\u001b[0;31m---------------------------------------------------------------------------\u001b[0m",
      "\u001b[0;31mAttributeError\u001b[0m                            Traceback (most recent call last)",
      "Cell \u001b[0;32mIn[97], line 2\u001b[0m\n\u001b[1;32m      1\u001b[0m \u001b[38;5;66;03m# this will not work\u001b[39;00m\n\u001b[0;32m----> 2\u001b[0m \u001b[43mp2\u001b[49m\u001b[38;5;241;43m.\u001b[39;49m\u001b[43mdouble\u001b[49m()\n",
      "\u001b[0;31mAttributeError\u001b[0m: 'Point' object has no attribute 'double'"
     ]
    }
   ],
   "source": [
    "# this will not work\n",
    "p2.double()"
   ]
  },
  {
   "cell_type": "code",
   "execution_count": 98,
   "id": "9273b5e2-ec66-496b-84e9-099bcf9551c8",
   "metadata": {},
   "outputs": [],
   "source": [
    "Point.double = double"
   ]
  },
  {
   "cell_type": "code",
   "execution_count": 99,
   "id": "574a153f-71a9-4ca4-8808-da9a08fee93c",
   "metadata": {},
   "outputs": [
    {
     "data": {
      "text/plain": [
       "mappingproxy({'__module__': '__main__',\n",
       "              '__init__': <function __main__.Point.__init__(self, x, y)>,\n",
       "              '__str__': <function __main__.Point.__str__(self)>,\n",
       "              '__repr__': <function __main__.Point.__repr__(self)>,\n",
       "              'add': <function __main__.Point.add(me, p)>,\n",
       "              '__dict__': <attribute '__dict__' of 'Point' objects>,\n",
       "              '__weakref__': <attribute '__weakref__' of 'Point' objects>,\n",
       "              '__doc__': None,\n",
       "              'double': <function __main__.double(p)>})"
      ]
     },
     "execution_count": 99,
     "metadata": {},
     "output_type": "execute_result"
    }
   ],
   "source": [
    "Point.__dict__"
   ]
  },
  {
   "cell_type": "code",
   "execution_count": 100,
   "id": "62e12964-2c73-45cc-9c5b-c585b5b90e1e",
   "metadata": {},
   "outputs": [
    {
     "data": {
      "text/plain": [
       "Point(20, 40)"
      ]
     },
     "execution_count": 100,
     "metadata": {},
     "output_type": "execute_result"
    }
   ],
   "source": [
    "p2.double()"
   ]
  },
  {
   "cell_type": "markdown",
   "id": "5e3a712f-8d5e-4f02-9f6f-f80544c98073",
   "metadata": {},
   "source": [
    "### Duck Typing"
   ]
  },
  {
   "cell_type": "code",
   "execution_count": 101,
   "id": "32e11b5c-f1bc-47a3-a20c-bd6526248a1a",
   "metadata": {},
   "outputs": [],
   "source": [
    "def wordcount(fileobj):\n",
    "    return len(fileobj.read().split())"
   ]
  },
  {
   "cell_type": "code",
   "execution_count": 104,
   "id": "9d0887e5-2132-4ed7-88ba-96975220b45c",
   "metadata": {},
   "outputs": [],
   "source": [
    "f = open(\"files/10.txt\")"
   ]
  },
  {
   "cell_type": "code",
   "execution_count": 105,
   "id": "1192a5e4-986a-47fe-a301-496291ab8693",
   "metadata": {},
   "outputs": [
    {
     "data": {
      "text/plain": [
       "10"
      ]
     },
     "execution_count": 105,
     "metadata": {},
     "output_type": "execute_result"
    }
   ],
   "source": [
    "wordcount(f)"
   ]
  },
  {
   "cell_type": "code",
   "execution_count": 106,
   "id": "52026fc7-90ed-409e-b1b0-1875ab0d4b26",
   "metadata": {},
   "outputs": [],
   "source": [
    "class DummyFile:\n",
    "    def read(self):\n",
    "        return \"one two three\""
   ]
  },
  {
   "cell_type": "code",
   "execution_count": 107,
   "id": "4801f55f-55b4-43de-8ede-735878a72869",
   "metadata": {},
   "outputs": [
    {
     "data": {
      "text/plain": [
       "3"
      ]
     },
     "execution_count": 107,
     "metadata": {},
     "output_type": "execute_result"
    }
   ],
   "source": [
    "wordcount(DummyFile())"
   ]
  },
  {
   "cell_type": "markdown",
   "id": "0d5527ee-863f-481a-939d-11b85c88a08d",
   "metadata": {},
   "source": [
    "### Example: Github Library"
   ]
  },
  {
   "cell_type": "code",
   "execution_count": 158,
   "id": "d4ea605d-215e-4020-9ee0-add4ede3d4db",
   "metadata": {},
   "outputs": [],
   "source": [
    "import requests\n",
    "\n",
    "class Github:\n",
    "    def __init__(self, token):\n",
    "        self.token = token\n",
    "\n",
    "    def get_repo(self, full_name):\n",
    "        url = f\"https://api.github.com/repos/{full_name}\"\n",
    "        data = requests.get(url).json()\n",
    "        return Repository(data)\n",
    "        \n",
    "    def get_user(self, username):\n",
    "        pass\n",
    "\n",
    "    def search_repos(self, q):\n",
    "        url = \"https://api.github.com/search/repositories\"\n",
    "        params = {\n",
    "            \"q\": q\n",
    "        }\n",
    "        response = requests.get(url, params).json()\n",
    "        return [Repository(item) for item in response['items']]\n",
    "\n",
    "class User:\n",
    "    def get_repos(self):\n",
    "        pass\n",
    "\n",
    "class Repository:\n",
    "    def __init__(self, data):\n",
    "        self.full_name = data['full_name']\n",
    "        self.stars = data['stargazers_count']\n",
    "        \n",
    "    def get_issue(self, number):\n",
    "        url = f\"https://api.github.com/repos/{self.full_name}/issues/{number}\"\n",
    "        data = requests.get(url).json()\n",
    "        return Issue(self, data)\n",
    "        \n",
    "    def get_issues(self):\n",
    "        url = f\"https://api.github.com/repos/{self.full_name}/issues\"\n",
    "        items = requests.get(url).json()\n",
    "        return [Issue(self, item) for item in items]\n",
    "\n",
    "    def get_contributors(self):\n",
    "        pass\n",
    "\n",
    "    def create_issue(self, title, description):\n",
    "        pass\n",
    "\n",
    "    def __repr__(self):\n",
    "        return f\"<Repo {self.full_name!r}>\"\n",
    "\n",
    "class Issue:\n",
    "    def __init__(self, repo, data):\n",
    "        self.data = data\n",
    "        self.repo = repo\n",
    "        self.number = data['number']\n",
    "        self.title = data['title']\n",
    "        self.body = data['body']\n",
    "        \n",
    "    def close(self):\n",
    "        pass\n",
    "\n",
    "    def __repr__(self):\n",
    "        return f\"<Issue #{self.number} {self.title!r}>\""
   ]
  },
  {
   "cell_type": "code",
   "execution_count": 159,
   "id": "c30f8ca8-2c63-45fe-88f5-94565cb29ce0",
   "metadata": {},
   "outputs": [],
   "source": [
    "g = Github(None)"
   ]
  },
  {
   "cell_type": "code",
   "execution_count": 160,
   "id": "8b10d100-5c67-4e09-9f60-5de320115c1f",
   "metadata": {},
   "outputs": [],
   "source": [
    "# repos = g.search_repos(\"python\")"
   ]
  },
  {
   "cell_type": "code",
   "execution_count": 161,
   "id": "580495d1-0702-4632-afb0-8042fc13541f",
   "metadata": {},
   "outputs": [],
   "source": [
    "# for repo in repos:\n",
    "#     print(repo.full_name, repo.stars)"
   ]
  },
  {
   "cell_type": "code",
   "execution_count": null,
   "id": "62f1162e-f279-4c8b-aeb5-63954c3c03b8",
   "metadata": {},
   "outputs": [],
   "source": []
  },
  {
   "cell_type": "code",
   "execution_count": 162,
   "id": "61186e0e-1815-44b8-ba30-98d83c616921",
   "metadata": {},
   "outputs": [],
   "source": [
    "repo = g.get_repo(\"pipalacademy/zeomega-python-2024\")"
   ]
  },
  {
   "cell_type": "code",
   "execution_count": 163,
   "id": "84d6639a-bd43-4ae4-8948-d00c7ba5be16",
   "metadata": {},
   "outputs": [
    {
     "data": {
      "text/plain": [
       "<Repo 'pipalacademy/zeomega-python-2024'>"
      ]
     },
     "execution_count": 163,
     "metadata": {},
     "output_type": "execute_result"
    }
   ],
   "source": [
    "repo"
   ]
  },
  {
   "cell_type": "code",
   "execution_count": 165,
   "id": "a4d375e5-6fa1-44c6-a8f8-747c44f8cb62",
   "metadata": {},
   "outputs": [],
   "source": [
    "issues = repo.get_issues()"
   ]
  },
  {
   "cell_type": "code",
   "execution_count": 166,
   "id": "7090e654-8e20-48c1-aa65-9ddd0b3148fe",
   "metadata": {},
   "outputs": [
    {
     "data": {
      "text/plain": [
       "<Issue #1 'Test Issue'>"
      ]
     },
     "execution_count": 166,
     "metadata": {},
     "output_type": "execute_result"
    }
   ],
   "source": [
    "issues[0]"
   ]
  },
  {
   "cell_type": "code",
   "execution_count": 167,
   "id": "a0df0052-1e27-4378-b75b-51bdfb65111a",
   "metadata": {},
   "outputs": [
    {
     "data": {
      "text/plain": [
       "'Test Issue'"
      ]
     },
     "execution_count": 167,
     "metadata": {},
     "output_type": "execute_result"
    }
   ],
   "source": [
    "issues[0].title"
   ]
  },
  {
   "cell_type": "code",
   "execution_count": 168,
   "id": "ec98da9a-c893-45a9-a10a-45399660667a",
   "metadata": {},
   "outputs": [
    {
     "data": {
      "text/plain": [
       "'hello, world!'"
      ]
     },
     "execution_count": 168,
     "metadata": {},
     "output_type": "execute_result"
    }
   ],
   "source": [
    "issues[0].body"
   ]
  },
  {
   "cell_type": "markdown",
   "id": "cac022d4-1e94-4ea3-9f0c-bd8b4d8f5211",
   "metadata": {},
   "source": [
    "### Class Inheritance"
   ]
  },
  {
   "cell_type": "code",
   "execution_count": 169,
   "id": "01619c7e-d6a7-40de-83d1-765b1f8ff4c7",
   "metadata": {},
   "outputs": [],
   "source": [
    "class Point:\n",
    "    def __init__(self, x, y):\n",
    "        self.x = x\n",
    "        self.y = y\n",
    "\n",
    "    def display(self):\n",
    "        print(\"x:\", self.x)\n",
    "        print(\"y:\", self.y)        "
   ]
  },
  {
   "cell_type": "code",
   "execution_count": 170,
   "id": "b841f44e-4b95-49cc-8be7-76e8fe2f4d9a",
   "metadata": {},
   "outputs": [],
   "source": [
    "p = Point(2, 3)"
   ]
  },
  {
   "cell_type": "code",
   "execution_count": 171,
   "id": "104c59db-3ea3-4cc9-9d2e-b4d6438c4fab",
   "metadata": {},
   "outputs": [
    {
     "name": "stdout",
     "output_type": "stream",
     "text": [
      "x: 2\n",
      "y: 3\n"
     ]
    }
   ],
   "source": [
    "p.display()"
   ]
  },
  {
   "cell_type": "code",
   "execution_count": 172,
   "id": "c63c76f5-9464-4cc4-9af4-25f86bf5be7e",
   "metadata": {},
   "outputs": [],
   "source": [
    "class Point3D(Point):\n",
    "    def __init__(self, x, y, z):\n",
    "        super().__init__(x, y)\n",
    "        self.z = z\n",
    "\n",
    "    def display(self):\n",
    "        super().display()\n",
    "        print(\"z:\", self.z)"
   ]
  },
  {
   "cell_type": "code",
   "execution_count": 173,
   "id": "df6cd6fe-c5fb-4ade-83ac-729256c8c02f",
   "metadata": {},
   "outputs": [],
   "source": [
    "p3 = Point3D(1, 2, 3)"
   ]
  },
  {
   "cell_type": "code",
   "execution_count": 174,
   "id": "176128c3-d667-415b-95f0-23d398c86067",
   "metadata": {},
   "outputs": [
    {
     "name": "stdout",
     "output_type": "stream",
     "text": [
      "x: 1\n",
      "y: 2\n",
      "z: 3\n"
     ]
    }
   ],
   "source": [
    "p3.display()"
   ]
  },
  {
   "cell_type": "markdown",
   "id": "1375dfc8-3b21-41ee-9fb5-1b842f928c1b",
   "metadata": {},
   "source": [
    "### Special Methods"
   ]
  },
  {
   "cell_type": "code",
   "execution_count": 175,
   "id": "b6574bc5-433e-4ca0-8c83-af522b849f59",
   "metadata": {},
   "outputs": [],
   "source": [
    "x = 1\n",
    "y = 2"
   ]
  },
  {
   "cell_type": "code",
   "execution_count": 176,
   "id": "28fdde8f-1ec4-482b-b887-fc77d0952874",
   "metadata": {},
   "outputs": [
    {
     "data": {
      "text/plain": [
       "3"
      ]
     },
     "execution_count": 176,
     "metadata": {},
     "output_type": "execute_result"
    }
   ],
   "source": [
    "x + y"
   ]
  },
  {
   "cell_type": "code",
   "execution_count": 177,
   "id": "9bddee2b-f369-43ad-a0ff-5444a96265ee",
   "metadata": {},
   "outputs": [],
   "source": [
    "s1 = \"foo\"\n",
    "s2 = \"bar\""
   ]
  },
  {
   "cell_type": "code",
   "execution_count": 178,
   "id": "1ba4ee60-b9cd-4f09-a6fc-895ded91cbe1",
   "metadata": {},
   "outputs": [
    {
     "data": {
      "text/plain": [
       "'foobar'"
      ]
     },
     "execution_count": 178,
     "metadata": {},
     "output_type": "execute_result"
    }
   ],
   "source": [
    "s1 + s2"
   ]
  },
  {
   "cell_type": "code",
   "execution_count": 179,
   "id": "40ee1839-76fa-48dd-ae85-be20e4f145da",
   "metadata": {},
   "outputs": [
    {
     "data": {
      "text/plain": [
       "3"
      ]
     },
     "execution_count": 179,
     "metadata": {},
     "output_type": "execute_result"
    }
   ],
   "source": [
    "x + y"
   ]
  },
  {
   "cell_type": "code",
   "execution_count": 180,
   "id": "aad3c209-23aa-4320-92e8-ee23714fc3a5",
   "metadata": {},
   "outputs": [
    {
     "data": {
      "text/plain": [
       "3"
      ]
     },
     "execution_count": 180,
     "metadata": {},
     "output_type": "execute_result"
    }
   ],
   "source": [
    "# is same as\n",
    "x.__add__(y)"
   ]
  },
  {
   "cell_type": "code",
   "execution_count": 183,
   "id": "825d204f-9795-4d73-930e-73a254125296",
   "metadata": {},
   "outputs": [],
   "source": [
    "class Point:\n",
    "    def __init__(self, x, y):\n",
    "        self.x = x\n",
    "        self.y = y\n",
    "\n",
    "    def __add__(self, p):\n",
    "        x = self.x + p.x\n",
    "        y = self.y + p.y\n",
    "        return Point(x, y)\n",
    "\n",
    "    def __repr__(self):\n",
    "        return f\"Point({self.x}, {self.y})\""
   ]
  },
  {
   "cell_type": "code",
   "execution_count": 184,
   "id": "761021d4-0fd8-4d8f-8a16-cd87ffb08b42",
   "metadata": {},
   "outputs": [],
   "source": [
    "p1 = Point(1, 2)\n",
    "p2 = Point(10, 20)"
   ]
  },
  {
   "cell_type": "code",
   "execution_count": 186,
   "id": "1e4afb15-d09c-4d20-89b2-54db10f6fe7a",
   "metadata": {},
   "outputs": [
    {
     "data": {
      "text/plain": [
       "Point(11, 22)"
      ]
     },
     "execution_count": 186,
     "metadata": {},
     "output_type": "execute_result"
    }
   ],
   "source": [
    "p1+p2"
   ]
  },
  {
   "cell_type": "code",
   "execution_count": 187,
   "id": "93390984-f3cf-4912-9908-17dd64d9305c",
   "metadata": {},
   "outputs": [
    {
     "data": {
      "text/plain": [
       "1"
      ]
     },
     "execution_count": 187,
     "metadata": {},
     "output_type": "execute_result"
    }
   ],
   "source": [
    "d = {\"x\": 1}\n",
    "d[\"x\"]"
   ]
  },
  {
   "cell_type": "code",
   "execution_count": 188,
   "id": "7cc6c1fc-0a28-433b-8abf-981f73270f6b",
   "metadata": {},
   "outputs": [
    {
     "data": {
      "text/plain": [
       "1"
      ]
     },
     "execution_count": 188,
     "metadata": {},
     "output_type": "execute_result"
    }
   ],
   "source": [
    "d.__getitem__(\"x\")"
   ]
  },
  {
   "cell_type": "code",
   "execution_count": null,
   "id": "8cb4ec9d-0bf1-45ca-b34f-8b5b1c440b8c",
   "metadata": {},
   "outputs": [],
   "source": []
  },
  {
   "cell_type": "code",
   "execution_count": 189,
   "id": "648db71f-0612-4aba-a154-f7b8e69e78f8",
   "metadata": {},
   "outputs": [],
   "source": [
    "class UpperDict:\n",
    "    def __getitem__(self, key):\n",
    "        return key.upper()"
   ]
  },
  {
   "cell_type": "code",
   "execution_count": 190,
   "id": "8b1b329b-ff97-440a-930c-7830d9e72fad",
   "metadata": {},
   "outputs": [],
   "source": [
    "d = UpperDict()"
   ]
  },
  {
   "cell_type": "code",
   "execution_count": 191,
   "id": "85f45eba-6a7d-4c5f-9efd-98ca9cb5a26e",
   "metadata": {},
   "outputs": [
    {
     "data": {
      "text/plain": [
       "'PYTHON'"
      ]
     },
     "execution_count": 191,
     "metadata": {},
     "output_type": "execute_result"
    }
   ],
   "source": [
    "d[\"python\"]"
   ]
  },
  {
   "cell_type": "markdown",
   "id": "9c70389e-1439-47af-99c3-4769320e8729",
   "metadata": {},
   "source": [
    "## Exception Handling"
   ]
  },
  {
   "cell_type": "code",
   "execution_count": 192,
   "id": "46af2eaa-d925-40c4-89d5-7199f1ca0926",
   "metadata": {},
   "outputs": [
    {
     "ename": "NameError",
     "evalue": "name 'no_such_variable' is not defined",
     "output_type": "error",
     "traceback": [
      "\u001b[0;31m---------------------------------------------------------------------------\u001b[0m",
      "\u001b[0;31mNameError\u001b[0m                                 Traceback (most recent call last)",
      "Cell \u001b[0;32mIn[192], line 1\u001b[0m\n\u001b[0;32m----> 1\u001b[0m \u001b[43mno_such_variable\u001b[49m\n",
      "\u001b[0;31mNameError\u001b[0m: name 'no_such_variable' is not defined"
     ]
    }
   ],
   "source": [
    "no_such_variable"
   ]
  },
  {
   "cell_type": "code",
   "execution_count": 193,
   "id": "1e3101f8-7ada-494c-b95a-dfff073f2762",
   "metadata": {},
   "outputs": [
    {
     "ename": "ValueError",
     "evalue": "invalid literal for int() with base 10: 'bad-number'",
     "output_type": "error",
     "traceback": [
      "\u001b[0;31m---------------------------------------------------------------------------\u001b[0m",
      "\u001b[0;31mValueError\u001b[0m                                Traceback (most recent call last)",
      "Cell \u001b[0;32mIn[193], line 1\u001b[0m\n\u001b[0;32m----> 1\u001b[0m \u001b[38;5;28;43mint\u001b[39;49m\u001b[43m(\u001b[49m\u001b[38;5;124;43m\"\u001b[39;49m\u001b[38;5;124;43mbad-number\u001b[39;49m\u001b[38;5;124;43m\"\u001b[39;49m\u001b[43m)\u001b[49m\n",
      "\u001b[0;31mValueError\u001b[0m: invalid literal for int() with base 10: 'bad-number'"
     ]
    }
   ],
   "source": [
    "int(\"bad-number\")"
   ]
  },
  {
   "cell_type": "code",
   "execution_count": 194,
   "id": "bb4b650b-26e5-44b9-8e60-a91a48d7a7d3",
   "metadata": {},
   "outputs": [
    {
     "ename": "FileNotFoundError",
     "evalue": "[Errno 2] No such file or directory: 'no-file'",
     "output_type": "error",
     "traceback": [
      "\u001b[0;31m---------------------------------------------------------------------------\u001b[0m",
      "\u001b[0;31mFileNotFoundError\u001b[0m                         Traceback (most recent call last)",
      "Cell \u001b[0;32mIn[194], line 1\u001b[0m\n\u001b[0;32m----> 1\u001b[0m \u001b[38;5;28;43mopen\u001b[39;49m\u001b[43m(\u001b[49m\u001b[38;5;124;43m\"\u001b[39;49m\u001b[38;5;124;43mno-file\u001b[39;49m\u001b[38;5;124;43m\"\u001b[39;49m\u001b[43m)\u001b[49m\n",
      "File \u001b[0;32m/opt/tljh/user/lib/python3.10/site-packages/IPython/core/interactiveshell.py:324\u001b[0m, in \u001b[0;36m_modified_open\u001b[0;34m(file, *args, **kwargs)\u001b[0m\n\u001b[1;32m    317\u001b[0m \u001b[38;5;28;01mif\u001b[39;00m file \u001b[38;5;129;01min\u001b[39;00m {\u001b[38;5;241m0\u001b[39m, \u001b[38;5;241m1\u001b[39m, \u001b[38;5;241m2\u001b[39m}:\n\u001b[1;32m    318\u001b[0m     \u001b[38;5;28;01mraise\u001b[39;00m \u001b[38;5;167;01mValueError\u001b[39;00m(\n\u001b[1;32m    319\u001b[0m         \u001b[38;5;124mf\u001b[39m\u001b[38;5;124m\"\u001b[39m\u001b[38;5;124mIPython won\u001b[39m\u001b[38;5;124m'\u001b[39m\u001b[38;5;124mt let you open fd=\u001b[39m\u001b[38;5;132;01m{\u001b[39;00mfile\u001b[38;5;132;01m}\u001b[39;00m\u001b[38;5;124m by default \u001b[39m\u001b[38;5;124m\"\u001b[39m\n\u001b[1;32m    320\u001b[0m         \u001b[38;5;124m\"\u001b[39m\u001b[38;5;124mas it is likely to crash IPython. If you know what you are doing, \u001b[39m\u001b[38;5;124m\"\u001b[39m\n\u001b[1;32m    321\u001b[0m         \u001b[38;5;124m\"\u001b[39m\u001b[38;5;124myou can use builtins\u001b[39m\u001b[38;5;124m'\u001b[39m\u001b[38;5;124m open.\u001b[39m\u001b[38;5;124m\"\u001b[39m\n\u001b[1;32m    322\u001b[0m     )\n\u001b[0;32m--> 324\u001b[0m \u001b[38;5;28;01mreturn\u001b[39;00m \u001b[43mio_open\u001b[49m\u001b[43m(\u001b[49m\u001b[43mfile\u001b[49m\u001b[43m,\u001b[49m\u001b[43m \u001b[49m\u001b[38;5;241;43m*\u001b[39;49m\u001b[43margs\u001b[49m\u001b[43m,\u001b[49m\u001b[43m \u001b[49m\u001b[38;5;241;43m*\u001b[39;49m\u001b[38;5;241;43m*\u001b[39;49m\u001b[43mkwargs\u001b[49m\u001b[43m)\u001b[49m\n",
      "\u001b[0;31mFileNotFoundError\u001b[0m: [Errno 2] No such file or directory: 'no-file'"
     ]
    }
   ],
   "source": [
    "open(\"no-file\")"
   ]
  },
  {
   "cell_type": "markdown",
   "id": "a529b68d-7170-4aa3-989b-398eeded8c53",
   "metadata": {},
   "source": [
    "How to handle these exceptions?"
   ]
  },
  {
   "cell_type": "code",
   "execution_count": 195,
   "id": "4335587d-bdb0-43e4-88ae-0b5ffa4bf675",
   "metadata": {},
   "outputs": [
    {
     "ename": "ValueError",
     "evalue": "invalid literal for int() with base 10: 'bad-value'",
     "output_type": "error",
     "traceback": [
      "\u001b[0;31m---------------------------------------------------------------------------\u001b[0m",
      "\u001b[0;31mValueError\u001b[0m                                Traceback (most recent call last)",
      "Cell \u001b[0;32mIn[195], line 1\u001b[0m\n\u001b[0;32m----> 1\u001b[0m \u001b[38;5;28;43mint\u001b[39;49m\u001b[43m(\u001b[49m\u001b[38;5;124;43m\"\u001b[39;49m\u001b[38;5;124;43mbad-value\u001b[39;49m\u001b[38;5;124;43m\"\u001b[39;49m\u001b[43m)\u001b[49m\n",
      "\u001b[0;31mValueError\u001b[0m: invalid literal for int() with base 10: 'bad-value'"
     ]
    }
   ],
   "source": [
    "int(\"bad-value\")"
   ]
  },
  {
   "cell_type": "code",
   "execution_count": 196,
   "id": "11d3cfeb-f562-4f59-9438-a5b19f37ef12",
   "metadata": {},
   "outputs": [],
   "source": [
    "def toint(strvalue):\n",
    "    \"\"\"Converts a string to integer.\n",
    "    If the conversion fails, returns 0 along with a warning.\n",
    "    \"\"\"\n",
    "    try:\n",
    "        return int(strvalue)\n",
    "    except ValueError as e:\n",
    "        print(e)\n",
    "        print(\"Bad-value:\", strvalue)\n",
    "        return 0"
   ]
  },
  {
   "cell_type": "code",
   "execution_count": 197,
   "id": "6f17c22d-8485-44c1-8d74-fa15ee7a5215",
   "metadata": {},
   "outputs": [
    {
     "data": {
      "text/plain": [
       "43"
      ]
     },
     "execution_count": 197,
     "metadata": {},
     "output_type": "execute_result"
    }
   ],
   "source": [
    "toint(\"43\")"
   ]
  },
  {
   "cell_type": "code",
   "execution_count": 198,
   "id": "d3131221-fa32-4c44-9c3b-471c02544e4d",
   "metadata": {},
   "outputs": [
    {
     "name": "stdout",
     "output_type": "stream",
     "text": [
      "invalid literal for int() with base 10: 'bad'\n",
      "Bad-value: bad\n"
     ]
    },
    {
     "data": {
      "text/plain": [
       "0"
      ]
     },
     "execution_count": 198,
     "metadata": {},
     "output_type": "execute_result"
    }
   ],
   "source": [
    "toint(\"bad\")"
   ]
  },
  {
   "cell_type": "markdown",
   "id": "328fa922-00eb-4dae-8acf-cae7d6b669a4",
   "metadata": {},
   "source": [
    "We can also handle multiple exceptions at once:\n",
    "\n",
    "```python\n",
    "\n",
    "try:\n",
    "    some_code()\n",
    "except FileNotFoundError:\n",
    "    ...\n",
    "except ValueError:\n",
    "    ...\n",
    "else:\n",
    "    ...\n",
    "\n",
    "```"
   ]
  },
  {
   "cell_type": "markdown",
   "id": "5fe0c9dc-1275-43d0-8460-42be2005050c",
   "metadata": {},
   "source": [
    "### Raising Exceptions"
   ]
  },
  {
   "cell_type": "code",
   "execution_count": 199,
   "id": "d867d9f6-244c-4b89-bfed-38cdc704405d",
   "metadata": {},
   "outputs": [],
   "source": [
    "def f():\n",
    "    for i in range(5):\n",
    "        g()\n",
    "\n",
    "def g():\n",
    "    h()\n",
    "\n",
    "def h():\n",
    "    raise Exception(\"Something went wrong!\")"
   ]
  },
  {
   "cell_type": "code",
   "execution_count": 200,
   "id": "12537561-51af-4b32-89b5-41b8e7cb16ec",
   "metadata": {},
   "outputs": [
    {
     "ename": "Exception",
     "evalue": "Something went wrong!",
     "output_type": "error",
     "traceback": [
      "\u001b[0;31m---------------------------------------------------------------------------\u001b[0m",
      "\u001b[0;31mException\u001b[0m                                 Traceback (most recent call last)",
      "Cell \u001b[0;32mIn[200], line 1\u001b[0m\n\u001b[0;32m----> 1\u001b[0m \u001b[43mf\u001b[49m\u001b[43m(\u001b[49m\u001b[43m)\u001b[49m\n",
      "Cell \u001b[0;32mIn[199], line 3\u001b[0m, in \u001b[0;36mf\u001b[0;34m()\u001b[0m\n\u001b[1;32m      1\u001b[0m \u001b[38;5;28;01mdef\u001b[39;00m \u001b[38;5;21mf\u001b[39m():\n\u001b[1;32m      2\u001b[0m     \u001b[38;5;28;01mfor\u001b[39;00m i \u001b[38;5;129;01min\u001b[39;00m \u001b[38;5;28mrange\u001b[39m(\u001b[38;5;241m5\u001b[39m):\n\u001b[0;32m----> 3\u001b[0m         \u001b[43mg\u001b[49m\u001b[43m(\u001b[49m\u001b[43m)\u001b[49m\n",
      "Cell \u001b[0;32mIn[199], line 6\u001b[0m, in \u001b[0;36mg\u001b[0;34m()\u001b[0m\n\u001b[1;32m      5\u001b[0m \u001b[38;5;28;01mdef\u001b[39;00m \u001b[38;5;21mg\u001b[39m():\n\u001b[0;32m----> 6\u001b[0m     \u001b[43mh\u001b[49m\u001b[43m(\u001b[49m\u001b[43m)\u001b[49m\n",
      "Cell \u001b[0;32mIn[199], line 9\u001b[0m, in \u001b[0;36mh\u001b[0;34m()\u001b[0m\n\u001b[1;32m      8\u001b[0m \u001b[38;5;28;01mdef\u001b[39;00m \u001b[38;5;21mh\u001b[39m():\n\u001b[0;32m----> 9\u001b[0m     \u001b[38;5;28;01mraise\u001b[39;00m \u001b[38;5;167;01mException\u001b[39;00m(\u001b[38;5;124m\"\u001b[39m\u001b[38;5;124mSomething went wrong!\u001b[39m\u001b[38;5;124m\"\u001b[39m)\n",
      "\u001b[0;31mException\u001b[0m: Something went wrong!"
     ]
    }
   ],
   "source": [
    "f()"
   ]
  },
  {
   "cell_type": "markdown",
   "id": "07337861-2f1d-4d39-a8c4-bf74060b8be9",
   "metadata": {},
   "source": [
    "How to create our own exceptions? "
   ]
  },
  {
   "cell_type": "code",
   "execution_count": 201,
   "id": "f883853f-334a-47e1-a902-b71115ec1633",
   "metadata": {},
   "outputs": [],
   "source": [
    "class GithubException(Exception):\n",
    "    pass"
   ]
  },
  {
   "cell_type": "code",
   "execution_count": 202,
   "id": "2a6ece09-3321-42c3-9345-9e73d922af38",
   "metadata": {},
   "outputs": [],
   "source": [
    "def get_user(username):\n",
    "    response = \"..\"\n",
    "    if not response:\n",
    "        raise GithubException(f\"Invalid User: {username}\")"
   ]
  },
  {
   "cell_type": "code",
   "execution_count": 203,
   "id": "fa24c191-137d-466a-8fbf-d2c85848a801",
   "metadata": {},
   "outputs": [
    {
     "data": {
      "text/html": [
       "\n",
       "        <strong>Problem: Sum File</strong>\n",
       "\n",
       "        <p><p>Write a program sumfile.py that takes a filename as command-line argument and prints sum of all numbers in that file. It is expected that the file will have one number for every line. The program should ignore the line if it is not a valid number after printing a warning message. The warning message should be printed to sys.stderr.</p>\n",
       "<pre><code>$ python sumfile.py files/sumfile/numbers.txt\n",
       "WARNING: Bad number 'N/A'\n",
       "WARNING: Bad number 'xxx'\n",
       "15\n",
       "</code></pre>\n",
       "<p>Here is a sample input file.</p>\n",
       "<pre><code>$ cat files/numbers.txt\n",
       "1\n",
       "2\n",
       "3\n",
       "N/A\n",
       "4\n",
       "xxx\n",
       "5\n",
       "</code></pre>\n",
       "<p><strong>Hint:</strong></p>\n",
       "<p>You can print a messge to stderr using:</p>\n",
       "<pre><code>print(&quot;message&quot;, file=sys.stderr)\n",
       "</code></pre>\n",
       "        </p>\n",
       "\n",
       "        <p>You can verify your solution using:\n",
       "        <pre>%verify_problem sumfile-with-error-handling</pre>\n",
       "        </p>\n",
       "        "
      ],
      "text/plain": [
       "<Probem: sumfile-with-error-handling>"
      ]
     },
     "metadata": {},
     "output_type": "display_data"
    }
   ],
   "source": [
    "%load_problem sumfile-with-error-handling"
   ]
  },
  {
   "cell_type": "code",
   "execution_count": 210,
   "id": "60736911-16e6-4881-9082-e9f5bee07dc5",
   "metadata": {},
   "outputs": [
    {
     "name": "stdout",
     "output_type": "stream",
     "text": [
      "Overwriting sumfile.py\n"
     ]
    }
   ],
   "source": [
    "%%file sumfile.py\n",
    "import sys\n",
    "filename = sys.argv[1]\n",
    "\n",
    "#numbers = [int(line) for line in open(filename)]\n",
    "# print(sum(numbers))\n",
    "\n",
    "total = 0\n",
    "for line in open(filename):\n",
    "    try:\n",
    "        n = int(line)\n",
    "        total += n\n",
    "    except ValueError:\n",
    "        print(\"WARNING: Invalid number\", repr(line), file=sys.stderr)\n",
    "print(total)"
   ]
  },
  {
   "cell_type": "code",
   "execution_count": 211,
   "id": "5a00bb02-b84a-4b69-9664-53f0553cf1b8",
   "metadata": {},
   "outputs": [
    {
     "name": "stdout",
     "output_type": "stream",
     "text": [
      "WARNING: Invalid number 'N/A\\n'\n",
      "WARNING: Invalid number 'xxx\\n'\n",
      "15\n"
     ]
    }
   ],
   "source": [
    "!python sumfile.py files/sumfile/numbers.txt"
   ]
  },
  {
   "cell_type": "code",
   "execution_count": 216,
   "id": "f3436b17-7923-487c-82bc-9ef5e675ab40",
   "metadata": {},
   "outputs": [
    {
     "name": "stdout",
     "output_type": "stream",
     "text": [
      "Overwriting sumfile.py\n"
     ]
    }
   ],
   "source": [
    "%%file sumfile.py\n",
    "import sys\n",
    "filename = sys.argv[1]\n",
    "\n",
    "def safeint(strvalue):\n",
    "    try:\n",
    "        return int(strvalue)\n",
    "    except ValueError:\n",
    "        print(\"WARNING: Invalid number\", repr(strvalue), file=sys.stderr)\n",
    "        return 0\n",
    "        \n",
    "numbers = [safeint(line) for line in open(filename)]\n",
    "print(sum(numbers))"
   ]
  },
  {
   "cell_type": "code",
   "execution_count": 217,
   "id": "f28e345c-30d9-4c99-adc1-7beecc72f56d",
   "metadata": {},
   "outputs": [
    {
     "name": "stdout",
     "output_type": "stream",
     "text": [
      "WARNING: Invalid number 'N/A\\n'\n",
      "WARNING: Invalid number 'xxx\\n'\n",
      "15\n"
     ]
    }
   ],
   "source": [
    "!python sumfile.py files/sumfile/numbers.txt"
   ]
  },
  {
   "cell_type": "markdown",
   "id": "47cc9331-a201-455f-ab4a-50079009cd58",
   "metadata": {},
   "source": [
    "## Invoking External Applications"
   ]
  },
  {
   "cell_type": "code",
   "execution_count": 218,
   "id": "1abf32c4-3bb9-4f25-9832-ab76e43bd8a0",
   "metadata": {},
   "outputs": [
    {
     "name": "stdout",
     "output_type": "stream",
     "text": [
      "/opt/zeomega-python-2024/book/live-notes\n"
     ]
    }
   ],
   "source": [
    "!pwd"
   ]
  },
  {
   "cell_type": "code",
   "execution_count": 219,
   "id": "52c17469-093c-4886-919b-b886b0e69092",
   "metadata": {},
   "outputs": [
    {
     "data": {
      "text/plain": [
       "0"
      ]
     },
     "execution_count": 219,
     "metadata": {},
     "output_type": "execute_result"
    },
    {
     "name": "stdout",
     "output_type": "stream",
     "text": [
      "/opt/zeomega-python-2024/book/live-notes\n"
     ]
    }
   ],
   "source": [
    "os.system(\"pwd\")"
   ]
  },
  {
   "cell_type": "code",
   "execution_count": 220,
   "id": "e194ed52-b86c-40cd-a7c5-e572d8170092",
   "metadata": {},
   "outputs": [
    {
     "data": {
      "text/plain": [
       "'/opt/zeomega-python-2024/book/live-notes\\n'"
      ]
     },
     "execution_count": 220,
     "metadata": {},
     "output_type": "execute_result"
    }
   ],
   "source": [
    "os.popen(\"pwd\").read()"
   ]
  },
  {
   "cell_type": "markdown",
   "id": "84906141-3946-46bb-8e7b-0cd1af87aa75",
   "metadata": {},
   "source": [
    "### The subprocess module"
   ]
  },
  {
   "cell_type": "code",
   "execution_count": 221,
   "id": "d7488040-0a89-4f64-86b9-300c4ee82f10",
   "metadata": {},
   "outputs": [],
   "source": [
    "import subprocess"
   ]
  },
  {
   "cell_type": "markdown",
   "id": "c426243a-422d-4e75-8219-cc7eee822df0",
   "metadata": {},
   "source": [
    "Invoking a command."
   ]
  },
  {
   "cell_type": "code",
   "execution_count": 222,
   "id": "77739dec-d994-4b08-8633-200a88cea9ed",
   "metadata": {},
   "outputs": [
    {
     "data": {
      "text/plain": [
       "0"
      ]
     },
     "execution_count": 222,
     "metadata": {},
     "output_type": "execute_result"
    },
    {
     "name": "stdout",
     "output_type": "stream",
     "text": [
      "hello\n"
     ]
    }
   ],
   "source": [
    "subprocess.call([\"echo\", \"hello\"])"
   ]
  },
  {
   "cell_type": "code",
   "execution_count": 223,
   "id": "2d3e6092-e49d-4c73-a8d1-afcbed64e901",
   "metadata": {},
   "outputs": [
    {
     "name": "stdout",
     "output_type": "stream",
     "text": [
      "hello>world\n"
     ]
    },
    {
     "data": {
      "text/plain": [
       "0"
      ]
     },
     "execution_count": 223,
     "metadata": {},
     "output_type": "execute_result"
    }
   ],
   "source": [
    "subprocess.call([\"echo\", \"hello>world\"])"
   ]
  },
  {
   "cell_type": "markdown",
   "id": "04d02753-cb4b-46d9-8431-816f8b21cf9f",
   "metadata": {},
   "source": [
    "The `os.system` will treat `>` as output redirection."
   ]
  },
  {
   "cell_type": "code",
   "execution_count": 224,
   "id": "47a2869b-e5cd-4a16-9282-ec53ea4d5acd",
   "metadata": {},
   "outputs": [
    {
     "data": {
      "text/plain": [
       "0"
      ]
     },
     "execution_count": 224,
     "metadata": {},
     "output_type": "execute_result"
    }
   ],
   "source": [
    "os.system(\"echo hello > world\")"
   ]
  },
  {
   "cell_type": "code",
   "execution_count": 225,
   "id": "23902569-7369-4040-bd33-22d9f7a8f1da",
   "metadata": {},
   "outputs": [
    {
     "name": "stdout",
     "output_type": "stream",
     "text": [
      "hello\n"
     ]
    }
   ],
   "source": [
    "!cat world"
   ]
  },
  {
   "cell_type": "markdown",
   "id": "164406c2-e0d7-4bed-9641-afbf2a1fb7d1",
   "metadata": {},
   "source": [
    "Let's see how to read the output from a command."
   ]
  },
  {
   "cell_type": "code",
   "execution_count": 226,
   "id": "2d0156ab-c1e6-4110-aee7-76c3324838e8",
   "metadata": {},
   "outputs": [
    {
     "name": "stdout",
     "output_type": "stream",
     "text": [
      "hello\n"
     ]
    }
   ],
   "source": [
    "p = subprocess.Popen([\"echo\", \"hello\"])"
   ]
  },
  {
   "cell_type": "code",
   "execution_count": 227,
   "id": "8321c595-c1c5-4786-839a-b8d6b10077f8",
   "metadata": {},
   "outputs": [
    {
     "data": {
      "text/plain": [
       "0"
      ]
     },
     "execution_count": 227,
     "metadata": {},
     "output_type": "execute_result"
    }
   ],
   "source": [
    "p.wait()"
   ]
  },
  {
   "cell_type": "code",
   "execution_count": 228,
   "id": "8c4128bb-f3c5-431e-a62a-89c60a174efd",
   "metadata": {},
   "outputs": [
    {
     "data": {
      "text/plain": [
       "0"
      ]
     },
     "execution_count": 228,
     "metadata": {},
     "output_type": "execute_result"
    }
   ],
   "source": [
    "p.returncode"
   ]
  },
  {
   "cell_type": "code",
   "execution_count": 231,
   "id": "0bebee24-af06-492a-8885-535d12d9f3dc",
   "metadata": {},
   "outputs": [],
   "source": [
    "p = subprocess.Popen(\n",
    "    [\"echo\", \"hello\"],\n",
    "    stdout=subprocess.PIPE,\n",
    "    text=True)"
   ]
  },
  {
   "cell_type": "code",
   "execution_count": 232,
   "id": "462eed4d-f7d7-47ed-8320-e9af5268d357",
   "metadata": {},
   "outputs": [
    {
     "data": {
      "text/plain": [
       "'hello\\n'"
      ]
     },
     "execution_count": 232,
     "metadata": {},
     "output_type": "execute_result"
    }
   ],
   "source": [
    "p.stdout.read()"
   ]
  },
  {
   "cell_type": "code",
   "execution_count": 233,
   "id": "80846061-6d36-4a47-82ce-6dae14c02ed0",
   "metadata": {},
   "outputs": [
    {
     "name": "stdout",
     "output_type": "stream",
     "text": [
      " _          _ _       \n",
      "| |__   ___| | | ___  \n",
      "| '_ \\ / _ \\ | |/ _ \\ \n",
      "| | | |  __/ | | (_) |\n",
      "|_| |_|\\___|_|_|\\___/ \n",
      "                      \n"
     ]
    }
   ],
   "source": [
    "!figlet hello"
   ]
  },
  {
   "cell_type": "code",
   "execution_count": 234,
   "id": "ff58e15f-e710-45bf-b4b7-630e4ed6b36e",
   "metadata": {},
   "outputs": [],
   "source": [
    "def figlet(message):\n",
    "    cmd = [\"figlet\", message]\n",
    "    p = subprocess.Popen(cmd, stdout=subprocess.PIPE, text=True)\n",
    "    return p.stdout.read()"
   ]
  },
  {
   "cell_type": "code",
   "execution_count": 235,
   "id": "61bdd081-caad-4acf-b464-97d13a9f6a20",
   "metadata": {},
   "outputs": [
    {
     "name": "stdout",
     "output_type": "stream",
     "text": [
      " _          _ _       \n",
      "| |__   ___| | | ___  \n",
      "| '_ \\ / _ \\ | |/ _ \\ \n",
      "| | | |  __/ | | (_) |\n",
      "|_| |_|\\___|_|_|\\___/ \n",
      "                      \n",
      "\n"
     ]
    }
   ],
   "source": [
    "print(figlet(\"hello\"))"
   ]
  },
  {
   "cell_type": "code",
   "execution_count": 237,
   "id": "f2c64681-c21b-4224-91c2-fbabbd089ab7",
   "metadata": {},
   "outputs": [
    {
     "name": "stdout",
     "output_type": "stream",
     "text": [
      "    PID TTY          TIME CMD\n",
      " 497928 pts/1    00:00:00 ps\n"
     ]
    }
   ],
   "source": [
    "!ps"
   ]
  },
  {
   "cell_type": "code",
   "execution_count": 239,
   "id": "507ce8f8-97de-4888-a503-2d8d820f01b4",
   "metadata": {},
   "outputs": [
    {
     "name": "stdout",
     "output_type": "stream",
     "text": [
      "Filesystem     1K-blocks     Used Available Use% Mounted on\n",
      "tmpfs             813200     1276    811924   1% /run\n",
      "/dev/sda       164549236 25014232 131156312  17% /\n",
      "tmpfs            4065984        0   4065984   0% /dev/shm\n",
      "tmpfs               5120        0      5120   0% /run/lock\n"
     ]
    }
   ],
   "source": [
    "!df"
   ]
  },
  {
   "cell_type": "code",
   "execution_count": 240,
   "id": "856b59b0-fa53-4b9f-9b0b-9a17514351cc",
   "metadata": {},
   "outputs": [
    {
     "name": "stdout",
     "output_type": "stream",
     "text": [
      "\n",
      "; <<>> DiG 9.18.24-0ubuntu5-Ubuntu <<>> google.com\n",
      ";; global options: +cmd\n",
      ";; Got answer:\n",
      ";; ->>HEADER<<- opcode: QUERY, status: NOERROR, id: 18306\n",
      ";; flags: qr rd ra; QUERY: 1, ANSWER: 1, AUTHORITY: 0, ADDITIONAL: 1\n",
      "\n",
      ";; OPT PSEUDOSECTION:\n",
      "; EDNS: version: 0, flags:; udp: 65494\n",
      ";; QUESTION SECTION:\n",
      ";google.com.\t\t\tIN\tA\n",
      "\n",
      ";; ANSWER SECTION:\n",
      "google.com.\t\t241\tIN\tA\t142.250.196.78\n",
      "\n",
      ";; Query time: 1 msec\n",
      ";; SERVER: 127.0.0.53#53(127.0.0.53) (UDP)\n",
      ";; WHEN: Thu May 16 10:48:30 UTC 2024\n",
      ";; MSG SIZE  rcvd: 55\n",
      "\n"
     ]
    }
   ],
   "source": [
    "!dig google.com"
   ]
  },
  {
   "cell_type": "markdown",
   "id": "5375ff93-a234-4ea6-848a-8caf4bb85206",
   "metadata": {},
   "source": [
    "subprocess allows reading stderr seperately or allows merging stderr with stdout."
   ]
  },
  {
   "cell_type": "code",
   "execution_count": 241,
   "id": "64dca353-3f6d-45eb-b24f-2c32ec0b63f0",
   "metadata": {},
   "outputs": [
    {
     "name": "stderr",
     "output_type": "stream",
     "text": [
      "ls: cannot access 'bad-file': No such file or directory\n"
     ]
    },
    {
     "data": {
      "text/plain": [
       "'/opt:\\ncontainerd\\nfiles\\nquarto\\ntljh\\ntraining\\nzeomega-python-2024\\n'"
      ]
     },
     "execution_count": 241,
     "metadata": {},
     "output_type": "execute_result"
    }
   ],
   "source": [
    "p = subprocess.Popen([\"ls\", \"/opt\", \"bad-file\"],\n",
    "                    stdout=subprocess.PIPE,\n",
    "                    text=True)\n",
    "p.stdout.read()"
   ]
  },
  {
   "cell_type": "code",
   "execution_count": 242,
   "id": "02e4bf0a-a35d-469e-a86e-3d58ee13984a",
   "metadata": {},
   "outputs": [
    {
     "data": {
      "text/plain": [
       "\"ls: cannot access 'bad-file': No such file or directory\\n/opt:\\ncontainerd\\nfiles\\nquarto\\ntljh\\ntraining\\nzeomega-python-2024\\n\""
      ]
     },
     "execution_count": 242,
     "metadata": {},
     "output_type": "execute_result"
    }
   ],
   "source": [
    "p = subprocess.Popen([\"ls\", \"/opt\", \"bad-file\"],\n",
    "                    stdout=subprocess.PIPE,\n",
    "                    stderr=subprocess.STDOUT,\n",
    "                    text=True)\n",
    "p.stdout.read()"
   ]
  },
  {
   "cell_type": "markdown",
   "id": "191f1877-f45f-4c49-b221-1c6236cf9175",
   "metadata": {},
   "source": [
    "## Advanced Features of Python 3"
   ]
  },
  {
   "cell_type": "markdown",
   "id": "aa488f1c-f9c8-4024-b891-0445556a5aeb",
   "metadata": {},
   "source": [
    "### Packing and Unpacking"
   ]
  },
  {
   "cell_type": "code",
   "execution_count": 243,
   "id": "4e91d9c4-ebd1-48a7-85c2-88ccb9b5a675",
   "metadata": {},
   "outputs": [],
   "source": [
    "def parse_line(line: str) -> dict[str, str]:\n",
    "    \"\"\"Parses a line of a hosts file.\n",
    "\n",
    "    Returns a dict mapping from hostname to ip address\n",
    "    of all the hosts mentioned in the line.\n",
    "\n",
    "    The empty and comment lines gives empty result.\n",
    "\n",
    "        >>> parse_line(\"\") \n",
    "        {}\n",
    "        >>> parse_line(\"1.2.3.4 h1 h2\") \n",
    "        {\"h1\": \"1.2.3.4\", \"h2\": \"1.2.3.4\"}\n",
    "    \"\"\"\n",
    "    if is_empty(line) or is_comment(line):\n",
    "        return {}\n",
    "\n",
    "    parts = line.split()\n",
    "    ip = parts[0]\n",
    "    hosts = parts[1:]\n",
    "    \n",
    "    return {h: ip for h in hosts}"
   ]
  },
  {
   "cell_type": "code",
   "execution_count": 244,
   "id": "735dcbcc-7c63-482c-b13f-df57e900fe10",
   "metadata": {},
   "outputs": [],
   "source": [
    "line = \"1.2.3.4 h1 h2\""
   ]
  },
  {
   "cell_type": "code",
   "execution_count": 245,
   "id": "042d5ec5-e2a1-4635-b6b8-0501ac324801",
   "metadata": {},
   "outputs": [
    {
     "data": {
      "text/plain": [
       "['1.2.3.4', 'h1', 'h2']"
      ]
     },
     "execution_count": 245,
     "metadata": {},
     "output_type": "execute_result"
    }
   ],
   "source": [
    "line.split()"
   ]
  },
  {
   "cell_type": "code",
   "execution_count": 246,
   "id": "193b4b4f-f717-49e7-bdb6-9ec939004ec8",
   "metadata": {},
   "outputs": [],
   "source": [
    "ip, *hosts = line.split()"
   ]
  },
  {
   "cell_type": "code",
   "execution_count": 247,
   "id": "7363bab1-3b3b-4074-a596-cfe5fba61b23",
   "metadata": {},
   "outputs": [
    {
     "data": {
      "text/plain": [
       "'1.2.3.4'"
      ]
     },
     "execution_count": 247,
     "metadata": {},
     "output_type": "execute_result"
    }
   ],
   "source": [
    "ip"
   ]
  },
  {
   "cell_type": "code",
   "execution_count": 248,
   "id": "061506e9-cd95-41c6-8a20-c3fde7c096d2",
   "metadata": {},
   "outputs": [
    {
     "data": {
      "text/plain": [
       "['h1', 'h2']"
      ]
     },
     "execution_count": 248,
     "metadata": {},
     "output_type": "execute_result"
    }
   ],
   "source": [
    "hosts"
   ]
  },
  {
   "cell_type": "code",
   "execution_count": 249,
   "id": "6f21069b-94d6-438f-a4a4-be2594288645",
   "metadata": {},
   "outputs": [],
   "source": [
    "def log(*args):\n",
    "    for a in args:\n",
    "        print(\"[INFO]\", a)"
   ]
  },
  {
   "cell_type": "code",
   "execution_count": 250,
   "id": "3dca36b2-09f8-461c-a5d1-4186cd0896a3",
   "metadata": {},
   "outputs": [
    {
     "name": "stdout",
     "output_type": "stream",
     "text": [
      "[INFO] 1\n",
      "[INFO] 2\n",
      "[INFO] 3\n",
      "[INFO] 4\n"
     ]
    }
   ],
   "source": [
    "log(1, 2, 3, 4)"
   ]
  },
  {
   "cell_type": "code",
   "execution_count": 251,
   "id": "2b6e920c-4410-4547-a05c-26bb96a2047f",
   "metadata": {},
   "outputs": [],
   "source": [
    "args = [1, 2, 3, 4]"
   ]
  },
  {
   "cell_type": "code",
   "execution_count": 252,
   "id": "7c596b79-05c9-4efa-acc6-c0ebf738c751",
   "metadata": {},
   "outputs": [
    {
     "name": "stdout",
     "output_type": "stream",
     "text": [
      "1 2 3 4\n"
     ]
    }
   ],
   "source": [
    "print(*args)"
   ]
  },
  {
   "cell_type": "code",
   "execution_count": 253,
   "id": "8fcd6c81-94c4-45c8-8eab-0225bd8315dd",
   "metadata": {},
   "outputs": [],
   "source": [
    "def mydict(**kwargs):\n",
    "    return kwargs"
   ]
  },
  {
   "cell_type": "code",
   "execution_count": 254,
   "id": "aa96d1d0-8f7a-4d47-9287-51092a8e5d84",
   "metadata": {},
   "outputs": [
    {
     "data": {
      "text/plain": [
       "{'a': 1, 'b': 2}"
      ]
     },
     "execution_count": 254,
     "metadata": {},
     "output_type": "execute_result"
    }
   ],
   "source": [
    "mydict(a=1, b=2)"
   ]
  },
  {
   "cell_type": "code",
   "execution_count": 257,
   "id": "6c708896-647b-4fc0-ae0b-e2be8a6cc01f",
   "metadata": {},
   "outputs": [],
   "source": [
    "def render_tag(tag, **attrs):\n",
    "    attr_list = [f'{k}=\"{v}\"' for k, v in attrs.items()]\n",
    "    attr_line = \" \".join(attr_list)\n",
    "    return f\"<{tag} {attr_line}>\""
   ]
  },
  {
   "cell_type": "code",
   "execution_count": 258,
   "id": "5b731521-7b7a-48c2-926a-119121147b43",
   "metadata": {},
   "outputs": [
    {
     "data": {
      "text/plain": [
       "'<a href=\"https://google.com\" title=\"Google\">'"
      ]
     },
     "execution_count": 258,
     "metadata": {},
     "output_type": "execute_result"
    }
   ],
   "source": [
    "render_tag(\"a\", href=\"https://google.com\", title=\"Google\")"
   ]
  },
  {
   "cell_type": "code",
   "execution_count": 261,
   "id": "2efefae1-2e0e-463d-86cd-accf66b388b0",
   "metadata": {},
   "outputs": [
    {
     "data": {
      "text/plain": [
       "'<input type=\"text\" name=\"x\" value=\"foo\">'"
      ]
     },
     "execution_count": 261,
     "metadata": {},
     "output_type": "execute_result"
    }
   ],
   "source": [
    "render_tag(\"input\", type=\"text\", name=\"x\", value=\"foo\")"
   ]
  },
  {
   "cell_type": "markdown",
   "id": "3f043a83-63af-4be2-9b32-52e3ae5b3c6f",
   "metadata": {},
   "source": [
    "### Optional Static Typing"
   ]
  },
  {
   "cell_type": "code",
   "execution_count": 262,
   "id": "2cf8077f-c466-44ba-97a8-c93cb261964f",
   "metadata": {},
   "outputs": [
    {
     "name": "stdout",
     "output_type": "stream",
     "text": [
      "Overwriting sq.py\n"
     ]
    }
   ],
   "source": [
    "%%file sq.py\n",
    "import sys\n",
    "\n",
    "def square(n: int) -> int:\n",
    "    return n*n\n",
    "\n",
    "if __name__ == \"__main__\":\n",
    "    n = sys.argv[1]\n",
    "    print(square(n))"
   ]
  },
  {
   "cell_type": "code",
   "execution_count": 263,
   "id": "30d4f488-ecf3-4078-a361-94529deb933c",
   "metadata": {},
   "outputs": [
    {
     "name": "stdout",
     "output_type": "stream",
     "text": [
      "sq.py:8: \u001b[1m\u001b[31merror:\u001b[m Argument 1 to \u001b[m\u001b[1m\"square\"\u001b[m has incompatible type \u001b[m\u001b[1m\"str\"\u001b[m; expected \u001b[m\u001b[1m\"int\"\u001b[m  \u001b[m\u001b[33m[arg-type]\u001b[m\n",
      "\u001b[1m\u001b[31mFound 1 error in 1 file (checked 1 source file)\u001b[m\n"
     ]
    }
   ],
   "source": [
    "!mypy sq.py"
   ]
  },
  {
   "cell_type": "code",
   "execution_count": null,
   "id": "9a5f0fbc-68b3-4010-9fdc-34dc89d7c847",
   "metadata": {},
   "outputs": [],
   "source": []
  }
 ],
 "metadata": {
  "kernelspec": {
   "display_name": "Python 3 (ipykernel)",
   "language": "python",
   "name": "python3"
  },
  "language_info": {
   "codemirror_mode": {
    "name": "ipython",
    "version": 3
   },
   "file_extension": ".py",
   "mimetype": "text/x-python",
   "name": "python",
   "nbconvert_exporter": "python",
   "pygments_lexer": "ipython3",
   "version": "3.10.14"
  }
 },
 "nbformat": 4,
 "nbformat_minor": 5
}
