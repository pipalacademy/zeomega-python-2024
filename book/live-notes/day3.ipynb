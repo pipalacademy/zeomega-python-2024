{
 "cells": [
  {
   "cell_type": "markdown",
   "id": "ffb55627-da04-40da-b70c-7adfef5f2ab1",
   "metadata": {},
   "source": [
    "# Day 3"
   ]
  },
  {
   "cell_type": "markdown",
   "id": "1620852a-6bc1-4426-b6f7-340a363680b4",
   "metadata": {},
   "source": [
    "## Topics"
   ]
  },
  {
   "cell_type": "markdown",
   "id": "ad7a8c26-e00f-47c4-a059-07e37825f09e",
   "metadata": {},
   "source": [
    "* Working with APIs\n",
    "* Text processing using regular expressions\n",
    "* Invoking external applications"
   ]
  },
  {
   "cell_type": "code",
   "execution_count": null,
   "id": "868594fc-e072-43a5-ba10-ee2ab8c8004e",
   "metadata": {},
   "outputs": [],
   "source": []
  }
 ],
 "metadata": {
  "kernelspec": {
   "display_name": "Python 3 (ipykernel)",
   "language": "python",
   "name": "python3"
  },
  "language_info": {
   "codemirror_mode": {
    "name": "ipython",
    "version": 3
   },
   "file_extension": ".py",
   "mimetype": "text/x-python",
   "name": "python",
   "nbconvert_exporter": "python",
   "pygments_lexer": "ipython3",
   "version": "3.10.14"
  }
 },
 "nbformat": 4,
 "nbformat_minor": 5
}
