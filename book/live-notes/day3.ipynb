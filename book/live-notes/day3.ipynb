{
 "cells": [
  {
   "cell_type": "markdown",
   "id": "ffb55627-da04-40da-b70c-7adfef5f2ab1",
   "metadata": {},
   "source": [
    "# Day 3"
   ]
  },
  {
   "cell_type": "markdown",
   "id": "1620852a-6bc1-4426-b6f7-340a363680b4",
   "metadata": {},
   "source": [
    "## Topics"
   ]
  },
  {
   "cell_type": "markdown",
   "id": "ad7a8c26-e00f-47c4-a059-07e37825f09e",
   "metadata": {},
   "source": [
    "* Writing Custom Modules\n",
    "* Testing Python Programs\n",
    "* Organizing Python Code\n",
    "* Working with APIs\n",
    "* Invoking external applications\n",
    "* Text processing using regular expressions"
   ]
  },
  {
   "cell_type": "markdown",
   "id": "783241da-c5e5-49c2-81a0-99d3b46c6383",
   "metadata": {},
   "source": [
    "## Writing Custom Modules"
   ]
  },
  {
   "cell_type": "markdown",
   "id": "e39de748-dbf8-412a-8870-4d34b413535c",
   "metadata": {},
   "source": [
    "Let's create a Python file `mymodule.py` with the following content."
   ]
  },
  {
   "cell_type": "code",
   "execution_count": 11,
   "id": "c4efa309-d90f-4dc1-bd7b-fda097cb5585",
   "metadata": {},
   "outputs": [
    {
     "name": "stdout",
     "output_type": "stream",
     "text": [
      "Overwriting mymodule.py\n"
     ]
    }
   ],
   "source": [
    "%%file mymodule.py\n",
    "\n",
    "print(\"BEGIN mymodule\")\n",
    "x = 3\n",
    "\n",
    "def add(a, b):\n",
    "    return a+b\n",
    "\n",
    "print(add(3, 4))\n",
    "print(\"END mymodule\")\n"
   ]
  },
  {
   "cell_type": "code",
   "execution_count": 5,
   "id": "fb279a43-7407-4a71-a2b1-b64ba6cdcfb3",
   "metadata": {},
   "outputs": [
    {
     "name": "stdout",
     "output_type": "stream",
     "text": [
      "BEGIN mymodule\n",
      "7\n",
      "END mymodule\n"
     ]
    }
   ],
   "source": [
    "!python mymodule.py"
   ]
  },
  {
   "cell_type": "markdown",
   "id": "ca7325d3-ea82-42dc-b232-b6d5f815ed28",
   "metadata": {},
   "source": [
    "Let's see what happens when we import it."
   ]
  },
  {
   "cell_type": "code",
   "execution_count": 6,
   "id": "da7502f3-bb96-438d-94fb-c875a8dc08fc",
   "metadata": {},
   "outputs": [
    {
     "name": "stdout",
     "output_type": "stream",
     "text": [
      "BEGIN mymodule\n",
      "7\n",
      "END mymodule\n"
     ]
    }
   ],
   "source": [
    "import mymodule"
   ]
  },
  {
   "cell_type": "code",
   "execution_count": 7,
   "id": "7372f522-b3ac-4860-9fa6-d817957aa76b",
   "metadata": {},
   "outputs": [
    {
     "data": {
      "text/plain": [
       "2"
      ]
     },
     "execution_count": 7,
     "metadata": {},
     "output_type": "execute_result"
    }
   ],
   "source": [
    "mymodule.x"
   ]
  },
  {
   "cell_type": "code",
   "execution_count": 9,
   "id": "69318bc0-e712-4077-a55b-33ab17e83cb5",
   "metadata": {},
   "outputs": [
    {
     "data": {
      "text/plain": [
       "30"
      ]
     },
     "execution_count": 9,
     "metadata": {},
     "output_type": "execute_result"
    }
   ],
   "source": [
    "mymodule.add(10, 20)"
   ]
  },
  {
   "cell_type": "markdown",
   "id": "c956006e-bb3a-4bd3-b0e3-ec75c2b48ec6",
   "metadata": {},
   "source": [
    "What will happen if we import the module again?"
   ]
  },
  {
   "cell_type": "code",
   "execution_count": 12,
   "id": "32c0512e-dec2-41f4-822e-a12685726cc4",
   "metadata": {},
   "outputs": [],
   "source": [
    "import mymodule"
   ]
  },
  {
   "cell_type": "code",
   "execution_count": 13,
   "id": "d8f3a6df-1fbc-4e8e-a15c-ea7a0c0c4c0d",
   "metadata": {},
   "outputs": [
    {
     "data": {
      "text/plain": [
       "2"
      ]
     },
     "execution_count": 13,
     "metadata": {},
     "output_type": "execute_result"
    }
   ],
   "source": [
    "mymodule.x"
   ]
  },
  {
   "cell_type": "markdown",
   "id": "ea371434-dde1-4f93-acf0-ca8da834a05c",
   "metadata": {},
   "source": [
    "### Reimporting a Module"
   ]
  },
  {
   "cell_type": "code",
   "execution_count": 14,
   "id": "1fbe67b4-dfd3-48ca-afc3-8146e5173894",
   "metadata": {},
   "outputs": [],
   "source": [
    "import importlib"
   ]
  },
  {
   "cell_type": "code",
   "execution_count": 15,
   "id": "de6e3835-0941-494a-831e-f3a2a8b3f526",
   "metadata": {},
   "outputs": [
    {
     "name": "stdout",
     "output_type": "stream",
     "text": [
      "BEGIN mymodule\n",
      "7\n",
      "END mymodule\n"
     ]
    },
    {
     "data": {
      "text/plain": [
       "<module 'mymodule' from '/opt/zeomega-python-2024/book/live-notes/mymodule.py'>"
      ]
     },
     "execution_count": 15,
     "metadata": {},
     "output_type": "execute_result"
    }
   ],
   "source": [
    "importlib.reload(mymodule)"
   ]
  },
  {
   "cell_type": "code",
   "execution_count": 16,
   "id": "f912a6e7-9c71-4466-9c2f-ee0ad3611072",
   "metadata": {},
   "outputs": [
    {
     "data": {
      "text/plain": [
       "3"
      ]
     },
     "execution_count": 16,
     "metadata": {},
     "output_type": "execute_result"
    }
   ],
   "source": [
    "mymodule.x"
   ]
  },
  {
   "cell_type": "markdown",
   "id": "2b3d7451-98fc-49e6-a966-25c09845a084",
   "metadata": {},
   "source": [
    "### The `__name__` magic variable"
   ]
  },
  {
   "cell_type": "code",
   "execution_count": 17,
   "id": "33b215c3-a57d-4396-adb8-d713fab3e81e",
   "metadata": {},
   "outputs": [
    {
     "name": "stdout",
     "output_type": "stream",
     "text": [
      "Writing mymodule2.py\n"
     ]
    }
   ],
   "source": [
    "%%file mymodule2.py\n",
    "\n",
    "x = 2\n",
    "\n",
    "def add(a, b):\n",
    "    return a+b\n",
    "\n",
    "print(add(3, 4))\n",
    "print(__name__)\n"
   ]
  },
  {
   "cell_type": "markdown",
   "id": "06421abc-ecaa-4ec8-85cb-bc7d76771a73",
   "metadata": {},
   "source": [
    "Let's run this file as a script and see what will be the value of`__name__`."
   ]
  },
  {
   "cell_type": "code",
   "execution_count": 18,
   "id": "0b4be0cf-71ff-42f6-84aa-396b4c6df88a",
   "metadata": {},
   "outputs": [
    {
     "name": "stdout",
     "output_type": "stream",
     "text": [
      "7\n",
      "__main__\n"
     ]
    }
   ],
   "source": [
    "!python mymodule2.py"
   ]
  },
  {
   "cell_type": "markdown",
   "id": "4241a8d7-6ea5-444d-858e-e8993584245f",
   "metadata": {},
   "source": [
    "Let's see what happens when we import the file as a module."
   ]
  },
  {
   "cell_type": "code",
   "execution_count": 19,
   "id": "6074da13-f07e-4873-846d-0ff556c0316d",
   "metadata": {},
   "outputs": [
    {
     "name": "stdout",
     "output_type": "stream",
     "text": [
      "7\n",
      "mymodule2\n"
     ]
    }
   ],
   "source": [
    "import mymodule2"
   ]
  },
  {
   "cell_type": "markdown",
   "id": "917de1b8-f667-48e7-9b9e-ba9db094f87d",
   "metadata": {},
   "source": [
    "We can use the `__name__` variable to find if the file is run a script or a module."
   ]
  },
  {
   "cell_type": "code",
   "execution_count": 21,
   "id": "619d1b7d-db6a-49a2-a1ad-eb7426738ce8",
   "metadata": {},
   "outputs": [
    {
     "name": "stdout",
     "output_type": "stream",
     "text": [
      "Writing mymodule3.py\n"
     ]
    }
   ],
   "source": [
    "%%file mymodule3.py\n",
    "\n",
    "x = 2\n",
    "\n",
    "def add(a, b):\n",
    "    return a+b\n",
    "\n",
    "# do this only when this file is run as a script\n",
    "if __name__ == \"__main__\":\n",
    "    print(add(3, 4))\n"
   ]
  },
  {
   "cell_type": "code",
   "execution_count": 22,
   "id": "0afdb6ee-1422-41fb-ad1d-a34a2c510db9",
   "metadata": {},
   "outputs": [
    {
     "name": "stdout",
     "output_type": "stream",
     "text": [
      "7\n"
     ]
    }
   ],
   "source": [
    "!python mymodule3.py"
   ]
  },
  {
   "cell_type": "code",
   "execution_count": 24,
   "id": "e04ca860-a0b3-4bab-a0bd-2ed22f1fc2e3",
   "metadata": {},
   "outputs": [],
   "source": [
    "import mymodule3"
   ]
  },
  {
   "cell_type": "markdown",
   "id": "ffaec75a-2385-40a0-bad5-216bd309f279",
   "metadata": {},
   "source": [
    "### Example: Square Module"
   ]
  },
  {
   "cell_type": "markdown",
   "id": "c7de551f-2a90-4849-abab-c1cab73c69d8",
   "metadata": {},
   "source": [
    "Lets write a square program that can be used both a script and a module."
   ]
  },
  {
   "cell_type": "code",
   "execution_count": 26,
   "id": "3c03871b-9034-4af5-b7ae-b5a5d8613dc3",
   "metadata": {},
   "outputs": [
    {
     "name": "stdout",
     "output_type": "stream",
     "text": [
      "Overwriting sq.py\n"
     ]
    }
   ],
   "source": [
    "%%file sq.py\n",
    "import sys\n",
    "\n",
    "def square(x):\n",
    "    return x*x\n",
    "\n",
    "def main():\n",
    "    n = int(sys.argv[1])\n",
    "    print(square(n))\n",
    "\n",
    "if __name__ == \"__main__\":\n",
    "    main()"
   ]
  },
  {
   "cell_type": "code",
   "execution_count": 27,
   "id": "b352fcbf-e95b-4092-bccc-94ff893936c6",
   "metadata": {},
   "outputs": [],
   "source": [
    "import sq"
   ]
  },
  {
   "cell_type": "code",
   "execution_count": 28,
   "id": "9cc93807-a706-426b-a5ae-39a9477a411e",
   "metadata": {},
   "outputs": [
    {
     "data": {
      "text/plain": [
       "25"
      ]
     },
     "execution_count": 28,
     "metadata": {},
     "output_type": "execute_result"
    }
   ],
   "source": [
    "sq.square(5)"
   ]
  },
  {
   "cell_type": "code",
   "execution_count": 29,
   "id": "83d4a88a-8bfc-44b3-9b1e-4799f662aead",
   "metadata": {},
   "outputs": [
    {
     "name": "stdout",
     "output_type": "stream",
     "text": [
      "16\n"
     ]
    }
   ],
   "source": [
    "!python sq.py 4"
   ]
  },
  {
   "cell_type": "markdown",
   "id": "9f841d01-b55b-4443-8e80-ce157fdb3570",
   "metadata": {},
   "source": [
    "### Docstrings"
   ]
  },
  {
   "cell_type": "code",
   "execution_count": 30,
   "id": "d02dd6f9-d282-4859-a1d1-8ce8cba93081",
   "metadata": {},
   "outputs": [],
   "source": [
    "import os"
   ]
  },
  {
   "cell_type": "code",
   "execution_count": 31,
   "id": "a0b27b0c-d4f8-4d96-a9bb-c30056b96829",
   "metadata": {},
   "outputs": [
    {
     "name": "stdout",
     "output_type": "stream",
     "text": [
      "Help on built-in function listdir in module posix:\n",
      "\n",
      "listdir(path=None)\n",
      "    Return a list containing the names of the files in the directory.\n",
      "    \n",
      "    path can be specified as either str, bytes, or a path-like object.  If path is bytes,\n",
      "      the filenames returned will also be bytes; in all other circumstances\n",
      "      the filenames returned will be str.\n",
      "    If path is None, uses the path='.'.\n",
      "    On some platforms, path may also be specified as an open file descriptor;\\\n",
      "      the file descriptor must refer to a directory.\n",
      "      If this functionality is unavailable, using it raises NotImplementedError.\n",
      "    \n",
      "    The list is in arbitrary order.  It does not include the special\n",
      "    entries '.' and '..' even if they are present in the directory.\n",
      "\n"
     ]
    }
   ],
   "source": [
    "help(os.listdir)"
   ]
  },
  {
   "cell_type": "code",
   "execution_count": 32,
   "id": "4f468626-89fd-42ba-a86a-2d5ebb5c87a2",
   "metadata": {},
   "outputs": [
    {
     "data": {
      "text/plain": [
       "\u001b[0;31mSignature:\u001b[0m \u001b[0mos\u001b[0m\u001b[0;34m.\u001b[0m\u001b[0mlistdir\u001b[0m\u001b[0;34m(\u001b[0m\u001b[0mpath\u001b[0m\u001b[0;34m=\u001b[0m\u001b[0;32mNone\u001b[0m\u001b[0;34m)\u001b[0m\u001b[0;34m\u001b[0m\u001b[0;34m\u001b[0m\u001b[0m\n",
       "\u001b[0;31mDocstring:\u001b[0m\n",
       "Return a list containing the names of the files in the directory.\n",
       "\n",
       "path can be specified as either str, bytes, or a path-like object.  If path is bytes,\n",
       "  the filenames returned will also be bytes; in all other circumstances\n",
       "  the filenames returned will be str.\n",
       "If path is None, uses the path='.'.\n",
       "On some platforms, path may also be specified as an open file descriptor;\\\n",
       "  the file descriptor must refer to a directory.\n",
       "  If this functionality is unavailable, using it raises NotImplementedError.\n",
       "\n",
       "The list is in arbitrary order.  It does not include the special\n",
       "entries '.' and '..' even if they are present in the directory.\n",
       "\u001b[0;31mType:\u001b[0m      builtin_function_or_method"
      ]
     },
     "metadata": {},
     "output_type": "display_data"
    }
   ],
   "source": [
    "os.listdir?"
   ]
  },
  {
   "cell_type": "code",
   "execution_count": 33,
   "id": "25ddc015-a8a1-49b4-9b30-76e1db6c68ee",
   "metadata": {},
   "outputs": [
    {
     "name": "stdout",
     "output_type": "stream",
     "text": [
      "Help on function square in module sq:\n",
      "\n",
      "square(x)\n",
      "\n"
     ]
    }
   ],
   "source": [
    " help(sq.square)"
   ]
  },
  {
   "cell_type": "markdown",
   "id": "c69465a7-a459-4fa8-a764-0c8c8c3a4eeb",
   "metadata": {},
   "source": [
    "#### Adding docstrings to a function"
   ]
  },
  {
   "cell_type": "code",
   "execution_count": 40,
   "id": "6431adbf-38ec-49fe-9149-822d6238969f",
   "metadata": {},
   "outputs": [],
   "source": [
    "def add(a, b):\n",
    "    \"\"\"\n",
    "    Adds two numbers.\n",
    "\n",
    "        >>> add(3, 4)\n",
    "        7\n",
    "    \"\"\"\n",
    "    return a+b"
   ]
  },
  {
   "cell_type": "code",
   "execution_count": 41,
   "id": "5a76acd6-a129-407e-8815-bcad2b0ad684",
   "metadata": {},
   "outputs": [
    {
     "name": "stdout",
     "output_type": "stream",
     "text": [
      "Help on function add in module __main__:\n",
      "\n",
      "add(a, b)\n",
      "    Adds two numbers.\n",
      "    \n",
      "        >>> add(3, 4)\n",
      "        7\n",
      "\n"
     ]
    }
   ],
   "source": [
    "help(add)"
   ]
  },
  {
   "cell_type": "markdown",
   "id": "7d8c1b7a-ae11-4a19-8322-e97407524479",
   "metadata": {},
   "source": [
    "#### Using typehints"
   ]
  },
  {
   "cell_type": "code",
   "execution_count": 42,
   "id": "36a2bf28-4a4a-452c-8798-d82232c7c331",
   "metadata": {},
   "outputs": [],
   "source": [
    "def add(a: int, b: int) -> int:\n",
    "    \"\"\"\n",
    "    Adds two numbers.\n",
    "\n",
    "        >>> add(3, 4)\n",
    "        7\n",
    "    \"\"\"\n",
    "    return a+b"
   ]
  },
  {
   "cell_type": "code",
   "execution_count": 43,
   "id": "8ae3a24e-c8e1-4dba-898c-446bd6db12f2",
   "metadata": {},
   "outputs": [
    {
     "name": "stdout",
     "output_type": "stream",
     "text": [
      "Help on function add in module __main__:\n",
      "\n",
      "add(a: int, b: int) -> int\n",
      "    Adds two numbers.\n",
      "    \n",
      "        >>> add(3, 4)\n",
      "        7\n",
      "\n"
     ]
    }
   ],
   "source": [
    "help(add)"
   ]
  },
  {
   "cell_type": "code",
   "execution_count": 44,
   "id": "c23ed55c-466e-4fc6-9953-dd2ab01b3d61",
   "metadata": {},
   "outputs": [],
   "source": [
    "def mean(numbers: list[float]) -> float:\n",
    "    \"\"\"Computes mean of a list of numbers.\n",
    "    \"\"\"\n",
    "    pass"
   ]
  },
  {
   "cell_type": "code",
   "execution_count": 45,
   "id": "d90995ec-111a-41b2-aa8a-c9be94ba7fe9",
   "metadata": {},
   "outputs": [
    {
     "name": "stdout",
     "output_type": "stream",
     "text": [
      "Help on function mean in module __main__:\n",
      "\n",
      "mean(numbers: list[float]) -> float\n",
      "    Computes mean of a list of numbers.\n",
      "\n"
     ]
    }
   ],
   "source": [
    "help(mean)"
   ]
  },
  {
   "cell_type": "markdown",
   "id": "11a89e3f-4053-4b48-87fd-b3819a74eb98",
   "metadata": {},
   "source": [
    "#### Adding docstrings to a module"
   ]
  },
  {
   "cell_type": "code",
   "execution_count": 51,
   "id": "d3dedfb4-4d86-45fd-88e3-cb15725e4b86",
   "metadata": {},
   "outputs": [
    {
     "name": "stdout",
     "output_type": "stream",
     "text": [
      "Writing sq2.py\n"
     ]
    }
   ],
   "source": [
    "%%file sq2.py\n",
    "\"\"\"\n",
    "The square module.\n",
    "\n",
    "The module provides function to compute the square of a number.\n",
    "\n",
    "This can also be used as a script to compute square of a number.\n",
    "\n",
    "USAGE:\n",
    "    $ python sq2.py 5\n",
    "    25\n",
    "\"\"\"\n",
    "import sys\n",
    "\n",
    "def square(x: int) -> int:\n",
    "    \"\"\"Computes square of a number.\n",
    "    \n",
    "        >>> square(4)\n",
    "        16\n",
    "    \"\"\"\n",
    "    return x*x\n",
    "\n",
    "def main():\n",
    "    n = int(sys.argv[1])\n",
    "    print(square(n))\n",
    "\n",
    "if __name__ == \"__main__\":\n",
    "    main()"
   ]
  },
  {
   "cell_type": "code",
   "execution_count": 53,
   "id": "13df5b1b-c14d-4f0d-bf29-696428746bd9",
   "metadata": {},
   "outputs": [],
   "source": [
    "import sq2"
   ]
  },
  {
   "cell_type": "code",
   "execution_count": 54,
   "id": "6460bc44-f467-43a2-a3cd-7a7b8e6de995",
   "metadata": {},
   "outputs": [
    {
     "name": "stdout",
     "output_type": "stream",
     "text": [
      "Help on module sq2:\n",
      "\n",
      "NAME\n",
      "    sq2 - The square module.\n",
      "\n",
      "DESCRIPTION\n",
      "    The module provides function to compute the square of a number.\n",
      "    \n",
      "    This can also be used as a script to compute square of a number.\n",
      "    \n",
      "    USAGE:\n",
      "        $ python sq2.py 5\n",
      "        25\n",
      "\n",
      "FUNCTIONS\n",
      "    main()\n",
      "    \n",
      "    square(x: int) -> int\n",
      "        Computes square of a number.\n",
      "        \n",
      "        >>> square(4)\n",
      "        16\n",
      "\n",
      "FILE\n",
      "    /opt/zeomega-python-2024/book/live-notes/sq2.py\n",
      "\n",
      "\n"
     ]
    }
   ],
   "source": [
    "help(sq2)"
   ]
  },
  {
   "cell_type": "markdown",
   "id": "912ec0f6-e2ab-421c-8bcf-b388c03250b7",
   "metadata": {},
   "source": [
    "#### Problem: cube module"
   ]
  },
  {
   "cell_type": "code",
   "execution_count": 56,
   "id": "13e0a069-c5e1-4281-a2cd-1badc85363de",
   "metadata": {},
   "outputs": [
    {
     "data": {
      "text/html": [
       "\n",
       "        <strong>Problem: Cube Module</strong>\n",
       "\n",
       "        <p><p>Write a module <code>cube</code> with a function <code>cube</code>.</p>\n",
       "<p>The module should have a function <code>cube</code> that return cube of the given number.</p>\n",
       "<pre><code class=\"language-python\">&gt;&gt;&gt; import cube\n",
       "&gt;&gt;&gt; cube.cube(3)\n",
       "27\n",
       "</code></pre>\n",
       "<p>Make the file run as a script, taking a number as command-line argument and printing it's cube.</p>\n",
       "<pre><code>$ python cube.py 3\n",
       "27\n",
       "</code></pre>\n",
       "<p>Please make sure docstrings are added both to the module and function.</p>\n",
       "<pre><code>&gt;&gt;&gt; import cube\n",
       "&gt;&gt;&gt; help(cube)\n",
       "Help on module cube:\n",
       "\n",
       "NAME\n",
       "    cube - The cube ...\n",
       "\n",
       "DESCRIPTION\n",
       "    The cube module ...\n",
       "\n",
       "FUNCTIONS\n",
       "    cube(n)\n",
       "        Computes cube of a number.\n",
       "        ...\n",
       "\n",
       "FILE\n",
       "    /home/.../cube.py\n",
       "</code></pre>\n",
       "        </p>\n",
       "\n",
       "        <p>You can verify your solution using:\n",
       "        <pre>%verify_problem cube-module</pre>\n",
       "        </p>\n",
       "        "
      ],
      "text/plain": [
       "<Probem: cube-module>"
      ]
     },
     "metadata": {},
     "output_type": "display_data"
    }
   ],
   "source": [
    "%load_problem cube-module"
   ]
  },
  {
   "cell_type": "code",
   "execution_count": null,
   "id": "56c8ff8e-cedb-407b-a576-a7cfae7fddb0",
   "metadata": {},
   "outputs": [],
   "source": [
    "%%file cube.py\n",
    "# your code here\n",
    "\n",
    "\n",
    "\n"
   ]
  },
  {
   "cell_type": "markdown",
   "id": "bbd7f20b-051d-4a34-891f-112e21b126e1",
   "metadata": {},
   "source": [
    "## Installing third-party modules"
   ]
  },
  {
   "cell_type": "markdown",
   "id": "c89bbffe-a4c7-4c95-bed0-2a696979a097",
   "metadata": {},
   "source": [
    "Python maintains a repository of all third-party modules at https://pypi.org."
   ]
  },
  {
   "cell_type": "markdown",
   "id": "48e5893d-5dbf-40b0-bb36-a076fb86875a",
   "metadata": {},
   "source": [
    "The `pip` too can be used to install any module from there."
   ]
  },
  {
   "cell_type": "code",
   "execution_count": 57,
   "id": "8d36d6eb-312a-49bd-9bfc-239ebd39e9cf",
   "metadata": {},
   "outputs": [
    {
     "name": "stdout",
     "output_type": "stream",
     "text": [
      "pip 24.0 from /opt/tljh/user/lib/python3.10/site-packages/pip (python 3.10)\n"
     ]
    }
   ],
   "source": [
    "!pip --version"
   ]
  },
  {
   "cell_type": "markdown",
   "id": "cb210512-e710-4754-ab5d-780effd2ab05",
   "metadata": {},
   "source": [
    "### Installing Packages"
   ]
  },
  {
   "cell_type": "markdown",
   "id": "3831ae91-3e6b-4957-8b32-cd41d0e1a999",
   "metadata": {},
   "source": [
    "We can install a package by specifying the name, and optionally a verion.\n",
    "```\n",
    "$ pip install Flask\n",
    "$ pip install Flask==2.2.3\n",
    "$ pip install 'Flask>=2.2'\n",
    "```"
   ]
  },
  {
   "cell_type": "markdown",
   "id": "6f582985-8d78-49a5-badb-8cb0a2e7dfef",
   "metadata": {},
   "source": [
    "If we have multiple package, we can write that in a file and pass it to pip. The following example installs all packages specified in the file `requirements.txt`.\n",
    "\n",
    "```\n",
    "$ pip install -r requirements.txt\n",
    "```"
   ]
  },
  {
   "cell_type": "markdown",
   "id": "7bb54977-1dd9-4593-bb4e-e2a3a57768ff",
   "metadata": {},
   "source": [
    "### Example: tabulate"
   ]
  },
  {
   "cell_type": "code",
   "execution_count": 58,
   "id": "8159d8a2-bf97-4003-8cbf-598181927b29",
   "metadata": {},
   "outputs": [
    {
     "name": "stdout",
     "output_type": "stream",
     "text": [
      "Defaulting to user installation because normal site-packages is not writeable\n",
      "Requirement already satisfied: tabulate in /opt/tljh/user/lib/python3.10/site-packages (0.9.0)\n"
     ]
    }
   ],
   "source": [
    "!pip install tabulate"
   ]
  },
  {
   "cell_type": "code",
   "execution_count": 59,
   "id": "b682a748-6284-4669-8cbd-d92a4642feec",
   "metadata": {},
   "outputs": [
    {
     "name": "stdout",
     "output_type": "stream",
     "text": [
      "Name      Price    Quanity    Amount\n",
      "------  -------  ---------  --------\n",
      "Apple        30          3        90\n",
      "Banana        4         12        48\n",
      "Mango       100          4       400\n"
     ]
    }
   ],
   "source": [
    "from tabulate import tabulate\n",
    "\n",
    "headers = [\"Name\", \"Price\", \"Quanity\", \"Amount\"]\n",
    "data = [\n",
    "    [\"Apple\", 30, 3, 90],\n",
    "    [\"Banana\", 4, 12, 48],\n",
    "    [\"Mango\", 100, 4, 400]\n",
    "]\n",
    "\n",
    "print(tabulate(data, headers=headers))"
   ]
  },
  {
   "cell_type": "code",
   "execution_count": 62,
   "id": "b8d4d73e-edad-4caf-93a3-d80959a0cecb",
   "metadata": {},
   "outputs": [
    {
     "name": "stdout",
     "output_type": "stream",
     "text": [
      "Defaulting to user installation because normal site-packages is not writeable\n",
      "Collecting psycopg2\n",
      "  Downloading psycopg2-2.9.9.tar.gz (384 kB)\n",
      "\u001b[2K     \u001b[90m━━━━━━━━━━━━━━━━━━━━━━━━━━━━━━━━━━━━━━━\u001b[0m \u001b[32m384.9/384.9 kB\u001b[0m \u001b[31m4.4 MB/s\u001b[0m eta \u001b[36m0:00:00\u001b[0ma \u001b[36m0:00:01\u001b[0m\n",
      "\u001b[?25h  Preparing metadata (setup.py) ... \u001b[?25ldone\n",
      "\u001b[?25hBuilding wheels for collected packages: psycopg2\n",
      "  Building wheel for psycopg2 (setup.py) ... \u001b[?25ldone\n",
      "\u001b[?25h  Created wheel for psycopg2: filename=psycopg2-2.9.9-cp310-cp310-linux_x86_64.whl size=166407 sha256=d6860c550aca81a8b585c243bc4d6709f69e24efc129bac987d33a8de5121719\n",
      "  Stored in directory: /home/jupyter-anand/.cache/pip/wheels/7d/75/13/da1c6d88687ae81bf5e3cfa07d702981ba137963163472b050\n",
      "Successfully built psycopg2\n",
      "Installing collected packages: psycopg2\n",
      "Successfully installed psycopg2-2.9.9\n"
     ]
    }
   ],
   "source": [
    "!pip install psycopg2"
   ]
  },
  {
   "cell_type": "markdown",
   "id": "7d0fb67e-708a-48bb-980c-c5e89338e39e",
   "metadata": {},
   "source": [
    "## Testing Python Programs"
   ]
  },
  {
   "cell_type": "markdown",
   "id": "b9f52a49-b5bb-4076-899d-bcbaca9e945b",
   "metadata": {},
   "source": [
    "### Testing Manually - Naive approach"
   ]
  },
  {
   "cell_type": "code",
   "execution_count": 70,
   "id": "2104f087-84f7-409d-8cfb-67f8a727f2eb",
   "metadata": {},
   "outputs": [],
   "source": [
    "def square(x):\n",
    "    return x*x+1"
   ]
  },
  {
   "cell_type": "code",
   "execution_count": 71,
   "id": "6795d2d1-466c-4b7d-8c30-4b19c03b6724",
   "metadata": {},
   "outputs": [
    {
     "data": {
      "text/plain": [
       "17"
      ]
     },
     "execution_count": 71,
     "metadata": {},
     "output_type": "execute_result"
    }
   ],
   "source": [
    "square(4)"
   ]
  },
  {
   "cell_type": "markdown",
   "id": "6eb7247d-4054-4268-9a76-d15336d07719",
   "metadata": {},
   "source": [
    "Seems to be working fine. "
   ]
  },
  {
   "cell_type": "code",
   "execution_count": 72,
   "id": "f6879aa9-54f3-4ecb-bd1d-ad37f47b8234",
   "metadata": {},
   "outputs": [],
   "source": [
    "def test_square():\n",
    "    assert square(4) == 16\n",
    "    print(\"done\")"
   ]
  },
  {
   "cell_type": "code",
   "execution_count": 73,
   "id": "52842b54-1331-4800-af25-6f0761552650",
   "metadata": {},
   "outputs": [
    {
     "ename": "AssertionError",
     "evalue": "",
     "output_type": "error",
     "traceback": [
      "\u001b[0;31m---------------------------------------------------------------------------\u001b[0m",
      "\u001b[0;31mAssertionError\u001b[0m                            Traceback (most recent call last)",
      "Cell \u001b[0;32mIn[73], line 1\u001b[0m\n\u001b[0;32m----> 1\u001b[0m \u001b[43mtest_square\u001b[49m\u001b[43m(\u001b[49m\u001b[43m)\u001b[49m\n",
      "Cell \u001b[0;32mIn[72], line 2\u001b[0m, in \u001b[0;36mtest_square\u001b[0;34m()\u001b[0m\n\u001b[1;32m      1\u001b[0m \u001b[38;5;28;01mdef\u001b[39;00m \u001b[38;5;21mtest_square\u001b[39m():\n\u001b[0;32m----> 2\u001b[0m     \u001b[38;5;28;01massert\u001b[39;00m square(\u001b[38;5;241m4\u001b[39m) \u001b[38;5;241m==\u001b[39m \u001b[38;5;241m16\u001b[39m\n\u001b[1;32m      3\u001b[0m     \u001b[38;5;28mprint\u001b[39m(\u001b[38;5;124m\"\u001b[39m\u001b[38;5;124mdone\u001b[39m\u001b[38;5;124m\"\u001b[39m)\n",
      "\u001b[0;31mAssertionError\u001b[0m: "
     ]
    }
   ],
   "source": [
    "test_square()"
   ]
  },
  {
   "cell_type": "markdown",
   "id": "3141e496-2730-404c-a86f-60217ac0e7af",
   "metadata": {},
   "source": [
    "### Introduction to pytest"
   ]
  },
  {
   "cell_type": "markdown",
   "id": "6d8cadc3-5ce5-4fbf-baff-892879c5909f",
   "metadata": {},
   "source": [
    "pytest is very nice library for testing Python program."
   ]
  },
  {
   "cell_type": "code",
   "execution_count": 77,
   "id": "90a2adf4-26ae-4412-aaa1-e6f29df98453",
   "metadata": {},
   "outputs": [
    {
     "name": "stdout",
     "output_type": "stream",
     "text": [
      "Overwriting sq.py\n"
     ]
    }
   ],
   "source": [
    "%%file sq.py\n",
    "\n",
    "def square(x):\n",
    "    return x*x+1\n",
    "\n",
    "def test_square():\n",
    "    assert square(4) == 16"
   ]
  },
  {
   "cell_type": "code",
   "execution_count": 78,
   "id": "ff481bfb-f711-4d7c-8faf-85c0952cfd59",
   "metadata": {},
   "outputs": [
    {
     "name": "stdout",
     "output_type": "stream",
     "text": [
      "\u001b[1m============================= test session starts ==============================\u001b[0m\n",
      "platform linux -- Python 3.10.14, pytest-8.2.0, pluggy-1.5.0\n",
      "rootdir: /opt/zeomega-python-2024/book/live-notes\n",
      "plugins: anyio-4.3.0\n",
      "collected 1 item                                                               \u001b[0m\n",
      "\n",
      "sq.py \u001b[31mF\u001b[0m\u001b[31m                                                                  [100%]\u001b[0m\n",
      "\n",
      "=================================== FAILURES ===================================\n",
      "\u001b[31m\u001b[1m_________________________________ test_square __________________________________\u001b[0m\n",
      "\n",
      "    \u001b[0m\u001b[94mdef\u001b[39;49;00m \u001b[92mtest_square\u001b[39;49;00m():\u001b[90m\u001b[39;49;00m\n",
      ">       \u001b[94massert\u001b[39;49;00m square(\u001b[94m4\u001b[39;49;00m) == \u001b[94m16\u001b[39;49;00m\u001b[90m\u001b[39;49;00m\n",
      "\u001b[1m\u001b[31mE       assert 17 == 16\u001b[0m\n",
      "\u001b[1m\u001b[31mE        +  where 17 = square(4)\u001b[0m\n",
      "\n",
      "\u001b[1m\u001b[31msq.py\u001b[0m:6: AssertionError\n",
      "\u001b[36m\u001b[1m=========================== short test summary info ============================\u001b[0m\n",
      "\u001b[31mFAILED\u001b[0m sq.py::\u001b[1mtest_square\u001b[0m - assert 17 == 16\n",
      "\u001b[31m============================== \u001b[31m\u001b[1m1 failed\u001b[0m\u001b[31m in 0.05s\u001b[0m\u001b[31m ===============================\u001b[0m\n"
     ]
    }
   ],
   "source": [
    "!pytest sq.py"
   ]
  },
  {
   "cell_type": "markdown",
   "id": "8acdb48c-277a-4e4b-9bf8-27d5a3f391f0",
   "metadata": {},
   "source": [
    "Often it is a common practice to seperate the main program with the test program."
   ]
  },
  {
   "cell_type": "code",
   "execution_count": 79,
   "id": "56321502-7f54-4ee5-9c54-4c55a3b0484b",
   "metadata": {},
   "outputs": [
    {
     "name": "stdout",
     "output_type": "stream",
     "text": [
      "Writing square2.py\n"
     ]
    }
   ],
   "source": [
    "%%file square2.py\n",
    "\n",
    "def square(x):\n",
    "    return x*x"
   ]
  },
  {
   "cell_type": "code",
   "execution_count": 82,
   "id": "84144add-b29b-42d1-a241-966521627072",
   "metadata": {},
   "outputs": [
    {
     "name": "stdout",
     "output_type": "stream",
     "text": [
      "Overwriting test_square2.py\n"
     ]
    }
   ],
   "source": [
    "%%file test_square2.py\n",
    "from square2 import square  \n",
    "\n",
    "def test_square():\n",
    "    assert square(4) == 16"
   ]
  },
  {
   "cell_type": "code",
   "execution_count": 83,
   "id": "9e02d2b3-461b-48ba-be4b-1d810d561f17",
   "metadata": {},
   "outputs": [
    {
     "name": "stdout",
     "output_type": "stream",
     "text": [
      "\u001b[1m============================= test session starts ==============================\u001b[0m\n",
      "platform linux -- Python 3.10.14, pytest-8.2.0, pluggy-1.5.0\n",
      "rootdir: /opt/zeomega-python-2024/book/live-notes\n",
      "plugins: anyio-4.3.0\n",
      "collected 1 item                                                               \u001b[0m\n",
      "\n",
      "test_square2.py \u001b[32m.\u001b[0m\u001b[32m                                                        [100%]\u001b[0m\n",
      "\n",
      "\u001b[32m============================== \u001b[32m\u001b[1m1 passed\u001b[0m\u001b[32m in 0.01s\u001b[0m\u001b[32m ===============================\u001b[0m\n"
     ]
    }
   ],
   "source": [
    "!pytest test_square2.py"
   ]
  },
  {
   "cell_type": "markdown",
   "id": "f36adecc-0f13-460f-ba0d-9ff392107a8e",
   "metadata": {},
   "source": [
    "Lets extend the square module to add one more function and test for that."
   ]
  },
  {
   "cell_type": "code",
   "execution_count": 84,
   "id": "cc35562a-c1fb-4229-83cb-18cdcb2a1e2d",
   "metadata": {},
   "outputs": [
    {
     "name": "stdout",
     "output_type": "stream",
     "text": [
      "Writing square3.py\n"
     ]
    }
   ],
   "source": [
    "%%file square3.py\n",
    "\n",
    "def square(x):\n",
    "    return x*x\n",
    "\n",
    "def sum_of_squares(x, y):\n",
    "    return square(x) + square(y)"
   ]
  },
  {
   "cell_type": "code",
   "execution_count": 85,
   "id": "01e4600a-c422-4b6f-ad9b-d3ad428c3a48",
   "metadata": {},
   "outputs": [
    {
     "name": "stdout",
     "output_type": "stream",
     "text": [
      "Writing test_square3.py\n"
     ]
    }
   ],
   "source": [
    "%%file test_square3.py\n",
    "from square3 import square, sum_of_squares\n",
    "\n",
    "def test_square():\n",
    "    assert square(0) == 0\n",
    "    assert square(4) == 16\n",
    "\n",
    "def test_sum_of_squares():\n",
    "    assert sum_of_squares(3, 4) == 25\n",
    "    assert sum_of_squares(4, 3) == 25\n",
    "    "
   ]
  },
  {
   "cell_type": "code",
   "execution_count": 86,
   "id": "2c2cb931-4213-48de-b479-9c472ba41c9c",
   "metadata": {},
   "outputs": [
    {
     "name": "stdout",
     "output_type": "stream",
     "text": [
      "\u001b[1m============================= test session starts ==============================\u001b[0m\n",
      "platform linux -- Python 3.10.14, pytest-8.2.0, pluggy-1.5.0\n",
      "rootdir: /opt/zeomega-python-2024/book/live-notes\n",
      "plugins: anyio-4.3.0\n",
      "collected 2 items                                                              \u001b[0m\n",
      "\n",
      "test_square3.py \u001b[32m.\u001b[0m\u001b[32m.\u001b[0m\u001b[32m                                                       [100%]\u001b[0m\n",
      "\n",
      "\u001b[32m============================== \u001b[32m\u001b[1m2 passed\u001b[0m\u001b[32m in 0.01s\u001b[0m\u001b[32m ===============================\u001b[0m\n"
     ]
    }
   ],
   "source": [
    "!pytest test_square3.py"
   ]
  },
  {
   "cell_type": "code",
   "execution_count": 87,
   "id": "f114121e-83d7-43a5-b193-7a3888205fd7",
   "metadata": {},
   "outputs": [
    {
     "name": "stdout",
     "output_type": "stream",
     "text": [
      "\u001b[1m============================= test session starts ==============================\u001b[0m\n",
      "platform linux -- Python 3.10.14, pytest-8.2.0, pluggy-1.5.0 -- /opt/tljh/user/bin/python3.10\n",
      "cachedir: .pytest_cache\n",
      "rootdir: /opt/zeomega-python-2024/book/live-notes\n",
      "plugins: anyio-4.3.0\n",
      "collected 2 items                                                              \u001b[0m\n",
      "\n",
      "test_square3.py::test_square \u001b[32mPASSED\u001b[0m\u001b[32m                                      [ 50%]\u001b[0m\n",
      "test_square3.py::test_sum_of_squares \u001b[32mPASSED\u001b[0m\u001b[32m                              [100%]\u001b[0m\n",
      "\n",
      "\u001b[32m============================== \u001b[32m\u001b[1m2 passed\u001b[0m\u001b[32m in 0.01s\u001b[0m\u001b[32m ===============================\u001b[0m\n"
     ]
    }
   ],
   "source": [
    "!pytest test_square3.py -v"
   ]
  },
  {
   "cell_type": "markdown",
   "id": "e6952bcb-a8ca-484b-9927-337a18dca4a3",
   "metadata": {},
   "source": [
    "**Problem:** Write a test case for the `digit_count` function.\n",
    "\n",
    "```python\n",
    "def digit_count(number, digit):\n",
    "    return str(number).count(str(digit))\n",
    "```\n",
    "\n",
    "**Hints:**\n",
    "\n",
    "- create `digit_count.py` and `test_digit_count.py` files\n",
    "- use `pytest` to run your tests"
   ]
  },
  {
   "cell_type": "markdown",
   "id": "e7fa9c5e-def8-446e-9002-cfdc55814f8c",
   "metadata": {},
   "source": [
    "### Example: Hosts Parser"
   ]
  },
  {
   "cell_type": "markdown",
   "id": "75ac1c59-8566-4756-8751-d87a0a2bc151",
   "metadata": {},
   "source": [
    "Let's write a program to parse the /etc/hosts file format."
   ]
  },
  {
   "cell_type": "code",
   "execution_count": 88,
   "id": "68d7fb4d-2d85-42ab-bacd-f2d885e8fdc4",
   "metadata": {},
   "outputs": [
    {
     "name": "stdout",
     "output_type": "stream",
     "text": [
      "# /etc/hosts\n",
      "127.0.0.1\tlocalhost\n",
      "\n",
      "# The following lines are desirable for IPv6 capable hosts\n",
      "::1\t\tlocalhost ip6-localhost ip6-loopback\n",
      "ff02::1\t\tip6-allnodes\n",
      "ff02::2\t\tip6-allrouters\n"
     ]
    }
   ],
   "source": [
    "!cat /etc/hosts"
   ]
  },
  {
   "cell_type": "markdown",
   "id": "eecdbd2d-b70c-4a86-bd45-86a72d0507d0",
   "metadata": {},
   "source": [
    "Let's create a sample hosts file."
   ]
  },
  {
   "cell_type": "code",
   "execution_count": 89,
   "id": "b9fc876e-9cd7-4aff-8ea5-9adb2faaa52a",
   "metadata": {},
   "outputs": [
    {
     "name": "stdout",
     "output_type": "stream",
     "text": [
      "Writing hosts.txt\n"
     ]
    }
   ],
   "source": [
    "%%file hosts.txt\n",
    "1.2.3.4 myhost www.myhost\n",
    "\n",
    "# this is comment\n",
    "127.0.0.1 localhost\n",
    "\n",
    "1.2.3.4 foo bar\n",
    "1.2.3.5 web1 web2"
   ]
  },
  {
   "cell_type": "markdown",
   "id": "75d50532-3a72-4547-9d36-897dc485a6a1",
   "metadata": {},
   "source": [
    "Let's write a program to parse this file format. \n",
    "\n",
    "At the end of the parsing, we need to know the IP address of every host specified in the file."
   ]
  },
  {
   "cell_type": "code",
   "execution_count": 114,
   "id": "262d5324-4d72-449c-9500-3e0a1e1d9df2",
   "metadata": {},
   "outputs": [
    {
     "name": "stdout",
     "output_type": "stream",
     "text": [
      "Overwriting hosts.py\n"
     ]
    }
   ],
   "source": [
    "%%file hosts.py\n",
    "\"\"\"\n",
    "Module to parse /etc/hosts file format.\n",
    "\"\"\"\n",
    "import sys\n",
    "\n",
    "def parse(filename: str) -> dict[str, str]:\n",
    "    \"\"\"Parses a hosts file.\n",
    "\n",
    "    Returns a dictionary mapping from hostname to ip address \n",
    "    for every host specified in the file.\n",
    "\n",
    "    The empty lines and comments are ignored.\n",
    "    \"\"\"\n",
    "    result = {}\n",
    "    for line in open(filename):\n",
    "        hosts = parse_line(line)\n",
    "        result.update(hosts)\n",
    "    return result\n",
    "\n",
    "def parse_line(line: str) -> dict[str, str]:\n",
    "    \"\"\"Parses a line of a hosts file.\n",
    "\n",
    "    Returns a dict mapping from hostname to ip address\n",
    "    of all the hosts mentioned in the line.\n",
    "\n",
    "    The empty and comment lines gives empty result.\n",
    "\n",
    "        >>> parse_line(\"\") \n",
    "        {}\n",
    "        >>> parse_line(\"1.2.3.4 h1 h2\") \n",
    "        {\"h1\": \"1.2.3.4\", \"h2\": \"1.2.3.4\"}\n",
    "    \"\"\"\n",
    "    if is_empty(line) or is_comment(line):\n",
    "        return {}\n",
    "\n",
    "    parts = line.split()\n",
    "    ip = parts[0]\n",
    "    hosts = parts[1:]\n",
    "    \n",
    "    return {h: ip for h in hosts}\n",
    "\n",
    "def is_empty(line):\n",
    "    \"\"\"Checks if a line is empty.\n",
    "    \"\"\"\n",
    "    return line.strip() == \"\" \n",
    "\n",
    "def is_comment(line):\n",
    "    \"\"\"Checks if a line is a comment.\n",
    "    \"\"\"\n",
    "    return line.strip().startswith(\"#\")\n",
    "\n",
    "def main():\n",
    "    filename = sys.argv[1]\n",
    "    hosts = parse(filename)\n",
    "    print(hosts)\n",
    "\n",
    "if __name__ == \"__main__\":\n",
    "    main()"
   ]
  },
  {
   "cell_type": "code",
   "execution_count": 119,
   "id": "823f4696-5daa-47df-90e7-612899ff8cdf",
   "metadata": {},
   "outputs": [
    {
     "name": "stdout",
     "output_type": "stream",
     "text": [
      "Overwriting test_hosts.py\n"
     ]
    }
   ],
   "source": [
    "%%file test_hosts.py\n",
    "\n",
    "from hosts import parse, parse_line, is_comment, is_empty\n",
    "\n",
    "def test_is_comment():\n",
    "    assert is_comment(\"\") == False\n",
    "    \n",
    "    assert is_comment(\"# hello\") == True\n",
    "    assert is_comment(\"hello\") == False\n",
    "\n",
    "    assert is_comment(\"  # hello\") == True\n",
    "    assert is_comment(\"  # hello\\n\") == True\n",
    "\n",
    "    assert is_comment(\"hello # world\") == False\n",
    "\n",
    "def test_is_empty():\n",
    "    assert is_empty(\"\") == True\n",
    "    assert is_empty(\"hello\") == False\n",
    "\n",
    "    assert is_empty(\"  \") == True\n",
    "    assert is_empty(\"\\n\") == True\n",
    "    assert is_empty(\"\\t\") == True\n",
    "    assert is_empty(\"   \\n\") == True\n",
    "\n",
    "    assert is_empty(\"# hello\") == False\n",
    "    \n",
    "def test_parse_line():\n",
    "    # zero case\n",
    "    assert parse_line(\"\") == {}\n",
    "    assert parse_line(\"\\n\") == {}\n",
    "\n",
    "    # simple case\n",
    "    assert parse_line(\"1.2.3.4 web\") == {\"web\": \"1.2.3.4\"}\n",
    "    assert parse_line(\"1.2.3.4 w1 w2\") == {\"w1\": \"1.2.3.4\", \"w2\": \"1.2.3.4\"}\n",
    "\n",
    "    # complex case: multiple spaces\n",
    "    assert parse_line(\"1.2.3.4   web\") == {\"web\": \"1.2.3.4\"}\n",
    "    assert parse_line(\"1.2.3.4   w1   w2\") == {\"w1\": \"1.2.3.4\", \"w2\": \"1.2.3.4\"}\n",
    "\n",
    "    # trailing newline\n",
    "    assert parse_line(\"1.2.3.4 web  \\n\") == {\"web\": \"1.2.3.4\"}\n",
    "\n",
    "    # corner cases\n",
    "    assert parse_line(\"1.2.3.4\") == {}\n",
    "    assert parse_line(\"w1 w2 1.2.3.4\") == {\"w2\": \"w1\", \"1.2.3.4\": \"w1\"}\n",
    "\n",
    "    assert parse_line(\"# comment\") == {}\n",
    "\n",
    "def test_parse(tmp_path):\n",
    "    # zero case\n",
    "    p = tmp_path / \"empty.txt\"\n",
    "    p.write_text(\"\")\n",
    "    assert parse(p) == {}\n",
    "\n",
    "    # simple case\n",
    "    p = tmp_path / \"a.txt\"\n",
    "    p.write_text(\"1.2.3.4 web\\n\") \n",
    "    assert parse(p) == {\"web\": \"1.2.3.4\"}\n",
    "\n",
    "    p.write_text(\"1.2.3.4 web\\n1.2.3.5 h1 h2\\n\") == {\n",
    "        \"web\": \"1.2.3.4\",\n",
    "        \"h1\": \"1.2.3.5\",\n",
    "        \"h2\": \"1.2.3.5\"\n",
    "    }\n",
    "\n",
    "    # Complex use case\n",
    "    p = tmp_path / \"a.txt\"\n",
    "    p.write_text(\"\"\"\n",
    "    1.2.3.4 web\n",
    "\n",
    "    # comment\n",
    "    1.2.3.5 h1 h2\n",
    "    1.2.3.6 h2 h3    \n",
    "    \"\"\")\n",
    "    assert parse(p) == {\n",
    "        \"web\": \"1.2.3.4\",\n",
    "        \"h1\": \"1.2.3.5\",\n",
    "        \"h2\": \"1.2.3.6\",\n",
    "        \"h3\": \"1.2.3.6\"\n",
    "    }"
   ]
  },
  {
   "cell_type": "code",
   "execution_count": 118,
   "id": "bd804205-135f-49be-855f-c1765d24b2a3",
   "metadata": {},
   "outputs": [
    {
     "name": "stdout",
     "output_type": "stream",
     "text": [
      "\u001b[1m============================= test session starts ==============================\u001b[0m\n",
      "platform linux -- Python 3.10.14, pytest-8.2.0, pluggy-1.5.0 -- /opt/tljh/user/bin/python3.10\n",
      "cachedir: .pytest_cache\n",
      "rootdir: /opt/zeomega-python-2024/book/live-notes\n",
      "plugins: anyio-4.3.0\n",
      "collected 4 items                                                              \u001b[0m\n",
      "\n",
      "test_hosts.py::test_is_comment \u001b[32mPASSED\u001b[0m\u001b[32m                                    [ 25%]\u001b[0m\n",
      "test_hosts.py::test_is_empty \u001b[32mPASSED\u001b[0m\u001b[32m                                      [ 50%]\u001b[0m\n",
      "test_hosts.py::test_parse_line \u001b[32mPASSED\u001b[0m\u001b[32m                                    [ 75%]\u001b[0m\n",
      "test_hosts.py::test_parse \u001b[32mPASSED\u001b[0m\u001b[32m                                         [100%]\u001b[0m\n",
      "\n",
      "\u001b[32m============================== \u001b[32m\u001b[1m4 passed\u001b[0m\u001b[32m in 0.03s\u001b[0m\u001b[32m ===============================\u001b[0m\n"
     ]
    }
   ],
   "source": [
    "!pytest test_hosts.py  -v"
   ]
  },
  {
   "cell_type": "markdown",
   "id": "3a9a3481-9f49-4c00-beed-5ecb6017fbf0",
   "metadata": {},
   "source": [
    "## Working with Web & APIs"
   ]
  },
  {
   "cell_type": "markdown",
   "id": "dbb83bdc-9f3d-467e-b63f-7bcfc248abe6",
   "metadata": {},
   "source": [
    "* Working with Web using requests library\n",
    "* Simple APIs\n",
    "* JSON APIs\n",
    "* HTTP methods\n",
    "* Authorization"
   ]
  },
  {
   "cell_type": "markdown",
   "id": "56678d4e-0d97-46f5-8930-26b43f0bcec0",
   "metadata": {},
   "source": [
    "### Working with Web"
   ]
  },
  {
   "cell_type": "markdown",
   "id": "ee485b18-aeeb-41c9-abee-a41117d522df",
   "metadata": {},
   "source": [
    "The third-party library `requests` is a popular choice for working with web and APIs."
   ]
  },
  {
   "cell_type": "code",
   "execution_count": 121,
   "id": "779c767a-12b9-43c2-890f-a2af452b258f",
   "metadata": {},
   "outputs": [],
   "source": [
    "import requests"
   ]
  },
  {
   "cell_type": "code",
   "execution_count": 122,
   "id": "6cba421d-c1ee-40fc-a24b-eb4b42738e01",
   "metadata": {},
   "outputs": [
    {
     "name": "stdout",
     "output_type": "stream",
     "text": [
      "Hello, world!\n"
     ]
    }
   ],
   "source": [
    "!curl https://anandology.com/tmp/hello.txt"
   ]
  },
  {
   "cell_type": "code",
   "execution_count": 124,
   "id": "623af0ff-bcce-4d46-a924-d742c4d7e9a9",
   "metadata": {},
   "outputs": [
    {
     "name": "stdout",
     "output_type": "stream",
     "text": [
      " _   _      _ _       _ \n",
      "| | | | ___| | | ___ | |\n",
      "| |_| |/ _ \\ | |/ _ \\| |\n",
      "|  _  |  __/ | | (_) |_|\n",
      "|_| |_|\\___|_|_|\\___/(_)\n",
      "                        \n"
     ]
    }
   ],
   "source": [
    "!curl https://figlet.apps.pipal.in/api/figlet"
   ]
  },
  {
   "cell_type": "code",
   "execution_count": 125,
   "id": "930e3ddf-6443-4653-af0a-cef54d67d3e9",
   "metadata": {},
   "outputs": [],
   "source": [
    "url = \"https://anandology.com/tmp/hello.txt\""
   ]
  },
  {
   "cell_type": "code",
   "execution_count": 126,
   "id": "1e82df11-1f43-44c9-9fa6-d4334c89b37c",
   "metadata": {},
   "outputs": [],
   "source": [
    "response = requests.get(url)"
   ]
  },
  {
   "cell_type": "code",
   "execution_count": 127,
   "id": "82c8e3fd-0a5b-4074-8a0b-9bd8ce3859ef",
   "metadata": {},
   "outputs": [
    {
     "data": {
      "text/plain": [
       "<Response [200]>"
      ]
     },
     "execution_count": 127,
     "metadata": {},
     "output_type": "execute_result"
    }
   ],
   "source": [
    "response"
   ]
  },
  {
   "cell_type": "code",
   "execution_count": 128,
   "id": "418ebc7d-a050-4098-8ff7-8e8b497ce0b1",
   "metadata": {},
   "outputs": [
    {
     "data": {
      "text/plain": [
       "{'Server': 'nginx/1.10.3 (Ubuntu)', 'Date': 'Wed, 15 May 2024 07:28:12 GMT', 'Content-Type': 'text/plain', 'Content-Length': '14', 'Last-Modified': 'Sat, 30 Nov 2019 10:26:32 GMT', 'Connection': 'keep-alive', 'ETag': '\"5de243d8-e\"', 'Access-Control-Allow-Origin': '*', 'Accept-Ranges': 'bytes'}"
      ]
     },
     "execution_count": 128,
     "metadata": {},
     "output_type": "execute_result"
    }
   ],
   "source": [
    "response.headers"
   ]
  },
  {
   "cell_type": "code",
   "execution_count": 129,
   "id": "3394bfa1-d1f1-4bae-9ee5-7c68babe8792",
   "metadata": {},
   "outputs": [
    {
     "data": {
      "text/plain": [
       "'Hello, world!\\n'"
      ]
     },
     "execution_count": 129,
     "metadata": {},
     "output_type": "execute_result"
    }
   ],
   "source": [
    "response.text"
   ]
  },
  {
   "cell_type": "code",
   "execution_count": 130,
   "id": "a80e8b6a-42d7-420e-9cd9-f5204f5d1b5e",
   "metadata": {},
   "outputs": [
    {
     "data": {
      "text/plain": [
       "'Hello, world!\\n'"
      ]
     },
     "execution_count": 130,
     "metadata": {},
     "output_type": "execute_result"
    }
   ],
   "source": [
    "requests.get(url).text"
   ]
  },
  {
   "cell_type": "markdown",
   "id": "a9b63071-675d-4b3d-b730-e4615695c424",
   "metadata": {},
   "source": [
    "### Example: Figlet"
   ]
  },
  {
   "cell_type": "markdown",
   "id": "ba856add-85bd-4d8f-9138-0d63ee99e5af",
   "metadata": {},
   "source": [
    "There is a fun unix command called `figlet` and `figlet.apps.pipal.in` provides as API to access that."
   ]
  },
  {
   "cell_type": "code",
   "execution_count": 132,
   "id": "494e094f-c49f-46da-ab87-e9a424043784",
   "metadata": {},
   "outputs": [
    {
     "name": "stdout",
     "output_type": "stream",
     "text": [
      "             _   _                 \n",
      " _ __  _   _| |_| |__   ___  _ __  \n",
      "| '_ \\| | | | __| '_ \\ / _ \\| '_ \\ \n",
      "| |_) | |_| | |_| | | | (_) | | | |\n",
      "| .__/ \\__, |\\__|_| |_|\\___/|_| |_|\n",
      "|_|    |___/                       \n"
     ]
    }
   ],
   "source": [
    "!figlet python"
   ]
  },
  {
   "cell_type": "code",
   "execution_count": 134,
   "id": "7f43eb46-2681-4500-99e5-be1ed5d38a12",
   "metadata": {},
   "outputs": [
    {
     "name": "stdout",
     "output_type": "stream",
     "text": [
      "                                                                 \n",
      "                            _/      _/                           \n",
      "     _/_/_/    _/    _/  _/_/_/_/  _/_/_/      _/_/    _/_/_/    \n",
      "    _/    _/  _/    _/    _/      _/    _/  _/    _/  _/    _/   \n",
      "   _/    _/  _/    _/    _/      _/    _/  _/    _/  _/    _/    \n",
      "  _/_/_/      _/_/_/      _/_/  _/    _/    _/_/    _/    _/     \n",
      " _/              _/                                              \n",
      "_/          _/_/                                                 \n"
     ]
    }
   ],
   "source": [
    "!figlet -f lean python"
   ]
  },
  {
   "cell_type": "code",
   "execution_count": 135,
   "id": "5c10aad3-7f06-4327-9f5e-8aabae7696bb",
   "metadata": {},
   "outputs": [
    {
     "name": "stdout",
     "output_type": "stream",
     "text": [
      " _   _      _ _       _ \n",
      "| | | | ___| | | ___ | |\n",
      "| |_| |/ _ \\ | |/ _ \\| |\n",
      "|  _  |  __/ | | (_) |_|\n",
      "|_| |_|\\___|_|_|\\___/(_)\n",
      "                        \n"
     ]
    }
   ],
   "source": [
    "!curl https://figlet.apps.pipal.in/api/figlet"
   ]
  },
  {
   "cell_type": "markdown",
   "id": "3ef72e3d-4a65-4eb1-a5b3-b313b618db4a",
   "metadata": {},
   "source": [
    "we can specify the text and font as query parameters."
   ]
  },
  {
   "cell_type": "code",
   "execution_count": 136,
   "id": "3a71dcdd-55f7-46f3-85d2-2fa0c2b68c57",
   "metadata": {},
   "outputs": [
    {
     "name": "stdout",
     "output_type": "stream",
     "text": [
      " ____        _   _                 \n",
      "|  _ \\ _   _| |_| |__   ___  _ __  \n",
      "| |_) | | | | __| '_ \\ / _ \\| '_ \\ \n",
      "|  __/| |_| | |_| | | | (_) | | | |\n",
      "|_|    \\__, |\\__|_| |_|\\___/|_| |_|\n",
      "       |___/                       \n"
     ]
    }
   ],
   "source": [
    "!curl \"https://figlet.apps.pipal.in/api/figlet?text=Python\""
   ]
  },
  {
   "cell_type": "code",
   "execution_count": 137,
   "id": "0db1779f-7017-43eb-8153-a035f42688ac",
   "metadata": {},
   "outputs": [
    {
     "name": "stdout",
     "output_type": "stream",
     "text": [
      "    ____        __  __              \n",
      "   / __ \\__  __/ /_/ /_  ____  ____ \n",
      "  / /_/ / / / / __/ __ \\/ __ \\/ __ \\\n",
      " / ____/ /_/ / /_/ / / / /_/ / / / /\n",
      "/_/    \\__, /\\__/_/ /_/\\____/_/ /_/ \n",
      "      /____/                        \n"
     ]
    }
   ],
   "source": [
    "!curl \"https://figlet.apps.pipal.in/api/figlet?text=Python&font=slant\""
   ]
  },
  {
   "cell_type": "markdown",
   "id": "0dd73660-1bbc-462b-9065-a1cbc84c5b7a",
   "metadata": {},
   "source": [
    "How to pass query parameters to requests?"
   ]
  },
  {
   "cell_type": "code",
   "execution_count": 139,
   "id": "2b5836eb-c222-48d9-aa3c-4559b0cba227",
   "metadata": {},
   "outputs": [
    {
     "name": "stdout",
     "output_type": "stream",
     "text": [
      " ____        _   _                 \n",
      "|  _ \\ _   _| |_| |__   ___  _ __  \n",
      "| |_) | | | | __| '_ \\ / _ \\| '_ \\ \n",
      "|  __/| |_| | |_| | | | (_) | | | |\n",
      "|_|    \\__, |\\__|_| |_|\\___/|_| |_|\n",
      "       |___/                       \n",
      "\n"
     ]
    }
   ],
   "source": [
    "url = \"https://figlet.apps.pipal.in/api/figlet\"\n",
    "params = {\n",
    "    \"text\": \"Python\",\n",
    "    \"font\": \"\"\n",
    "}\n",
    "output = requests.get(url, params=params).text\n",
    "print(output)"
   ]
  },
  {
   "cell_type": "code",
   "execution_count": 141,
   "id": "04e4e33d-9072-45c7-853c-924646cb6841",
   "metadata": {},
   "outputs": [],
   "source": [
    "def figlet(text, font=\"\"):\n",
    "    url = \"https://figlet.apps.pipal.in/api/figlet\"\n",
    "    params = {\n",
    "        \"text\": text,\n",
    "        \"font\": font\n",
    "    }\n",
    "    return requests.get(url, params=params).text"
   ]
  },
  {
   "cell_type": "code",
   "execution_count": 143,
   "id": "f2f940dd-84b0-4171-9ef6-427ad0283c63",
   "metadata": {},
   "outputs": [
    {
     "data": {
      "text/plain": [
       "'  ___  \\n / _ \\\\ \\n| | | |\\n| |_| |\\n \\\\___/ \\n       \\n'"
      ]
     },
     "execution_count": 143,
     "metadata": {},
     "output_type": "execute_result"
    }
   ],
   "source": [
    "figlet(\"0\")"
   ]
  },
  {
   "cell_type": "code",
   "execution_count": 144,
   "id": "11fa3ae7-c2ac-4d63-abac-ced9901db6bc",
   "metadata": {},
   "outputs": [
    {
     "name": "stdout",
     "output_type": "stream",
     "text": [
      "  ___  \n",
      " / _ \\ \n",
      "| | | |\n",
      "| |_| |\n",
      " \\___/ \n",
      "       \n",
      "\n"
     ]
    }
   ],
   "source": [
    "print(figlet(\"0\"))"
   ]
  },
  {
   "cell_type": "code",
   "execution_count": 145,
   "id": "293cf5a3-ec2a-4ca8-81f5-77861eef6287",
   "metadata": {},
   "outputs": [
    {
     "name": "stdout",
     "output_type": "stream",
     "text": [
      "  ___  \n",
      " / _ \\ \n",
      "| | | |\n",
      "| |_| |\n",
      " \\___/ \n",
      "       \n",
      "\n",
      " _ \n",
      "/ |\n",
      "| |\n",
      "| |\n",
      "|_|\n",
      "   \n",
      "\n",
      " ____  \n",
      "|___ \\ \n",
      "  __) |\n",
      " / __/ \n",
      "|_____|\n",
      "       \n",
      "\n",
      " _____ \n",
      "|___ / \n",
      "  |_ \\ \n",
      " ___) |\n",
      "|____/ \n",
      "       \n",
      "\n",
      " _  _   \n",
      "| || |  \n",
      "| || |_ \n",
      "|__   _|\n",
      "   |_|  \n",
      "        \n",
      "\n"
     ]
    }
   ],
   "source": [
    "for i in range(5):\n",
    "    print(figlet(str(i)))"
   ]
  },
  {
   "cell_type": "code",
   "execution_count": 146,
   "id": "c78013a0-4962-4026-9db7-cc73b1495e80",
   "metadata": {},
   "outputs": [
    {
     "data": {
      "text/html": [
       "\n",
       "        <strong>Problem: Add API</strong>\n",
       "\n",
       "        <p><p>Use Add API to add two numbers.</p>\n",
       "<pre><code>$ curl https://numbers.apps.pipal.in/add?a=3&amp;b=4\n",
       "7\n",
       "</code></pre>\n",
       "<p>Write a function <code>add</code> that takes two numbers as arguments and adds them using the Add API and returns the result.</p>\n",
       "<pre><code class=\"language-python\">&gt;&gt;&gt; add(3, 4)\n",
       "7\n",
       "</code></pre>\n",
       "        </p>\n",
       "\n",
       "        <p>You can verify your solution using:\n",
       "        <pre>%verify_problem add-api</pre>\n",
       "        </p>\n",
       "        "
      ],
      "text/plain": [
       "<Probem: add-api>"
      ]
     },
     "metadata": {},
     "output_type": "display_data"
    }
   ],
   "source": [
    "%load_problem add-api"
   ]
  },
  {
   "cell_type": "code",
   "execution_count": null,
   "id": "76436f84-2309-44dc-ae0b-139028e7527e",
   "metadata": {},
   "outputs": [],
   "source": [
    "# your code here\n",
    "\n",
    "\n",
    "\n"
   ]
  },
  {
   "cell_type": "code",
   "execution_count": 148,
   "id": "26cae526-a69a-432e-a309-8c75e9e01cfd",
   "metadata": {},
   "outputs": [
    {
     "data": {
      "text/html": [
       "\n",
       "        <strong>Problem: Fibs API</strong>\n",
       "\n",
       "        <p><p>Write a function <code>fibs</code> to generate fibonacci numbers using fibs API at <a href=\"https://numbers.apps.pipal.in/\">https://numbers.apps.pipal.in/</a>.</p>\n",
       "<p>The API takes 3 query parameters <code>a</code>, <code>b</code> and <code>n</code> and generates <code>n</code> fibonacci numbers starting with <code>a</code> and <code>b</code>.</p>\n",
       "<pre><code>$ curl 'https://numbers.apps.pipal.in/fibs?a=3&amp;b=4&amp;n=10'\n",
       "3\n",
       "4\n",
       "7\n",
       "11\n",
       "18\n",
       "29\n",
       "47\n",
       "76\n",
       "123\n",
       "199\n",
       "</code></pre>\n",
       "<p>Write a function <code>fibs</code> that takes three numbers <code>a</code>, <code>b</code> and <code>n</code> as arguments and returns a list of fibonacci numbers given by the API.</p>\n",
       "<pre><code class=\"language-python\">&gt;&gt;&gt; fibs(3, 4, 10)\n",
       "[3, 4, 7, 11, 18, 29, 47, 76, 123, 199]\n",
       "\n",
       "&gt;&gt;&gt; sum(fibs(3, 4, 10))\n",
       "517\n",
       "</code></pre>\n",
       "        </p>\n",
       "\n",
       "        <p>You can verify your solution using:\n",
       "        <pre>%verify_problem fibs-api</pre>\n",
       "        </p>\n",
       "        "
      ],
      "text/plain": [
       "<Probem: fibs-api>"
      ]
     },
     "metadata": {},
     "output_type": "display_data"
    }
   ],
   "source": [
    "%load_problem fibs-api"
   ]
  },
  {
   "cell_type": "code",
   "execution_count": null,
   "id": "051fe92c-4ba3-4868-b129-a112836c73e0",
   "metadata": {},
   "outputs": [],
   "source": [
    "# your code here\n",
    "\n",
    "\n",
    "\n"
   ]
  },
  {
   "cell_type": "markdown",
   "id": "f20da320-c11f-454e-8f52-8f7a8c816bab",
   "metadata": {},
   "source": [
    "### JSON APIs"
   ]
  },
  {
   "cell_type": "code",
   "execution_count": 149,
   "id": "a9985246-c609-428f-bb61-3b3dcc7c31bd",
   "metadata": {},
   "outputs": [],
   "source": [
    "import json"
   ]
  },
  {
   "cell_type": "code",
   "execution_count": 150,
   "id": "7bd84822-9251-4a0a-9bbc-64ac60a7ad88",
   "metadata": {},
   "outputs": [],
   "source": [
    "person = {\n",
    "    \"name\": \"Alice\",\n",
    "    \"email\": \"alice@example.com\",\n",
    "    \"verified\": True,\n",
    "    \"numbers\": [1, 2, 3, 4]\n",
    "}"
   ]
  },
  {
   "cell_type": "code",
   "execution_count": 151,
   "id": "ff927076-21f5-44eb-9899-2ae68d2faff4",
   "metadata": {},
   "outputs": [
    {
     "data": {
      "text/plain": [
       "'{\"name\": \"Alice\", \"email\": \"alice@example.com\", \"verified\": true, \"numbers\": [1, 2, 3, 4]}'"
      ]
     },
     "execution_count": 151,
     "metadata": {},
     "output_type": "execute_result"
    }
   ],
   "source": [
    "json.dumps(person)"
   ]
  },
  {
   "cell_type": "code",
   "execution_count": 152,
   "id": "e441634d-49c8-448c-97fe-169f7cf5a0e9",
   "metadata": {},
   "outputs": [],
   "source": [
    "jsontext = json.dumps(person)"
   ]
  },
  {
   "cell_type": "code",
   "execution_count": 153,
   "id": "af795553-88b8-402b-a453-ef3cc75c70e6",
   "metadata": {},
   "outputs": [
    {
     "name": "stdout",
     "output_type": "stream",
     "text": [
      "{\"name\": \"Alice\", \"email\": \"alice@example.com\", \"verified\": true, \"numbers\": [1, 2, 3, 4]}\n"
     ]
    }
   ],
   "source": [
    "print(jsontext)"
   ]
  },
  {
   "cell_type": "code",
   "execution_count": 154,
   "id": "942f7430-cf09-40c0-a8e3-5be6acc92e1b",
   "metadata": {},
   "outputs": [
    {
     "data": {
      "text/plain": [
       "{'name': 'Alice',\n",
       " 'email': 'alice@example.com',\n",
       " 'verified': True,\n",
       " 'numbers': [1, 2, 3, 4]}"
      ]
     },
     "execution_count": 154,
     "metadata": {},
     "output_type": "execute_result"
    }
   ],
   "source": [
    "json.loads(jsontext)"
   ]
  },
  {
   "cell_type": "markdown",
   "id": "5229d3ab-44f2-4f12-a03b-6104525062e6",
   "metadata": {},
   "source": [
    "The fibs API also supports response in JSON format."
   ]
  },
  {
   "cell_type": "code",
   "execution_count": 156,
   "id": "b9f7db93-dfa4-4c7b-b1cc-bd815f09f32c",
   "metadata": {},
   "outputs": [
    {
     "name": "stdout",
     "output_type": "stream",
     "text": [
      "1\n",
      "1\n",
      "2\n",
      "3\n",
      "5\n"
     ]
    }
   ],
   "source": [
    "!curl \"https://numbers.apps.pipal.in/fibs?a=1&b=1&n=5\""
   ]
  },
  {
   "cell_type": "code",
   "execution_count": 157,
   "id": "3ebf7cf5-ebe6-42b5-8469-3ef72f0afe09",
   "metadata": {},
   "outputs": [
    {
     "name": "stdout",
     "output_type": "stream",
     "text": [
      "{\"result\":[1,1,2,3,5]}\n"
     ]
    }
   ],
   "source": [
    "!curl \"https://numbers.apps.pipal.in/fibs?a=1&b=1&n=5&format=json\""
   ]
  },
  {
   "cell_type": "code",
   "execution_count": 159,
   "id": "1a0272d6-cb58-4629-9c1d-a0eff8a28126",
   "metadata": {},
   "outputs": [],
   "source": [
    "url = \"https://numbers.apps.pipal.in/fibs\"\n",
    "params = {\n",
    "    \"a\": 1,\n",
    "    \"b\": 1,\n",
    "    \"n\": 5,\n",
    "    \"format\": \"json\"\n",
    "}\n",
    "response = requests.get(url, params=params).json()"
   ]
  },
  {
   "cell_type": "code",
   "execution_count": 160,
   "id": "5f7f8390-eadb-424e-8d6e-a4936b31b956",
   "metadata": {},
   "outputs": [
    {
     "data": {
      "text/plain": [
       "{'result': [1, 1, 2, 3, 5]}"
      ]
     },
     "execution_count": 160,
     "metadata": {},
     "output_type": "execute_result"
    }
   ],
   "source": [
    "response"
   ]
  },
  {
   "cell_type": "code",
   "execution_count": 161,
   "id": "e73217c7-9356-4bda-b20c-595e8dc776fb",
   "metadata": {},
   "outputs": [
    {
     "data": {
      "text/plain": [
       "dict"
      ]
     },
     "execution_count": 161,
     "metadata": {},
     "output_type": "execute_result"
    }
   ],
   "source": [
    "type(response)"
   ]
  },
  {
   "cell_type": "code",
   "execution_count": 162,
   "id": "3023efb7-6a81-4557-8a1a-1d4d6b9ed418",
   "metadata": {},
   "outputs": [
    {
     "data": {
      "text/plain": [
       "[1, 1, 2, 3, 5]"
      ]
     },
     "execution_count": 162,
     "metadata": {},
     "output_type": "execute_result"
    }
   ],
   "source": [
    "response['result']"
   ]
  },
  {
   "cell_type": "code",
   "execution_count": 163,
   "id": "4545e487-c929-4479-9dc0-da6f30fc46e8",
   "metadata": {},
   "outputs": [
    {
     "data": {
      "text/plain": [
       "12"
      ]
     },
     "execution_count": 163,
     "metadata": {},
     "output_type": "execute_result"
    }
   ],
   "source": [
    "sum(response['result'])"
   ]
  },
  {
   "cell_type": "code",
   "execution_count": 164,
   "id": "9ea04ac7-6bc6-464b-a71a-f10deffbcb5a",
   "metadata": {},
   "outputs": [],
   "source": [
    "def fibs(a, b, n):\n",
    "    url = \"https://numbers.apps.pipal.in/fibs\"\n",
    "    params = dict(a=a, b=b, n=n, format=\"json\")\n",
    "    response = requests.get(url, params=params).json()    \n",
    "    return response['result']"
   ]
  },
  {
   "cell_type": "code",
   "execution_count": 165,
   "id": "ac2cad30-fcfe-4701-ac3c-af5578aa13b4",
   "metadata": {},
   "outputs": [
    {
     "data": {
      "text/plain": [
       "[1, 1, 2, 3, 5]"
      ]
     },
     "execution_count": 165,
     "metadata": {},
     "output_type": "execute_result"
    }
   ],
   "source": [
    "fibs(1,1,5)"
   ]
  },
  {
   "cell_type": "code",
   "execution_count": 167,
   "id": "9e36a28b-b841-4de7-8059-675bd339e898",
   "metadata": {},
   "outputs": [
    {
     "data": {
      "text/plain": [
       "[1, 1, 2, 3, 5, 8, 13, 21, 34, 55]"
      ]
     },
     "execution_count": 167,
     "metadata": {},
     "output_type": "execute_result"
    }
   ],
   "source": [
    "fibs(1,1,10)"
   ]
  },
  {
   "cell_type": "markdown",
   "id": "efb7fc66-6631-490b-9a24-4a7e943d25eb",
   "metadata": {},
   "source": [
    "### HTTP Methods"
   ]
  },
  {
   "cell_type": "markdown",
   "id": "65856c5d-a519-495d-8ea1-1c4a14e5228c",
   "metadata": {},
   "source": [
    "Every HTTP request is made of one of the HTTP methods. The common ones are GET, POST, PUT and DELETE."
   ]
  },
  {
   "cell_type": "code",
   "execution_count": 168,
   "id": "d997e5f2-45e1-482f-afd1-726901cc7ea6",
   "metadata": {},
   "outputs": [
    {
     "name": "stdout",
     "output_type": "stream",
     "text": [
      "* Host anandology.com:443 was resolved.\n",
      "* IPv6: (none)\n",
      "* IPv4: 139.59.87.96\n",
      "*   Trying 139.59.87.96:443...\n",
      "* Connected to anandology.com (139.59.87.96) port 443\n",
      "* ALPN: curl offers h2,http/1.1\n",
      "* TLSv1.3 (OUT), TLS handshake, Client hello (1):\n",
      "*  CAfile: /etc/ssl/certs/ca-certificates.crt\n",
      "*  CApath: /etc/ssl/certs\n",
      "* TLSv1.3 (IN), TLS handshake, Server hello (2):\n",
      "* TLSv1.2 (IN), TLS handshake, Certificate (11):\n",
      "* TLSv1.2 (IN), TLS handshake, Server key exchange (12):\n",
      "* TLSv1.2 (IN), TLS handshake, Server finished (14):\n",
      "* TLSv1.2 (OUT), TLS handshake, Client key exchange (16):\n",
      "* TLSv1.2 (OUT), TLS change cipher, Change cipher spec (1):\n",
      "* TLSv1.2 (OUT), TLS handshake, Finished (20):\n",
      "* TLSv1.2 (IN), TLS handshake, Finished (20):\n",
      "* SSL connection using TLSv1.2 / ECDHE-ECDSA-AES128-GCM-SHA256 / prime256v1 / id-ecPublicKey\n",
      "* ALPN: server accepted http/1.1\n",
      "* Server certificate:\n",
      "*  subject: CN=anandology.com\n",
      "*  start date: May 12 13:26:19 2024 GMT\n",
      "*  expire date: Aug 10 13:26:18 2024 GMT\n",
      "*  subjectAltName: host \"anandology.com\" matched cert's \"anandology.com\"\n",
      "*  issuer: C=US; O=Let's Encrypt; CN=R3\n",
      "*  SSL certificate verify ok.\n",
      "*   Certificate level 0: Public key type EC/prime256v1 (256/128 Bits/secBits), signed using sha256WithRSAEncryption\n",
      "*   Certificate level 1: Public key type RSA (2048/112 Bits/secBits), signed using sha256WithRSAEncryption\n",
      "*   Certificate level 2: Public key type RSA (4096/152 Bits/secBits), signed using sha256WithRSAEncryption\n",
      "* using HTTP/1.x\n",
      "> GET /tmp/hello.txt HTTP/1.1\n",
      "> Host: anandology.com\n",
      "> User-Agent: curl/8.5.0\n",
      "> Accept: */*\n",
      "> \n",
      "< HTTP/1.1 200 OK\n",
      "< Server: nginx/1.10.3 (Ubuntu)\n",
      "< Date: Wed, 15 May 2024 09:24:32 GMT\n",
      "< Content-Type: text/plain\n",
      "< Content-Length: 14\n",
      "< Last-Modified: Sat, 30 Nov 2019 10:26:32 GMT\n",
      "< Connection: keep-alive\n",
      "< ETag: \"5de243d8-e\"\n",
      "< Access-Control-Allow-Origin: *\n",
      "< Accept-Ranges: bytes\n",
      "< \n",
      "Hello, world!\n",
      "* Connection #0 to host anandology.com left intact\n"
     ]
    }
   ],
   "source": [
    "!curl -v https://anandology.com/tmp/hello.txt "
   ]
  },
  {
   "cell_type": "markdown",
   "id": "21630361-e368-4aa5-ac0e-7c69a22417ac",
   "metadata": {},
   "source": [
    "### Example: range"
   ]
  },
  {
   "cell_type": "code",
   "execution_count": 172,
   "id": "f9064f1b-2a2c-4dc4-a33c-47b7a53bd26f",
   "metadata": {},
   "outputs": [
    {
     "name": "stdout",
     "output_type": "stream",
     "text": [
      "HTTP/1.1 200 OK\n",
      "\u001b[1mServer\u001b[0m: nginx/1.18.0 (Ubuntu)\n",
      "\u001b[1mDate\u001b[0m: Wed, 15 May 2024 09:30:20 GMT\n",
      "\u001b[1mContent-Type\u001b[0m: application/json\n",
      "\u001b[1mContent-Length\u001b[0m: 38\n",
      "\u001b[1mConnection\u001b[0m: keep-alive\n",
      "\n",
      "{\"result\":[1,3,5,7,9,11,13,15,17,19]}\n"
     ]
    }
   ],
   "source": [
    "!curl -i \\\n",
    "    -H \"Content-type: application/json\" \\\n",
    "    -d '{\"start\": 1, \"stop\": 20, \"step\": 2}' \\\n",
    "    https://numbers.apps.pipal.in/range"
   ]
  },
  {
   "cell_type": "code",
   "execution_count": 176,
   "id": "b9cc1dd2-3634-48ba-a99b-0bbefffc08d4",
   "metadata": {},
   "outputs": [],
   "source": [
    "url = \"https://numbers.apps.pipal.in/range\"\n",
    "data = {\"start\": 1, \"stop\": 20, \"step\": 2}"
   ]
  },
  {
   "cell_type": "code",
   "execution_count": 178,
   "id": "b3ee9fff-9e7e-4857-bd65-eda8a89737f2",
   "metadata": {},
   "outputs": [
    {
     "data": {
      "text/plain": [
       "{'result': [1, 3, 5, 7, 9, 11, 13, 15, 17, 19]}"
      ]
     },
     "execution_count": 178,
     "metadata": {},
     "output_type": "execute_result"
    }
   ],
   "source": [
    "requests.post(url, json=data).json()"
   ]
  },
  {
   "cell_type": "code",
   "execution_count": 179,
   "id": "81ba9f3a-a87f-4a56-906e-317723a07163",
   "metadata": {},
   "outputs": [],
   "source": [
    "def api_range(start, stop, step=1):\n",
    "    url = \"https://numbers.apps.pipal.in/range\"\n",
    "    data = {\"start\": start, \"stop\": stop, \"step\": step}\n",
    "    response = requests.post(url, json=data).json()\n",
    "    return response['result']"
   ]
  },
  {
   "cell_type": "code",
   "execution_count": 181,
   "id": "68029d8e-f1b4-4999-991b-97abf170da45",
   "metadata": {},
   "outputs": [
    {
     "data": {
      "text/plain": [
       "[1, 4, 7, 10, 13, 16, 19]"
      ]
     },
     "execution_count": 181,
     "metadata": {},
     "output_type": "execute_result"
    }
   ],
   "source": [
    "api_range(1, 20, 3)"
   ]
  },
  {
   "cell_type": "code",
   "execution_count": 182,
   "id": "bc95eea1-c845-4b4b-a553-928c0649d524",
   "metadata": {},
   "outputs": [
    {
     "data": {
      "text/html": [
       "\n",
       "        <strong>Problem: Product API</strong>\n",
       "\n",
       "        <p><p>Write a function <code>product</code> to compute the product of a list of numbers using the product API.</p>\n",
       "<pre><code>$ curl -H 'Content-type: application/json' -d '{&quot;numbers&quot;: [1, 2, 3, 4, 5]}' https://numbers.apps.pipal.in/product\n",
       "{&quot;result&quot;: 120}\n",
       "</code></pre>\n",
       "<p>Write a function <code>product</code> that takes a list of numbers as argument and computes their product using the product API.</p>\n",
       "<pre><code class=\"language-python\">&gt;&gt;&gt; product([1, 2, 3, 4])\n",
       "24\n",
       "&gt;&gt;&gt; product([10, 2, 50])\n",
       "1000\n",
       "</code></pre>\n",
       "        </p>\n",
       "\n",
       "        <p>You can verify your solution using:\n",
       "        <pre>%verify_problem product-api</pre>\n",
       "        </p>\n",
       "        "
      ],
      "text/plain": [
       "<Probem: product-api>"
      ]
     },
     "metadata": {},
     "output_type": "display_data"
    }
   ],
   "source": [
    "%load_problem product-api"
   ]
  },
  {
   "cell_type": "code",
   "execution_count": null,
   "id": "b04cfeb7-80ab-4912-a957-1e945b1753e2",
   "metadata": {},
   "outputs": [],
   "source": [
    "# your code here\n",
    "\n",
    "\n",
    "\n"
   ]
  },
  {
   "cell_type": "markdown",
   "id": "64575a0b-c569-417f-9be3-dfbc00e4e583",
   "metadata": {},
   "source": [
    "### Authorization"
   ]
  },
  {
   "cell_type": "code",
   "execution_count": 193,
   "id": "8362effe-dd8a-4281-87a7-0d5971159bdc",
   "metadata": {},
   "outputs": [
    {
     "name": "stdout",
     "output_type": "stream",
     "text": [
      "{}\n"
     ]
    }
   ],
   "source": [
    "!curl https://numbers.apps.pipal.in/store"
   ]
  },
  {
   "cell_type": "code",
   "execution_count": 185,
   "id": "9a317631-1cbd-4df3-8474-481a8b9cbb96",
   "metadata": {},
   "outputs": [],
   "source": [
    "d = requests.get(\"https://numbers.apps.pipal.in/store\").json()"
   ]
  },
  {
   "cell_type": "code",
   "execution_count": 187,
   "id": "cd729313-4989-4709-a586-fc582b4b50a3",
   "metadata": {},
   "outputs": [],
   "source": [
    "headers = {\n",
    "    \"Authorization\": \"Bearer abcd1234\"\n",
    "}"
   ]
  },
  {
   "cell_type": "code",
   "execution_count": 192,
   "id": "53eb05f6-5651-4ac0-b539-1689cf5366bd",
   "metadata": {},
   "outputs": [
    {
     "name": "stdout",
     "output_type": "stream",
     "text": [
      "x\n",
      "x0\n",
      "x1\n",
      "x2\n",
      "x3\n",
      "x4\n",
      "x5\n",
      "x6\n",
      "x7\n",
      "x8\n",
      "x9\n"
     ]
    }
   ],
   "source": [
    "for k in d:\n",
    "    url = f\"https://numbers.apps.pipal.in/store/{k}\"\n",
    "    requests.delete(url, headers=headers)\n",
    "    print(k)"
   ]
  },
  {
   "cell_type": "code",
   "execution_count": null,
   "id": "aa533b8d-f5b9-452e-9430-c0f04965255e",
   "metadata": {},
   "outputs": [],
   "source": [
    "!curl -X DELETE \\\n",
    "    - H 'Authorization: Bearer abcd1234' \\\n",
    "    https://numbers.apps.pipal.in/store/x"
   ]
  },
  {
   "cell_type": "code",
   "execution_count": null,
   "id": "7ceeb049-ba8b-4260-899e-a9dafe7a393e",
   "metadata": {},
   "outputs": [],
   "source": []
  },
  {
   "cell_type": "code",
   "execution_count": 201,
   "id": "ce2da1b2-881d-4f23-97ff-0a9a1aee4ef8",
   "metadata": {},
   "outputs": [
    {
     "name": "stdout",
     "output_type": "stream",
     "text": [
      "{}\n"
     ]
    }
   ],
   "source": [
    "!curl https://numbers.apps.pipal.in/store"
   ]
  },
  {
   "cell_type": "code",
   "execution_count": 217,
   "id": "b6ed8601-c203-40e2-870d-6ba48783bffe",
   "metadata": {},
   "outputs": [
    {
     "name": "stdout",
     "output_type": "stream",
     "text": [
      "* Host numbers.apps.pipal.in:443 was resolved.\n",
      "* IPv6: (none)\n",
      "* IPv4: 157.245.98.225\n",
      "*   Trying 157.245.98.225:443...\n",
      "* Connected to numbers.apps.pipal.in (157.245.98.225) port 443\n",
      "* ALPN: curl offers h2,http/1.1\n",
      "* TLSv1.3 (OUT), TLS handshake, Client hello (1):\n",
      "*  CAfile: /etc/ssl/certs/ca-certificates.crt\n",
      "*  CApath: /etc/ssl/certs\n",
      "* TLSv1.3 (IN), TLS handshake, Server hello (2):\n",
      "* TLSv1.3 (IN), TLS handshake, Encrypted Extensions (8):\n",
      "* TLSv1.3 (IN), TLS handshake, Certificate (11):\n",
      "* TLSv1.3 (IN), TLS handshake, CERT verify (15):\n",
      "* TLSv1.3 (IN), TLS handshake, Finished (20):\n",
      "* TLSv1.3 (OUT), TLS change cipher, Change cipher spec (1):\n",
      "* TLSv1.3 (OUT), TLS handshake, Finished (20):\n",
      "* SSL connection using TLSv1.3 / TLS_AES_256_GCM_SHA384 / X25519 / RSASSA-PSS\n",
      "* ALPN: server accepted http/1.1\n",
      "* Server certificate:\n",
      "*  subject: CN=numbers.apps.pipal.in\n",
      "*  start date: Mar 20 05:08:49 2024 GMT\n",
      "*  expire date: Jun 18 05:08:48 2024 GMT\n",
      "*  subjectAltName: host \"numbers.apps.pipal.in\" matched cert's \"numbers.apps.pipal.in\"\n",
      "*  issuer: C=US; O=Let's Encrypt; CN=R3\n",
      "*  SSL certificate verify ok.\n",
      "*   Certificate level 0: Public key type RSA (2048/112 Bits/secBits), signed using sha256WithRSAEncryption\n",
      "*   Certificate level 1: Public key type RSA (2048/112 Bits/secBits), signed using sha256WithRSAEncryption\n",
      "*   Certificate level 2: Public key type RSA (4096/152 Bits/secBits), signed using sha256WithRSAEncryption\n",
      "* using HTTP/1.x\n",
      "> PUT /store/a0 HTTP/1.1\n",
      "> Host: numbers.apps.pipal.in\n",
      "> User-Agent: curl/8.5.0\n",
      "> Accept: */*\n",
      "> Authorization: Bearer abcd1234\n",
      "> Content-type: application/json\n",
      "> Content-Length: 13\n",
      "> \n",
      "* TLSv1.3 (IN), TLS handshake, Newsession Ticket (4):\n",
      "* TLSv1.3 (IN), TLS handshake, Newsession Ticket (4):\n",
      "* old SSL session ID is stale, removing\n",
      "< HTTP/1.1 200 OK\n",
      "< Server: nginx/1.18.0 (Ubuntu)\n",
      "< Date: Wed, 15 May 2024 10:05:52 GMT\n",
      "< Content-Type: application/json\n",
      "< Content-Length: 12\n",
      "< Connection: keep-alive\n",
      "< \n",
      "{\"ok\":true}\n",
      "* Connection #0 to host numbers.apps.pipal.in left intact\n"
     ]
    }
   ],
   "source": [
    "!curl -X PUT -v \\\n",
    "    -H 'Authorization: Bearer abcd1234' \\\n",
    "    -H 'Content-type: application/json' \\\n",
    "    -d '{\"value\": 42}' \\\n",
    "    https://numbers.apps.pipal.in/store/a0"
   ]
  },
  {
   "cell_type": "code",
   "execution_count": 199,
   "id": "b0bb58c9-e328-454a-8ced-1e46c6835f45",
   "metadata": {},
   "outputs": [
    {
     "name": "stdout",
     "output_type": "stream",
     "text": [
      "{\"value\":42}\n"
     ]
    }
   ],
   "source": [
    "!curl https://numbers.apps.pipal.in/store/a0"
   ]
  },
  {
   "cell_type": "code",
   "execution_count": 200,
   "id": "41e584d4-b1b0-4553-9bc2-1cd905c1f34d",
   "metadata": {},
   "outputs": [
    {
     "name": "stdout",
     "output_type": "stream",
     "text": [
      "{\"ok\":true}\n"
     ]
    }
   ],
   "source": [
    "!curl -X DELETE \\\n",
    "    -H 'Authorization: Bearer abcd1234' \\\n",
    "    https://numbers.apps.pipal.in/store/a0"
   ]
  },
  {
   "cell_type": "markdown",
   "id": "d41287e2-f223-4ef1-a3ed-500575561b37",
   "metadata": {},
   "source": [
    "Let's try to do this in Python."
   ]
  },
  {
   "cell_type": "code",
   "execution_count": 206,
   "id": "170a9918-2b15-4e94-857c-0c758d2981bd",
   "metadata": {},
   "outputs": [],
   "source": [
    "base_url = \"https://numbers.apps.pipal.in/store\"\n",
    "headers = {\"Authorization\": \"Bearer abcd1234\"}"
   ]
  },
  {
   "cell_type": "code",
   "execution_count": 211,
   "id": "26ec3718-73d5-4e7e-a89a-4e8e891b5f1c",
   "metadata": {},
   "outputs": [],
   "source": [
    "def store_list():\n",
    "    url = base_url\n",
    "    return requests.get(url).json()\n",
    "\n",
    "def store_get(name):\n",
    "    url = f\"{base_url}/{name}\"\n",
    "    return requests.get(url).json()[\"value\"]\n",
    "\n",
    "def store_put(name, value):\n",
    "    url = f\"{base_url}/{name}\"\n",
    "    data = {\"value\": value}\n",
    "    return requests.put(url, headers=headers, json=data).json()"
   ]
  },
  {
   "cell_type": "code",
   "execution_count": 210,
   "id": "4e4431e8-5498-454a-b1f2-cec78ec70856",
   "metadata": {},
   "outputs": [
    {
     "data": {
      "text/plain": [
       "{'value': 42}"
      ]
     },
     "execution_count": 210,
     "metadata": {},
     "output_type": "execute_result"
    }
   ],
   "source": [
    "store_get(\"p0\")"
   ]
  },
  {
   "cell_type": "code",
   "execution_count": 214,
   "id": "ae9ab107-c32c-4b22-a079-5929cf22800b",
   "metadata": {},
   "outputs": [
    {
     "data": {
      "text/plain": [
       "{'a0': 0, 'p0': 42}"
      ]
     },
     "execution_count": 214,
     "metadata": {},
     "output_type": "execute_result"
    }
   ],
   "source": [
    "store_list()"
   ]
  },
  {
   "cell_type": "code",
   "execution_count": 213,
   "id": "f118d1d7-d480-46a3-a0a7-baa1a583687f",
   "metadata": {},
   "outputs": [
    {
     "data": {
      "text/plain": [
       "{'ok': True}"
      ]
     },
     "execution_count": 213,
     "metadata": {},
     "output_type": "execute_result"
    }
   ],
   "source": [
    "store_put(\"a0\", 0)"
   ]
  },
  {
   "cell_type": "code",
   "execution_count": 215,
   "id": "47ee0aa5-abf0-4616-9f83-8263bda14fe8",
   "metadata": {},
   "outputs": [],
   "source": [
    "for i in range(5):\n",
    "    name = f\"a{i}\"\n",
    "    store_put(name, i*i)"
   ]
  },
  {
   "cell_type": "code",
   "execution_count": 216,
   "id": "971f3446-d11d-4d91-9cb9-a1f9c25d000d",
   "metadata": {},
   "outputs": [
    {
     "data": {
      "text/plain": [
       "{'a0': 0, 'a1': 1, 'a2': 4, 'a3': 9, 'a4': 16, 'p0': 42}"
      ]
     },
     "execution_count": 216,
     "metadata": {},
     "output_type": "execute_result"
    }
   ],
   "source": [
    "store_list()"
   ]
  },
  {
   "cell_type": "markdown",
   "id": "ec983a10-122a-4086-98cf-cc162cacd608",
   "metadata": {},
   "source": [
    "## Regular Expressions"
   ]
  },
  {
   "cell_type": "markdown",
   "id": "9232c261-c766-46cc-90fd-dc66e081d096",
   "metadata": {},
   "source": [
    "Regular expression is a mini-language for pattern matching."
   ]
  },
  {
   "cell_type": "code",
   "execution_count": 218,
   "id": "21372e28-5a1d-4a5a-9895-4a8a11b74d94",
   "metadata": {},
   "outputs": [],
   "source": [
    "sentence = \"10 apples and 20 mangoes\""
   ]
  },
  {
   "cell_type": "code",
   "execution_count": 219,
   "id": "b0b5785e-4d62-4cd1-b299-5165f22935cd",
   "metadata": {},
   "outputs": [
    {
     "data": {
      "text/plain": [
       "['10', 'apples', 'and', '20', 'mangoes']"
      ]
     },
     "execution_count": 219,
     "metadata": {},
     "output_type": "execute_result"
    }
   ],
   "source": [
    "sentence.split()"
   ]
  },
  {
   "cell_type": "code",
   "execution_count": 220,
   "id": "128576e4-ca53-4f1e-b9fb-5cdeb0f0a99e",
   "metadata": {},
   "outputs": [],
   "source": [
    "import re"
   ]
  },
  {
   "cell_type": "code",
   "execution_count": 222,
   "id": "ea64d3ad-7d55-4b6b-9ed8-6d3875c25c5b",
   "metadata": {},
   "outputs": [
    {
     "data": {
      "text/plain": [
       "['10', '20']"
      ]
     },
     "execution_count": 222,
     "metadata": {},
     "output_type": "execute_result"
    }
   ],
   "source": [
    "re.findall(\"\\d+\", sentence)"
   ]
  },
  {
   "cell_type": "code",
   "execution_count": 223,
   "id": "a0669a8a-d84e-46c4-8964-90c42ab21115",
   "metadata": {},
   "outputs": [
    {
     "data": {
      "text/plain": [
       "'X apples and X mangoes'"
      ]
     },
     "execution_count": 223,
     "metadata": {},
     "output_type": "execute_result"
    }
   ],
   "source": [
    "re.sub(\"\\d+\", \"X\", sentence)"
   ]
  },
  {
   "cell_type": "markdown",
   "id": "2b33ab7a-bf8c-404a-ba46-77127a125f0f",
   "metadata": {},
   "source": [
    "# Syntax"
   ]
  },
  {
   "cell_type": "markdown",
   "id": "c37780ef-a53f-4246-9df1-fb7f7603ca08",
   "metadata": {},
   "source": [
    "Regular expressions can have ordinary characters or special characters."
   ]
  },
  {
   "cell_type": "markdown",
   "id": "02806b59-4217-4b2a-a161-1d872e1eab18",
   "metadata": {},
   "source": [
    "Rule 1: Ordinary characters match themselves"
   ]
  },
  {
   "cell_type": "code",
   "execution_count": 224,
   "id": "34087c59-ee81-4d7b-85dd-137e4ec0ee12",
   "metadata": {},
   "outputs": [
    {
     "data": {
      "text/plain": [
       "<re.Match object; span=(0, 3), match='one'>"
      ]
     },
     "execution_count": 224,
     "metadata": {},
     "output_type": "execute_result"
    }
   ],
   "source": [
    "re.match(\"one\", \"one thousand phones\")"
   ]
  },
  {
   "cell_type": "code",
   "execution_count": 225,
   "id": "a1a584b6-6d3c-4c0a-a27a-581bd813224d",
   "metadata": {},
   "outputs": [
    {
     "data": {
      "text/plain": [
       "['one', 'one']"
      ]
     },
     "execution_count": 225,
     "metadata": {},
     "output_type": "execute_result"
    }
   ],
   "source": [
    "re.findall(\"one\", \"one thousand phones\")"
   ]
  },
  {
   "cell_type": "markdown",
   "id": "52b65133-67cb-405d-87ad-b83d4d1b46d6",
   "metadata": {},
   "source": [
    "### Rule 2: Special character `.` matches any one character"
   ]
  },
  {
   "cell_type": "code",
   "execution_count": 227,
   "id": "315f39d7-c7cc-4725-823d-25ba997bc675",
   "metadata": {},
   "outputs": [
    {
     "data": {
      "text/plain": [
       "<re.Match object; span=(0, 3), match='cat'>"
      ]
     },
     "execution_count": 227,
     "metadata": {},
     "output_type": "execute_result"
    }
   ],
   "source": [
    "re.match(\".at\", \"cat\")"
   ]
  },
  {
   "cell_type": "code",
   "execution_count": 228,
   "id": "38ca7e14-5d37-464d-818a-7de9aad42228",
   "metadata": {},
   "outputs": [
    {
     "data": {
      "text/plain": [
       "<re.Match object; span=(0, 3), match='bat'>"
      ]
     },
     "execution_count": 228,
     "metadata": {},
     "output_type": "execute_result"
    }
   ],
   "source": [
    "re.match(\".at\", \"bat\")"
   ]
  },
  {
   "cell_type": "markdown",
   "id": "c066e482-6d29-42f2-88ca-b8d1b981aa3c",
   "metadata": {},
   "source": [
    "If we want to match `.` literally, then we need to escape it."
   ]
  },
  {
   "cell_type": "code",
   "execution_count": 229,
   "id": "e5e83e6f-0c35-4d0d-8070-bf5b1a9efd67",
   "metadata": {},
   "outputs": [],
   "source": [
    "re.match(\"\\.at\", \"bat\")"
   ]
  },
  {
   "cell_type": "code",
   "execution_count": 230,
   "id": "72e0e1bc-680b-47d5-ab96-59c649026b66",
   "metadata": {},
   "outputs": [
    {
     "data": {
      "text/plain": [
       "<re.Match object; span=(0, 3), match='.at'>"
      ]
     },
     "execution_count": 230,
     "metadata": {},
     "output_type": "execute_result"
    }
   ],
   "source": [
    "re.match(\"\\.at\", \".at\")"
   ]
  },
  {
   "cell_type": "markdown",
   "id": "5db65afd-0deb-4fe9-998c-043207bd6926",
   "metadata": {},
   "source": [
    "### Special charater `|` is used to match one of the two patterns"
   ]
  },
  {
   "cell_type": "code",
   "execution_count": 232,
   "id": "5c10bca2-9932-4107-a15a-4c1d7f7a641d",
   "metadata": {},
   "outputs": [
    {
     "data": {
      "text/plain": [
       "<re.Match object; span=(0, 1), match='a'>"
      ]
     },
     "execution_count": 232,
     "metadata": {},
     "output_type": "execute_result"
    }
   ],
   "source": [
    "re.match(\"a|b\", \"a\")"
   ]
  },
  {
   "cell_type": "code",
   "execution_count": 233,
   "id": "fea46550-99ab-4c9d-9414-0f232c2ed958",
   "metadata": {},
   "outputs": [
    {
     "data": {
      "text/plain": [
       "<re.Match object; span=(0, 1), match='b'>"
      ]
     },
     "execution_count": 233,
     "metadata": {},
     "output_type": "execute_result"
    }
   ],
   "source": [
    "re.match(\"a|b\", \"b\")"
   ]
  },
  {
   "cell_type": "code",
   "execution_count": 234,
   "id": "985f7973-74e3-4c86-842c-3a23c65409e4",
   "metadata": {},
   "outputs": [
    {
     "data": {
      "text/plain": [
       "['apple', 'mango']"
      ]
     },
     "execution_count": 234,
     "metadata": {},
     "output_type": "execute_result"
    }
   ],
   "source": [
    "re.findall(\"apple|mango\", \"10 apples and 20 mangoes\")"
   ]
  },
  {
   "cell_type": "markdown",
   "id": "61871292-44b0-4b1a-a2ef-b66d70b5e2e2",
   "metadata": {},
   "source": [
    "### A character group"
   ]
  },
  {
   "cell_type": "code",
   "execution_count": 235,
   "id": "5f0ccae9-ea03-4bea-9264-5cde106aa619",
   "metadata": {},
   "outputs": [
    {
     "data": {
      "text/plain": [
       "<re.Match object; span=(0, 2), match='ab'>"
      ]
     },
     "execution_count": 235,
     "metadata": {},
     "output_type": "execute_result"
    }
   ],
   "source": [
    "re.match(\"a[bc]\", \"ab\")"
   ]
  },
  {
   "cell_type": "code",
   "execution_count": 236,
   "id": "7eacd8b4-2b55-49ee-8301-702f918de00d",
   "metadata": {},
   "outputs": [
    {
     "data": {
      "text/plain": [
       "<re.Match object; span=(0, 2), match='ac'>"
      ]
     },
     "execution_count": 236,
     "metadata": {},
     "output_type": "execute_result"
    }
   ],
   "source": [
    "re.match(\"a[bc]\", \"ac\")"
   ]
  },
  {
   "cell_type": "markdown",
   "id": "85a6329e-0995-4ab1-bd47-45a10dc2ae19",
   "metadata": {},
   "source": [
    "We can also specify a range."
   ]
  },
  {
   "cell_type": "code",
   "execution_count": 237,
   "id": "a29f2445-c0cc-451e-bfff-d83c87f7c26c",
   "metadata": {},
   "outputs": [
    {
     "data": {
      "text/plain": [
       "<re.Match object; span=(0, 3), match='a5b'>"
      ]
     },
     "execution_count": 237,
     "metadata": {},
     "output_type": "execute_result"
    }
   ],
   "source": [
    "re.match(\"a[0-9]b\", \"a5b\")"
   ]
  },
  {
   "cell_type": "code",
   "execution_count": 238,
   "id": "605b654f-04fe-4a00-8ff4-325b52d263de",
   "metadata": {},
   "outputs": [
    {
     "data": {
      "text/plain": [
       "<re.Match object; span=(0, 3), match='k8s'>"
      ]
     },
     "execution_count": 238,
     "metadata": {},
     "output_type": "execute_result"
    }
   ],
   "source": [
    "re.match(\"[a-z][0-9][a-z]\", \"k8s\")"
   ]
  },
  {
   "cell_type": "markdown",
   "id": "a4313cdb-6843-4fe1-9c58-8f95887ab649",
   "metadata": {},
   "source": [
    "### Modifiers"
   ]
  },
  {
   "cell_type": "markdown",
   "id": "4c3870d5-65fc-4a8a-bf26-02528883e036",
   "metadata": {},
   "source": [
    "```\n",
    "? - matches 0 or 1 occurances\n",
    "* - matches 0 or more occurances\n",
    "+ - matches 1 or more occurances\n",
    "```"
   ]
  },
  {
   "cell_type": "code",
   "execution_count": 239,
   "id": "7452f45a-e74d-41af-9382-4654e997cd33",
   "metadata": {},
   "outputs": [
    {
     "data": {
      "text/plain": [
       "['0x12fe']"
      ]
     },
     "execution_count": 239,
     "metadata": {},
     "output_type": "execute_result"
    }
   ],
   "source": [
    "re.findall(\"0x[0-9a-f]+\", \"the number 0x12fe is a hexadecimal number.\")"
   ]
  },
  {
   "cell_type": "markdown",
   "id": "2b428e6f-4deb-47b1-8a37-975924e0949b",
   "metadata": {},
   "source": [
    "### Predefined escape codes"
   ]
  },
  {
   "cell_type": "markdown",
   "id": "23cf33f9-d493-4d7a-96f1-48c28d620134",
   "metadata": {},
   "source": [
    "* `\\d` - any digit\n",
    "* `\\s` - any whitespace\n",
    "* `\\w` - any identifier"
   ]
  },
  {
   "cell_type": "code",
   "execution_count": 241,
   "id": "7c408358-be22-49ff-94a9-1110bb424e4e",
   "metadata": {},
   "outputs": [
    {
     "data": {
      "text/plain": [
       "['10', '20']"
      ]
     },
     "execution_count": 241,
     "metadata": {},
     "output_type": "execute_result"
    }
   ],
   "source": [
    "re.findall(\"\\d+\", \"10 apples and 20 mangoes\")"
   ]
  },
  {
   "cell_type": "markdown",
   "id": "d76f7db0-29f0-4542-830e-3f7b734d8382",
   "metadata": {},
   "source": [
    "### Grouping"
   ]
  },
  {
   "cell_type": "code",
   "execution_count": 243,
   "id": "b7769ab1-3092-4be0-8ceb-fa3df2db60b3",
   "metadata": {},
   "outputs": [
    {
     "data": {
      "text/plain": [
       "[('10', 'apples'), ('20', 'mangoes')]"
      ]
     },
     "execution_count": 243,
     "metadata": {},
     "output_type": "execute_result"
    }
   ],
   "source": [
    "re.findall(\"(\\d+) ([a-z]+)\", \"10 apples and 20 mangoes\")"
   ]
  },
  {
   "cell_type": "code",
   "execution_count": 244,
   "id": "86df9add-bd13-4e6a-9ad8-35b6b222020e",
   "metadata": {},
   "outputs": [],
   "source": [
    "text = \"10 apples, 20 mangoes and 30 bananas\""
   ]
  },
  {
   "cell_type": "code",
   "execution_count": 245,
   "id": "f952c2dd-eb7d-48ae-98cd-b85b5a42c9e4",
   "metadata": {},
   "outputs": [],
   "source": [
    "from tabulate import tabulate"
   ]
  },
  {
   "cell_type": "code",
   "execution_count": 246,
   "id": "e5762df8-ae85-4121-bfcb-0493ec0b45aa",
   "metadata": {},
   "outputs": [],
   "source": [
    "matches = re.findall(\"(\\d+) ([a-z]+)\", text)"
   ]
  },
  {
   "cell_type": "code",
   "execution_count": 247,
   "id": "d78e43e7-2bd3-4bb9-89e4-dd0a0d1354c5",
   "metadata": {},
   "outputs": [
    {
     "data": {
      "text/plain": [
       "[('10', 'apples'), ('20', 'mangoes'), ('30', 'bananas')]"
      ]
     },
     "execution_count": 247,
     "metadata": {},
     "output_type": "execute_result"
    }
   ],
   "source": [
    "matches"
   ]
  },
  {
   "cell_type": "code",
   "execution_count": 248,
   "id": "fb0ad9f7-1204-4ca2-8b51-0cc573cb218f",
   "metadata": {},
   "outputs": [
    {
     "name": "stdout",
     "output_type": "stream",
     "text": [
      "--  -------\n",
      "10  apples\n",
      "20  mangoes\n",
      "30  bananas\n",
      "--  -------\n"
     ]
    }
   ],
   "source": [
    "print(tabulate(matches))"
   ]
  },
  {
   "cell_type": "markdown",
   "id": "19dc06f7-e30f-4efb-95b4-5cff618fe452",
   "metadata": {},
   "source": [
    "### Match begin and end of a string"
   ]
  },
  {
   "cell_type": "markdown",
   "id": "983e59e5-c505-45a0-842c-ed7137301586",
   "metadata": {},
   "source": [
    "The special characters `^` and `$` indicate the begin and end of the string."
   ]
  },
  {
   "cell_type": "markdown",
   "id": "e08f2fa8-d647-4a7c-9710-7bdb0a9f34c4",
   "metadata": {},
   "source": [
    "Remove trailing space."
   ]
  },
  {
   "cell_type": "code",
   "execution_count": 249,
   "id": "876f55a1-28fc-4621-a2f8-73272058853d",
   "metadata": {},
   "outputs": [
    {
     "data": {
      "text/plain": [
       "'    hello world'"
      ]
     },
     "execution_count": 249,
     "metadata": {},
     "output_type": "execute_result"
    }
   ],
   "source": [
    "re.sub(\"\\s+$\", \"\", \"    hello world   \")"
   ]
  },
  {
   "cell_type": "markdown",
   "id": "0ce62fab-1d78-46b5-bc2f-cd3b6d624b40",
   "metadata": {},
   "source": [
    "## Python API of regular expressions"
   ]
  },
  {
   "cell_type": "markdown",
   "id": "e15b8b65-611f-4668-8840-0519526b04ee",
   "metadata": {},
   "source": [
    "### findall"
   ]
  },
  {
   "cell_type": "code",
   "execution_count": 250,
   "id": "b275e0f3-8dbd-4051-89bf-1c60b24b4993",
   "metadata": {},
   "outputs": [
    {
     "data": {
      "text/plain": [
       "['10', '20']"
      ]
     },
     "execution_count": 250,
     "metadata": {},
     "output_type": "execute_result"
    }
   ],
   "source": [
    "re.findall(\"\\d+\", \"10 apples and 20 mangoes\")"
   ]
  },
  {
   "cell_type": "markdown",
   "id": "c5530503-fd6f-4447-a4a0-fde4661488f6",
   "metadata": {},
   "source": [
    "### match"
   ]
  },
  {
   "cell_type": "markdown",
   "id": "b2a2ebb0-d78b-4db8-ac50-a478c2c0bada",
   "metadata": {},
   "source": [
    "Match find a pattern at the beginning of a string."
   ]
  },
  {
   "cell_type": "code",
   "execution_count": 251,
   "id": "bc244c92-a949-4c41-9088-01af3dc7576f",
   "metadata": {},
   "outputs": [
    {
     "data": {
      "text/plain": [
       "<re.Match object; span=(0, 2), match='10'>"
      ]
     },
     "execution_count": 251,
     "metadata": {},
     "output_type": "execute_result"
    }
   ],
   "source": [
    "re.match(\"\\d+\", \"10 apples and 20 mangoes\")"
   ]
  },
  {
   "cell_type": "code",
   "execution_count": 252,
   "id": "4319326d-c9fe-46ec-9608-75a020ee4d10",
   "metadata": {},
   "outputs": [],
   "source": [
    "m = re.match(\"\\d+\", \"10 apples and 20 mangoes\")"
   ]
  },
  {
   "cell_type": "code",
   "execution_count": 253,
   "id": "8f621720-9c14-4dbb-89da-4357f9908439",
   "metadata": {},
   "outputs": [
    {
     "data": {
      "text/plain": [
       "'10'"
      ]
     },
     "execution_count": 253,
     "metadata": {},
     "output_type": "execute_result"
    }
   ],
   "source": [
    "m.group()"
   ]
  },
  {
   "cell_type": "markdown",
   "id": "769beb92-21be-427b-a09b-3310cfec8bc4",
   "metadata": {},
   "source": [
    "### search"
   ]
  },
  {
   "cell_type": "markdown",
   "id": "55589f75-26be-4804-9623-e106b8160462",
   "metadata": {},
   "source": [
    "Similar to match, but finds anywhere in the string."
   ]
  },
  {
   "cell_type": "markdown",
   "id": "294a13bf-e16b-43e6-b36c-5ce80662cc72",
   "metadata": {},
   "source": [
    "### sub"
   ]
  },
  {
   "cell_type": "code",
   "execution_count": 255,
   "id": "e3cc7da7-9d2f-4f5e-99e4-c1ee26b9a692",
   "metadata": {},
   "outputs": [
    {
     "data": {
      "text/plain": [
       "'x apples and x mangoes'"
      ]
     },
     "execution_count": 255,
     "metadata": {},
     "output_type": "execute_result"
    }
   ],
   "source": [
    "re.sub(\"\\d+\", \"x\", \"10 apples and 20 mangoes\")"
   ]
  },
  {
   "cell_type": "markdown",
   "id": "0604e42f-a3db-434b-a1da-e68ec5a6c795",
   "metadata": {},
   "source": [
    "### Split"
   ]
  },
  {
   "cell_type": "code",
   "execution_count": 257,
   "id": "4bd9a969-8fc4-4e68-8cdc-16f4a93fde79",
   "metadata": {},
   "outputs": [
    {
     "data": {
      "text/plain": [
       "['', 'Hello</b>', 'world</i>']"
      ]
     },
     "execution_count": 257,
     "metadata": {},
     "output_type": "execute_result"
    }
   ],
   "source": [
    "re.split(\"<[a-z]+>\", \"<b>Hello</b><i>world</i>\")"
   ]
  },
  {
   "cell_type": "markdown",
   "id": "c328be53-f659-4d2a-b162-cdb23771f1d5",
   "metadata": {},
   "source": [
    "### Example: antihtml"
   ]
  },
  {
   "cell_type": "code",
   "execution_count": 262,
   "id": "16305249-5fc5-4461-bc3c-9ffd049e6b29",
   "metadata": {},
   "outputs": [],
   "source": [
    "html = '<div>Try <a href=\"https://google.com/\">Google</a> search.</div>'"
   ]
  },
  {
   "cell_type": "code",
   "execution_count": 263,
   "id": "4bbf7fed-f219-443f-982e-0ad0c194ae08",
   "metadata": {},
   "outputs": [],
   "source": [
    "import re"
   ]
  },
  {
   "cell_type": "code",
   "execution_count": 265,
   "id": "f969eabf-ceb4-4028-918c-df98869c2356",
   "metadata": {},
   "outputs": [
    {
     "data": {
      "text/plain": [
       "'Try Google search.'"
      ]
     },
     "execution_count": 265,
     "metadata": {},
     "output_type": "execute_result"
    }
   ],
   "source": [
    "re.sub(\"<[^<>]*>\", \"\", html)"
   ]
  },
  {
   "cell_type": "code",
   "execution_count": 267,
   "id": "f2538cbe-8d76-4c7f-a807-26a09ac16cb6",
   "metadata": {},
   "outputs": [
    {
     "data": {
      "text/plain": [
       "['<div>Try <a href=\"https://google.com/\">Google</a> search.</div>']"
      ]
     },
     "execution_count": 267,
     "metadata": {},
     "output_type": "execute_result"
    }
   ],
   "source": [
    "re.findall(\"<.*>\", html)"
   ]
  },
  {
   "cell_type": "code",
   "execution_count": 268,
   "id": "4cfd1081-0dc2-4b74-bb70-7002ce53d287",
   "metadata": {},
   "outputs": [
    {
     "data": {
      "text/plain": [
       "['<div>', '<a href=\"https://google.com/\">', '</a>', '</div>']"
      ]
     },
     "execution_count": 268,
     "metadata": {},
     "output_type": "execute_result"
    }
   ],
   "source": [
    "re.findall(\"<[^<>]*>\", html)"
   ]
  },
  {
   "cell_type": "markdown",
   "id": "e604c546-c06a-41f4-9301-8a50f5e1710a",
   "metadata": {},
   "source": [
    "### Example: find links"
   ]
  },
  {
   "cell_type": "markdown",
   "id": "185f502d-da1b-4edc-8346-a6ad6d3958fc",
   "metadata": {},
   "source": [
    "Let's write a program to find all links in an HTML page.\n",
    "\n",
    "Using regular expressions is probably not a fail-proof way to do this, but it is a interesting exercise."
   ]
  },
  {
   "cell_type": "code",
   "execution_count": 274,
   "id": "48f9d612-8b31-4772-9225-8ef2323b5c0e",
   "metadata": {},
   "outputs": [
    {
     "name": "stdout",
     "output_type": "stream",
     "text": [
      "Overwriting a.html\n"
     ]
    }
   ],
   "source": [
    "%%file a.html\n",
    "\n",
    "<ul>\n",
    "<li><a title=\"Google\" href=\"https://google.com/\">Google</a></li>\n",
    "<li><a active=\"true\" href=\"https://microsoft.com/\">Microsoft</a></li>\n",
    "<li><a href=\"https://apple.com/\" title=\"Apple\">Apple</a></li>\n",
    "</ul>  \n",
    "\n",
    "href=\"https://flipkart.com/\" is not a link."
   ]
  },
  {
   "cell_type": "code",
   "execution_count": 273,
   "id": "293461df-1de4-43a8-a531-725b7eef0bfc",
   "metadata": {},
   "outputs": [],
   "source": [
    "html = open(\"a.html\").read()"
   ]
  },
  {
   "cell_type": "code",
   "execution_count": 279,
   "id": "cf76bfb0-ecdc-4a53-be1f-f37d54b61589",
   "metadata": {},
   "outputs": [
    {
     "data": {
      "text/plain": [
       "['https://google.com/', 'https://microsoft.com/', 'https://apple.com/']"
      ]
     },
     "execution_count": 279,
     "metadata": {},
     "output_type": "execute_result"
    }
   ],
   "source": [
    "re.findall('<a[^<>]*href=\"([^\"]*)\"[^<>]*>', html)"
   ]
  },
  {
   "cell_type": "markdown",
   "id": "b7d945dd-e5d2-4375-87db-24f203244038",
   "metadata": {},
   "source": [
    "## Hints for Assignment 03"
   ]
  },
  {
   "cell_type": "markdown",
   "id": "f76117e6-8a47-4f11-8c0d-2bebade60346",
   "metadata": {},
   "source": [
    "## Problem 3: extcount"
   ]
  },
  {
   "cell_type": "code",
   "execution_count": 280,
   "id": "10dbf890-81b1-4078-9f8f-051753ff8a58",
   "metadata": {},
   "outputs": [],
   "source": [
    "from pathlib import Path"
   ]
  },
  {
   "cell_type": "code",
   "execution_count": 284,
   "id": "93301900-1582-4124-b1e3-a7e98c0b7339",
   "metadata": {},
   "outputs": [
    {
     "name": "stdout",
     "output_type": "stream",
     "text": [
      ".txt\n",
      ".py\n",
      ".txt\n",
      ".py\n",
      ".txt\n",
      ".py\n",
      ".csv\n",
      ".yml\n",
      ".csv\n",
      ".py\n",
      "\n"
     ]
    }
   ],
   "source": [
    "for p in Path(\"files/extcount\").iterdir():\n",
    "    print(p.suffix)"
   ]
  },
  {
   "cell_type": "code",
   "execution_count": 287,
   "id": "d8588c84-b79a-410e-b59a-d38cd27ebf2f",
   "metadata": {},
   "outputs": [
    {
     "data": {
      "text/plain": [
       "['.txt',\n",
       " '.py',\n",
       " '.txt',\n",
       " '.py',\n",
       " '.txt',\n",
       " '.py',\n",
       " '.csv',\n",
       " '.yml',\n",
       " '.csv',\n",
       " '.py',\n",
       " '']"
      ]
     },
     "execution_count": 287,
     "metadata": {},
     "output_type": "execute_result"
    }
   ],
   "source": [
    "[p.suffix for p in Path(\"files/extcount\").iterdir()]\n"
   ]
  },
  {
   "cell_type": "code",
   "execution_count": 289,
   "id": "75d8167a-2101-48ee-b2c6-8c5e0239f94b",
   "metadata": {},
   "outputs": [],
   "source": [
    "data = [[2, \"py\"], [4, \"txt\"], [1, \"yml\"]]"
   ]
  },
  {
   "cell_type": "code",
   "execution_count": 290,
   "id": "ddd0690a-8532-4134-bdf4-77a7f62c95fa",
   "metadata": {},
   "outputs": [
    {
     "data": {
      "text/plain": [
       "[[1, 'yml'], [2, 'py'], [4, 'txt']]"
      ]
     },
     "execution_count": 290,
     "metadata": {},
     "output_type": "execute_result"
    }
   ],
   "source": [
    "sorted(data)"
   ]
  },
  {
   "cell_type": "code",
   "execution_count": 291,
   "id": "5bbded40-8092-485d-98a4-50d91b395679",
   "metadata": {},
   "outputs": [
    {
     "data": {
      "text/plain": [
       "[[4, 'txt'], [2, 'py'], [1, 'yml']]"
      ]
     },
     "execution_count": 291,
     "metadata": {},
     "output_type": "execute_result"
    }
   ],
   "source": [
    "sorted(data, reverse=True)"
   ]
  },
  {
   "cell_type": "code",
   "execution_count": null,
   "id": "a9ced780-02e1-439b-9282-4b1619ef0048",
   "metadata": {},
   "outputs": [],
   "source": []
  }
 ],
 "metadata": {
  "kernelspec": {
   "display_name": "Python 3 (ipykernel)",
   "language": "python",
   "name": "python3"
  },
  "language_info": {
   "codemirror_mode": {
    "name": "ipython",
    "version": 3
   },
   "file_extension": ".py",
   "mimetype": "text/x-python",
   "name": "python",
   "nbconvert_exporter": "python",
   "pygments_lexer": "ipython3",
   "version": "3.10.14"
  }
 },
 "nbformat": 4,
 "nbformat_minor": 5
}
