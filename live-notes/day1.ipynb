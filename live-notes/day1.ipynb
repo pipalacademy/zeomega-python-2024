{
 "cells": [
  {
   "cell_type": "markdown",
   "id": "96020f37-ff58-42ed-80c0-1086e0f121a9",
   "metadata": {},
   "source": [
    "# Day 1"
   ]
  },
  {
   "cell_type": "markdown",
   "id": "ed511470-c9c6-4d8e-a6e8-221566afe674",
   "metadata": {},
   "source": [
    "## A Taste of Python"
   ]
  },
  {
   "cell_type": "markdown",
   "id": "8444bee6-098c-4437-b466-ca74333e7a29",
   "metadata": {},
   "source": [
    "### Python is Simple"
   ]
  },
  {
   "cell_type": "code",
   "execution_count": 1,
   "id": "c7b84fe0-e3b2-40f3-b10d-9ca1ff613012",
   "metadata": {},
   "outputs": [
    {
     "name": "stdout",
     "output_type": "stream",
     "text": [
      "hello, world!\n"
     ]
    }
   ],
   "source": [
    "print(\"hello, world!\")"
   ]
  },
  {
   "cell_type": "code",
   "execution_count": 2,
   "id": "1985cd74-4b39-4b5c-9223-3181534a74d1",
   "metadata": {},
   "outputs": [
    {
     "data": {
      "text/plain": [
       "3"
      ]
     },
     "execution_count": 2,
     "metadata": {},
     "output_type": "execute_result"
    }
   ],
   "source": [
    "1 + 2"
   ]
  },
  {
   "cell_type": "code",
   "execution_count": 4,
   "id": "3e65e583-668d-41ad-a5eb-448b493f751b",
   "metadata": {},
   "outputs": [
    {
     "data": {
      "text/plain": [
       "10715086071862673209484250490600018105614048117055336074437503883703510511249361224931983788156958581275946729175531468251871452856923140435984577574698574803934567774824230985421074605062371141877954182153046474983581941267398767559165543946077062914571196477686542167660429831652624386837205668069376"
      ]
     },
     "execution_count": 4,
     "metadata": {},
     "output_type": "execute_result"
    }
   ],
   "source": [
    "2 ** 1000"
   ]
  },
  {
   "cell_type": "markdown",
   "id": "4218025d-61bd-4d13-8075-6b843b867a7c",
   "metadata": {},
   "source": [
    "### Python is Dynamically Typed"
   ]
  },
  {
   "cell_type": "code",
   "execution_count": 5,
   "id": "3529a220-5263-41c5-8596-ac462bc33f2a",
   "metadata": {},
   "outputs": [
    {
     "name": "stdout",
     "output_type": "stream",
     "text": [
      "3\n"
     ]
    }
   ],
   "source": [
    "x = 1\n",
    "y = 2\n",
    "print(x+y)"
   ]
  },
  {
   "cell_type": "markdown",
   "id": "c9fa5c44-d14e-404c-a3b7-b30cf6593dfd",
   "metadata": {},
   "source": [
    "It is perfectly fine to reassign a variable to a value of different type."
   ]
  },
  {
   "cell_type": "code",
   "execution_count": 6,
   "id": "ecbd6951-f012-4418-a1f5-c411628da4ee",
   "metadata": {},
   "outputs": [
    {
     "name": "stdout",
     "output_type": "stream",
     "text": [
      "1\n",
      "python\n"
     ]
    }
   ],
   "source": [
    "x = 1\n",
    "print(x)\n",
    "\n",
    "x = \"python\"\n",
    "print(x)"
   ]
  },
  {
   "cell_type": "code",
   "execution_count": 7,
   "id": "c8d55aba-1b13-40eb-9fd2-ce01ed2a60e1",
   "metadata": {},
   "outputs": [
    {
     "ename": "TypeError",
     "evalue": "unsupported operand type(s) for +: 'int' and 'str'",
     "output_type": "error",
     "traceback": [
      "\u001b[0;31m---------------------------------------------------------------------------\u001b[0m",
      "\u001b[0;31mTypeError\u001b[0m                                 Traceback (most recent call last)",
      "Cell \u001b[0;32mIn[7], line 1\u001b[0m\n\u001b[0;32m----> 1\u001b[0m \u001b[38;5;241;43m1\u001b[39;49m\u001b[43m \u001b[49m\u001b[38;5;241;43m+\u001b[39;49m\u001b[43m \u001b[49m\u001b[38;5;124;43m\"\u001b[39;49m\u001b[38;5;124;43m2\u001b[39;49m\u001b[38;5;124;43m\"\u001b[39;49m\n",
      "\u001b[0;31mTypeError\u001b[0m: unsupported operand type(s) for +: 'int' and 'str'"
     ]
    }
   ],
   "source": [
    "1 + \"2\""
   ]
  },
  {
   "cell_type": "markdown",
   "id": "acbba5b5-8798-4826-9e17-b06f3dce7019",
   "metadata": {},
   "source": [
    "### Python uses Indentation"
   ]
  },
  {
   "cell_type": "code",
   "execution_count": 10,
   "id": "a3029d51-3213-4169-a605-822af286c52d",
   "metadata": {},
   "outputs": [
    {
     "name": "stdout",
     "output_type": "stream",
     "text": [
      "pass\n",
      "done\n"
     ]
    }
   ],
   "source": [
    "marks = 50\n",
    "\n",
    "if marks > 35:\n",
    "    print(\"pass\")\n",
    "else:\n",
    "    print(\"fail\")\n",
    "print(\"done\")"
   ]
  },
  {
   "cell_type": "markdown",
   "id": "5a7e79b2-d57d-4f1e-87f2-c448241d4825",
   "metadata": {},
   "source": [
    "## Python is Expressive"
   ]
  },
  {
   "cell_type": "markdown",
   "id": "fcee4881-75ea-4c4e-b079-c82e391fb9b1",
   "metadata": {},
   "source": [
    "Python has elegant data structures and built-in functions."
   ]
  },
  {
   "cell_type": "code",
   "execution_count": 12,
   "id": "c6e1a26b-b94e-47b7-af52-8852235a50c0",
   "metadata": {},
   "outputs": [
    {
     "data": {
      "text/plain": [
       "166666166667000000"
      ]
     },
     "execution_count": 12,
     "metadata": {},
     "output_type": "execute_result"
    }
   ],
   "source": [
    "# sum of squares of all even numbers below one million\n",
    "sum([x*x for x in range(1000000) if x%2 == 0])"
   ]
  },
  {
   "cell_type": "code",
   "execution_count": 11,
   "id": "b02e7476-b5ee-41e3-b183-65a99487f8e2",
   "metadata": {},
   "outputs": [
    {
     "data": {
      "text/plain": [
       "166666166667000000"
      ]
     },
     "execution_count": 11,
     "metadata": {},
     "output_type": "execute_result"
    }
   ],
   "source": [
    "result = 0\n",
    "\n",
    "for i in range(1000000):\n",
    "    if i % 2 == 0:\n",
    "        result += i*i\n",
    "\n",
    "result"
   ]
  },
  {
   "cell_type": "markdown",
   "id": "1c18e0c2-a88f-4cc5-8d3a-879eebe73723",
   "metadata": {},
   "source": [
    "Find the longest word in the english dictionary."
   ]
  },
  {
   "cell_type": "markdown",
   "id": "896d70de-f15b-4289-bc47-120a6fd2dbd1",
   "metadata": {},
   "source": [
    "In unix, all the words in the dictionary are available in the file `/usr/share/dict/words`."
   ]
  },
  {
   "cell_type": "code",
   "execution_count": 13,
   "id": "02cac79d-616e-4fbf-8e17-c67ff77829d4",
   "metadata": {},
   "outputs": [
    {
     "name": "stdout",
     "output_type": "stream",
     "text": [
      "A\n",
      "AA\n",
      "AAA\n",
      "AAM\n",
      "AA's\n",
      "AB\n",
      "ABA\n",
      "ABC\n",
      "ABC's\n",
      "ABCs\n"
     ]
    }
   ],
   "source": [
    "!head /usr/share/dict/words"
   ]
  },
  {
   "cell_type": "code",
   "execution_count": 15,
   "id": "9c8ca157-97bd-4bb7-a48b-e5214513a7a7",
   "metadata": {},
   "outputs": [
    {
     "name": "stdout",
     "output_type": "stream",
     "text": [
      "python\n",
      "pythoness\n",
      "pythonesses\n",
      "python's\n",
      "pythons\n"
     ]
    }
   ],
   "source": [
    "!grep python /usr/share/dict/words"
   ]
  },
  {
   "cell_type": "code",
   "execution_count": 16,
   "id": "55fc744b-330c-4d8b-83c0-6dfdf20a589e",
   "metadata": {},
   "outputs": [],
   "source": [
    "numbers = [10, 45, 876, 34]"
   ]
  },
  {
   "cell_type": "code",
   "execution_count": 17,
   "id": "aaff2b31-923c-45ef-80c5-da16fd94443f",
   "metadata": {},
   "outputs": [
    {
     "data": {
      "text/plain": [
       "876"
      ]
     },
     "execution_count": 17,
     "metadata": {},
     "output_type": "execute_result"
    }
   ],
   "source": [
    "max(numbers)"
   ]
  },
  {
   "cell_type": "code",
   "execution_count": 18,
   "id": "df18dd42-8f32-4886-b660-f1c987735118",
   "metadata": {},
   "outputs": [
    {
     "data": {
      "text/plain": [
       "'two'"
      ]
     },
     "execution_count": 18,
     "metadata": {},
     "output_type": "execute_result"
    }
   ],
   "source": [
    "max([\"one\", \"two\", \"three\", \"four\", \"five\"])"
   ]
  },
  {
   "cell_type": "code",
   "execution_count": 19,
   "id": "4edb5d4b-a3c2-4d68-a8ec-02ccd7a1ea56",
   "metadata": {},
   "outputs": [
    {
     "data": {
      "text/plain": [
       "'étuis\\n'"
      ]
     },
     "execution_count": 19,
     "metadata": {},
     "output_type": "execute_result"
    }
   ],
   "source": [
    "max(open(\"/usr/share/dict/words\"))"
   ]
  },
  {
   "cell_type": "code",
   "execution_count": 20,
   "id": "52debef9-5f4c-43be-b19a-6beb67acd970",
   "metadata": {},
   "outputs": [
    {
     "data": {
      "text/plain": [
       "'three'"
      ]
     },
     "execution_count": 20,
     "metadata": {},
     "output_type": "execute_result"
    }
   ],
   "source": [
    "max([\"one\", \"two\", \"three\", \"four\", \"five\"], key=len)"
   ]
  },
  {
   "cell_type": "code",
   "execution_count": 21,
   "id": "77c98faf-8e40-415d-9a86-eb989f4ea21a",
   "metadata": {},
   "outputs": [
    {
     "data": {
      "text/plain": [
       "'pneumonoultramicroscopicsilicovolcanoconiosis\\n'"
      ]
     },
     "execution_count": 21,
     "metadata": {},
     "output_type": "execute_result"
    }
   ],
   "source": [
    "max(open(\"/usr/share/dict/words\"), key=len)"
   ]
  },
  {
   "cell_type": "markdown",
   "id": "27a59070-fb58-4118-a85d-7b17c884d97e",
   "metadata": {},
   "source": [
    "## Python is Productive"
   ]
  },
  {
   "cell_type": "markdown",
   "id": "2a443b96-0f2d-4f20-b386-2d40ed93e195",
   "metadata": {},
   "source": [
    "Let's find the top ten popular Python repositories on github."
   ]
  },
  {
   "cell_type": "code",
   "execution_count": 2,
   "id": "a7fdc0b4-ce54-4a37-ae78-40b919f73b09",
   "metadata": {},
   "outputs": [],
   "source": [
    "import requests\n",
    "\n",
    "url = \"https://api.github.com/search/repositories\"\n",
    "params = {\n",
    "    \"q\": \"language:python\", \n",
    "    \"sort\": \"stars\"\n",
    "}\n",
    "\n",
    "data = requests.get(url, params=params).json()"
   ]
  },
  {
   "cell_type": "code",
   "execution_count": 3,
   "id": "8880820f-b936-45f7-9baa-92eb8162ce1a",
   "metadata": {},
   "outputs": [
    {
     "data": {
      "text/plain": [
       "dict"
      ]
     },
     "execution_count": 3,
     "metadata": {},
     "output_type": "execute_result"
    }
   ],
   "source": [
    "type(data)"
   ]
  },
  {
   "cell_type": "code",
   "execution_count": 4,
   "id": "3d36be19-3af4-496f-99a9-1c77bba75d4b",
   "metadata": {},
   "outputs": [
    {
     "data": {
      "text/plain": [
       "dict_keys(['total_count', 'incomplete_results', 'items'])"
      ]
     },
     "execution_count": 4,
     "metadata": {},
     "output_type": "execute_result"
    }
   ],
   "source": [
    "data.keys()"
   ]
  },
  {
   "cell_type": "code",
   "execution_count": 5,
   "id": "d477da32-d4d9-4f7b-a16e-3f11e9a6b4d7",
   "metadata": {},
   "outputs": [
    {
     "data": {
      "text/plain": [
       "14477325"
      ]
     },
     "execution_count": 5,
     "metadata": {},
     "output_type": "execute_result"
    }
   ],
   "source": [
    "data['total_count']"
   ]
  },
  {
   "cell_type": "code",
   "execution_count": 6,
   "id": "53005c7f-f5ea-4d33-93b5-4577e085fbae",
   "metadata": {},
   "outputs": [
    {
     "data": {
      "text/plain": [
       "dict_keys(['id', 'node_id', 'name', 'full_name', 'private', 'owner', 'html_url', 'description', 'fork', 'url', 'forks_url', 'keys_url', 'collaborators_url', 'teams_url', 'hooks_url', 'issue_events_url', 'events_url', 'assignees_url', 'branches_url', 'tags_url', 'blobs_url', 'git_tags_url', 'git_refs_url', 'trees_url', 'statuses_url', 'languages_url', 'stargazers_url', 'contributors_url', 'subscribers_url', 'subscription_url', 'commits_url', 'git_commits_url', 'comments_url', 'issue_comment_url', 'contents_url', 'compare_url', 'merges_url', 'archive_url', 'downloads_url', 'issues_url', 'pulls_url', 'milestones_url', 'notifications_url', 'labels_url', 'releases_url', 'deployments_url', 'created_at', 'updated_at', 'pushed_at', 'git_url', 'ssh_url', 'clone_url', 'svn_url', 'homepage', 'size', 'stargazers_count', 'watchers_count', 'language', 'has_issues', 'has_projects', 'has_downloads', 'has_wiki', 'has_pages', 'has_discussions', 'forks_count', 'mirror_url', 'archived', 'disabled', 'open_issues_count', 'license', 'allow_forking', 'is_template', 'web_commit_signoff_required', 'topics', 'visibility', 'forks', 'open_issues', 'watchers', 'default_branch', 'score'])"
      ]
     },
     "execution_count": 6,
     "metadata": {},
     "output_type": "execute_result"
    }
   ],
   "source": [
    "data['items'][0].keys()"
   ]
  },
  {
   "cell_type": "code",
   "execution_count": 9,
   "id": "faabd5ae-c510-4080-b111-60b7ce840f30",
   "metadata": {},
   "outputs": [
    {
     "name": "stdout",
     "output_type": "stream",
     "text": [
      "206684 vinta/awesome-python\n",
      "180304 TheAlgorithms/Python\n",
      "150494 jackfrued/Python-100-Days\n",
      "128803 ytdl-org/youtube-dl\n",
      "125907 huggingface/transformers\n",
      "84702 langchain-ai/langchain\n",
      "76628 tensorflow/models\n",
      "68933 home-assistant/core\n",
      "66516 pallets/flask\n",
      "64499 fighting41love/funNLP\n"
     ]
    }
   ],
   "source": [
    "for repo in data['items'][:10]:\n",
    "    print(repo['stargazers_count'], repo['full_name']) "
   ]
  },
  {
   "cell_type": "markdown",
   "id": "b38a917d-1149-4cc4-9b5b-054c05846570",
   "metadata": {},
   "source": [
    "## Getting Started"
   ]
  },
  {
   "cell_type": "markdown",
   "id": "67b3abb9-f465-404d-80a9-ce2fd9f0d427",
   "metadata": {},
   "source": [
    "Jupyter notebook displays the value of the last expression."
   ]
  },
  {
   "cell_type": "code",
   "execution_count": 10,
   "id": "eef71f99-14be-4f63-9d42-eb19a99d87ab",
   "metadata": {},
   "outputs": [
    {
     "data": {
      "text/plain": [
       "3"
      ]
     },
     "execution_count": 10,
     "metadata": {},
     "output_type": "execute_result"
    }
   ],
   "source": [
    "1 + 2"
   ]
  },
  {
   "cell_type": "code",
   "execution_count": 11,
   "id": "a36201e8-fe04-4ebc-bbe7-7bbfb2f644e6",
   "metadata": {},
   "outputs": [
    {
     "name": "stdout",
     "output_type": "stream",
     "text": [
      "3\n"
     ]
    }
   ],
   "source": [
    "print(1+2)"
   ]
  },
  {
   "cell_type": "markdown",
   "id": "7283de6e-87a8-42f6-ba4a-d6a29a6d855b",
   "metadata": {},
   "source": [
    "### Numbers, Strings and Lists"
   ]
  },
  {
   "cell_type": "markdown",
   "id": "1e249148-a647-4241-846f-f12c1b3c7696",
   "metadata": {},
   "source": [
    "Python has many datatypes. We'll start with the most common ones - numbers, strings and lists."
   ]
  },
  {
   "cell_type": "markdown",
   "id": "1cf28048-f3ef-48bb-91a8-51b7ad7c739f",
   "metadata": {},
   "source": [
    "### Numbers"
   ]
  },
  {
   "cell_type": "markdown",
   "id": "23b25579-2d8e-4b10-a964-1489eb827bdf",
   "metadata": {},
   "source": [
    "Python has integers."
   ]
  },
  {
   "cell_type": "code",
   "execution_count": 12,
   "id": "b5315bfe-a2a2-46b9-9132-3446c944c204",
   "metadata": {},
   "outputs": [
    {
     "data": {
      "text/plain": [
       "3"
      ]
     },
     "execution_count": 12,
     "metadata": {},
     "output_type": "execute_result"
    }
   ],
   "source": [
    "1 + 2"
   ]
  },
  {
   "cell_type": "code",
   "execution_count": 13,
   "id": "e1d615eb-dd8b-40c4-bba6-c44ed7171d61",
   "metadata": {},
   "outputs": [
    {
     "data": {
      "text/plain": [
       "32"
      ]
     },
     "execution_count": 13,
     "metadata": {},
     "output_type": "execute_result"
    }
   ],
   "source": [
    "2 ** 5"
   ]
  },
  {
   "cell_type": "markdown",
   "id": "78cfbc43-b6aa-4c65-a741-126dcf88b965",
   "metadata": {},
   "source": [
    "Python has floating point numbers."
   ]
  },
  {
   "cell_type": "code",
   "execution_count": 14,
   "id": "d617b28a-5c8a-480e-be53-e28176ef0d3c",
   "metadata": {},
   "outputs": [
    {
     "data": {
      "text/plain": [
       "3.5"
      ]
     },
     "execution_count": 14,
     "metadata": {},
     "output_type": "execute_result"
    }
   ],
   "source": [
    "1.2 + 2.3"
   ]
  },
  {
   "cell_type": "code",
   "execution_count": 15,
   "id": "bb25b84e-5f1e-489d-916f-9d6276e78a10",
   "metadata": {},
   "outputs": [
    {
     "data": {
      "text/plain": [
       "0.30000000000000004"
      ]
     },
     "execution_count": 15,
     "metadata": {},
     "output_type": "execute_result"
    }
   ],
   "source": [
    "0.1 + 0.2"
   ]
  },
  {
   "cell_type": "markdown",
   "id": "d4966e94-7694-4e32-94c0-e52f324ce6db",
   "metadata": {},
   "source": [
    "Checkout https://0.30000000000000004.com/ for explanation."
   ]
  },
  {
   "cell_type": "markdown",
   "id": "c90ebd03-f251-44a5-8ddb-9263db02a3ef",
   "metadata": {},
   "source": [
    "Pay attention to the division of numbers."
   ]
  },
  {
   "cell_type": "code",
   "execution_count": 16,
   "id": "aba5b764-4ace-4333-978d-ffd488388c2e",
   "metadata": {},
   "outputs": [
    {
     "data": {
      "text/plain": [
       "3.5"
      ]
     },
     "execution_count": 16,
     "metadata": {},
     "output_type": "execute_result"
    }
   ],
   "source": [
    "7 / 2"
   ]
  },
  {
   "cell_type": "code",
   "execution_count": 1,
   "id": "ce8ad0ca-6d50-44e3-9200-94610c661bda",
   "metadata": {},
   "outputs": [
    {
     "data": {
      "text/plain": [
       "3"
      ]
     },
     "execution_count": 1,
     "metadata": {},
     "output_type": "execute_result"
    }
   ],
   "source": [
    "7 // 2"
   ]
  },
  {
   "cell_type": "markdown",
   "id": "d6dc0036-7cd0-498b-b194-39e549f3dd55",
   "metadata": {},
   "source": [
    "### Strings"
   ]
  },
  {
   "cell_type": "markdown",
   "id": "9367cac2-d4c0-4b0a-a6f6-2cba0cc58eb7",
   "metadata": {},
   "source": [
    "In python, strings are enclosed either in double quotes or single quotes. Both mean the same."
   ]
  },
  {
   "cell_type": "code",
   "execution_count": 3,
   "id": "6335efbe-94c7-492e-9bc3-f9856c0d6e69",
   "metadata": {},
   "outputs": [
    {
     "data": {
      "text/plain": [
       "'hello'"
      ]
     },
     "execution_count": 3,
     "metadata": {},
     "output_type": "execute_result"
    }
   ],
   "source": [
    "\"hello\""
   ]
  },
  {
   "cell_type": "code",
   "execution_count": 4,
   "id": "6dd2d9e8-0a15-4a5e-ba40-d1f31e49588c",
   "metadata": {},
   "outputs": [
    {
     "data": {
      "text/plain": [
       "'hello'"
      ]
     },
     "execution_count": 4,
     "metadata": {},
     "output_type": "execute_result"
    }
   ],
   "source": [
    "'hello'"
   ]
  },
  {
   "cell_type": "code",
   "execution_count": 5,
   "id": "2d716783-f25d-441a-877b-3acf6db5c063",
   "metadata": {},
   "outputs": [
    {
     "data": {
      "text/plain": [
       "'helloworld'"
      ]
     },
     "execution_count": 5,
     "metadata": {},
     "output_type": "execute_result"
    }
   ],
   "source": [
    "\"hello\" + 'world'"
   ]
  },
  {
   "cell_type": "code",
   "execution_count": 6,
   "id": "8a2c3369-301c-49b6-87f7-2a42979944ed",
   "metadata": {},
   "outputs": [
    {
     "data": {
      "text/plain": [
       "'hellohellohellohellohello'"
      ]
     },
     "execution_count": 6,
     "metadata": {},
     "output_type": "execute_result"
    }
   ],
   "source": [
    "\"hello\" * 5"
   ]
  },
  {
   "cell_type": "code",
   "execution_count": 7,
   "id": "3ae78305-5fd2-4cc9-9862-fcc0767cc702",
   "metadata": {},
   "outputs": [
    {
     "name": "stdout",
     "output_type": "stream",
     "text": [
      "========================================\n"
     ]
    }
   ],
   "source": [
    "print(\"=\" * 40)"
   ]
  },
  {
   "cell_type": "markdown",
   "id": "d54a99e7-85fc-46a5-b744-74e21e0f2f00",
   "metadata": {},
   "source": [
    "Python supports multi-line strings as well. They are enclosed in three single/double quotes."
   ]
  },
  {
   "cell_type": "code",
   "execution_count": 9,
   "id": "911ce568-9716-4b2b-94b6-5176fa427669",
   "metadata": {},
   "outputs": [],
   "source": [
    "message = \"\"\"\n",
    "Hello everyone,\n",
    "\n",
    "Welcome to the Python Foundation Course!\n",
    "\"\"\""
   ]
  },
  {
   "cell_type": "code",
   "execution_count": 10,
   "id": "c59a0855-50a0-4ae1-9f93-35e0698504e2",
   "metadata": {},
   "outputs": [
    {
     "data": {
      "text/plain": [
       "'\\nHello everyone,\\n\\nWelcome to the Python Foundation Course!\\n'"
      ]
     },
     "execution_count": 10,
     "metadata": {},
     "output_type": "execute_result"
    }
   ],
   "source": [
    "message"
   ]
  },
  {
   "cell_type": "code",
   "execution_count": 11,
   "id": "5425a746-36c9-4d4d-b2ec-cdd8a0e7f7b0",
   "metadata": {},
   "outputs": [
    {
     "name": "stdout",
     "output_type": "stream",
     "text": [
      "\n",
      "Hello everyone,\n",
      "\n",
      "Welcome to the Python Foundation Course!\n",
      "\n"
     ]
    }
   ],
   "source": [
    "print(message)"
   ]
  },
  {
   "cell_type": "markdown",
   "id": "64cee970-8e73-4585-a439-45a4e8364ff6",
   "metadata": {},
   "source": [
    "Python suppports unicode text."
   ]
  },
  {
   "cell_type": "code",
   "execution_count": 12,
   "id": "020e302d-28a9-400b-a889-a628eb483849",
   "metadata": {},
   "outputs": [
    {
     "name": "stdout",
     "output_type": "stream",
     "text": [
      "అ ఆ ఇ ఈ\n",
      "ಅ ಆ ಇ ಈ\n",
      "அ ஆ இ ஈ\n",
      "അ ആ ഇ ഈ\n",
      "अ आ इ ई\n"
     ]
    }
   ],
   "source": [
    "print(\"అ ఆ ఇ ఈ\") # Telugu\n",
    "print(\"ಅ ಆ ಇ ಈ\") # Kannada\n",
    "print(\"அ ஆ இ ஈ\") # Tamil\n",
    "print(\"അ ആ ഇ ഈ\") # Malayalam\n",
    "print(\"अ आ इ ई\") # Hindi"
   ]
  },
  {
   "cell_type": "markdown",
   "id": "22327094-b57a-4b0c-9ecf-703f7672d566",
   "metadata": {},
   "source": [
    "We can specify the same thing using unicode code points."
   ]
  },
  {
   "cell_type": "code",
   "execution_count": 14,
   "id": "1390c081-8a7d-4eb8-8025-a9687f9718a0",
   "metadata": {},
   "outputs": [
    {
     "name": "stdout",
     "output_type": "stream",
     "text": [
      "అ ఆ ఇ ఈ\n",
      "ಅ ಆ ಇ ಈ\n",
      "அ ஆ இ ஈ\n",
      "അ ആ ഇ ഈ\n",
      "अ आ इ ई\n"
     ]
    }
   ],
   "source": [
    "print(\"\\u0c05 \\u0c06 \\u0c07 \\u0c08\") # Telugu\n",
    "print(\"\\u0c85 \\u0c86 \\u0c87 \\u0c88\") # Kannada\n",
    "print(\"\\u0b85 \\u0b86 \\u0b87 \\u0b88\") # Tamil\n",
    "print(\"\\u0d05 \\u0d06 \\u0d07 \\u0d08\") # Malayalam\n",
    "print(\"\\u0905 \\u0906 \\u0907 \\u0908\") # Hindi"
   ]
  },
  {
   "cell_type": "code",
   "execution_count": 15,
   "id": "cb7c4099-b50b-478a-be75-5a9ba9691f36",
   "metadata": {},
   "outputs": [
    {
     "name": "stdout",
     "output_type": "stream",
     "text": [
      "😸\n"
     ]
    }
   ],
   "source": [
    "print(\"\\U0001f638\")"
   ]
  },
  {
   "cell_type": "code",
   "execution_count": 16,
   "id": "026e5da3-7b57-47b5-97cf-0b84c616c76e",
   "metadata": {},
   "outputs": [],
   "source": [
    "cat = \"\\U0001f638\""
   ]
  },
  {
   "cell_type": "code",
   "execution_count": 17,
   "id": "06f2189b-abd9-462e-9a0e-0d556fd2912e",
   "metadata": {},
   "outputs": [
    {
     "name": "stdout",
     "output_type": "stream",
     "text": [
      "😸😸😸😸😸😸😸😸😸😸\n"
     ]
    }
   ],
   "source": [
    "print(cat * 10)"
   ]
  },
  {
   "cell_type": "markdown",
   "id": "e4a424f3-5f1d-417f-9413-b1306643bcf3",
   "metadata": {},
   "source": [
    "### Lists"
   ]
  },
  {
   "cell_type": "markdown",
   "id": "44234354-51ba-4e5a-816f-918db41a090c",
   "metadata": {},
   "source": [
    "Python has lists to represent a collection of values."
   ]
  },
  {
   "cell_type": "code",
   "execution_count": 18,
   "id": "e885352d-3635-4a25-9583-dfe8d69a49a8",
   "metadata": {},
   "outputs": [
    {
     "data": {
      "text/plain": [
       "[1, 2, 3, 4, 5]"
      ]
     },
     "execution_count": 18,
     "metadata": {},
     "output_type": "execute_result"
    }
   ],
   "source": [
    "[1, 2, 3, 4, 5]"
   ]
  },
  {
   "cell_type": "code",
   "execution_count": 19,
   "id": "bd888c9b-4354-467b-987f-918cf6c29c17",
   "metadata": {},
   "outputs": [],
   "source": [
    "x = [1, 2, 3, 4, 5]"
   ]
  },
  {
   "cell_type": "code",
   "execution_count": 20,
   "id": "8a326218-e6cb-4037-b878-609fc00a031e",
   "metadata": {},
   "outputs": [
    {
     "data": {
      "text/plain": [
       "[1, 2, 3, 4, 5]"
      ]
     },
     "execution_count": 20,
     "metadata": {},
     "output_type": "execute_result"
    }
   ],
   "source": [
    "x"
   ]
  },
  {
   "cell_type": "code",
   "execution_count": 22,
   "id": "5dd15f57-2376-4e9e-a0e0-c27a81c44141",
   "metadata": {},
   "outputs": [
    {
     "data": {
      "text/plain": [
       "15"
      ]
     },
     "execution_count": 22,
     "metadata": {},
     "output_type": "execute_result"
    }
   ],
   "source": [
    "sum(x)"
   ]
  },
  {
   "cell_type": "markdown",
   "id": "c506ace7-a47f-4522-b410-59b38042e6a4",
   "metadata": {},
   "source": [
    "We can access individual elements using `[]` operator."
   ]
  },
  {
   "cell_type": "code",
   "execution_count": 23,
   "id": "12f70018-6bed-4823-83e1-615e01776c21",
   "metadata": {},
   "outputs": [],
   "source": [
    "names = [\"Alice\", \"Bob\", \"Charlie\", \"Dave\"]"
   ]
  },
  {
   "cell_type": "code",
   "execution_count": 24,
   "id": "f02a8395-6fc5-41cd-b3f1-6dee7ea204e3",
   "metadata": {},
   "outputs": [
    {
     "data": {
      "text/plain": [
       "4"
      ]
     },
     "execution_count": 24,
     "metadata": {},
     "output_type": "execute_result"
    }
   ],
   "source": [
    "len(names)"
   ]
  },
  {
   "cell_type": "code",
   "execution_count": 25,
   "id": "589d1789-ea52-461b-a019-cc5371c038af",
   "metadata": {},
   "outputs": [
    {
     "data": {
      "text/plain": [
       "'Alice'"
      ]
     },
     "execution_count": 25,
     "metadata": {},
     "output_type": "execute_result"
    }
   ],
   "source": [
    "names[0]"
   ]
  },
  {
   "cell_type": "code",
   "execution_count": 26,
   "id": "c12e946e-0655-4f55-849f-1ff5743607cf",
   "metadata": {},
   "outputs": [
    {
     "data": {
      "text/plain": [
       "'Bob'"
      ]
     },
     "execution_count": 26,
     "metadata": {},
     "output_type": "execute_result"
    }
   ],
   "source": [
    "names[1]"
   ]
  },
  {
   "cell_type": "markdown",
   "id": "338e484c-8cc0-47f7-a6f5-04693922576a",
   "metadata": {},
   "source": [
    "We use `for` loop to iterate over a list of values."
   ]
  },
  {
   "cell_type": "code",
   "execution_count": 27,
   "id": "772b2991-3140-49cf-a13f-784446437290",
   "metadata": {},
   "outputs": [
    {
     "name": "stdout",
     "output_type": "stream",
     "text": [
      "Hello Alice\n",
      "Hello Bob\n",
      "Hello Charlie\n",
      "Hello Dave\n"
     ]
    }
   ],
   "source": [
    "for name in names:\n",
    "    print(\"Hello\", name)"
   ]
  },
  {
   "cell_type": "markdown",
   "id": "57aaee82-7196-4219-8c50-c0bcc57249c7",
   "metadata": {},
   "source": [
    "### Importing Modules"
   ]
  },
  {
   "cell_type": "markdown",
   "id": "1aa90fac-3753-4fb7-a989-bca208a86d0b",
   "metadata": {},
   "source": [
    "We import a module using the `import` statement."
   ]
  },
  {
   "cell_type": "code",
   "execution_count": 28,
   "id": "76da8c30-740c-4071-9420-891a15346860",
   "metadata": {},
   "outputs": [],
   "source": [
    "import os"
   ]
  },
  {
   "cell_type": "code",
   "execution_count": 29,
   "id": "f7412f8c-ffe5-4a8c-816f-b6c9a345793a",
   "metadata": {},
   "outputs": [
    {
     "data": {
      "text/plain": [
       "<module 'os' from '/opt/tljh/user/lib/python3.10/os.py'>"
      ]
     },
     "execution_count": 29,
     "metadata": {},
     "output_type": "execute_result"
    }
   ],
   "source": [
    "os"
   ]
  },
  {
   "cell_type": "code",
   "execution_count": 30,
   "id": "417f7b60-6f5b-4870-94ce-9a7f4000232b",
   "metadata": {},
   "outputs": [
    {
     "data": {
      "text/plain": [
       "<function sum(iterable, /, start=0)>"
      ]
     },
     "execution_count": 30,
     "metadata": {},
     "output_type": "execute_result"
    }
   ],
   "source": [
    "sum"
   ]
  },
  {
   "cell_type": "code",
   "execution_count": 31,
   "id": "fa6aeba6-fd15-4985-9d0e-c42fd3e110a0",
   "metadata": {},
   "outputs": [
    {
     "name": "stdout",
     "output_type": "stream",
     "text": [
      "<built-in function sum>\n"
     ]
    }
   ],
   "source": [
    "print(sum)"
   ]
  },
  {
   "cell_type": "code",
   "execution_count": 32,
   "id": "a8723618-4fc5-4163-bd67-dca8eb6b5341",
   "metadata": {},
   "outputs": [
    {
     "data": {
      "text/plain": [
       "'/opt/zeomega-python-2024/live-notes'"
      ]
     },
     "execution_count": 32,
     "metadata": {},
     "output_type": "execute_result"
    }
   ],
   "source": [
    "# current working directory\n",
    "os.getcwd()"
   ]
  },
  {
   "cell_type": "code",
   "execution_count": 33,
   "id": "1a06336e-3539-4601-a90d-e8c85b6dd386",
   "metadata": {},
   "outputs": [
    {
     "data": {
      "text/plain": [
       "['.ipynb_checkpoints', 'day1.ipynb']"
      ]
     },
     "execution_count": 33,
     "metadata": {},
     "output_type": "execute_result"
    }
   ],
   "source": [
    "# files in the current directory\n",
    "os.listdir()"
   ]
  },
  {
   "cell_type": "code",
   "execution_count": 34,
   "id": "8a49de05-e63a-4c4c-8ea8-b0ab8609af47",
   "metadata": {},
   "outputs": [],
   "source": [
    "files = os.listdir()"
   ]
  },
  {
   "cell_type": "code",
   "execution_count": 35,
   "id": "76fdd057-a811-4322-b305-deeece4e0c0c",
   "metadata": {},
   "outputs": [
    {
     "data": {
      "text/plain": [
       "['.ipynb_checkpoints', 'day1.ipynb']"
      ]
     },
     "execution_count": 35,
     "metadata": {},
     "output_type": "execute_result"
    }
   ],
   "source": [
    "files"
   ]
  },
  {
   "cell_type": "code",
   "execution_count": 36,
   "id": "edc8bbde-a8c2-4e51-9cc9-39ef0b9bc61a",
   "metadata": {},
   "outputs": [
    {
     "name": "stdout",
     "output_type": "stream",
     "text": [
      ".ipynb_checkpoints\n",
      "day1.ipynb\n"
     ]
    }
   ],
   "source": [
    "for f in files:\n",
    "    print(f)"
   ]
  },
  {
   "cell_type": "code",
   "execution_count": 39,
   "id": "beb50190-8421-4ec5-90d8-31f5d0ee40f8",
   "metadata": {},
   "outputs": [
    {
     "name": "stdout",
     "output_type": "stream",
     "text": [
      ".\n",
      "..\n",
      "day1.ipynb\n",
      ".ipynb_checkpoints\n"
     ]
    }
   ],
   "source": [
    "!ls -a1"
   ]
  },
  {
   "cell_type": "markdown",
   "id": "17166177-664c-4c55-a78c-9c18035578d6",
   "metadata": {},
   "source": [
    "Let's write a program `ls.py` to list all the files in the current directory."
   ]
  },
  {
   "cell_type": "code",
   "execution_count": 40,
   "id": "d060f351-924f-4b5a-8c30-c1701ca723fa",
   "metadata": {},
   "outputs": [
    {
     "name": "stdout",
     "output_type": "stream",
     "text": [
      "Writing ls.py\n"
     ]
    }
   ],
   "source": [
    "%%file ls.py\n",
    "import os\n",
    "\n",
    "files = os.listdir()\n",
    "for f in files:\n",
    "    print(f)"
   ]
  },
  {
   "cell_type": "code",
   "execution_count": 41,
   "id": "7d8bc308-e275-47a1-ab0e-97964efe456a",
   "metadata": {},
   "outputs": [
    {
     "name": "stdout",
     "output_type": "stream",
     "text": [
      "ls.py\n",
      ".ipynb_checkpoints\n",
      "day1.ipynb\n"
     ]
    }
   ],
   "source": [
    "!python ls.py"
   ]
  },
  {
   "cell_type": "markdown",
   "id": "43566647-b4fb-4102-82ee-2efa79d57b64",
   "metadata": {},
   "source": [
    "## Reading Command-line Arguments"
   ]
  },
  {
   "cell_type": "markdown",
   "id": "e71e709b-9a35-4a70-a111-939179aa894b",
   "metadata": {},
   "source": [
    "The most common way to provide inputs to programs is command-line arguments."
   ]
  },
  {
   "cell_type": "code",
   "execution_count": 42,
   "id": "39622150-cdc6-4790-961f-f1a20c45342f",
   "metadata": {},
   "outputs": [
    {
     "name": "stdout",
     "output_type": "stream",
     "text": [
      "hello\n"
     ]
    }
   ],
   "source": [
    "!echo hello "
   ]
  },
  {
   "cell_type": "code",
   "execution_count": 43,
   "id": "74ae5353-7d6c-4aaf-9e7e-9713ad56c500",
   "metadata": {},
   "outputs": [
    {
     "name": "stdout",
     "output_type": "stream",
     "text": [
      "one two three\n"
     ]
    }
   ],
   "source": [
    "!echo one two three"
   ]
  },
  {
   "cell_type": "code",
   "execution_count": 44,
   "id": "669e76c5-e772-4153-9d3c-801299ec3736",
   "metadata": {},
   "outputs": [
    {
     "name": "stdout",
     "output_type": "stream",
     "text": [
      "5 ls.py\n"
     ]
    }
   ],
   "source": [
    "!wc -l ls.py"
   ]
  },
  {
   "cell_type": "code",
   "execution_count": 45,
   "id": "c0a81893-f9e2-4743-924c-425251962430",
   "metadata": {},
   "outputs": [
    {
     "name": "stdout",
     "output_type": "stream",
     "text": [
      "Writing args.py\n"
     ]
    }
   ],
   "source": [
    "%%file args.py\n",
    "import sys\n",
    "\n",
    "print(sys.argv)"
   ]
  },
  {
   "cell_type": "code",
   "execution_count": 46,
   "id": "3169d172-f55c-49a0-9bb0-93e0babd2afa",
   "metadata": {},
   "outputs": [
    {
     "name": "stdout",
     "output_type": "stream",
     "text": [
      "['args.py', 'hello', 'world']\n"
     ]
    }
   ],
   "source": [
    "!python args.py hello world"
   ]
  },
  {
   "cell_type": "code",
   "execution_count": 47,
   "id": "fa3360de-7265-4ba6-b6a3-77be58008261",
   "metadata": {},
   "outputs": [
    {
     "name": "stdout",
     "output_type": "stream",
     "text": [
      "['args.py', 'one', 'two', 'three']\n"
     ]
    }
   ],
   "source": [
    "!python args.py one two three"
   ]
  },
  {
   "cell_type": "code",
   "execution_count": 48,
   "id": "da94bebf-6626-4f4a-b936-8390108bab34",
   "metadata": {},
   "outputs": [
    {
     "name": "stdout",
     "output_type": "stream",
     "text": [
      "['args.py', '1', '2', '3']\n"
     ]
    }
   ],
   "source": [
    "!python args.py 1 2 3"
   ]
  },
  {
   "cell_type": "markdown",
   "id": "a453492e-7a2b-4399-9af5-3b24b0a42f62",
   "metadata": {},
   "source": [
    "### Example: echo.py"
   ]
  },
  {
   "cell_type": "markdown",
   "id": "4a2d9d24-eadb-4b15-b3a3-6717b6ac26d8",
   "metadata": {},
   "source": [
    "Let's write a program to print the first command-line argument."
   ]
  },
  {
   "cell_type": "code",
   "execution_count": 49,
   "id": "47b2c1bf-83b9-4744-80d8-ef48128a28d8",
   "metadata": {},
   "outputs": [
    {
     "name": "stdout",
     "output_type": "stream",
     "text": [
      "Writing echo.py\n"
     ]
    }
   ],
   "source": [
    "%%file echo.py\n",
    "import sys\n",
    "\n",
    "print(sys.argv[1])"
   ]
  },
  {
   "cell_type": "code",
   "execution_count": 50,
   "id": "78d6e95d-e0bb-45a3-a567-3eff439843ed",
   "metadata": {},
   "outputs": [
    {
     "name": "stdout",
     "output_type": "stream",
     "text": [
      "hello\n"
     ]
    }
   ],
   "source": [
    "!python echo.py hello"
   ]
  },
  {
   "cell_type": "code",
   "execution_count": 51,
   "id": "5d26b0f6-9b7d-41e3-a0f6-1c21a3db8186",
   "metadata": {},
   "outputs": [
    {
     "name": "stdout",
     "output_type": "stream",
     "text": [
      "hello\n"
     ]
    }
   ],
   "source": [
    "!python echo.py hello world"
   ]
  },
  {
   "cell_type": "markdown",
   "id": "69a073b0-a5bd-4db2-b973-73882ad245f2",
   "metadata": {},
   "source": [
    "### Example: Square"
   ]
  },
  {
   "cell_type": "markdown",
   "id": "077968d7-8f49-4cc7-b3af-5dc959aef956",
   "metadata": {},
   "source": [
    "Let's write a program to that takes a number as a command-line argument and computes it's square."
   ]
  },
  {
   "cell_type": "markdown",
   "id": "093ad145-bbf1-4250-8a14-fede486c2cdc",
   "metadata": {},
   "source": [
    "If we have a number as a string, how to convert that to an integer?"
   ]
  },
  {
   "cell_type": "code",
   "execution_count": 52,
   "id": "34cf24fb-437f-48ea-b15e-f5694a994a4e",
   "metadata": {},
   "outputs": [],
   "source": [
    "x = \"10\""
   ]
  },
  {
   "cell_type": "code",
   "execution_count": 53,
   "id": "f6384dea-08df-404e-b7cd-699df9368651",
   "metadata": {},
   "outputs": [
    {
     "data": {
      "text/plain": [
       "'10'"
      ]
     },
     "execution_count": 53,
     "metadata": {},
     "output_type": "execute_result"
    }
   ],
   "source": [
    "x"
   ]
  },
  {
   "cell_type": "markdown",
   "id": "e555d840-85ee-4d81-a2d6-5fea484f45bb",
   "metadata": {},
   "source": [
    "How to convert x to integer?"
   ]
  },
  {
   "cell_type": "code",
   "execution_count": 54,
   "id": "1882f4ce-bb98-422d-bb4b-53ca2d99c104",
   "metadata": {},
   "outputs": [
    {
     "data": {
      "text/plain": [
       "10"
      ]
     },
     "execution_count": 54,
     "metadata": {},
     "output_type": "execute_result"
    }
   ],
   "source": [
    "int(x)"
   ]
  },
  {
   "cell_type": "code",
   "execution_count": 55,
   "id": "f50067ad-827a-48bd-b3c2-31d5ba1397e6",
   "metadata": {},
   "outputs": [
    {
     "data": {
      "text/plain": [
       "11"
      ]
     },
     "execution_count": 55,
     "metadata": {},
     "output_type": "execute_result"
    }
   ],
   "source": [
    "int(x) + 1"
   ]
  },
  {
   "cell_type": "code",
   "execution_count": 64,
   "id": "85a4f9d4-be2b-4586-91a1-9e72a5717da5",
   "metadata": {},
   "outputs": [
    {
     "name": "stdout",
     "output_type": "stream",
     "text": [
      "Overwriting sq.py\n"
     ]
    }
   ],
   "source": [
    "%%file sq.py\n",
    "import sys\n",
    "print(sys.argv)\n",
    "\n",
    "n = int(sys.argv[1])\n",
    "\n",
    "# FIXME\n",
    "print(n*n)"
   ]
  },
  {
   "cell_type": "code",
   "execution_count": 65,
   "id": "7c9a353a-b43b-4a0b-bb39-3b38d90e4576",
   "metadata": {},
   "outputs": [
    {
     "name": "stdout",
     "output_type": "stream",
     "text": [
      "['sq.py', '5']\n",
      "25\n"
     ]
    }
   ],
   "source": [
    "!python sq.py 5"
   ]
  },
  {
   "cell_type": "code",
   "execution_count": 66,
   "id": "fe25036f-a907-4a4a-a374-da0dbc6aedcf",
   "metadata": {},
   "outputs": [
    {
     "name": "stdout",
     "output_type": "stream",
     "text": [
      "['sq.py', '9']\n",
      "81\n"
     ]
    }
   ],
   "source": [
    "!python sq.py 9"
   ]
  },
  {
   "cell_type": "code",
   "execution_count": 72,
   "id": "c7701bfe-7ada-42a4-b388-e1df5a26521d",
   "metadata": {},
   "outputs": [
    {
     "data": {
      "text/html": [
       "\n",
       "        <strong>Problem: Add Two Numbers</strong>\n",
       "\n",
       "        <p><p>Write a program <code>add.py</code> that takes two numbers as command-line arguments and prints their sum.</p>\n",
       "<pre><code>$ python add.py 3 4\n",
       "7\n",
       "$ python add.py 10 20\n",
       "30\n",
       "</code></pre>\n",
       "        </p>\n",
       "\n",
       "        <p>You can verify your solution using:\n",
       "        <pre>%verify_problem add-two-numbers</pre>\n",
       "        </p>\n",
       "        "
      ],
      "text/plain": [
       "<Probem: add-two-numbers>"
      ]
     },
     "metadata": {},
     "output_type": "display_data"
    }
   ],
   "source": [
    "%load_problem add-two-numbers"
   ]
  },
  {
   "cell_type": "code",
   "execution_count": 73,
   "id": "2b53f3ac-e75a-4e68-8172-9438be559296",
   "metadata": {},
   "outputs": [
    {
     "name": "stdout",
     "output_type": "stream",
     "text": [
      "Overwriting add.py\n"
     ]
    }
   ],
   "source": [
    "%%file add.py\n",
    "# FIXME\n",
    "print(0)\n",
    "\n",
    "\n"
   ]
  },
  {
   "cell_type": "code",
   "execution_count": 74,
   "id": "a2b8b592-b629-4e0f-98bd-610c8471d947",
   "metadata": {},
   "outputs": [
    {
     "name": "stdout",
     "output_type": "stream",
     "text": [
      "0\n"
     ]
    }
   ],
   "source": [
    "!python add.py 3 4"
   ]
  },
  {
   "cell_type": "code",
   "execution_count": 76,
   "id": "fea79856-953a-45cf-90a5-25a51820482d",
   "metadata": {},
   "outputs": [
    {
     "name": "stdout",
     "output_type": "stream",
     "text": [
      "✗ python add.py 3 4\n",
      "Expected:\n",
      "7\n",
      "Found:\n",
      "0\n",
      "✗ python add.py 10 20\n",
      "Expected:\n",
      "30\n",
      "Found:\n",
      "0\n",
      "💥 Oops! Your solution to problem add-two-numbers is incorrect or incomplete.\n"
     ]
    }
   ],
   "source": [
    "%verify_problem add-two-numbers"
   ]
  },
  {
   "cell_type": "markdown",
   "id": "2285f454-81e7-4234-857b-be3c0274d2e8",
   "metadata": {},
   "source": [
    "## Functions, Methods & Modules"
   ]
  },
  {
   "cell_type": "markdown",
   "id": "9933fd05-8644-485f-93cf-72c80e10f504",
   "metadata": {},
   "source": [
    "Python has many built-in functions."
   ]
  },
  {
   "cell_type": "code",
   "execution_count": 1,
   "id": "0ce886ee-bb15-4a09-b260-ce006aa40a4d",
   "metadata": {},
   "outputs": [
    {
     "data": {
      "text/plain": [
       "15"
      ]
     },
     "execution_count": 1,
     "metadata": {},
     "output_type": "execute_result"
    }
   ],
   "source": [
    "sum([1, 2, 3, 4, 5])"
   ]
  },
  {
   "cell_type": "code",
   "execution_count": 2,
   "id": "a0fde1d3-7769-4548-b21f-d6b86243ba47",
   "metadata": {},
   "outputs": [
    {
     "data": {
      "text/plain": [
       "5"
      ]
     },
     "execution_count": 2,
     "metadata": {},
     "output_type": "execute_result"
    }
   ],
   "source": [
    "len(\"hello\")"
   ]
  },
  {
   "cell_type": "code",
   "execution_count": 4,
   "id": "e9e94fec-1783-43d2-abb1-9722d5285b00",
   "metadata": {},
   "outputs": [
    {
     "name": "stdout",
     "output_type": "stream",
     "text": [
      "hello\n"
     ]
    }
   ],
   "source": [
    "print(\"hello\")"
   ]
  },
  {
   "cell_type": "markdown",
   "id": "47f19533-9402-4825-a98f-f91038f3185d",
   "metadata": {},
   "source": [
    "Python doesn't support operations on incompatible data types."
   ]
  },
  {
   "cell_type": "code",
   "execution_count": 5,
   "id": "a36a6e6b-8167-415c-b804-fe0808b86de7",
   "metadata": {},
   "outputs": [
    {
     "ename": "TypeError",
     "evalue": "unsupported operand type(s) for +: 'int' and 'str'",
     "output_type": "error",
     "traceback": [
      "\u001b[0;31m---------------------------------------------------------------------------\u001b[0m",
      "\u001b[0;31mTypeError\u001b[0m                                 Traceback (most recent call last)",
      "Cell \u001b[0;32mIn[5], line 1\u001b[0m\n\u001b[0;32m----> 1\u001b[0m \u001b[38;5;241;43m1\u001b[39;49m\u001b[43m \u001b[49m\u001b[38;5;241;43m+\u001b[39;49m\u001b[43m \u001b[49m\u001b[38;5;124;43m\"\u001b[39;49m\u001b[38;5;124;43m2\u001b[39;49m\u001b[38;5;124;43m\"\u001b[39;49m\n",
      "\u001b[0;31mTypeError\u001b[0m: unsupported operand type(s) for +: 'int' and 'str'"
     ]
    }
   ],
   "source": [
    "1 + \"2\""
   ]
  },
  {
   "cell_type": "code",
   "execution_count": 6,
   "id": "04fcbd4a-9bb7-46ac-b4a2-fa28596034c5",
   "metadata": {},
   "outputs": [
    {
     "data": {
      "text/plain": [
       "3"
      ]
     },
     "execution_count": 6,
     "metadata": {},
     "output_type": "execute_result"
    }
   ],
   "source": [
    "1 + int(\"2\")"
   ]
  },
  {
   "cell_type": "code",
   "execution_count": 7,
   "id": "f3b4d292-d603-463b-b776-853eb9e5158b",
   "metadata": {},
   "outputs": [
    {
     "data": {
      "text/plain": [
       "'12'"
      ]
     },
     "execution_count": 7,
     "metadata": {},
     "output_type": "execute_result"
    }
   ],
   "source": [
    "str(1) + \"2\""
   ]
  },
  {
   "cell_type": "markdown",
   "id": "c5abe4b4-f1b9-4180-8540-282b95ddaff9",
   "metadata": {},
   "source": [
    "### Example: Counting the number of digits in a number"
   ]
  },
  {
   "cell_type": "markdown",
   "id": "af7cfc24-6404-47d1-b06a-a0c899ab5ef0",
   "metadata": {},
   "source": [
    "How to count the number of digits in a number?"
   ]
  },
  {
   "cell_type": "code",
   "execution_count": 8,
   "id": "eba24ddb-5923-4c82-af39-0512d4daed4f",
   "metadata": {},
   "outputs": [
    {
     "data": {
      "text/plain": [
       "12345"
      ]
     },
     "execution_count": 8,
     "metadata": {},
     "output_type": "execute_result"
    }
   ],
   "source": [
    "12345"
   ]
  },
  {
   "cell_type": "code",
   "execution_count": 10,
   "id": "d18afbe0-45c5-4b6c-b302-137f170afdc0",
   "metadata": {},
   "outputs": [
    {
     "data": {
      "text/plain": [
       "10715086071862673209484250490600018105614048117055336074437503883703510511249361224931983788156958581275946729175531468251871452856923140435984577574698574803934567774824230985421074605062371141877954182153046474983581941267398767559165543946077062914571196477686542167660429831652624386837205668069376"
      ]
     },
     "execution_count": 10,
     "metadata": {},
     "output_type": "execute_result"
    }
   ],
   "source": [
    "2 ** 1000"
   ]
  },
  {
   "cell_type": "code",
   "execution_count": 11,
   "id": "712ff88a-2dca-46f4-b2b2-1229ea9a8b6f",
   "metadata": {},
   "outputs": [
    {
     "data": {
      "text/plain": [
       "'10715086071862673209484250490600018105614048117055336074437503883703510511249361224931983788156958581275946729175531468251871452856923140435984577574698574803934567774824230985421074605062371141877954182153046474983581941267398767559165543946077062914571196477686542167660429831652624386837205668069376'"
      ]
     },
     "execution_count": 11,
     "metadata": {},
     "output_type": "execute_result"
    }
   ],
   "source": [
    "str(2**1000)"
   ]
  },
  {
   "cell_type": "code",
   "execution_count": 12,
   "id": "5e6e0f1c-8170-4da1-aa8c-63c2d9471022",
   "metadata": {},
   "outputs": [
    {
     "data": {
      "text/plain": [
       "302"
      ]
     },
     "execution_count": 12,
     "metadata": {},
     "output_type": "execute_result"
    }
   ],
   "source": [
    "len(str(2**1000))"
   ]
  },
  {
   "cell_type": "markdown",
   "id": "3f254dd4-a83a-4c55-b942-4e8397cbdcf0",
   "metadata": {},
   "source": [
    "### Writing our own Functions"
   ]
  },
  {
   "cell_type": "code",
   "execution_count": 13,
   "id": "859b1ba5-73f2-4c03-bee0-234c5b22e65d",
   "metadata": {},
   "outputs": [],
   "source": [
    "def square(x):\n",
    "    return x*x"
   ]
  },
  {
   "cell_type": "code",
   "execution_count": 14,
   "id": "4827190b-ac3c-43d0-a3b2-728d2e40b2bb",
   "metadata": {},
   "outputs": [
    {
     "data": {
      "text/plain": [
       "16"
      ]
     },
     "execution_count": 14,
     "metadata": {},
     "output_type": "execute_result"
    }
   ],
   "source": [
    "square(4)"
   ]
  },
  {
   "cell_type": "code",
   "execution_count": 15,
   "id": "e76c578f-1d14-41db-99d6-14231f098838",
   "metadata": {},
   "outputs": [],
   "source": [
    "def square(x):\n",
    "    y = x*x\n",
    "    return y"
   ]
  },
  {
   "cell_type": "code",
   "execution_count": 16,
   "id": "7dd16f35-8337-44e1-8402-e70c2b34929c",
   "metadata": {},
   "outputs": [
    {
     "data": {
      "text/plain": [
       "16"
      ]
     },
     "execution_count": 16,
     "metadata": {},
     "output_type": "execute_result"
    }
   ],
   "source": [
    "square(4)"
   ]
  },
  {
   "cell_type": "markdown",
   "id": "aab2d9ed-a556-4e69-8605-c05801380ee5",
   "metadata": {},
   "source": [
    "#### print vs return"
   ]
  },
  {
   "cell_type": "code",
   "execution_count": 17,
   "id": "d42fab44-1148-41bd-aeea-08f7b6fabfcb",
   "metadata": {},
   "outputs": [],
   "source": [
    "def square1(x):\n",
    "    return x*x\n",
    "\n",
    "def square2(x):\n",
    "    print(x*x)"
   ]
  },
  {
   "cell_type": "code",
   "execution_count": 18,
   "id": "ffaa1043-b797-4700-b607-f92c169f3228",
   "metadata": {},
   "outputs": [
    {
     "data": {
      "text/plain": [
       "16"
      ]
     },
     "execution_count": 18,
     "metadata": {},
     "output_type": "execute_result"
    }
   ],
   "source": [
    "square1(4)"
   ]
  },
  {
   "cell_type": "code",
   "execution_count": 19,
   "id": "1e64c3c3-b7ae-474f-b888-5445b80dde2f",
   "metadata": {},
   "outputs": [
    {
     "name": "stdout",
     "output_type": "stream",
     "text": [
      "16\n"
     ]
    }
   ],
   "source": [
    "square2(4)"
   ]
  },
  {
   "cell_type": "code",
   "execution_count": 20,
   "id": "baa4446b-440a-4a58-9b9e-200da1b5cde5",
   "metadata": {},
   "outputs": [
    {
     "data": {
      "text/plain": [
       "17"
      ]
     },
     "execution_count": 20,
     "metadata": {},
     "output_type": "execute_result"
    }
   ],
   "source": [
    "1 + square1(4)"
   ]
  },
  {
   "cell_type": "code",
   "execution_count": 21,
   "id": "3745fa34-50cc-4513-882d-e9b215d43a91",
   "metadata": {},
   "outputs": [
    {
     "name": "stdout",
     "output_type": "stream",
     "text": [
      "16\n"
     ]
    },
    {
     "ename": "TypeError",
     "evalue": "unsupported operand type(s) for +: 'int' and 'NoneType'",
     "output_type": "error",
     "traceback": [
      "\u001b[0;31m---------------------------------------------------------------------------\u001b[0m",
      "\u001b[0;31mTypeError\u001b[0m                                 Traceback (most recent call last)",
      "Cell \u001b[0;32mIn[21], line 1\u001b[0m\n\u001b[0;32m----> 1\u001b[0m \u001b[38;5;241;43m1\u001b[39;49m\u001b[43m \u001b[49m\u001b[38;5;241;43m+\u001b[39;49m\u001b[43m \u001b[49m\u001b[43msquare2\u001b[49m\u001b[43m(\u001b[49m\u001b[38;5;241;43m4\u001b[39;49m\u001b[43m)\u001b[49m\n",
      "\u001b[0;31mTypeError\u001b[0m: unsupported operand type(s) for +: 'int' and 'NoneType'"
     ]
    }
   ],
   "source": [
    "1 + square2(4)"
   ]
  },
  {
   "cell_type": "code",
   "execution_count": 22,
   "id": "7fecbc79-2063-4408-ba09-48799cef8436",
   "metadata": {},
   "outputs": [
    {
     "name": "stdout",
     "output_type": "stream",
     "text": [
      "1\n"
     ]
    }
   ],
   "source": [
    "x = print(1)"
   ]
  },
  {
   "cell_type": "code",
   "execution_count": 23,
   "id": "77fa963d-252a-45a2-94af-103de32a2b00",
   "metadata": {},
   "outputs": [
    {
     "data": {
      "text/plain": [
       "NoneType"
      ]
     },
     "execution_count": 23,
     "metadata": {},
     "output_type": "execute_result"
    }
   ],
   "source": [
    "type(x)"
   ]
  },
  {
   "cell_type": "code",
   "execution_count": 24,
   "id": "f98d3367-4887-42dd-b057-ad01316efe80",
   "metadata": {},
   "outputs": [
    {
     "name": "stdout",
     "output_type": "stream",
     "text": [
      "None\n"
     ]
    }
   ],
   "source": [
    "print(x)"
   ]
  },
  {
   "cell_type": "code",
   "execution_count": 25,
   "id": "34f7f677-cf82-4f36-9396-8137754cdd40",
   "metadata": {},
   "outputs": [
    {
     "ename": "TypeError",
     "evalue": "unsupported operand type(s) for +: 'int' and 'NoneType'",
     "output_type": "error",
     "traceback": [
      "\u001b[0;31m---------------------------------------------------------------------------\u001b[0m",
      "\u001b[0;31mTypeError\u001b[0m                                 Traceback (most recent call last)",
      "Cell \u001b[0;32mIn[25], line 1\u001b[0m\n\u001b[0;32m----> 1\u001b[0m \u001b[38;5;241;43m1\u001b[39;49m\u001b[43m \u001b[49m\u001b[38;5;241;43m+\u001b[39;49m\u001b[43m \u001b[49m\u001b[38;5;28;43;01mNone\u001b[39;49;00m\n",
      "\u001b[0;31mTypeError\u001b[0m: unsupported operand type(s) for +: 'int' and 'NoneType'"
     ]
    }
   ],
   "source": [
    "1 + None"
   ]
  },
  {
   "cell_type": "code",
   "execution_count": 26,
   "id": "d313d8a8-4cb7-4a4f-adcb-ca049bc56c9c",
   "metadata": {},
   "outputs": [
    {
     "name": "stdout",
     "output_type": "stream",
     "text": [
      "16\n"
     ]
    },
    {
     "ename": "TypeError",
     "evalue": "unsupported operand type(s) for +: 'int' and 'NoneType'",
     "output_type": "error",
     "traceback": [
      "\u001b[0;31m---------------------------------------------------------------------------\u001b[0m",
      "\u001b[0;31mTypeError\u001b[0m                                 Traceback (most recent call last)",
      "Cell \u001b[0;32mIn[26], line 1\u001b[0m\n\u001b[0;32m----> 1\u001b[0m \u001b[38;5;241;43m1\u001b[39;49m\u001b[43m \u001b[49m\u001b[38;5;241;43m+\u001b[39;49m\u001b[43m \u001b[49m\u001b[38;5;28;43mprint\u001b[39;49m\u001b[43m(\u001b[49m\u001b[38;5;241;43m16\u001b[39;49m\u001b[43m)\u001b[49m\n",
      "\u001b[0;31mTypeError\u001b[0m: unsupported operand type(s) for +: 'int' and 'NoneType'"
     ]
    }
   ],
   "source": [
    "1 + print(16)"
   ]
  },
  {
   "cell_type": "code",
   "execution_count": 27,
   "id": "cb96a8dd-0be5-483d-b72c-026032493fbe",
   "metadata": {},
   "outputs": [
    {
     "data": {
      "text/html": [
       "\n",
       "        <strong>Problem: Cube</strong>\n",
       "\n",
       "        <p><p>Write a function <code>cube</code> to compute cube of a number.</p>\n",
       "<pre><code>&gt;&gt;&gt; cube(2)\n",
       "8\n",
       "</code></pre>\n",
       "        </p>\n",
       "\n",
       "        <p>You can verify your solution using:\n",
       "        <pre>%verify_problem cube</pre>\n",
       "        </p>\n",
       "        "
      ],
      "text/plain": [
       "<Probem: cube>"
      ]
     },
     "metadata": {},
     "output_type": "display_data"
    }
   ],
   "source": [
    "%load_problem cube"
   ]
  },
  {
   "cell_type": "code",
   "execution_count": null,
   "id": "3788257e-bfaa-4999-9c2f-46a36cb6d4b8",
   "metadata": {},
   "outputs": [],
   "source": [
    "# your code here\n",
    "\n",
    "\n",
    "\n"
   ]
  },
  {
   "cell_type": "markdown",
   "id": "6c5e5581-03d8-499a-9919-c726ae9ceabe",
   "metadata": {},
   "source": [
    "### Functions are values too!"
   ]
  },
  {
   "cell_type": "code",
   "execution_count": 28,
   "id": "9bd04a5c-4fa3-451d-9ad2-acae0e6bfeb4",
   "metadata": {},
   "outputs": [],
   "source": [
    "def square(x):\n",
    "    return x*x"
   ]
  },
  {
   "cell_type": "code",
   "execution_count": 29,
   "id": "6668da09-9ad6-4c16-8302-b2c89fd4c6ac",
   "metadata": {},
   "outputs": [
    {
     "data": {
      "text/plain": [
       "16"
      ]
     },
     "execution_count": 29,
     "metadata": {},
     "output_type": "execute_result"
    }
   ],
   "source": [
    "square(4)"
   ]
  },
  {
   "cell_type": "code",
   "execution_count": 30,
   "id": "6ec76983-5ded-4ead-85b0-16a0f230dec7",
   "metadata": {},
   "outputs": [
    {
     "ename": "TypeError",
     "evalue": "square() missing 1 required positional argument: 'x'",
     "output_type": "error",
     "traceback": [
      "\u001b[0;31m---------------------------------------------------------------------------\u001b[0m",
      "\u001b[0;31mTypeError\u001b[0m                                 Traceback (most recent call last)",
      "Cell \u001b[0;32mIn[30], line 1\u001b[0m\n\u001b[0;32m----> 1\u001b[0m \u001b[43msquare\u001b[49m\u001b[43m(\u001b[49m\u001b[43m)\u001b[49m \u001b[38;5;66;03m# error\u001b[39;00m\n",
      "\u001b[0;31mTypeError\u001b[0m: square() missing 1 required positional argument: 'x'"
     ]
    }
   ],
   "source": [
    "square() # error"
   ]
  },
  {
   "cell_type": "code",
   "execution_count": 31,
   "id": "6875d2a1-c448-4f84-967a-49b3abb2f7ae",
   "metadata": {},
   "outputs": [
    {
     "data": {
      "text/plain": [
       "<function __main__.square(x)>"
      ]
     },
     "execution_count": 31,
     "metadata": {},
     "output_type": "execute_result"
    }
   ],
   "source": [
    "square"
   ]
  },
  {
   "cell_type": "code",
   "execution_count": 32,
   "id": "bb92b7ca-e137-400a-9d81-7d76d7a58f0f",
   "metadata": {},
   "outputs": [],
   "source": [
    "x = 5"
   ]
  },
  {
   "cell_type": "code",
   "execution_count": 33,
   "id": "3894ab49-af2d-4e61-ae3f-8bf409eaf85d",
   "metadata": {},
   "outputs": [
    {
     "data": {
      "text/plain": [
       "5"
      ]
     },
     "execution_count": 33,
     "metadata": {},
     "output_type": "execute_result"
    }
   ],
   "source": [
    "x"
   ]
  },
  {
   "cell_type": "code",
   "execution_count": 34,
   "id": "ae27f0be-04ce-47a5-bc0f-aeb31313b14d",
   "metadata": {},
   "outputs": [],
   "source": [
    "y = x"
   ]
  },
  {
   "cell_type": "code",
   "execution_count": 35,
   "id": "f46e5d35-c3d9-4319-a096-ce4db1e35e90",
   "metadata": {},
   "outputs": [
    {
     "data": {
      "text/plain": [
       "5"
      ]
     },
     "execution_count": 35,
     "metadata": {},
     "output_type": "execute_result"
    }
   ],
   "source": [
    "y"
   ]
  },
  {
   "cell_type": "code",
   "execution_count": 36,
   "id": "83a14191-3ab3-4b63-bdac-e3dff8931905",
   "metadata": {},
   "outputs": [
    {
     "data": {
      "text/plain": [
       "6"
      ]
     },
     "execution_count": 36,
     "metadata": {},
     "output_type": "execute_result"
    }
   ],
   "source": [
    "x + 1"
   ]
  },
  {
   "cell_type": "code",
   "execution_count": 37,
   "id": "16fbe104-c388-4339-a885-c5f0e380f2ba",
   "metadata": {},
   "outputs": [
    {
     "data": {
      "text/plain": [
       "6"
      ]
     },
     "execution_count": 37,
     "metadata": {},
     "output_type": "execute_result"
    }
   ],
   "source": [
    "y + 1"
   ]
  },
  {
   "cell_type": "code",
   "execution_count": 38,
   "id": "4782c13c-713f-402a-88d7-cce7228e1185",
   "metadata": {},
   "outputs": [
    {
     "data": {
      "text/plain": [
       "<function __main__.square(x)>"
      ]
     },
     "execution_count": 38,
     "metadata": {},
     "output_type": "execute_result"
    }
   ],
   "source": [
    "square"
   ]
  },
  {
   "cell_type": "code",
   "execution_count": 39,
   "id": "743b9171-64e9-46bf-845d-c6c5e48d7379",
   "metadata": {},
   "outputs": [],
   "source": [
    "f = square"
   ]
  },
  {
   "cell_type": "code",
   "execution_count": 40,
   "id": "28177cc9-f965-45c3-b878-1508c39ece43",
   "metadata": {},
   "outputs": [
    {
     "data": {
      "text/plain": [
       "<function __main__.square(x)>"
      ]
     },
     "execution_count": 40,
     "metadata": {},
     "output_type": "execute_result"
    }
   ],
   "source": [
    "f"
   ]
  },
  {
   "cell_type": "code",
   "execution_count": 41,
   "id": "81008dd9-b33d-44de-9ef5-fe7e4ce937fe",
   "metadata": {},
   "outputs": [
    {
     "data": {
      "text/plain": [
       "16"
      ]
     },
     "execution_count": 41,
     "metadata": {},
     "output_type": "execute_result"
    }
   ],
   "source": [
    "square(4)"
   ]
  },
  {
   "cell_type": "code",
   "execution_count": 42,
   "id": "6f5ab5c4-c582-4dae-8172-af925ea8a8fc",
   "metadata": {},
   "outputs": [
    {
     "data": {
      "text/plain": [
       "16"
      ]
     },
     "execution_count": 42,
     "metadata": {},
     "output_type": "execute_result"
    }
   ],
   "source": [
    "f(4)"
   ]
  },
  {
   "cell_type": "code",
   "execution_count": 43,
   "id": "eccf2b4a-4dcd-4029-af20-2d316ecff208",
   "metadata": {},
   "outputs": [],
   "source": [
    "def square(x):\n",
    "    return x*x"
   ]
  },
  {
   "cell_type": "code",
   "execution_count": 44,
   "id": "ecc53c31-2fa5-4bfe-9067-08cb8be30ac4",
   "metadata": {},
   "outputs": [],
   "source": [
    "def sum_of_squares(x, y):\n",
    "    return square(x) + square(y)"
   ]
  },
  {
   "cell_type": "code",
   "execution_count": 45,
   "id": "0e328487-7372-4ac7-8b9b-23206cdb7c9c",
   "metadata": {},
   "outputs": [
    {
     "data": {
      "text/plain": [
       "25"
      ]
     },
     "execution_count": 45,
     "metadata": {},
     "output_type": "execute_result"
    }
   ],
   "source": [
    "sum_of_squares(3, 4)"
   ]
  },
  {
   "cell_type": "code",
   "execution_count": 46,
   "id": "0e4f2302-8a03-4d81-94b6-28f319650b0c",
   "metadata": {},
   "outputs": [],
   "source": [
    "def cube(x):\n",
    "    return x*x*x\n",
    "\n",
    "def sum_of_cubes(x, y):\n",
    "    return cube(x) + cube(y)    "
   ]
  },
  {
   "cell_type": "code",
   "execution_count": 47,
   "id": "a3fcf346-22f3-48e3-be13-3cfad4489629",
   "metadata": {},
   "outputs": [
    {
     "data": {
      "text/plain": [
       "91"
      ]
     },
     "execution_count": 47,
     "metadata": {},
     "output_type": "execute_result"
    }
   ],
   "source": [
    "sum_of_cubes(3, 4)"
   ]
  },
  {
   "cell_type": "markdown",
   "id": "6e6b8a5d-bbd2-4314-8936-788940c09652",
   "metadata": {},
   "source": [
    "Let's look a simpler example."
   ]
  },
  {
   "cell_type": "code",
   "execution_count": 48,
   "id": "3a56d2dc-9a1f-4e2e-9099-216ed5569c20",
   "metadata": {},
   "outputs": [],
   "source": [
    "def add1(x):\n",
    "    return x+1\n",
    "\n",
    "def add2(x):\n",
    "    return x+2\n",
    "\n",
    "def add5(x):\n",
    "    return x+5"
   ]
  },
  {
   "cell_type": "code",
   "execution_count": 49,
   "id": "dfef68f6-2ecf-4379-9690-34b9e3c6be36",
   "metadata": {},
   "outputs": [],
   "source": [
    "def add(x, y):\n",
    "    return x+y"
   ]
  },
  {
   "cell_type": "code",
   "execution_count": 50,
   "id": "9d71d426-9a7b-422a-82fe-24f3844bb140",
   "metadata": {},
   "outputs": [
    {
     "data": {
      "text/plain": [
       "7"
      ]
     },
     "execution_count": 50,
     "metadata": {},
     "output_type": "execute_result"
    }
   ],
   "source": [
    "add(5, 2)"
   ]
  },
  {
   "cell_type": "code",
   "execution_count": 51,
   "id": "5ede362e-37bf-4ab2-96c6-e9d59917ff36",
   "metadata": {},
   "outputs": [],
   "source": [
    "def sumof(f, x, y):\n",
    "    return f(x) + f(y)"
   ]
  },
  {
   "cell_type": "code",
   "execution_count": 52,
   "id": "4c902a68-1ac9-4e78-85fd-019964917415",
   "metadata": {},
   "outputs": [
    {
     "data": {
      "text/plain": [
       "25"
      ]
     },
     "execution_count": 52,
     "metadata": {},
     "output_type": "execute_result"
    }
   ],
   "source": [
    "sumof(square, 3, 4)"
   ]
  },
  {
   "cell_type": "code",
   "execution_count": 53,
   "id": "c23e96fa-253f-4612-a582-c33f5821ff81",
   "metadata": {},
   "outputs": [
    {
     "data": {
      "text/plain": [
       "91"
      ]
     },
     "execution_count": 53,
     "metadata": {},
     "output_type": "execute_result"
    }
   ],
   "source": [
    "sumof(cube, 3, 4)"
   ]
  },
  {
   "cell_type": "code",
   "execution_count": 54,
   "id": "88cde17b-9ebd-4db2-b860-bbfbeb72de26",
   "metadata": {},
   "outputs": [
    {
     "data": {
      "text/plain": [
       "11"
      ]
     },
     "execution_count": 54,
     "metadata": {},
     "output_type": "execute_result"
    }
   ],
   "source": [
    "sumof(len, \"hello\", \"python\")"
   ]
  },
  {
   "cell_type": "markdown",
   "id": "67c1f2e2-3c2e-4656-a10d-e60f7524277f",
   "metadata": {},
   "source": [
    "It is not uncommon to pass functions to arguments to other functions in Python."
   ]
  },
  {
   "cell_type": "code",
   "execution_count": 55,
   "id": "4a61e29a-0810-4230-931d-7c01a93b9000",
   "metadata": {},
   "outputs": [],
   "source": [
    "numbers = [\"one\", \"two\", \"three\", \"four\", \"five\"]"
   ]
  },
  {
   "cell_type": "code",
   "execution_count": 56,
   "id": "10b6092a-887e-4fc5-902a-f6e88836f7ec",
   "metadata": {},
   "outputs": [
    {
     "data": {
      "text/plain": [
       "'two'"
      ]
     },
     "execution_count": 56,
     "metadata": {},
     "output_type": "execute_result"
    }
   ],
   "source": [
    "max(numbers)"
   ]
  },
  {
   "cell_type": "code",
   "execution_count": 57,
   "id": "df9a9d65-eef6-40ab-81a8-26b3dd3c7717",
   "metadata": {},
   "outputs": [
    {
     "data": {
      "text/plain": [
       "'three'"
      ]
     },
     "execution_count": 57,
     "metadata": {},
     "output_type": "execute_result"
    }
   ],
   "source": [
    "max(numbers, key=len)"
   ]
  },
  {
   "cell_type": "code",
   "execution_count": 58,
   "id": "1bc74496-158c-4615-9167-9097f27a9657",
   "metadata": {},
   "outputs": [],
   "source": [
    "def mylen(x):\n",
    "    print(\"mylen\", x)\n",
    "    return len(x)"
   ]
  },
  {
   "cell_type": "code",
   "execution_count": 59,
   "id": "be7baf1d-6bff-4c5b-9828-6b21639c3411",
   "metadata": {},
   "outputs": [
    {
     "name": "stdout",
     "output_type": "stream",
     "text": [
      "mylen one\n",
      "mylen two\n",
      "mylen three\n",
      "mylen four\n",
      "mylen five\n"
     ]
    },
    {
     "data": {
      "text/plain": [
       "'three'"
      ]
     },
     "execution_count": 59,
     "metadata": {},
     "output_type": "execute_result"
    }
   ],
   "source": [
    "max(numbers, key=mylen)"
   ]
  },
  {
   "cell_type": "markdown",
   "id": "ca7d01be-7ad2-47da-9bbb-476518260e07",
   "metadata": {},
   "source": [
    "### Methods"
   ]
  },
  {
   "cell_type": "markdown",
   "id": "f8850885-81d8-40d5-bd44-6318f8d2a189",
   "metadata": {},
   "source": [
    "Methods are special kind of objects that work on an object."
   ]
  },
  {
   "cell_type": "code",
   "execution_count": 60,
   "id": "262a3c85-e4c2-4c9d-bb98-209e83a7044d",
   "metadata": {},
   "outputs": [],
   "source": [
    "x = \"Hello\""
   ]
  },
  {
   "cell_type": "code",
   "execution_count": 61,
   "id": "94fe0454-e829-4f2e-8839-7b0ef5dec862",
   "metadata": {},
   "outputs": [
    {
     "data": {
      "text/plain": [
       "5"
      ]
     },
     "execution_count": 61,
     "metadata": {},
     "output_type": "execute_result"
    }
   ],
   "source": [
    "len(x)"
   ]
  },
  {
   "cell_type": "code",
   "execution_count": 62,
   "id": "c906a861-0f65-46d4-a699-10fdd5533154",
   "metadata": {},
   "outputs": [
    {
     "data": {
      "text/plain": [
       "'HELLO'"
      ]
     },
     "execution_count": 62,
     "metadata": {},
     "output_type": "execute_result"
    }
   ],
   "source": [
    "x.upper()"
   ]
  },
  {
   "cell_type": "code",
   "execution_count": 63,
   "id": "bf7e0103-a405-4b40-b2eb-fa7c1342246d",
   "metadata": {},
   "outputs": [
    {
     "data": {
      "text/plain": [
       "str"
      ]
     },
     "execution_count": 63,
     "metadata": {},
     "output_type": "execute_result"
    }
   ],
   "source": [
    "type(x)"
   ]
  },
  {
   "cell_type": "code",
   "execution_count": 64,
   "id": "85e091fb-0f36-49c5-9f6f-9d7eb16f87dd",
   "metadata": {},
   "outputs": [
    {
     "ename": "AttributeError",
     "evalue": "'int' object has no attribute 'upper'",
     "output_type": "error",
     "traceback": [
      "\u001b[0;31m---------------------------------------------------------------------------\u001b[0m",
      "\u001b[0;31mAttributeError\u001b[0m                            Traceback (most recent call last)",
      "Cell \u001b[0;32mIn[64], line 3\u001b[0m\n\u001b[1;32m      1\u001b[0m \u001b[38;5;66;03m# doesn't work\u001b[39;00m\n\u001b[1;32m      2\u001b[0m n \u001b[38;5;241m=\u001b[39m \u001b[38;5;241m1\u001b[39m\n\u001b[0;32m----> 3\u001b[0m \u001b[43mn\u001b[49m\u001b[38;5;241;43m.\u001b[39;49m\u001b[43mupper\u001b[49m()\n",
      "\u001b[0;31mAttributeError\u001b[0m: 'int' object has no attribute 'upper'"
     ]
    }
   ],
   "source": [
    "# doesn't work\n",
    "n = 1\n",
    "n.upper()"
   ]
  },
  {
   "cell_type": "markdown",
   "id": "05199c1f-37c9-49cb-b6f1-879af7845a6f",
   "metadata": {},
   "source": [
    "Methods could also take arguments."
   ]
  },
  {
   "cell_type": "code",
   "execution_count": 65,
   "id": "9a39354f-4066-4f38-961a-87a0f297c882",
   "metadata": {},
   "outputs": [
    {
     "data": {
      "text/plain": [
       "2"
      ]
     },
     "execution_count": 65,
     "metadata": {},
     "output_type": "execute_result"
    }
   ],
   "source": [
    "\"mathematics\".count(\"mat\")"
   ]
  },
  {
   "cell_type": "code",
   "execution_count": 66,
   "id": "7b12fad8-9a93-4cf3-a84a-0a9c6b193bd0",
   "metadata": {},
   "outputs": [
    {
     "data": {
      "text/plain": [
       "'ratheratics'"
      ]
     },
     "execution_count": 66,
     "metadata": {},
     "output_type": "execute_result"
    }
   ],
   "source": [
    "\"mathematics\".replace(\"mat\", \"rat\")"
   ]
  },
  {
   "cell_type": "markdown",
   "id": "3f4d3585-2df4-4ca2-9461-4f490c060c51",
   "metadata": {},
   "source": [
    "#### Splitting and Joining Strings"
   ]
  },
  {
   "cell_type": "code",
   "execution_count": 67,
   "id": "5c018bf3-0bb2-4273-8179-b3ee4a811def",
   "metadata": {},
   "outputs": [],
   "source": [
    "sentence = \"Anything that can go wrong, will go wrong.\""
   ]
  },
  {
   "cell_type": "code",
   "execution_count": 68,
   "id": "62026542-87f7-4282-abef-968234c04c61",
   "metadata": {},
   "outputs": [
    {
     "data": {
      "text/plain": [
       "['Anything', 'that', 'can', 'go', 'wrong,', 'will', 'go', 'wrong.']"
      ]
     },
     "execution_count": 68,
     "metadata": {},
     "output_type": "execute_result"
    }
   ],
   "source": [
    "sentence.split()"
   ]
  },
  {
   "cell_type": "code",
   "execution_count": 69,
   "id": "613f787a-1a4f-4b24-aa5c-af6c71dad3ed",
   "metadata": {},
   "outputs": [
    {
     "data": {
      "text/plain": [
       "8"
      ]
     },
     "execution_count": 69,
     "metadata": {},
     "output_type": "execute_result"
    }
   ],
   "source": [
    "len(sentence.split())"
   ]
  },
  {
   "cell_type": "code",
   "execution_count": 70,
   "id": "f83c27ab-093a-4355-9885-39829346ebe0",
   "metadata": {},
   "outputs": [],
   "source": [
    "def wordcount(sentence):\n",
    "    return len(sentence.split())"
   ]
  },
  {
   "cell_type": "code",
   "execution_count": 71,
   "id": "c073224b-bc1a-4a90-a58d-2996619f11c4",
   "metadata": {},
   "outputs": [
    {
     "data": {
      "text/plain": [
       "8"
      ]
     },
     "execution_count": 71,
     "metadata": {},
     "output_type": "execute_result"
    }
   ],
   "source": [
    "wordcount(sentence)"
   ]
  },
  {
   "cell_type": "code",
   "execution_count": 72,
   "id": "7406dabd-909f-40ed-93d9-fc4e2f7638df",
   "metadata": {},
   "outputs": [],
   "source": [
    "sentences = [\n",
    "    sentence,\n",
    "    \"one two three\",\n",
    "    \"one two three four five\",\n",
    "    \"1 2 3 4 5 6 7 8 9 10\"\n",
    "]"
   ]
  },
  {
   "cell_type": "markdown",
   "id": "6c68f7ce-a831-4052-859a-bdc382963fa4",
   "metadata": {},
   "source": [
    "Which sentence has the most number of words?"
   ]
  },
  {
   "cell_type": "code",
   "execution_count": 74,
   "id": "c4fc5c05-2ccd-4967-9292-0ab898d17e34",
   "metadata": {},
   "outputs": [
    {
     "data": {
      "text/plain": [
       "'1 2 3 4 5 6 7 8 9 10'"
      ]
     },
     "execution_count": 74,
     "metadata": {},
     "output_type": "execute_result"
    }
   ],
   "source": [
    "max(sentences, key=wordcount)"
   ]
  },
  {
   "cell_type": "markdown",
   "id": "d155318c-bcf0-4a9a-b0a9-dbe7f1a9e6a0",
   "metadata": {},
   "source": [
    "The `split` method also supports optional delimiter."
   ]
  },
  {
   "cell_type": "code",
   "execution_count": 75,
   "id": "e0a39b36-3c32-49e2-bb10-51a6c9f891e5",
   "metadata": {},
   "outputs": [
    {
     "data": {
      "text/plain": [
       "'Anything that can go wrong, will go wrong.'"
      ]
     },
     "execution_count": 75,
     "metadata": {},
     "output_type": "execute_result"
    }
   ],
   "source": [
    "sentence"
   ]
  },
  {
   "cell_type": "code",
   "execution_count": 76,
   "id": "eef34a90-8661-49e7-b1fa-ac9a04f2804b",
   "metadata": {},
   "outputs": [
    {
     "data": {
      "text/plain": [
       "['Anything that can go wrong', ' will go wrong.']"
      ]
     },
     "execution_count": 76,
     "metadata": {},
     "output_type": "execute_result"
    }
   ],
   "source": [
    "sentence.split(\",\")"
   ]
  },
  {
   "cell_type": "code",
   "execution_count": 78,
   "id": "40e7b753-aafe-4ab5-a35f-ab66b17bad18",
   "metadata": {},
   "outputs": [
    {
     "data": {
      "text/plain": [
       "['Anything that can ', ' wrong, will ', ' wrong.']"
      ]
     },
     "execution_count": 78,
     "metadata": {},
     "output_type": "execute_result"
    }
   ],
   "source": [
    "sentence.split(\"go\")"
   ]
  },
  {
   "cell_type": "markdown",
   "id": "ba1d938d-8e7b-4031-81e7-f79eff379cf8",
   "metadata": {},
   "source": [
    "Let's see how to join back."
   ]
  },
  {
   "cell_type": "code",
   "execution_count": 79,
   "id": "b4938613-445d-4575-a9bf-6cd52ddb7894",
   "metadata": {},
   "outputs": [],
   "source": [
    "sep = \"-\""
   ]
  },
  {
   "cell_type": "code",
   "execution_count": 80,
   "id": "2ad2e9e7-1769-4d98-b444-8d950c19c916",
   "metadata": {},
   "outputs": [
    {
     "data": {
      "text/plain": [
       "'one-two-three'"
      ]
     },
     "execution_count": 80,
     "metadata": {},
     "output_type": "execute_result"
    }
   ],
   "source": [
    "sep.join([\"one\", \"two\", \"three\"])"
   ]
  },
  {
   "cell_type": "markdown",
   "id": "91020686-b5d6-49b1-8b58-320d579f98b6",
   "metadata": {},
   "source": [
    "Another useful method on strings is `strip`."
   ]
  },
  {
   "cell_type": "code",
   "execution_count": 81,
   "id": "b1c7ef65-a8ec-4f14-995f-94e12cd34876",
   "metadata": {},
   "outputs": [],
   "source": [
    "line = \"a b c\\n\""
   ]
  },
  {
   "cell_type": "code",
   "execution_count": 82,
   "id": "40941c09-4826-4e42-9f62-3128e2d27173",
   "metadata": {},
   "outputs": [
    {
     "data": {
      "text/plain": [
       "'a b c'"
      ]
     },
     "execution_count": 82,
     "metadata": {},
     "output_type": "execute_result"
    }
   ],
   "source": [
    "line.strip(\"\\n\")"
   ]
  },
  {
   "cell_type": "code",
   "execution_count": 83,
   "id": "9d08793b-fab5-44c2-bfe4-16e3d018914d",
   "metadata": {},
   "outputs": [],
   "source": [
    "name = \"  python \""
   ]
  },
  {
   "cell_type": "code",
   "execution_count": 84,
   "id": "9a4e8785-f68a-4491-abdc-ca157c8931be",
   "metadata": {},
   "outputs": [
    {
     "data": {
      "text/plain": [
       "'python'"
      ]
     },
     "execution_count": 84,
     "metadata": {},
     "output_type": "execute_result"
    }
   ],
   "source": [
    "name.strip() # remove all whitespace"
   ]
  },
  {
   "cell_type": "markdown",
   "id": "722531e1-6180-4f1a-b69b-e97fadc82dfa",
   "metadata": {},
   "source": [
    "### Reading Files"
   ]
  },
  {
   "cell_type": "code",
   "execution_count": 85,
   "id": "8058b4f7-b1ee-4fe1-a790-ffcab0f4a8f6",
   "metadata": {},
   "outputs": [
    {
     "name": "stdout",
     "output_type": "stream",
     "text": [
      "add.py\targs.py  day1.ipynb  echo.py  ls.py  sq.py\n"
     ]
    }
   ],
   "source": [
    "!ls"
   ]
  },
  {
   "cell_type": "code",
   "execution_count": 86,
   "id": "1edb1433-cecc-4839-a44a-7cb70ada099d",
   "metadata": {},
   "outputs": [
    {
     "name": "stdout",
     "output_type": "stream",
     "text": [
      "Writing three.txt\n"
     ]
    }
   ],
   "source": [
    "%%file three.txt\n",
    "one\n",
    "two\n",
    "three"
   ]
  },
  {
   "cell_type": "code",
   "execution_count": 87,
   "id": "617cab5a-e68d-4244-9282-d45c4575265f",
   "metadata": {},
   "outputs": [
    {
     "data": {
      "text/plain": [
       "'one\\ntwo\\nthree\\n'"
      ]
     },
     "execution_count": 87,
     "metadata": {},
     "output_type": "execute_result"
    }
   ],
   "source": [
    "open(\"three.txt\").read()"
   ]
  },
  {
   "cell_type": "code",
   "execution_count": 88,
   "id": "abc1606e-0acc-482e-827c-de4848487e18",
   "metadata": {},
   "outputs": [
    {
     "data": {
      "text/plain": [
       "['one\\n', 'two\\n', 'three\\n']"
      ]
     },
     "execution_count": 88,
     "metadata": {},
     "output_type": "execute_result"
    }
   ],
   "source": [
    "open(\"three.txt\").readlines()"
   ]
  },
  {
   "cell_type": "code",
   "execution_count": 89,
   "id": "bc40409e-c773-4af6-b5f7-437d7a51f9e4",
   "metadata": {},
   "outputs": [],
   "source": [
    "f = open(\"three.txt\")"
   ]
  },
  {
   "cell_type": "code",
   "execution_count": 90,
   "id": "5a74ae8b-677d-4ad9-8812-b147a0ee2284",
   "metadata": {},
   "outputs": [
    {
     "data": {
      "text/plain": [
       "<_io.TextIOWrapper name='three.txt' mode='r' encoding='UTF-8'>"
      ]
     },
     "execution_count": 90,
     "metadata": {},
     "output_type": "execute_result"
    }
   ],
   "source": [
    "f"
   ]
  },
  {
   "cell_type": "code",
   "execution_count": 91,
   "id": "6b4ec89c-5420-4e39-93aa-ad060c94cfc0",
   "metadata": {},
   "outputs": [
    {
     "data": {
      "text/plain": [
       "'one\\ntwo\\nthree\\n'"
      ]
     },
     "execution_count": 91,
     "metadata": {},
     "output_type": "execute_result"
    }
   ],
   "source": [
    "f.read()"
   ]
  },
  {
   "cell_type": "code",
   "execution_count": 92,
   "id": "d41d4a43-eb75-41fa-8aba-6cf6629bc2bc",
   "metadata": {},
   "outputs": [
    {
     "data": {
      "text/plain": [
       "''"
      ]
     },
     "execution_count": 92,
     "metadata": {},
     "output_type": "execute_result"
    }
   ],
   "source": [
    "f.read()"
   ]
  },
  {
   "cell_type": "code",
   "execution_count": 93,
   "id": "b78aff41-03cb-4400-b3a7-2275f6100d23",
   "metadata": {},
   "outputs": [],
   "source": [
    "contents = open(\"three.txt\").read()"
   ]
  },
  {
   "cell_type": "code",
   "execution_count": 94,
   "id": "29fc9ec6-00a0-4ddf-9f14-76bcfd330c2b",
   "metadata": {},
   "outputs": [
    {
     "data": {
      "text/plain": [
       "'one\\ntwo\\nthree\\n'"
      ]
     },
     "execution_count": 94,
     "metadata": {},
     "output_type": "execute_result"
    }
   ],
   "source": [
    "contents"
   ]
  },
  {
   "cell_type": "code",
   "execution_count": 95,
   "id": "eabbfc10-d1f8-4fa4-874b-b5ae6fe78f1b",
   "metadata": {},
   "outputs": [
    {
     "name": "stdout",
     "output_type": "stream",
     "text": [
      "one\n",
      "two\n",
      "three\n",
      "\n"
     ]
    }
   ],
   "source": [
    "print(contents)"
   ]
  },
  {
   "cell_type": "code",
   "execution_count": 96,
   "id": "68f72779-8160-4cd9-b0db-25735cc5d9f4",
   "metadata": {},
   "outputs": [],
   "source": [
    "lines = open(\"three.txt\").readlines()"
   ]
  },
  {
   "cell_type": "code",
   "execution_count": 97,
   "id": "6fceef80-3a96-48a3-a7e6-f341d4178c04",
   "metadata": {},
   "outputs": [
    {
     "data": {
      "text/plain": [
       "['one\\n', 'two\\n', 'three\\n']"
      ]
     },
     "execution_count": 97,
     "metadata": {},
     "output_type": "execute_result"
    }
   ],
   "source": [
    "lines"
   ]
  },
  {
   "cell_type": "code",
   "execution_count": 98,
   "id": "3b642759-bc9c-4c87-9e01-aa0da707fed5",
   "metadata": {},
   "outputs": [
    {
     "name": "stdout",
     "output_type": "stream",
     "text": [
      "one\n",
      "\n",
      "two\n",
      "\n",
      "three\n",
      "\n"
     ]
    }
   ],
   "source": [
    "for line in lines:\n",
    "    print(line)"
   ]
  },
  {
   "cell_type": "code",
   "execution_count": 99,
   "id": "b4f03788-df05-41bf-ae4e-e5a09f510398",
   "metadata": {},
   "outputs": [
    {
     "name": "stdout",
     "output_type": "stream",
     "text": [
      "one\n",
      "two\n",
      "three\n"
     ]
    }
   ],
   "source": [
    "for line in lines:\n",
    "    print(line, end=\"\")"
   ]
  },
  {
   "cell_type": "code",
   "execution_count": 100,
   "id": "5eaa59e1-465c-4b87-addf-c2af9ca1cca6",
   "metadata": {},
   "outputs": [
    {
     "name": "stdout",
     "output_type": "stream",
     "text": [
      "01234"
     ]
    }
   ],
   "source": [
    "for i in range(5):\n",
    "    print(i, end=\"\")"
   ]
  },
  {
   "cell_type": "code",
   "execution_count": 101,
   "id": "6cbfc432-f339-47dc-9fcb-76c00bba3ada",
   "metadata": {},
   "outputs": [
    {
     "name": "stdout",
     "output_type": "stream",
     "text": [
      "0:1:2:3:4:"
     ]
    }
   ],
   "source": [
    "for i in range(5):\n",
    "    print(i, end=\":\")"
   ]
  },
  {
   "cell_type": "code",
   "execution_count": 102,
   "id": "20ee296d-83a7-4cab-8dc8-2490d362873d",
   "metadata": {},
   "outputs": [
    {
     "name": "stdout",
     "output_type": "stream",
     "text": [
      "one\n",
      "two\n",
      "three\n"
     ]
    }
   ],
   "source": [
    "for line in lines:\n",
    "    print(line.strip(\"\\n\"))"
   ]
  },
  {
   "cell_type": "code",
   "execution_count": 103,
   "id": "11dd5c17-8747-4843-8be6-d589e33077ba",
   "metadata": {},
   "outputs": [
    {
     "name": "stdout",
     "output_type": "stream",
     "text": [
      "Writing sentences.txt\n"
     ]
    }
   ],
   "source": [
    "%%file sentences.txt\n",
    "one two three four five six\n",
    "everything that can go wrong, will go wrong.\n",
    "a b c d e f g h i j k l m n"
   ]
  },
  {
   "cell_type": "markdown",
   "id": "3af55c67-d74d-4190-a56a-4328db0c1266",
   "metadata": {},
   "source": [
    "Write a function `line_with_most_words` that takes a filename as an argument and returns the line in it which has most words."
   ]
  },
  {
   "cell_type": "code",
   "execution_count": null,
   "id": "718518c4-f887-4cf4-b514-fc41db883c77",
   "metadata": {},
   "outputs": [],
   "source": []
  },
  {
   "cell_type": "markdown",
   "id": "56c35d9f-c35d-488d-bb4b-e840004d68f7",
   "metadata": {},
   "source": [
    "## Assignment 01"
   ]
  },
  {
   "cell_type": "markdown",
   "id": "733f26aa-fd90-48b6-8306-83fc53669eb2",
   "metadata": {},
   "source": [
    "Problem 5 requires reversing a list. You can reverse a list using the following ways."
   ]
  },
  {
   "cell_type": "code",
   "execution_count": 105,
   "id": "f853d902-635b-47e3-bd3b-f4ab5fc7876f",
   "metadata": {},
   "outputs": [],
   "source": [
    "names = [\"Alice\", \"Bob\", \"Charlie\", \"Dave\"]"
   ]
  },
  {
   "cell_type": "markdown",
   "id": "91c87bd0-3b56-4d96-bbee-6d56d79f4097",
   "metadata": {},
   "source": [
    "You can use list slicing to reverse a list."
   ]
  },
  {
   "cell_type": "code",
   "execution_count": 106,
   "id": "aee8334f-0a6e-4897-beb4-774addaf2d60",
   "metadata": {},
   "outputs": [
    {
     "data": {
      "text/plain": [
       "['Dave', 'Charlie', 'Bob', 'Alice']"
      ]
     },
     "execution_count": 106,
     "metadata": {},
     "output_type": "execute_result"
    }
   ],
   "source": [
    "names[::-1]"
   ]
  },
  {
   "cell_type": "markdown",
   "id": "3677ff7d-68e9-4b1c-b1ff-fbad56fd0637",
   "metadata": {},
   "source": [
    "Adding `[::-1]` returns a new list in the reverse order."
   ]
  },
  {
   "cell_type": "markdown",
   "id": "975abced-a0df-4730-b347-289ec5b2ed41",
   "metadata": {},
   "source": [
    "You can also use the built-in `reversed`, which gives an iterator (not a list), which you can use in a for loop."
   ]
  },
  {
   "cell_type": "code",
   "execution_count": 107,
   "id": "d9b48647-0691-49b4-ae3e-a3444748d751",
   "metadata": {},
   "outputs": [
    {
     "name": "stdout",
     "output_type": "stream",
     "text": [
      "Dave\n",
      "Charlie\n",
      "Bob\n",
      "Alice\n"
     ]
    }
   ],
   "source": [
    "for name in reversed(names):\n",
    "    print(name)"
   ]
  },
  {
   "cell_type": "markdown",
   "id": "977c298a-b8e2-47a6-8e65-2fa0d8c3e648",
   "metadata": {},
   "source": [
    "If you want a list, then you can use it along with the built-in function `list`."
   ]
  },
  {
   "cell_type": "code",
   "execution_count": 108,
   "id": "1e542a5d-8805-4c33-ae52-0f898518da39",
   "metadata": {},
   "outputs": [
    {
     "data": {
      "text/plain": [
       "['Dave', 'Charlie', 'Bob', 'Alice']"
      ]
     },
     "execution_count": 108,
     "metadata": {},
     "output_type": "execute_result"
    }
   ],
   "source": [
    "list(reversed(names))"
   ]
  },
  {
   "cell_type": "code",
   "execution_count": null,
   "id": "95216754-c349-4d55-893b-3cbfbfd48558",
   "metadata": {},
   "outputs": [],
   "source": []
  },
  {
   "cell_type": "markdown",
   "id": "182692e6-35c9-4ee8-aee5-274b8ff8b315",
   "metadata": {},
   "source": [
    "Please add a new problem at the end of the notebook to compensate for the duplicate problem.\n",
    "\n",
    "Please add the following line at the end of your notebook."
   ]
  },
  {
   "cell_type": "code",
   "execution_count": null,
   "id": "dcfa3600-0e48-409e-ac0c-2f74f1bc6c34",
   "metadata": {},
   "outputs": [],
   "source": [
    "%load_problem line-with-most-words"
   ]
  }
 ],
 "metadata": {
  "kernelspec": {
   "display_name": "Python 3 (ipykernel)",
   "language": "python",
   "name": "python3"
  },
  "language_info": {
   "codemirror_mode": {
    "name": "ipython",
    "version": 3
   },
   "file_extension": ".py",
   "mimetype": "text/x-python",
   "name": "python",
   "nbconvert_exporter": "python",
   "pygments_lexer": "ipython3",
   "version": "3.10.14"
  }
 },
 "nbformat": 4,
 "nbformat_minor": 5
}
