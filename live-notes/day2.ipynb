{
 "cells": [
  {
   "cell_type": "markdown",
   "id": "20706e22-287b-4758-830e-81efd7aed9c5",
   "metadata": {},
   "source": [
    "# Day 2"
   ]
  },
  {
   "cell_type": "markdown",
   "id": "f577f6ef-8578-494a-b7f2-e64243701f81",
   "metadata": {},
   "source": [
    "## Topics"
   ]
  },
  {
   "cell_type": "markdown",
   "id": "9d5b3912-1dd8-44df-b314-d589c27ea08c",
   "metadata": {},
   "source": [
    "* If statement\n",
    "* Lists, List Comprehensions & Iteration Patterns\n",
    "* Dictionaries\n",
    "* Working with Files\n",
    "* Writing Command-line Applications\n",
    "* Regular Expressions"
   ]
  },
  {
   "cell_type": "markdown",
   "id": "bdb8b4ff-f76e-4203-a37b-3100d769a7fb",
   "metadata": {},
   "source": [
    "## Conditional Expressions & If Statement"
   ]
  },
  {
   "cell_type": "code",
   "execution_count": 1,
   "id": "5643b1e3-4aea-4ee8-bdf9-d9e06448bd0c",
   "metadata": {},
   "outputs": [],
   "source": [
    "marks = 75"
   ]
  },
  {
   "cell_type": "code",
   "execution_count": 3,
   "id": "c5aca385-d715-4e53-a538-dd66e17a03e6",
   "metadata": {},
   "outputs": [
    {
     "data": {
      "text/plain": [
       "True"
      ]
     },
     "execution_count": 3,
     "metadata": {},
     "output_type": "execute_result"
    }
   ],
   "source": [
    "marks > 35"
   ]
  },
  {
   "cell_type": "code",
   "execution_count": 4,
   "id": "3a35cb6b-c7de-4718-9468-f5d6a05c245a",
   "metadata": {},
   "outputs": [],
   "source": [
    "filename = \"hello.py\""
   ]
  },
  {
   "cell_type": "code",
   "execution_count": 5,
   "id": "b74b4d29-806c-469c-8c7b-d92fb8ab40e2",
   "metadata": {},
   "outputs": [
    {
     "data": {
      "text/plain": [
       "True"
      ]
     },
     "execution_count": 5,
     "metadata": {},
     "output_type": "execute_result"
    }
   ],
   "source": [
    "filename.endswith(\".py\")"
   ]
  },
  {
   "cell_type": "code",
   "execution_count": 6,
   "id": "375997ad-d1fa-4280-b5f0-17a85a7d5a05",
   "metadata": {},
   "outputs": [
    {
     "data": {
      "text/plain": [
       "True"
      ]
     },
     "execution_count": 6,
     "metadata": {},
     "output_type": "execute_result"
    }
   ],
   "source": [
    "\"lo\" in filename"
   ]
  },
  {
   "cell_type": "code",
   "execution_count": 7,
   "id": "fb02a833-0e76-4aa5-a2cf-d6b7178fee6e",
   "metadata": {},
   "outputs": [
    {
     "data": {
      "text/plain": [
       "False"
      ]
     },
     "execution_count": 7,
     "metadata": {},
     "output_type": "execute_result"
    }
   ],
   "source": [
    "\"lo\" not in filename"
   ]
  },
  {
   "cell_type": "code",
   "execution_count": 8,
   "id": "392cce3a-227e-4a63-a410-c15c35f983d2",
   "metadata": {},
   "outputs": [],
   "source": [
    "def get_ext(filename):\n",
    "    if \".\" in filename:\n",
    "        return filename.split(\".\")[1]\n",
    "    else:\n",
    "        return None"
   ]
  },
  {
   "cell_type": "code",
   "execution_count": 9,
   "id": "5d8e7a80-98fa-4b22-ae34-395e582afa0e",
   "metadata": {},
   "outputs": [
    {
     "data": {
      "text/plain": [
       "True"
      ]
     },
     "execution_count": 9,
     "metadata": {},
     "output_type": "execute_result"
    }
   ],
   "source": [
    "\"a\" in [\"a\", \"b\", \"c\", \"d\"]"
   ]
  },
  {
   "cell_type": "markdown",
   "id": "b43856f5-3cc6-418c-b99f-582bb1f0eb7b",
   "metadata": {},
   "source": [
    "Let's write a function `is_vowel` to check if a character is vowel."
   ]
  },
  {
   "cell_type": "code",
   "execution_count": 10,
   "id": "90883dfe-da39-478c-9c29-7bb177a1eb2e",
   "metadata": {},
   "outputs": [],
   "source": [
    "def is_vowel(c):\n",
    "    vowels = ['a', 'e', 'i', 'o', 'u']\n",
    "    return c in vowels"
   ]
  },
  {
   "cell_type": "code",
   "execution_count": 11,
   "id": "8c3b60e9-d831-43bb-982c-5fdfc5423cbf",
   "metadata": {},
   "outputs": [
    {
     "data": {
      "text/plain": [
       "True"
      ]
     },
     "execution_count": 11,
     "metadata": {},
     "output_type": "execute_result"
    }
   ],
   "source": [
    "is_vowel('a')"
   ]
  },
  {
   "cell_type": "code",
   "execution_count": 12,
   "id": "a8e94b30-42ca-4f86-83a8-15a357c1070b",
   "metadata": {},
   "outputs": [
    {
     "data": {
      "text/plain": [
       "False"
      ]
     },
     "execution_count": 12,
     "metadata": {},
     "output_type": "execute_result"
    }
   ],
   "source": [
    "is_vowel('x')"
   ]
  },
  {
   "cell_type": "markdown",
   "id": "697ecf46-dbfd-41ed-885e-6ace11d505f2",
   "metadata": {},
   "source": [
    "### Combining Conditional Expressions"
   ]
  },
  {
   "cell_type": "markdown",
   "id": "bd665161-3242-47e1-99ab-839cce9bd50b",
   "metadata": {},
   "source": [
    "#### `not`"
   ]
  },
  {
   "cell_type": "code",
   "execution_count": 13,
   "id": "2b37d444-5b57-477f-994a-cca7cd2521a4",
   "metadata": {},
   "outputs": [],
   "source": [
    "filename = \"hello.py\""
   ]
  },
  {
   "cell_type": "code",
   "execution_count": 14,
   "id": "1237a4f8-0aa8-42de-98ca-4744accbc9ac",
   "metadata": {},
   "outputs": [
    {
     "data": {
      "text/plain": [
       "True"
      ]
     },
     "execution_count": 14,
     "metadata": {},
     "output_type": "execute_result"
    }
   ],
   "source": [
    "filename.endswith(\".py\")"
   ]
  },
  {
   "cell_type": "code",
   "execution_count": 15,
   "id": "103d2918-789f-4df3-8f58-7a27175905ff",
   "metadata": {},
   "outputs": [
    {
     "data": {
      "text/plain": [
       "False"
      ]
     },
     "execution_count": 15,
     "metadata": {},
     "output_type": "execute_result"
    }
   ],
   "source": [
    "not filename.endswith(\".py\")"
   ]
  },
  {
   "cell_type": "code",
   "execution_count": 16,
   "id": "7d7872c5-4005-4dd4-80b6-4d77a53729b7",
   "metadata": {},
   "outputs": [
    {
     "data": {
      "text/plain": [
       "True"
      ]
     },
     "execution_count": 16,
     "metadata": {},
     "output_type": "execute_result"
    }
   ],
   "source": [
    "\"hell\" in filename"
   ]
  },
  {
   "cell_type": "code",
   "execution_count": 17,
   "id": "25dd7568-cc42-46ad-8372-544f3c09c402",
   "metadata": {},
   "outputs": [
    {
     "data": {
      "text/plain": [
       "False"
      ]
     },
     "execution_count": 17,
     "metadata": {},
     "output_type": "execute_result"
    }
   ],
   "source": [
    "\"hell\" not in filename"
   ]
  },
  {
   "cell_type": "markdown",
   "id": "69201368-45b9-4371-9a91-48aece14e23d",
   "metadata": {},
   "source": [
    "#### `and` and `or`"
   ]
  },
  {
   "cell_type": "code",
   "execution_count": 18,
   "id": "e8ca00eb-cf9f-4f92-91ca-cbd674dbb8c5",
   "metadata": {},
   "outputs": [
    {
     "data": {
      "text/plain": [
       "False"
      ]
     },
     "execution_count": 18,
     "metadata": {},
     "output_type": "execute_result"
    }
   ],
   "source": [
    "# make sure filename does not have \"..\" and ends with \".txt\"\n",
    "\"..\" not in filename and filename.endswith(\".txt\")"
   ]
  },
  {
   "cell_type": "markdown",
   "id": "a4784f9c-ef9c-49f5-aa5b-692e3aa82cf7",
   "metadata": {},
   "source": [
    "Please note that `and` and `or` are short circuit operators.\n",
    "\n",
    "In `a and b`, `b` is evaluated only if `a` is True.\n",
    "Similarly, in `a or b`, `b` is evaluated only if `a` is False."
   ]
  },
  {
   "cell_type": "code",
   "execution_count": 19,
   "id": "ff6dea40-a1d0-46f0-b61c-b135bf876a35",
   "metadata": {},
   "outputs": [
    {
     "data": {
      "text/plain": [
       "'hello.py'"
      ]
     },
     "execution_count": 19,
     "metadata": {},
     "output_type": "execute_result"
    }
   ],
   "source": [
    "filename"
   ]
  },
  {
   "cell_type": "code",
   "execution_count": 20,
   "id": "9e314d42-9ce3-462e-8357-7d93520085b4",
   "metadata": {},
   "outputs": [
    {
     "data": {
      "text/plain": [
       "False"
      ]
     },
     "execution_count": 20,
     "metadata": {},
     "output_type": "execute_result"
    }
   ],
   "source": [
    "# doom() is never called.\n",
    "filename.endswith(\".txt\") and doom()"
   ]
  },
  {
   "cell_type": "code",
   "execution_count": 21,
   "id": "70379772-7840-49cd-a556-b5380d3f8e2d",
   "metadata": {},
   "outputs": [
    {
     "ename": "SyntaxError",
     "evalue": "incomplete input (4004568105.py, line 2)",
     "output_type": "error",
     "traceback": [
      "\u001b[0;36m  Cell \u001b[0;32mIn[21], line 2\u001b[0;36m\u001b[0m\n\u001b[0;31m    filename.endswith(\".txt\") and doom(\u001b[0m\n\u001b[0m                                       ^\u001b[0m\n\u001b[0;31mSyntaxError\u001b[0m\u001b[0;31m:\u001b[0m incomplete input\n"
     ]
    }
   ],
   "source": [
    "# how about this?\n",
    "filename.endswith(\".txt\") and doom("
   ]
  },
  {
   "cell_type": "markdown",
   "id": "2c776360-2659-4729-bf48-3f42af7d1267",
   "metadata": {},
   "source": [
    "The values `0`, `\"\"`, `[]`, `{}` etc. are considered equivalant to False. Everything else is consider equivalant to True."
   ]
  },
  {
   "cell_type": "code",
   "execution_count": 24,
   "id": "0f7dd7da-5e8d-43fc-9887-efba88c0243d",
   "metadata": {},
   "outputs": [],
   "source": [
    "orders = [1, 2, 3]"
   ]
  },
  {
   "cell_type": "code",
   "execution_count": 25,
   "id": "6bf1d510-b903-4af5-a80d-0aefe748d99e",
   "metadata": {},
   "outputs": [
    {
     "name": "stdout",
     "output_type": "stream",
     "text": [
      "You have 3 orders\n"
     ]
    }
   ],
   "source": [
    "if orders:\n",
    "    print(\"You have\", len(orders), \"orders\")"
   ]
  },
  {
   "cell_type": "markdown",
   "id": "159ccd09-f01f-45de-b915-b1125448a512",
   "metadata": {},
   "source": [
    "### If Statement"
   ]
  },
  {
   "cell_type": "code",
   "execution_count": 26,
   "id": "a2e0b081-1918-45ce-acb7-41a6c162770c",
   "metadata": {},
   "outputs": [],
   "source": [
    "n = 25"
   ]
  },
  {
   "cell_type": "code",
   "execution_count": 27,
   "id": "3e4a0789-137b-49fa-8693-23c3b8dc10fd",
   "metadata": {},
   "outputs": [
    {
     "name": "stdout",
     "output_type": "stream",
     "text": [
      "odd\n"
     ]
    }
   ],
   "source": [
    "if n % 2 == 0:\n",
    "    print(\"even\")\n",
    "else:\n",
    "    print(\"odd\")"
   ]
  },
  {
   "cell_type": "code",
   "execution_count": 28,
   "id": "fa60dba0-b233-4118-adf2-4aa39f4d47e4",
   "metadata": {},
   "outputs": [],
   "source": [
    "n = 123"
   ]
  },
  {
   "cell_type": "code",
   "execution_count": 29,
   "id": "55315b0d-0cd4-4a9b-ad31-877ea8effeaf",
   "metadata": {},
   "outputs": [
    {
     "name": "stdout",
     "output_type": "stream",
     "text": [
      "123 is a big number\n"
     ]
    }
   ],
   "source": [
    "if n < 10:\n",
    "    print(n, \"is a single digit number\")\n",
    "elif n < 100:\n",
    "    print(n, \"is a two digit number\")\n",
    "else:\n",
    "    print(n, \"is a big number\")"
   ]
  },
  {
   "cell_type": "code",
   "execution_count": 30,
   "id": "03ba4c3a-10f0-49a0-ab97-4832df8428d7",
   "metadata": {},
   "outputs": [],
   "source": [
    "def check_number(n):\n",
    "    if n < 10:\n",
    "        print(n, \"is a single digit number\")\n",
    "    elif n < 100:\n",
    "        print(n, \"is a two digit number\")\n",
    "    else:\n",
    "        print(n, \"is a big number\")"
   ]
  },
  {
   "cell_type": "code",
   "execution_count": 31,
   "id": "c4d0caee-9a6f-4980-af44-9053dc7e0f9f",
   "metadata": {},
   "outputs": [
    {
     "name": "stdout",
     "output_type": "stream",
     "text": [
      "1 is a single digit number\n"
     ]
    }
   ],
   "source": [
    "check_number(1)"
   ]
  },
  {
   "cell_type": "code",
   "execution_count": 32,
   "id": "7487f68f-e3bd-4d59-9a3d-f12e893eab30",
   "metadata": {},
   "outputs": [
    {
     "name": "stdout",
     "output_type": "stream",
     "text": [
      "12 is a two digit number\n"
     ]
    }
   ],
   "source": [
    "check_number(12)"
   ]
  },
  {
   "cell_type": "code",
   "execution_count": 33,
   "id": "9a77d059-867b-45b2-b212-4c60f4737beb",
   "metadata": {},
   "outputs": [
    {
     "name": "stdout",
     "output_type": "stream",
     "text": [
      "123 is a big number\n"
     ]
    }
   ],
   "source": [
    "check_number(123)"
   ]
  },
  {
   "cell_type": "code",
   "execution_count": 35,
   "id": "f1a7a1a6-0497-4ec4-a4db-11f3a7b29613",
   "metadata": {},
   "outputs": [
    {
     "data": {
      "text/html": [
       "\n",
       "        <strong>Problem: Minimum of Two Numbers</strong>\n",
       "\n",
       "        <p><p>Write a function minimum that computes minimum of two numbers without using built-in function min or max.</p>\n",
       "<pre><code>&gt;&gt;&gt; minimum(3, 7)\n",
       "3\n",
       "&gt;&gt;&gt; minimum(33, 7)\n",
       "7\n",
       "&gt;&gt;&gt; 1 + minimum(3, 7)\n",
       "4\n",
       "&gt;&gt;&gt; 1 + minimum(3, 3)\n",
       "4\n",
       "</code></pre>\n",
       "        </p>\n",
       "\n",
       "        <p>You can verify your solution using:\n",
       "        <pre>%verify_problem minimum</pre>\n",
       "        </p>\n",
       "        "
      ],
      "text/plain": [
       "<Probem: minimum>"
      ]
     },
     "metadata": {},
     "output_type": "display_data"
    }
   ],
   "source": [
    "%load_problem minimum"
   ]
  },
  {
   "cell_type": "code",
   "execution_count": 37,
   "id": "5ecfb2b5-2362-41af-86ff-cbd65f4d8bdc",
   "metadata": {},
   "outputs": [],
   "source": [
    "# your code here\n",
    "def minimum(a, b):\n",
    "    if a < b:\n",
    "        return a\n",
    "    else:\n",
    "        return b\n",
    "\n"
   ]
  },
  {
   "cell_type": "code",
   "execution_count": 38,
   "id": "b215c04c-549c-4dec-8a72-a784d06c6069",
   "metadata": {},
   "outputs": [
    {
     "name": "stdout",
     "output_type": "stream",
     "text": [
      "✓ minimum(3, 7)\n",
      "✓ minimum(33, 7)\n",
      "✓ 1 + minimum(3, 7)\n",
      "✓ 1 + minimum(3, 3)\n",
      "🎉 Congratulations! You have successfully solved problem minimum!!\n"
     ]
    }
   ],
   "source": [
    "%verify_problem minimum"
   ]
  },
  {
   "cell_type": "code",
   "execution_count": null,
   "id": "71306f30-61a0-4ddf-a86d-80676dd6c999",
   "metadata": {},
   "outputs": [],
   "source": []
  },
  {
   "cell_type": "code",
   "execution_count": 36,
   "id": "78d32c10-c9af-4b64-8617-2bd696f16e23",
   "metadata": {},
   "outputs": [
    {
     "data": {
      "text/html": [
       "\n",
       "        <strong>Problem: Minimum of Three Numbers</strong>\n",
       "\n",
       "        <p><p>Write a function <code>minimum3</code> to compute the minimum of three numbers.</p>\n",
       "<p>You are not allowed to use any built-in functions in this implementation.</p>\n",
       "<pre><code class=\"language-python\">&gt;&gt;&gt; minimum3(1, 2, 3)\n",
       "1\n",
       "&gt;&gt;&gt; minimum3(3, 2, 1)\n",
       "1\n",
       "&gt;&gt;&gt; minimum3(1, 1, 1)\n",
       "1\n",
       "</code></pre>\n",
       "        </p>\n",
       "\n",
       "        <p>You can verify your solution using:\n",
       "        <pre>%verify_problem minimum3</pre>\n",
       "        </p>\n",
       "        "
      ],
      "text/plain": [
       "<Probem: minimum3>"
      ]
     },
     "metadata": {},
     "output_type": "display_data"
    }
   ],
   "source": [
    "%load_problem minimum3"
   ]
  },
  {
   "cell_type": "code",
   "execution_count": 41,
   "id": "fb349119-da9c-4374-b5a3-78df85ec1195",
   "metadata": {},
   "outputs": [],
   "source": [
    "def minimum3(a, b, c):\n",
    "    # ab = minimum(a, b)\n",
    "    # return minimum(ab, c)\n",
    "    return minimum(minimum(a, b), c)"
   ]
  },
  {
   "cell_type": "code",
   "execution_count": 42,
   "id": "d5498053-5af1-4f52-93e5-a9c1db6767f4",
   "metadata": {},
   "outputs": [
    {
     "name": "stdout",
     "output_type": "stream",
     "text": [
      "✓ minimum3(1, 2, 3)\n",
      "✓ minimum3(3, 2, 1)\n",
      "✓ minimum3(3, 1, 2)\n",
      "✓ minimum3(2, 1, 3)\n",
      "✓ minimum3(2, 3, 1)\n",
      "✓ minimum3(1, 1, 1)\n",
      "✓ 1 + minimum3(1, 1, 1)\n",
      "🎉 Congratulations! You have successfully solved problem minimum3!!\n"
     ]
    }
   ],
   "source": [
    "%verify_problem minimum3"
   ]
  },
  {
   "cell_type": "markdown",
   "id": "b305de95-9936-464e-958c-bfbd576ee376",
   "metadata": {},
   "source": [
    "## Lists"
   ]
  },
  {
   "cell_type": "code",
   "execution_count": 43,
   "id": "3a454dd0-16e1-4f3c-a399-b281d15a56b7",
   "metadata": {},
   "outputs": [],
   "source": [
    "x = ['a', 'b', 'c', 'd']"
   ]
  },
  {
   "cell_type": "code",
   "execution_count": 44,
   "id": "23b5e68e-6c36-4f34-aeb0-62b952f97c42",
   "metadata": {},
   "outputs": [
    {
     "data": {
      "text/plain": [
       "['a', 'b', 'c', 'd']"
      ]
     },
     "execution_count": 44,
     "metadata": {},
     "output_type": "execute_result"
    }
   ],
   "source": [
    "x"
   ]
  },
  {
   "cell_type": "code",
   "execution_count": 45,
   "id": "f2f365f9-7f72-46e8-b3d4-1eb446c8cbd9",
   "metadata": {},
   "outputs": [
    {
     "data": {
      "text/plain": [
       "4"
      ]
     },
     "execution_count": 45,
     "metadata": {},
     "output_type": "execute_result"
    }
   ],
   "source": [
    "len(x)"
   ]
  },
  {
   "cell_type": "code",
   "execution_count": 46,
   "id": "a7e50573-97ca-45d6-a93f-6ca5aaf22911",
   "metadata": {},
   "outputs": [
    {
     "data": {
      "text/plain": [
       "'a'"
      ]
     },
     "execution_count": 46,
     "metadata": {},
     "output_type": "execute_result"
    }
   ],
   "source": [
    "x[0]"
   ]
  },
  {
   "cell_type": "markdown",
   "id": "28dbe0e8-efbc-4b59-9cce-a9051125b64e",
   "metadata": {},
   "source": [
    "### For Loop"
   ]
  },
  {
   "cell_type": "code",
   "execution_count": 47,
   "id": "6adab190-339a-4f18-9cc1-717e6d52b54c",
   "metadata": {},
   "outputs": [],
   "source": [
    "names = [\"alice\", \"bob\", \"charlie\", \"dave\"]"
   ]
  },
  {
   "cell_type": "code",
   "execution_count": 48,
   "id": "1277d312-bef9-45e8-81e0-7fe3727e389a",
   "metadata": {},
   "outputs": [
    {
     "name": "stdout",
     "output_type": "stream",
     "text": [
      "Hello alice\n",
      "Hello bob\n",
      "Hello charlie\n",
      "Hello dave\n"
     ]
    }
   ],
   "source": [
    "for name in names:\n",
    "    print(\"Hello\", name)"
   ]
  },
  {
   "cell_type": "code",
   "execution_count": 49,
   "id": "947a32e4-a0f5-460d-8ea2-d87064d4da3e",
   "metadata": {},
   "outputs": [
    {
     "name": "stdout",
     "output_type": "stream",
     "text": [
      "1\n",
      "2\n",
      "3\n",
      "4\n",
      "5\n"
     ]
    }
   ],
   "source": [
    "for n in [1, 2, 3, 4, 5]:\n",
    "    print(n)"
   ]
  },
  {
   "cell_type": "markdown",
   "id": "5769d4de-802a-45de-b5ee-9747d003c28e",
   "metadata": {},
   "source": [
    "### range"
   ]
  },
  {
   "cell_type": "markdown",
   "id": "ff6ac2b8-b86b-43c9-b634-2c4e97ac0ffa",
   "metadata": {},
   "source": [
    "The built-in function `range` can be used to create a sequence of numbers."
   ]
  },
  {
   "cell_type": "code",
   "execution_count": 50,
   "id": "bd57e8c3-914d-4ac8-bc5d-666c7bf64948",
   "metadata": {},
   "outputs": [
    {
     "data": {
      "text/plain": [
       "range(0, 5)"
      ]
     },
     "execution_count": 50,
     "metadata": {},
     "output_type": "execute_result"
    }
   ],
   "source": [
    "range(5)"
   ]
  },
  {
   "cell_type": "code",
   "execution_count": 51,
   "id": "96c27bd9-1f90-45a1-b452-1c3f88bb89af",
   "metadata": {},
   "outputs": [
    {
     "name": "stdout",
     "output_type": "stream",
     "text": [
      "0\n",
      "1\n",
      "2\n",
      "3\n",
      "4\n"
     ]
    }
   ],
   "source": [
    "for i in range(5):\n",
    "    print(i)"
   ]
  },
  {
   "cell_type": "code",
   "execution_count": 52,
   "id": "18cccd0c-14a0-4e9a-b3fb-460b861c03a0",
   "metadata": {},
   "outputs": [
    {
     "data": {
      "text/plain": [
       "[0, 1, 2, 3, 4]"
      ]
     },
     "execution_count": 52,
     "metadata": {},
     "output_type": "execute_result"
    }
   ],
   "source": [
    "list(range(5))"
   ]
  },
  {
   "cell_type": "code",
   "execution_count": 56,
   "id": "02558db3-d7ad-4237-9ca7-d38a3cf453cd",
   "metadata": {},
   "outputs": [
    {
     "data": {
      "text/plain": [
       "[0, 1, 2, 3, 4]"
      ]
     },
     "execution_count": 56,
     "metadata": {},
     "output_type": "execute_result"
    }
   ],
   "source": [
    "list(range(5)) # numbers from 0 to 5 (end is not included)names"
   ]
  },
  {
   "cell_type": "code",
   "execution_count": 57,
   "id": "3fbd1e36-44bb-4b36-acdf-2de6800f618c",
   "metadata": {},
   "outputs": [
    {
     "data": {
      "text/plain": [
       "[2, 3, 4]"
      ]
     },
     "execution_count": 57,
     "metadata": {},
     "output_type": "execute_result"
    }
   ],
   "source": [
    "list(range(2, 5))"
   ]
  },
  {
   "cell_type": "code",
   "execution_count": 58,
   "id": "625fbf94-fc35-41b5-88ca-fb671f46dde1",
   "metadata": {},
   "outputs": [
    {
     "data": {
      "text/plain": [
       "[2, 5, 8, 11, 14, 17]"
      ]
     },
     "execution_count": 58,
     "metadata": {},
     "output_type": "execute_result"
    }
   ],
   "source": [
    "list(range(2, 20, 3)) "
   ]
  },
  {
   "cell_type": "markdown",
   "id": "3c17409a-cf42-429e-ae43-f2391afe2c85",
   "metadata": {},
   "source": [
    "### Modifying and Growing Lists"
   ]
  },
  {
   "cell_type": "code",
   "execution_count": 59,
   "id": "895d40b5-4319-464a-bc7d-469f34352ffe",
   "metadata": {},
   "outputs": [],
   "source": [
    "x = ['a', 'b', 'c', 'd']"
   ]
  },
  {
   "cell_type": "code",
   "execution_count": 60,
   "id": "02518fed-c04d-49a8-a0d3-f635e193331d",
   "metadata": {},
   "outputs": [
    {
     "data": {
      "text/plain": [
       "'a'"
      ]
     },
     "execution_count": 60,
     "metadata": {},
     "output_type": "execute_result"
    }
   ],
   "source": [
    "x[0]"
   ]
  },
  {
   "cell_type": "code",
   "execution_count": 61,
   "id": "5b356bca-6cbc-408a-9822-815628e7061a",
   "metadata": {},
   "outputs": [],
   "source": [
    "x[0] = 'aa'"
   ]
  },
  {
   "cell_type": "code",
   "execution_count": 62,
   "id": "5b1212ab-3d0b-47fe-b986-58dac3d8b1c4",
   "metadata": {},
   "outputs": [
    {
     "data": {
      "text/plain": [
       "['aa', 'b', 'c', 'd']"
      ]
     },
     "execution_count": 62,
     "metadata": {},
     "output_type": "execute_result"
    }
   ],
   "source": [
    "x"
   ]
  },
  {
   "cell_type": "code",
   "execution_count": 63,
   "id": "b6a1d861-2822-4a90-8585-7506d60983ad",
   "metadata": {},
   "outputs": [],
   "source": [
    "x.append('e')"
   ]
  },
  {
   "cell_type": "code",
   "execution_count": 64,
   "id": "2dea055d-d84b-46bc-9f19-6be7a222ab8b",
   "metadata": {},
   "outputs": [
    {
     "data": {
      "text/plain": [
       "['aa', 'b', 'c', 'd', 'e']"
      ]
     },
     "execution_count": 64,
     "metadata": {},
     "output_type": "execute_result"
    }
   ],
   "source": [
    "x"
   ]
  },
  {
   "cell_type": "markdown",
   "id": "86cf8267-a85d-4978-9cd9-b9ba6a0e1a3a",
   "metadata": {},
   "source": [
    "Please note that `append` does not return anything."
   ]
  },
  {
   "cell_type": "code",
   "execution_count": 65,
   "id": "83b1c40c-3742-4e84-8079-0a92b02912e8",
   "metadata": {},
   "outputs": [],
   "source": [
    "x = [1, 2, 3, 4]"
   ]
  },
  {
   "cell_type": "code",
   "execution_count": 66,
   "id": "502e99cc-2343-49ea-9bd2-3c31e6d6333e",
   "metadata": {},
   "outputs": [],
   "source": [
    "x = x.append(5)"
   ]
  },
  {
   "cell_type": "code",
   "execution_count": 67,
   "id": "6084c1b3-8302-4c64-affd-0a5a92f7da1d",
   "metadata": {},
   "outputs": [
    {
     "name": "stdout",
     "output_type": "stream",
     "text": [
      "None\n"
     ]
    }
   ],
   "source": [
    "print(x)"
   ]
  },
  {
   "cell_type": "markdown",
   "id": "99314d09-d9dc-457b-bca7-241af77320b4",
   "metadata": {},
   "source": [
    "#### Example: Squares"
   ]
  },
  {
   "cell_type": "markdown",
   "id": "5731fae3-41b8-4e0f-89a7-6c7210f1496b",
   "metadata": {},
   "source": [
    "Let's write a function `squares` that takes a list of numbers as argument and computes the square of each one of them.\n",
    "\n",
    "```\n",
    ">>> squares([1, 2, 3, 4, 5])\n",
    "[1, 4, 9, 16, 25]\n",
    "```"
   ]
  },
  {
   "cell_type": "code",
   "execution_count": 70,
   "id": "25fcc760-cf38-4d6e-9a53-111a7ef7fd82",
   "metadata": {},
   "outputs": [],
   "source": [
    "def squares(numbers):\n",
    "    result = []\n",
    "    for n in numbers:\n",
    "        result.append(n*n)\n",
    "    return result"
   ]
  },
  {
   "cell_type": "code",
   "execution_count": 71,
   "id": "7767d104-2cd0-4ba2-92eb-82a9526c0351",
   "metadata": {},
   "outputs": [
    {
     "data": {
      "text/plain": [
       "[1, 4, 9, 16, 25]"
      ]
     },
     "execution_count": 71,
     "metadata": {},
     "output_type": "execute_result"
    }
   ],
   "source": [
    "squares([1, 2, 3, 4, 5])"
   ]
  },
  {
   "cell_type": "code",
   "execution_count": 72,
   "id": "2adf0646-e2e2-46fa-a3ae-9c90cabc4707",
   "metadata": {},
   "outputs": [
    {
     "data": {
      "text/html": [
       "\n",
       "        <strong>Problem: Evens</strong>\n",
       "\n",
       "        <p><p>Write a function <code>evens</code> that takes a list of numbers as argument and returns a new list containing only the even numbers out of it.</p>\n",
       "<pre><code>&gt;&gt;&gt; evens([1, 2, 3, 4, 5, 6])\n",
       "[2, 4, 6]\n",
       "</code></pre>\n",
       "        </p>\n",
       "\n",
       "        <p>You can verify your solution using:\n",
       "        <pre>%verify_problem evens</pre>\n",
       "        </p>\n",
       "        "
      ],
      "text/plain": [
       "<Probem: evens>"
      ]
     },
     "metadata": {},
     "output_type": "display_data"
    }
   ],
   "source": [
    "%load_problem evens"
   ]
  },
  {
   "cell_type": "code",
   "execution_count": null,
   "id": "667ad5e4-e51b-44d8-b4b3-94dbbeb7cd87",
   "metadata": {},
   "outputs": [],
   "source": [
    "# your code here\n",
    "\n",
    "\n",
    "\n"
   ]
  },
  {
   "cell_type": "markdown",
   "id": "e9127576-4f83-47a6-9e75-5388cbd2f5c3",
   "metadata": {},
   "source": [
    "### List Indexing"
   ]
  },
  {
   "cell_type": "code",
   "execution_count": 73,
   "id": "0f839713-3df6-4cb0-927d-b5921d2ce7c9",
   "metadata": {},
   "outputs": [],
   "source": [
    "x = ['a', 'b', 'c', 'd', 'e']"
   ]
  },
  {
   "cell_type": "code",
   "execution_count": 74,
   "id": "c2a92308-610a-43c6-8a1d-3707b880ee5e",
   "metadata": {},
   "outputs": [
    {
     "data": {
      "text/plain": [
       "'a'"
      ]
     },
     "execution_count": 74,
     "metadata": {},
     "output_type": "execute_result"
    }
   ],
   "source": [
    "x[0]"
   ]
  },
  {
   "cell_type": "markdown",
   "id": "d5b7892d-10b2-403e-a257-0db2a745b9f1",
   "metadata": {},
   "source": [
    "How do you get the last element?"
   ]
  },
  {
   "cell_type": "code",
   "execution_count": 75,
   "id": "4dabbc2f-20aa-4deb-aeb1-8d7236d85987",
   "metadata": {},
   "outputs": [
    {
     "data": {
      "text/plain": [
       "'e'"
      ]
     },
     "execution_count": 75,
     "metadata": {},
     "output_type": "execute_result"
    }
   ],
   "source": [
    "x[len(x)-1]"
   ]
  },
  {
   "cell_type": "code",
   "execution_count": 76,
   "id": "d964ef5e-0426-4e5e-a12a-7345c83602d8",
   "metadata": {},
   "outputs": [
    {
     "data": {
      "text/plain": [
       "'e'"
      ]
     },
     "execution_count": 76,
     "metadata": {},
     "output_type": "execute_result"
    }
   ],
   "source": [
    "x[-1]"
   ]
  },
  {
   "cell_type": "markdown",
   "id": "84cf5a0e-57e5-4444-bce6-be9c9fe4488d",
   "metadata": {},
   "source": [
    "```\n",
    "+----+----+----+----+\n",
    "|  a |  b |  c |  d |\n",
    "+----+----+----+----+\n",
    "|  0 |  1 |  2 |  3 | --> regular index\n",
    "+----+----+----+----+\n",
    "| -4 | -3 | -2 | -1 | <-- negative index\n",
    "+----+----+----+----+\n",
    "```"
   ]
  },
  {
   "cell_type": "code",
   "execution_count": 77,
   "id": "3a834ab5-fd21-426b-b7a8-ab43e85aa388",
   "metadata": {},
   "outputs": [],
   "source": [
    "def get_last_word(sentence):\n",
    "    return sentence.split()[-1]"
   ]
  },
  {
   "cell_type": "code",
   "execution_count": 78,
   "id": "f08e9a9a-ce57-4c57-84e0-e967407354a9",
   "metadata": {},
   "outputs": [
    {
     "data": {
      "text/plain": [
       "'three'"
      ]
     },
     "execution_count": 78,
     "metadata": {},
     "output_type": "execute_result"
    }
   ],
   "source": [
    "get_last_word(\"one two three\")"
   ]
  },
  {
   "cell_type": "markdown",
   "id": "52a88e08-0712-4476-b62e-5d6390f50ddb",
   "metadata": {},
   "source": [
    "### List Slicing"
   ]
  },
  {
   "cell_type": "code",
   "execution_count": 79,
   "id": "8726de4d-ac8e-43ab-9956-02024f5921a2",
   "metadata": {},
   "outputs": [],
   "source": [
    "x = [\"zero\", \"one\", \"two\", \"three\", \"four\", \"five\", \"six\", \"seven\", \"eight\"]"
   ]
  },
  {
   "cell_type": "code",
   "execution_count": 80,
   "id": "15b927f9-fa40-4f8c-b693-9eb9c19c0fa0",
   "metadata": {},
   "outputs": [
    {
     "data": {
      "text/plain": [
       "['zero', 'one']"
      ]
     },
     "execution_count": 80,
     "metadata": {},
     "output_type": "execute_result"
    }
   ],
   "source": [
    "x[0:2] # from index 0 to index 2 (end is not included)"
   ]
  },
  {
   "cell_type": "code",
   "execution_count": 81,
   "id": "27e60ace-dcac-41b9-a7ac-c972cb88e06e",
   "metadata": {},
   "outputs": [
    {
     "data": {
      "text/plain": [
       "['zero', 'one']"
      ]
     },
     "execution_count": 81,
     "metadata": {},
     "output_type": "execute_result"
    }
   ],
   "source": [
    "x[:2] # upto index 2"
   ]
  },
  {
   "cell_type": "code",
   "execution_count": 82,
   "id": "f0b00440-eaf5-4241-82a9-640ab56f728b",
   "metadata": {},
   "outputs": [
    {
     "data": {
      "text/plain": [
       "['two', 'three', 'four', 'five', 'six', 'seven', 'eight']"
      ]
     },
     "execution_count": 82,
     "metadata": {},
     "output_type": "execute_result"
    }
   ],
   "source": [
    "x[2:] # index 2 onwards"
   ]
  },
  {
   "cell_type": "code",
   "execution_count": 83,
   "id": "cc79ac97-14fa-4ee7-83d4-a03b6a63c2a3",
   "metadata": {},
   "outputs": [
    {
     "data": {
      "text/plain": [
       "['one', 'two', 'three', 'four', 'five']"
      ]
     },
     "execution_count": 83,
     "metadata": {},
     "output_type": "execute_result"
    }
   ],
   "source": [
    "x[1:6] # from index 1 to index 6"
   ]
  },
  {
   "cell_type": "code",
   "execution_count": 84,
   "id": "633de252-ac3c-4493-a401-f01df73f0322",
   "metadata": {},
   "outputs": [
    {
     "data": {
      "text/plain": [
       "['one', 'three', 'five']"
      ]
     },
     "execution_count": 84,
     "metadata": {},
     "output_type": "execute_result"
    }
   ],
   "source": [
    "x[1:6:2] # from index to index 6, take every 2nd element"
   ]
  },
  {
   "cell_type": "markdown",
   "id": "f4f13e6a-410c-482c-9117-b8c804e1016a",
   "metadata": {},
   "source": [
    "How about all but not the first element?"
   ]
  },
  {
   "cell_type": "code",
   "execution_count": 85,
   "id": "018cb70b-9b45-4278-aa6f-55d29b53a0bb",
   "metadata": {},
   "outputs": [
    {
     "data": {
      "text/plain": [
       "['one', 'two', 'three', 'four', 'five', 'six', 'seven', 'eight']"
      ]
     },
     "execution_count": 85,
     "metadata": {},
     "output_type": "execute_result"
    }
   ],
   "source": [
    "x[1:]"
   ]
  },
  {
   "cell_type": "markdown",
   "id": "1cd26b1b-1bdb-4cf8-893b-69b6822487a5",
   "metadata": {},
   "source": [
    "How about all except the last one?"
   ]
  },
  {
   "cell_type": "code",
   "execution_count": 86,
   "id": "0ccf1d3b-ca29-422d-93aa-d81f43db3752",
   "metadata": {},
   "outputs": [
    {
     "data": {
      "text/plain": [
       "['zero', 'one', 'two', 'three', 'four', 'five', 'six', 'seven']"
      ]
     },
     "execution_count": 86,
     "metadata": {},
     "output_type": "execute_result"
    }
   ],
   "source": [
    "x[:-1]"
   ]
  },
  {
   "cell_type": "markdown",
   "id": "e4cc601c-a82e-4d0b-9980-356145ab3076",
   "metadata": {},
   "source": [
    "How to get the last two elements?"
   ]
  },
  {
   "cell_type": "code",
   "execution_count": 87,
   "id": "70ca45ed-c9cf-494c-977b-97d3c2bd6c13",
   "metadata": {},
   "outputs": [
    {
     "data": {
      "text/plain": [
       "[]"
      ]
     },
     "execution_count": 87,
     "metadata": {},
     "output_type": "execute_result"
    }
   ],
   "source": [
    "x[-1:-3]"
   ]
  },
  {
   "cell_type": "code",
   "execution_count": 88,
   "id": "c251a3c5-34be-4fd6-88ee-a0f786e10df0",
   "metadata": {},
   "outputs": [
    {
     "data": {
      "text/plain": [
       "[]"
      ]
     },
     "execution_count": 88,
     "metadata": {},
     "output_type": "execute_result"
    }
   ],
   "source": [
    "x[3:1]"
   ]
  },
  {
   "cell_type": "code",
   "execution_count": 89,
   "id": "284fd4f8-01b7-484b-ac2b-f975d54813f9",
   "metadata": {},
   "outputs": [
    {
     "data": {
      "text/plain": [
       "['seven', 'eight']"
      ]
     },
     "execution_count": 89,
     "metadata": {},
     "output_type": "execute_result"
    }
   ],
   "source": [
    "x[-2:]"
   ]
  },
  {
   "cell_type": "markdown",
   "id": "29c3a81a-6c0d-4121-b885-06e343c16f0f",
   "metadata": {},
   "source": [
    "How to get the elements in the reverse order?"
   ]
  },
  {
   "cell_type": "code",
   "execution_count": 90,
   "id": "ca3845d5-a7bb-4952-bd2f-45460c60fe97",
   "metadata": {},
   "outputs": [
    {
     "data": {
      "text/plain": [
       "['eight', 'seven', 'six', 'five', 'four', 'three', 'two', 'one', 'zero']"
      ]
     },
     "execution_count": 90,
     "metadata": {},
     "output_type": "execute_result"
    }
   ],
   "source": [
    "x[::-1]"
   ]
  },
  {
   "cell_type": "code",
   "execution_count": 91,
   "id": "7e9d9d47-e567-4374-8029-76d307b42f78",
   "metadata": {},
   "outputs": [
    {
     "data": {
      "text/plain": [
       "['zero', 'one', 'two', 'three', 'four', 'five', 'six', 'seven', 'eight']"
      ]
     },
     "execution_count": 91,
     "metadata": {},
     "output_type": "execute_result"
    }
   ],
   "source": [
    "x[:] # copy of the list"
   ]
  },
  {
   "cell_type": "markdown",
   "id": "3218e4bb-9006-49d4-a58c-c60c5eddd011",
   "metadata": {},
   "source": [
    "### List Comprehensions"
   ]
  },
  {
   "cell_type": "code",
   "execution_count": 92,
   "id": "6d267fab-9b32-4eb1-99ef-d92a93ddf246",
   "metadata": {},
   "outputs": [],
   "source": [
    "def squares(numbers):\n",
    "    result = []\n",
    "    for n in numbers:\n",
    "        result.append(n*n)\n",
    "    return result"
   ]
  },
  {
   "cell_type": "code",
   "execution_count": 93,
   "id": "c3f023ac-3098-476b-bdaa-97bacf70f2bf",
   "metadata": {},
   "outputs": [],
   "source": [
    "numbers = [1, 2, 3, 4, 5]"
   ]
  },
  {
   "cell_type": "code",
   "execution_count": 94,
   "id": "d9e351ee-9361-4291-8229-fbc7432dd73f",
   "metadata": {},
   "outputs": [
    {
     "data": {
      "text/plain": [
       "[1, 4, 9, 16, 25]"
      ]
     },
     "execution_count": 94,
     "metadata": {},
     "output_type": "execute_result"
    }
   ],
   "source": [
    "squares(numbers)"
   ]
  },
  {
   "cell_type": "code",
   "execution_count": 95,
   "id": "03b1ee2b-87d1-48d5-a47d-9e3a2884086e",
   "metadata": {},
   "outputs": [
    {
     "data": {
      "text/plain": [
       "[1, 4, 9, 16, 25]"
      ]
     },
     "execution_count": 95,
     "metadata": {},
     "output_type": "execute_result"
    }
   ],
   "source": [
    "[n*n for n in numbers]"
   ]
  },
  {
   "cell_type": "code",
   "execution_count": 96,
   "id": "9bc5c03f-df45-4dfa-8f9e-b33bff6a2d6b",
   "metadata": {},
   "outputs": [],
   "source": [
    "result = [n*n for n in numbers]"
   ]
  },
  {
   "cell_type": "code",
   "execution_count": 97,
   "id": "e6ac2e65-4ab9-4816-8367-88295d38aca2",
   "metadata": {},
   "outputs": [
    {
     "data": {
      "text/plain": [
       "[1, 4, 9, 16, 25]"
      ]
     },
     "execution_count": 97,
     "metadata": {},
     "output_type": "execute_result"
    }
   ],
   "source": [
    "result"
   ]
  },
  {
   "cell_type": "code",
   "execution_count": 98,
   "id": "1e6f9809-4191-4215-b37d-4f162a533a12",
   "metadata": {},
   "outputs": [
    {
     "data": {
      "text/plain": [
       "[4, 16]"
      ]
     },
     "execution_count": 98,
     "metadata": {},
     "output_type": "execute_result"
    }
   ],
   "source": [
    "[n*n for n in numbers if n % 2 == 0]"
   ]
  },
  {
   "cell_type": "code",
   "execution_count": 99,
   "id": "8239e5b3-899b-4dee-93b5-534ecaa727da",
   "metadata": {},
   "outputs": [
    {
     "data": {
      "text/plain": [
       "166666166667000000"
      ]
     },
     "execution_count": 99,
     "metadata": {},
     "output_type": "execute_result"
    }
   ],
   "source": [
    "# compute the sum of squares of all even numbers below one million\n",
    "sum([n*n for n in range(1000000) if n%2 == 0])"
   ]
  },
  {
   "cell_type": "markdown",
   "id": "75d33cc5-707f-4c5f-a462-ee1a737c3691",
   "metadata": {},
   "source": [
    "Let's unpack it a bit.\n",
    "\n",
    "    result = [expr for a_var in a_list]\n",
    "    result = [expr for a_var in a_list if some_cond]\n",
    "\n",
    "They are equivalant to:\n",
    "\n",
    "    result = []\n",
    "    for a_var in a_list:\n",
    "        result.append(expr)\n",
    "\n",
    "    result = []\n",
    "    for a_var in a_list:\n",
    "        if some_cond:\n",
    "            result.append(expr)\n",
    "    "
   ]
  },
  {
   "cell_type": "markdown",
   "id": "33886961-47ae-4f84-8339-8aa68f0bc0c0",
   "metadata": {},
   "source": [
    "Find all Python files in the current directory."
   ]
  },
  {
   "cell_type": "code",
   "execution_count": 100,
   "id": "37fe2415-94cb-4b10-9c67-aa47cb578699",
   "metadata": {},
   "outputs": [],
   "source": [
    "import os"
   ]
  },
  {
   "cell_type": "code",
   "execution_count": 101,
   "id": "e62451bc-285f-4121-97b1-f1ac1c0d37a8",
   "metadata": {},
   "outputs": [
    {
     "data": {
      "text/plain": [
       "['add.py',\n",
       " 'ls.py',\n",
       " '.ipynb_checkpoints',\n",
       " 'sq.py',\n",
       " 'sentences.txt',\n",
       " 'day1.ipynb',\n",
       " 'three.txt',\n",
       " 'echo.py',\n",
       " 'args.py',\n",
       " 'day2.ipynb']"
      ]
     },
     "execution_count": 101,
     "metadata": {},
     "output_type": "execute_result"
    }
   ],
   "source": [
    "os.listdir() # all files"
   ]
  },
  {
   "cell_type": "code",
   "execution_count": 102,
   "id": "401149c2-0f07-4d16-bc32-57b50cb9b9cc",
   "metadata": {},
   "outputs": [
    {
     "data": {
      "text/plain": [
       "['add.py', 'ls.py', 'sq.py', 'echo.py', 'args.py']"
      ]
     },
     "execution_count": 102,
     "metadata": {},
     "output_type": "execute_result"
    }
   ],
   "source": [
    "[f for f in os.listdir() if f.endswith(\".py\")]"
   ]
  },
  {
   "cell_type": "code",
   "execution_count": 103,
   "id": "827927df-b918-426f-960d-b92cf29226e7",
   "metadata": {},
   "outputs": [
    {
     "data": {
      "text/plain": [
       "19"
      ]
     },
     "execution_count": 103,
     "metadata": {},
     "output_type": "execute_result"
    }
   ],
   "source": [
    "os.path.getsize(\"add.py\")"
   ]
  },
  {
   "cell_type": "code",
   "execution_count": 104,
   "id": "71b34346-f6c0-41af-a719-af46b0bd0f52",
   "metadata": {},
   "outputs": [
    {
     "name": "stdout",
     "output_type": "stream",
     "text": [
      "-rw-r--r-- 1 jupyter-anand jupyter-anand 19 May 13 07:51 add.py\n"
     ]
    }
   ],
   "source": [
    "!ls -l add.py"
   ]
  },
  {
   "cell_type": "markdown",
   "id": "7497a40d-649d-4748-9977-345168d98cf9",
   "metadata": {},
   "source": [
    "What if we want to find the total size of all python files in the current directory?"
   ]
  },
  {
   "cell_type": "code",
   "execution_count": 105,
   "id": "6766f5d8-6b15-4840-b65f-f8543691f6c9",
   "metadata": {},
   "outputs": [
    {
     "data": {
      "text/plain": [
       "['add.py', 'ls.py', 'sq.py', 'echo.py', 'args.py']"
      ]
     },
     "execution_count": 105,
     "metadata": {},
     "output_type": "execute_result"
    }
   ],
   "source": [
    "[f for f in os.listdir() if f.endswith(\".py\")]"
   ]
  },
  {
   "cell_type": "code",
   "execution_count": 106,
   "id": "b231d439-f5b9-4cce-83e3-eadb59cbcfd7",
   "metadata": {},
   "outputs": [
    {
     "data": {
      "text/plain": [
       "[19, 61, 69, 31, 28]"
      ]
     },
     "execution_count": 106,
     "metadata": {},
     "output_type": "execute_result"
    }
   ],
   "source": [
    "[os.path.getsize(f) for f in os.listdir() if f.endswith(\".py\")]"
   ]
  },
  {
   "cell_type": "code",
   "execution_count": 107,
   "id": "c1b1da86-251d-4e32-bd06-1456f0153aaa",
   "metadata": {},
   "outputs": [
    {
     "data": {
      "text/plain": [
       "208"
      ]
     },
     "execution_count": 107,
     "metadata": {},
     "output_type": "execute_result"
    }
   ],
   "source": [
    "sum([os.path.getsize(f) for f in os.listdir() if f.endswith(\".py\")])"
   ]
  },
  {
   "cell_type": "markdown",
   "id": "1146be10-3dc8-4a2d-a5b2-b29020ffac7b",
   "metadata": {},
   "source": [
    "### Iterations Patterns"
   ]
  },
  {
   "cell_type": "markdown",
   "id": "612fe1c0-7043-49c3-9a74-65715eda4483",
   "metadata": {},
   "source": [
    "#### Iterating over a list"
   ]
  },
  {
   "cell_type": "code",
   "execution_count": 109,
   "id": "c4f22555-c5b7-428b-9983-06e0eaa5dfec",
   "metadata": {},
   "outputs": [],
   "source": [
    "x = ['a', 'b', 'c', 'd']"
   ]
  },
  {
   "cell_type": "code",
   "execution_count": 110,
   "id": "c670c6f2-e5a4-4c63-9a5e-6184ae80309a",
   "metadata": {},
   "outputs": [
    {
     "name": "stdout",
     "output_type": "stream",
     "text": [
      "a A\n",
      "b B\n",
      "c C\n",
      "d D\n"
     ]
    }
   ],
   "source": [
    "for a in x:\n",
    "    print(a, a.upper())"
   ]
  },
  {
   "cell_type": "code",
   "execution_count": 111,
   "id": "28d24a44-ee24-4092-b7ca-dc3e51a33877",
   "metadata": {},
   "outputs": [
    {
     "data": {
      "text/plain": [
       "['A', 'B', 'C', 'D']"
      ]
     },
     "execution_count": 111,
     "metadata": {},
     "output_type": "execute_result"
    }
   ],
   "source": [
    "[a.upper() for a in x]"
   ]
  },
  {
   "cell_type": "markdown",
   "id": "b4be55a1-68a7-41de-97a1-db7d5c5d92cf",
   "metadata": {},
   "source": [
    "#### Iterating over a sequence of numbers"
   ]
  },
  {
   "cell_type": "code",
   "execution_count": 113,
   "id": "88cc5196-900e-4f9b-a4b5-547ed633e038",
   "metadata": {},
   "outputs": [
    {
     "name": "stdout",
     "output_type": "stream",
     "text": [
      "0\n",
      "1\n",
      "4\n",
      "9\n",
      "16\n"
     ]
    }
   ],
   "source": [
    "for i in range(5):\n",
    "    print(i*i)"
   ]
  },
  {
   "cell_type": "code",
   "execution_count": 114,
   "id": "0cb1cab7-2a43-41ae-b5bc-a5396643b46f",
   "metadata": {},
   "outputs": [
    {
     "data": {
      "text/plain": [
       "[0, 1, 4, 9, 16]"
      ]
     },
     "execution_count": 114,
     "metadata": {},
     "output_type": "execute_result"
    }
   ],
   "source": [
    "[i*i for i in range(5)]"
   ]
  },
  {
   "cell_type": "markdown",
   "id": "f5810896-88bc-48a3-ba9c-1b43454c10b1",
   "metadata": {},
   "source": [
    "#### Iterating over two lists together"
   ]
  },
  {
   "cell_type": "code",
   "execution_count": 115,
   "id": "3ac1c5db-fed1-46f1-8b68-98d0128e7cc0",
   "metadata": {},
   "outputs": [],
   "source": [
    "names = [\"a\", \"b\", \"c\", \"d\"]\n",
    "scores = [10, 20, 30, 40]"
   ]
  },
  {
   "cell_type": "code",
   "execution_count": 116,
   "id": "bc94f10c-8c58-47ba-9b6e-d2613e49f241",
   "metadata": {},
   "outputs": [
    {
     "name": "stdout",
     "output_type": "stream",
     "text": [
      "a 10\n",
      "b 20\n",
      "c 30\n",
      "d 40\n"
     ]
    }
   ],
   "source": [
    "for i in range(len(names)):\n",
    "    print(names[i], scores[i])"
   ]
  },
  {
   "cell_type": "markdown",
   "id": "664f3e4c-4e9f-4d94-8090-f6ebeb776b34",
   "metadata": {},
   "source": [
    "This is one correct way to do it, but this is not very pythonic."
   ]
  },
  {
   "cell_type": "code",
   "execution_count": 117,
   "id": "8ac477c9-f45c-411d-b9e8-2501582ce8cf",
   "metadata": {},
   "outputs": [
    {
     "name": "stdout",
     "output_type": "stream",
     "text": [
      "a 10\n",
      "b 20\n",
      "c 30\n",
      "d 40\n"
     ]
    }
   ],
   "source": [
    "for name, score in zip(names, scores):\n",
    "    print(name, score)"
   ]
  },
  {
   "cell_type": "code",
   "execution_count": 118,
   "id": "409d61e4-4507-42e8-a34b-f44e0b18e7f4",
   "metadata": {},
   "outputs": [
    {
     "data": {
      "text/plain": [
       "<zip at 0x7582266c1800>"
      ]
     },
     "execution_count": 118,
     "metadata": {},
     "output_type": "execute_result"
    }
   ],
   "source": [
    "zip(names, scores)"
   ]
  },
  {
   "cell_type": "code",
   "execution_count": 119,
   "id": "4c0a07e1-96f3-46bc-b250-469571772bf6",
   "metadata": {},
   "outputs": [
    {
     "data": {
      "text/plain": [
       "[('a', 10), ('b', 20), ('c', 30), ('d', 40)]"
      ]
     },
     "execution_count": 119,
     "metadata": {},
     "output_type": "execute_result"
    }
   ],
   "source": [
    "list(zip(names, scores))"
   ]
  },
  {
   "cell_type": "code",
   "execution_count": 120,
   "id": "c4cefcdc-fb1d-499b-ba28-e0f0e90b8beb",
   "metadata": {},
   "outputs": [],
   "source": [
    "x, y = ('a', 10)"
   ]
  },
  {
   "cell_type": "code",
   "execution_count": 121,
   "id": "8cc05d0f-b6cd-4540-bbab-1dd37dd59aef",
   "metadata": {},
   "outputs": [
    {
     "data": {
      "text/plain": [
       "'a'"
      ]
     },
     "execution_count": 121,
     "metadata": {},
     "output_type": "execute_result"
    }
   ],
   "source": [
    "x"
   ]
  },
  {
   "cell_type": "code",
   "execution_count": 122,
   "id": "ec0de8e0-4829-446c-ac7f-2444b781f247",
   "metadata": {},
   "outputs": [
    {
     "data": {
      "text/plain": [
       "10"
      ]
     },
     "execution_count": 122,
     "metadata": {},
     "output_type": "execute_result"
    }
   ],
   "source": [
    "y"
   ]
  },
  {
   "cell_type": "code",
   "execution_count": 123,
   "id": "ad47b0ed-9f5e-4803-9362-6289aaa88100",
   "metadata": {},
   "outputs": [
    {
     "data": {
      "text/plain": [
       "[('a', 1), ('b', 2), ('c', 3)]"
      ]
     },
     "execution_count": 123,
     "metadata": {},
     "output_type": "execute_result"
    }
   ],
   "source": [
    "list(zip(['a', 'b', 'c'], [1, 2, 3, 4]))"
   ]
  },
  {
   "cell_type": "code",
   "execution_count": 124,
   "id": "866c1672-5674-43be-90e2-508b0ee873ff",
   "metadata": {},
   "outputs": [
    {
     "data": {
      "text/html": [
       "\n",
       "        <strong>Problem: Vector Add</strong>\n",
       "\n",
       "        <p><p>Write a function <code>vector_add</code> to add two vectors.</p>\n",
       "<pre><code>&gt;&gt;&gt; vector_add([1, 2, 3, 4], [10, 20, 30, 40])\n",
       "[11, 22, 33, 44]\n",
       "&gt;&gt;&gt; sum(vector_add([1, 2, 3, 4], [10, 20, 30, 40]))\n",
       "110\n",
       "</code></pre>\n",
       "        </p>\n",
       "\n",
       "        <p>You can verify your solution using:\n",
       "        <pre>%verify_problem vector-add</pre>\n",
       "        </p>\n",
       "        "
      ],
      "text/plain": [
       "<Probem: vector-add>"
      ]
     },
     "metadata": {},
     "output_type": "display_data"
    }
   ],
   "source": [
    "%load_problem vector-add"
   ]
  },
  {
   "cell_type": "code",
   "execution_count": null,
   "id": "ea556d1a-4ec3-4773-bb0a-b31a584adc8d",
   "metadata": {},
   "outputs": [],
   "source": [
    "# your code here\n",
    "\n",
    "\n",
    "\n"
   ]
  },
  {
   "cell_type": "code",
   "execution_count": 125,
   "id": "9d8e72f5-fc72-4699-ac5d-5ad8a080a477",
   "metadata": {},
   "outputs": [],
   "source": [
    "v1 = [1, 2, 3, 4]\n",
    "v2 = [10, 20, 30, 40]"
   ]
  },
  {
   "cell_type": "code",
   "execution_count": 126,
   "id": "7b4ed19e-b88d-466c-9812-1621f10dce70",
   "metadata": {},
   "outputs": [
    {
     "data": {
      "text/plain": [
       "<zip at 0x75822756fd80>"
      ]
     },
     "execution_count": 126,
     "metadata": {},
     "output_type": "execute_result"
    }
   ],
   "source": [
    "zip(v1, v2)"
   ]
  },
  {
   "cell_type": "code",
   "execution_count": 127,
   "id": "7593eee9-359a-4daa-98e9-8d784de616c9",
   "metadata": {},
   "outputs": [
    {
     "name": "stdout",
     "output_type": "stream",
     "text": [
      "1 10\n",
      "2 20\n",
      "3 30\n",
      "4 40\n"
     ]
    }
   ],
   "source": [
    "for x, y in zip(v1, v2):\n",
    "    print(x, y)"
   ]
  },
  {
   "cell_type": "markdown",
   "id": "f140b9a2-626a-4078-8010-8de0965202d4",
   "metadata": {},
   "source": [
    "#### Looping over the index and the element together"
   ]
  },
  {
   "cell_type": "code",
   "execution_count": 128,
   "id": "a6891984-5845-4776-a951-7eb6d95a4350",
   "metadata": {},
   "outputs": [],
   "source": [
    "chapters = [\n",
    "    \"Getting Started\",\n",
    "    \"Functions\",\n",
    "    \"Lists\",\n",
    "    \"Dictionaries\"\n",
    "]"
   ]
  },
  {
   "cell_type": "markdown",
   "id": "6361c8d2-83cd-488a-a0ec-b99d557cdcf1",
   "metadata": {},
   "source": [
    "How to print the chapter number and chapter title together?"
   ]
  },
  {
   "cell_type": "code",
   "execution_count": 129,
   "id": "3bc08cd5-9bba-4261-b6b3-c27f3025d040",
   "metadata": {},
   "outputs": [
    {
     "name": "stdout",
     "output_type": "stream",
     "text": [
      "Chapter 1 : Getting Started\n",
      "Chapter 2 : Functions\n",
      "Chapter 3 : Lists\n",
      "Chapter 4 : Dictionaries\n"
     ]
    }
   ],
   "source": [
    "for i in range(len(chapters)):\n",
    "    print(\"Chapter\", i+1, \":\", chapters[i])"
   ]
  },
  {
   "cell_type": "code",
   "execution_count": 130,
   "id": "eabe1e35-8bd0-4a9c-a7eb-14bdf67a9f2c",
   "metadata": {},
   "outputs": [
    {
     "name": "stdout",
     "output_type": "stream",
     "text": [
      "Chapter 0: Getting Started\n",
      "Chapter 1: Functions\n",
      "Chapter 2: Lists\n",
      "Chapter 3: Dictionaries\n"
     ]
    }
   ],
   "source": [
    "for i, title in enumerate(chapters):\n",
    "    print(f\"Chapter {i}: {title}\")"
   ]
  },
  {
   "cell_type": "code",
   "execution_count": 131,
   "id": "84f88295-1252-4cf5-ab36-2a21c693eb76",
   "metadata": {},
   "outputs": [
    {
     "name": "stdout",
     "output_type": "stream",
     "text": [
      "Chapter 1: Getting Started\n",
      "Chapter 2: Functions\n",
      "Chapter 3: Lists\n",
      "Chapter 4: Dictionaries\n"
     ]
    }
   ],
   "source": [
    "for i, title in enumerate(chapters):\n",
    "    print(f\"Chapter {i+1}: {title}\")"
   ]
  },
  {
   "cell_type": "code",
   "execution_count": 132,
   "id": "be545b9b-7947-4fd7-86d0-3583f9f7dd61",
   "metadata": {},
   "outputs": [
    {
     "name": "stdout",
     "output_type": "stream",
     "text": [
      "Chapter 1: Getting Started\n",
      "Chapter 2: Functions\n",
      "Chapter 3: Lists\n",
      "Chapter 4: Dictionaries\n"
     ]
    }
   ],
   "source": [
    "for i, title in enumerate(chapters, start=1):\n",
    "    print(f\"Chapter {i}: {title}\")"
   ]
  },
  {
   "cell_type": "markdown",
   "id": "7132445f-9fae-40ac-9d52-80d636b2347f",
   "metadata": {},
   "source": [
    "### Command-line Arguments"
   ]
  },
  {
   "cell_type": "markdown",
   "id": "20de87d4-9756-4298-a461-68fbaa1c863f",
   "metadata": {},
   "source": [
    "Let's improve our echo program to print all the command-line arguments passed to it, instead of just the first one."
   ]
  },
  {
   "cell_type": "code",
   "execution_count": 140,
   "id": "5a89c43f-4435-4e67-a278-f351b1181aca",
   "metadata": {},
   "outputs": [
    {
     "name": "stdout",
     "output_type": "stream",
     "text": [
      "Overwriting echo.py\n"
     ]
    }
   ],
   "source": [
    "%%file echo.py\n",
    "import sys\n",
    "args = sys.argv[1:]\n",
    "# print(args)\n",
    "print(\" \".join(args))"
   ]
  },
  {
   "cell_type": "code",
   "execution_count": 141,
   "id": "3e7756e2-7fe8-4929-9e82-fd9451f162c3",
   "metadata": {},
   "outputs": [
    {
     "name": "stdout",
     "output_type": "stream",
     "text": [
      "hello world\n"
     ]
    }
   ],
   "source": [
    "!echo hello world"
   ]
  },
  {
   "cell_type": "code",
   "execution_count": 142,
   "id": "19548739-436b-4c0f-86f7-d547628edb2f",
   "metadata": {},
   "outputs": [
    {
     "name": "stdout",
     "output_type": "stream",
     "text": [
      "hello world\n"
     ]
    }
   ],
   "source": [
    "!python echo.py hello world"
   ]
  },
  {
   "cell_type": "code",
   "execution_count": 143,
   "id": "14c595b3-8682-4e2b-9021-b09767331865",
   "metadata": {},
   "outputs": [
    {
     "data": {
      "text/html": [
       "\n",
       "        <strong>Problem: Sum of Arguments</strong>\n",
       "\n",
       "        <p><p>Write a program <code>sum.py</code> that takes one or more numbers as command-line argument and prints their sum.</p>\n",
       "<pre><code>$ python sum.py 1 2 3 4 5\n",
       "15\n",
       "</code></pre>\n",
       "        </p>\n",
       "\n",
       "        <p>You can verify your solution using:\n",
       "        <pre>%verify_problem sum-of-arguments</pre>\n",
       "        </p>\n",
       "        "
      ],
      "text/plain": [
       "<Probem: sum-of-arguments>"
      ]
     },
     "metadata": {},
     "output_type": "display_data"
    }
   ],
   "source": [
    "%load_problem sum-of-arguments"
   ]
  },
  {
   "cell_type": "code",
   "execution_count": null,
   "id": "d4a352b9-bc1f-4ee4-8cfe-2bbfd64595b2",
   "metadata": {},
   "outputs": [],
   "source": [
    "%%file sum.py\n",
    "# your code here\n",
    "\n",
    "\n",
    "\n"
   ]
  },
  {
   "cell_type": "markdown",
   "id": "71b2dda9-6e89-48da-aa84-535da2a0fff9",
   "metadata": {},
   "source": [
    "### Sorting Lists"
   ]
  },
  {
   "cell_type": "code",
   "execution_count": 145,
   "id": "be761b12-fca6-4ba8-a38d-ac1a6cab68c7",
   "metadata": {},
   "outputs": [],
   "source": [
    "names = [\"alice\", \"dave\", \"charlie\", \"bob\"]"
   ]
  },
  {
   "cell_type": "code",
   "execution_count": 146,
   "id": "2bfcf1bf-0887-4e87-808f-3ea769b878e4",
   "metadata": {},
   "outputs": [],
   "source": [
    "names.sort() # sorts in-place"
   ]
  },
  {
   "cell_type": "code",
   "execution_count": 147,
   "id": "3af4251b-701f-47f1-b9f1-752faae40263",
   "metadata": {},
   "outputs": [
    {
     "data": {
      "text/plain": [
       "['alice', 'bob', 'charlie', 'dave']"
      ]
     },
     "execution_count": 147,
     "metadata": {},
     "output_type": "execute_result"
    }
   ],
   "source": [
    "names"
   ]
  },
  {
   "cell_type": "code",
   "execution_count": 148,
   "id": "c6fb787e-2b31-49e9-9011-f36c54a9d0d2",
   "metadata": {},
   "outputs": [],
   "source": [
    "names = [\"alice\", \"dave\", \"charlie\", \"bob\"]"
   ]
  },
  {
   "cell_type": "code",
   "execution_count": 149,
   "id": "3112b06a-9f4f-48d7-b48c-612e6b0a680c",
   "metadata": {},
   "outputs": [
    {
     "data": {
      "text/plain": [
       "['alice', 'bob', 'charlie', 'dave']"
      ]
     },
     "execution_count": 149,
     "metadata": {},
     "output_type": "execute_result"
    }
   ],
   "source": [
    "sorted(names)"
   ]
  },
  {
   "cell_type": "code",
   "execution_count": 150,
   "id": "1b688858-6360-4aae-b1a0-0f1419f9b840",
   "metadata": {},
   "outputs": [
    {
     "data": {
      "text/plain": [
       "['alice', 'dave', 'charlie', 'bob']"
      ]
     },
     "execution_count": 150,
     "metadata": {},
     "output_type": "execute_result"
    }
   ],
   "source": [
    "names"
   ]
  },
  {
   "cell_type": "markdown",
   "id": "31902d7b-a873-47fc-aa60-95c6fe4b471b",
   "metadata": {},
   "source": [
    "How to sort by length?"
   ]
  },
  {
   "cell_type": "code",
   "execution_count": 151,
   "id": "fa779f9e-6d34-493f-8a9f-bb661009b69d",
   "metadata": {},
   "outputs": [
    {
     "data": {
      "text/plain": [
       "['bob', 'dave', 'alice', 'charlie']"
      ]
     },
     "execution_count": 151,
     "metadata": {},
     "output_type": "execute_result"
    }
   ],
   "source": [
    "sorted(names, key=len)"
   ]
  },
  {
   "cell_type": "code",
   "execution_count": 152,
   "id": "7caef43e-323f-4535-b760-91cd0bc9808e",
   "metadata": {},
   "outputs": [
    {
     "data": {
      "text/plain": [
       "['charlie', 'alice', 'dave', 'bob']"
      ]
     },
     "execution_count": 152,
     "metadata": {},
     "output_type": "execute_result"
    }
   ],
   "source": [
    "sorted(names, key=len, reverse=True)"
   ]
  },
  {
   "cell_type": "markdown",
   "id": "0c6922c0-b7eb-4c8d-ad44-d5b7b0534670",
   "metadata": {},
   "source": [
    "Find top-5 largest files in the current directory."
   ]
  },
  {
   "cell_type": "code",
   "execution_count": 153,
   "id": "c249eb9c-c782-4892-8fc5-e0f22d511ec3",
   "metadata": {},
   "outputs": [],
   "source": [
    "files = os.listdir()"
   ]
  },
  {
   "cell_type": "code",
   "execution_count": 154,
   "id": "dd095a72-34f2-4a53-8ca2-9b0ca1d8040e",
   "metadata": {},
   "outputs": [
    {
     "data": {
      "text/plain": [
       "['add.py',\n",
       " 'ls.py',\n",
       " '.ipynb_checkpoints',\n",
       " 'sq.py',\n",
       " 'sentences.txt',\n",
       " 'day1.ipynb',\n",
       " 'three.txt',\n",
       " 'echo.py',\n",
       " 'args.py',\n",
       " 'day2.ipynb']"
      ]
     },
     "execution_count": 154,
     "metadata": {},
     "output_type": "execute_result"
    }
   ],
   "source": [
    "files"
   ]
  },
  {
   "cell_type": "code",
   "execution_count": 155,
   "id": "f004ca3d-2e5c-4231-ad53-9b19871b5478",
   "metadata": {},
   "outputs": [
    {
     "data": {
      "text/plain": [
       "['.ipynb_checkpoints',\n",
       " 'add.py',\n",
       " 'args.py',\n",
       " 'day1.ipynb',\n",
       " 'day2.ipynb',\n",
       " 'echo.py',\n",
       " 'ls.py',\n",
       " 'sentences.txt',\n",
       " 'sq.py',\n",
       " 'three.txt']"
      ]
     },
     "execution_count": 155,
     "metadata": {},
     "output_type": "execute_result"
    }
   ],
   "source": [
    "sorted(files)"
   ]
  },
  {
   "cell_type": "code",
   "execution_count": 157,
   "id": "c2b9d6aa-f0df-43a5-8fbf-728085fbf823",
   "metadata": {},
   "outputs": [
    {
     "data": {
      "text/plain": [
       "['day1.ipynb', 'day2.ipynb', '.ipynb_checkpoints', 'sentences.txt', 'sq.py']"
      ]
     },
     "execution_count": 157,
     "metadata": {},
     "output_type": "execute_result"
    }
   ],
   "source": [
    "sorted(files, key=os.path.getsize, reverse=True)[:5]"
   ]
  },
  {
   "cell_type": "code",
   "execution_count": 158,
   "id": "1c14f3fe-47a0-4d92-9940-c9b5a19adbbe",
   "metadata": {},
   "outputs": [
    {
     "data": {
      "text/plain": [
       "['day1.ipynb', 'day2.ipynb', '.ipynb_checkpoints', 'sentences.txt', 'sq.py']"
      ]
     },
     "execution_count": 158,
     "metadata": {},
     "output_type": "execute_result"
    }
   ],
   "source": [
    "sorted(os.listdir(), key=os.path.getsize, reverse=True)[:5]"
   ]
  },
  {
   "cell_type": "markdown",
   "id": "b999f813-ee2d-467f-95dc-edd4c3c61777",
   "metadata": {},
   "source": [
    "### Dictionaries"
   ]
  },
  {
   "cell_type": "markdown",
   "id": "8a56a071-1499-483a-9dd0-6c69545a64bf",
   "metadata": {},
   "source": [
    "Dictionaries are used to store name value pairs."
   ]
  },
  {
   "cell_type": "code",
   "execution_count": 159,
   "id": "da9a8b22-08b6-4bc4-b71c-6f65124b8649",
   "metadata": {},
   "outputs": [],
   "source": [
    "d = {\"x\": 1, \"y\": 2, \"z\": 3}"
   ]
  },
  {
   "cell_type": "code",
   "execution_count": 160,
   "id": "c444111d-9ab2-4939-b573-4fcf6ee13bad",
   "metadata": {},
   "outputs": [
    {
     "data": {
      "text/plain": [
       "{'x': 1, 'y': 2, 'z': 3}"
      ]
     },
     "execution_count": 160,
     "metadata": {},
     "output_type": "execute_result"
    }
   ],
   "source": [
    "d"
   ]
  },
  {
   "cell_type": "code",
   "execution_count": 161,
   "id": "111a4c8d-ff68-4dfa-99a9-ee27635f5a12",
   "metadata": {},
   "outputs": [
    {
     "data": {
      "text/plain": [
       "1"
      ]
     },
     "execution_count": 161,
     "metadata": {},
     "output_type": "execute_result"
    }
   ],
   "source": [
    "d[\"x\"]"
   ]
  },
  {
   "cell_type": "code",
   "execution_count": 162,
   "id": "bad212ef-e4a7-46e9-bea4-0b39a4004845",
   "metadata": {},
   "outputs": [],
   "source": [
    "d[\"x\"] = 11"
   ]
  },
  {
   "cell_type": "code",
   "execution_count": 163,
   "id": "55ff0550-0b9c-4b9c-ab93-36354f19a9a8",
   "metadata": {},
   "outputs": [
    {
     "data": {
      "text/plain": [
       "{'x': 11, 'y': 2, 'z': 3}"
      ]
     },
     "execution_count": 163,
     "metadata": {},
     "output_type": "execute_result"
    }
   ],
   "source": [
    "d"
   ]
  },
  {
   "cell_type": "code",
   "execution_count": 164,
   "id": "f3198595-5190-4cd7-a059-e90f13e12c59",
   "metadata": {},
   "outputs": [],
   "source": [
    "d['w'] = 10"
   ]
  },
  {
   "cell_type": "code",
   "execution_count": 165,
   "id": "cc788346-cc26-42ca-8a98-fed0b56451c0",
   "metadata": {},
   "outputs": [
    {
     "data": {
      "text/plain": [
       "{'x': 11, 'y': 2, 'z': 3, 'w': 10}"
      ]
     },
     "execution_count": 165,
     "metadata": {},
     "output_type": "execute_result"
    }
   ],
   "source": [
    "d"
   ]
  },
  {
   "cell_type": "markdown",
   "id": "8529fdf0-1d8d-487e-b9c2-f49e36f8d9b3",
   "metadata": {},
   "source": [
    "### Dictionary Usage Patterns"
   ]
  },
  {
   "cell_type": "markdown",
   "id": "f1af2812-9493-42ee-99e9-1d68641b04d7",
   "metadata": {},
   "source": [
    "There are two common patterns to use dictionaries."
   ]
  },
  {
   "cell_type": "markdown",
   "id": "68053977-ebd6-4613-af12-1631a87da16c",
   "metadata": {},
   "source": [
    "1. as a record\n",
    "2. as a lookup table"
   ]
  },
  {
   "cell_type": "code",
   "execution_count": 166,
   "id": "6f6991ca-42ae-48d6-9e94-e60b11359222",
   "metadata": {},
   "outputs": [],
   "source": [
    "# as a record\n",
    "person = {\n",
    "    \"name\": \"Alice\",\n",
    "    \"email\": \"alice@example.com\",\n",
    "    \"phone\": \"987654312\"\n",
    "}"
   ]
  },
  {
   "cell_type": "code",
   "execution_count": 167,
   "id": "cb5f2f50-1c4d-4f41-9bf7-d96d05644865",
   "metadata": {},
   "outputs": [
    {
     "data": {
      "text/plain": [
       "'Alice'"
      ]
     },
     "execution_count": 167,
     "metadata": {},
     "output_type": "execute_result"
    }
   ],
   "source": [
    "person[\"name\"]"
   ]
  },
  {
   "cell_type": "code",
   "execution_count": 168,
   "id": "6889472c-75b9-4b44-9618-2e8316e31477",
   "metadata": {},
   "outputs": [
    {
     "data": {
      "text/plain": [
       "'alice@example.com'"
      ]
     },
     "execution_count": 168,
     "metadata": {},
     "output_type": "execute_result"
    }
   ],
   "source": [
    "person[\"email\"]"
   ]
  },
  {
   "cell_type": "code",
   "execution_count": 169,
   "id": "9ea87453-ed95-4f66-9194-4bd6f41706f9",
   "metadata": {},
   "outputs": [],
   "source": [
    "# lookup table\n",
    "phone_numbers = {\n",
    "    \"alice\": 1234,\n",
    "    \"bob\": 2345\n",
    "}"
   ]
  },
  {
   "cell_type": "code",
   "execution_count": 170,
   "id": "c953887b-32eb-48c2-a134-84d8e77a907c",
   "metadata": {},
   "outputs": [
    {
     "data": {
      "text/plain": [
       "1234"
      ]
     },
     "execution_count": 170,
     "metadata": {},
     "output_type": "execute_result"
    }
   ],
   "source": [
    "phone_numbers[\"alice\"]"
   ]
  },
  {
   "cell_type": "code",
   "execution_count": 171,
   "id": "69b5dfcf-4773-4ec5-9eba-d94f9a2a3f7e",
   "metadata": {},
   "outputs": [
    {
     "data": {
      "text/plain": [
       "True"
      ]
     },
     "execution_count": 171,
     "metadata": {},
     "output_type": "execute_result"
    }
   ],
   "source": [
    "\"bob\" in phone_numbers"
   ]
  },
  {
   "cell_type": "code",
   "execution_count": 172,
   "id": "2f22d25f-6eb1-46c4-8386-01752097ee54",
   "metadata": {},
   "outputs": [
    {
     "data": {
      "text/plain": [
       "False"
      ]
     },
     "execution_count": 172,
     "metadata": {},
     "output_type": "execute_result"
    }
   ],
   "source": [
    "\"charlie\" in phone_numbers"
   ]
  },
  {
   "cell_type": "markdown",
   "id": "ed5571d6-2b26-42d5-aa36-af10a01e6c72",
   "metadata": {},
   "source": [
    "#### Example: Greeting in multiple languages"
   ]
  },
  {
   "cell_type": "markdown",
   "id": "88963a14-ef06-4e45-bab3-f1ab4b12e505",
   "metadata": {},
   "source": [
    "Let's write a function `greet` to greet a person in any language."
   ]
  },
  {
   "cell_type": "markdown",
   "id": "078c5713-be9a-4137-9813-34ce3bfcc260",
   "metadata": {},
   "source": [
    "If we have to greet in just English, we could write this as:"
   ]
  },
  {
   "cell_type": "code",
   "execution_count": 173,
   "id": "58ff40be-b698-46df-9564-4501dd75b318",
   "metadata": {},
   "outputs": [],
   "source": [
    "def greet(name):\n",
    "    print(\"Hello\", name)"
   ]
  },
  {
   "cell_type": "code",
   "execution_count": 174,
   "id": "997613ae-532d-4701-9570-d90d2f71adee",
   "metadata": {},
   "outputs": [
    {
     "name": "stdout",
     "output_type": "stream",
     "text": [
      "Hello Alice\n"
     ]
    }
   ],
   "source": [
    "greet(\"Alice\")"
   ]
  },
  {
   "cell_type": "markdown",
   "id": "134620e7-8f47-4d7a-b978-ca5345b7357a",
   "metadata": {},
   "source": [
    "Lets add support for multiple languages."
   ]
  },
  {
   "cell_type": "code",
   "execution_count": 175,
   "id": "6192c36c-340b-46f9-9ebb-3349891e212e",
   "metadata": {},
   "outputs": [],
   "source": [
    "def greet(name, lang):\n",
    "    if lang == \"en\":\n",
    "        print(\"Hello\", name)\n",
    "    elif lang == \"hi\":\n",
    "        print(\"Namaste\", name)\n",
    "    elif lang == \"kn\":\n",
    "        print(\"Namastara\", name)\n"
   ]
  },
  {
   "cell_type": "code",
   "execution_count": 178,
   "id": "33dc5c8a-1b3d-4d04-bd5d-efb0af442745",
   "metadata": {},
   "outputs": [
    {
     "name": "stdout",
     "output_type": "stream",
     "text": [
      "Namaste Alice\n"
     ]
    }
   ],
   "source": [
    "greet(\"Alice\", \"hi\")"
   ]
  },
  {
   "cell_type": "markdown",
   "id": "52192ac2-e163-4a40-acf3-0d857c96ef97",
   "metadata": {},
   "source": [
    "We have to modify the code if we want to add a new language, which is not nice. Let's try to move the translations out of the greet function."
   ]
  },
  {
   "cell_type": "code",
   "execution_count": 182,
   "id": "4782cf1a-e2ac-4851-8a2e-e69d0687b7d7",
   "metadata": {},
   "outputs": [],
   "source": [
    "prefixes = {\n",
    "    \"en\": \"Hello\",\n",
    "    \"hi\": \"Namaste\",\n",
    "    \"kn\": \"Namsakara\",\n",
    "    \"it\": \"Caiso\"\n",
    "}"
   ]
  },
  {
   "cell_type": "code",
   "execution_count": 183,
   "id": "509038c1-af4d-4c3d-8481-04b6680dbf39",
   "metadata": {},
   "outputs": [],
   "source": [
    "def greet(name, lang):\n",
    "    prefix = prefixes[lang]\n",
    "    print(prefix, name)"
   ]
  },
  {
   "cell_type": "code",
   "execution_count": 184,
   "id": "11187e61-bce6-4a20-a66b-498ec3052797",
   "metadata": {},
   "outputs": [
    {
     "name": "stdout",
     "output_type": "stream",
     "text": [
      "Namaste Alice\n"
     ]
    }
   ],
   "source": [
    "greet(\"Alice\", \"hi\")"
   ]
  },
  {
   "cell_type": "code",
   "execution_count": 185,
   "id": "1f682146-9625-41ca-b4df-c3ca514b95e9",
   "metadata": {},
   "outputs": [
    {
     "name": "stdout",
     "output_type": "stream",
     "text": [
      "Caiso Alice\n"
     ]
    }
   ],
   "source": [
    "greet(\"Alice\", \"it\")"
   ]
  },
  {
   "cell_type": "markdown",
   "id": "cc8e1070-a14d-48b2-8fa4-00a908f2733a",
   "metadata": {},
   "source": [
    "We can go one step further and move the translations into a text file."
   ]
  },
  {
   "cell_type": "code",
   "execution_count": 186,
   "id": "a9ff2936-e879-48f7-818b-8c159f4e154a",
   "metadata": {},
   "outputs": [
    {
     "name": "stdout",
     "output_type": "stream",
     "text": [
      "Writing greetings.txt\n"
     ]
    }
   ],
   "source": [
    "%%file greetings.txt\n",
    "en Hello\n",
    "hi Namaste\n",
    "kn Namaskara\n",
    "it Caiso"
   ]
  },
  {
   "cell_type": "code",
   "execution_count": 187,
   "id": "b53f11b3-9426-4bfd-b779-f51dd2e32409",
   "metadata": {},
   "outputs": [],
   "source": [
    "prefixes = {}\n",
    "for line in open(\"greetings.txt\"):\n",
    "    lang, prefix = line.strip().split()\n",
    "    prefixes[lang] = prefix"
   ]
  },
  {
   "cell_type": "code",
   "execution_count": 188,
   "id": "70d98c4d-118f-481a-b48f-33134fc3990b",
   "metadata": {},
   "outputs": [
    {
     "data": {
      "text/plain": [
       "{'en': 'Hello', 'hi': 'Namaste', 'kn': 'Namaskara', 'it': 'Caiso'}"
      ]
     },
     "execution_count": 188,
     "metadata": {},
     "output_type": "execute_result"
    }
   ],
   "source": [
    "prefixes"
   ]
  },
  {
   "cell_type": "code",
   "execution_count": 189,
   "id": "55ebde8e-e4ce-471e-afe7-349eea0b1525",
   "metadata": {},
   "outputs": [
    {
     "data": {
      "text/plain": [
       "{'x': 1, 'y': 2}"
      ]
     },
     "execution_count": 189,
     "metadata": {},
     "output_type": "execute_result"
    }
   ],
   "source": [
    "dict([(\"x\", 1), (\"y\", 2)])"
   ]
  },
  {
   "cell_type": "code",
   "execution_count": 190,
   "id": "46234596-8134-4e9b-8b31-3ee522a8cbd1",
   "metadata": {},
   "outputs": [
    {
     "data": {
      "text/plain": [
       "[['en', 'Hello'], ['hi', 'Namaste'], ['kn', 'Namaskara'], ['it', 'Caiso']]"
      ]
     },
     "execution_count": 190,
     "metadata": {},
     "output_type": "execute_result"
    }
   ],
   "source": [
    "[line.strip().split() for line in open(\"greetings.txt\")]"
   ]
  },
  {
   "cell_type": "code",
   "execution_count": 191,
   "id": "b4f8e733-176b-4d3a-94e4-1ca56957e4c3",
   "metadata": {},
   "outputs": [
    {
     "data": {
      "text/plain": [
       "{'en': 'Hello', 'hi': 'Namaste', 'kn': 'Namaskara', 'it': 'Caiso'}"
      ]
     },
     "execution_count": 191,
     "metadata": {},
     "output_type": "execute_result"
    }
   ],
   "source": [
    "dict([line.strip().split() for line in open(\"greetings.txt\")])"
   ]
  },
  {
   "cell_type": "code",
   "execution_count": 192,
   "id": "dab26265-dc32-443e-88c9-a94f82015724",
   "metadata": {},
   "outputs": [
    {
     "data": {
      "text/html": [
       "\n",
       "        <strong>Problem: Read Prices</strong>\n",
       "\n",
       "        <p><p>Write a function <code>read_prices</code> to read prices of items from a text file.</p>\n",
       "<p>The function will take path a filename as argument, parses the contents of the file and returns the prices of the items mentioned in the file as a dictionary.</p>\n",
       "<p>The file will have one row for each item containing the name of the item followed by the price. The price could have decimal component.</p>\n",
       "<p>For example, the following is a sample prices file.</p>\n",
       "<pre><code>$ cat files/prices.txt\n",
       "Apple 150.0\n",
       "Banana 12.0\n",
       "Carrot 75.5\n",
       "Guava 124.5\n",
       "</code></pre>\n",
       "<p>And here is expected output when <code>read_prices</code> is called with that file as argument.</p>\n",
       "<pre><code class=\"language-python\">&gt;&gt;&gt; read_prices(&quot;files/prices.txt&quot;)\n",
       "{&quot;Apple&quot;: 150.0, &quot;Banana&quot;: 12.0, &quot;Carrot&quot;: 75.5, &quot;Guava&quot;: 124.5}\n",
       "\n",
       "&gt;&gt;&gt; prices = read_prices(&quot;files/prices.txt&quot;)\n",
       "&gt;&gt;&gt; prices['Apple']\n",
       "150.0\n",
       "</code></pre>\n",
       "<p>You can assume that the item name will not have any spaces and the file is well formatted and there will not be any empty lines.</p>\n",
       "        </p>\n",
       "\n",
       "        <p>You can verify your solution using:\n",
       "        <pre>%verify_problem read-prices</pre>\n",
       "        </p>\n",
       "        "
      ],
      "text/plain": [
       "<Probem: read-prices>"
      ]
     },
     "metadata": {},
     "output_type": "display_data"
    }
   ],
   "source": [
    "%load_problem read-prices"
   ]
  },
  {
   "cell_type": "code",
   "execution_count": null,
   "id": "36636746-3129-42f6-918d-674241a35460",
   "metadata": {},
   "outputs": [],
   "source": [
    "# your code here\n",
    "\n",
    "\n",
    "\n"
   ]
  },
  {
   "cell_type": "code",
   "execution_count": null,
   "id": "07adf45f-471c-4cc8-8087-cf5ca27d0728",
   "metadata": {},
   "outputs": [],
   "source": []
  }
 ],
 "metadata": {
  "kernelspec": {
   "display_name": "Python 3 (ipykernel)",
   "language": "python",
   "name": "python3"
  },
  "language_info": {
   "codemirror_mode": {
    "name": "ipython",
    "version": 3
   },
   "file_extension": ".py",
   "mimetype": "text/x-python",
   "name": "python",
   "nbconvert_exporter": "python",
   "pygments_lexer": "ipython3",
   "version": "3.10.14"
  }
 },
 "nbformat": 4,
 "nbformat_minor": 5
}
